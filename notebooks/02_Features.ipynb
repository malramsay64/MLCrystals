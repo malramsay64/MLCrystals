{
 "cells": [
  {
   "cell_type": "markdown",
   "metadata": {},
   "source": [
    "# Feature Identification and Calculation\n",
    "\n",
    "In the [previous notebook](01_Trimer_Visualisation.ipynb) we visualised the configuration\n",
    "using the colour to encode the orientation of each molecule.\n",
    "This approach resulting in a clear visual distinction between\n",
    "the orientational ordering of the crystal structures\n",
    "and the disorder of the liquid phase.\n",
    "Here we are looking at finding a series of *features* which\n",
    "are able to separate separate the different local configurations.\n",
    "\n",
    "For this machine learning task for each molecule we want\n",
    "a series of properties, known in Machine Learning as *features*.\n",
    "The way of thinking about features is\n",
    "they define an N dimensional feature space\n",
    "in which each point is mapped.\n",
    "The machine learning is then about finding\n",
    "the surfaces which separate groups of points in feature space.\n",
    "\n",
    "The engineering of the feature space is\n",
    "the most important part of any machine learning project.\n",
    "A simple algorithm with a well designed feature space\n",
    "will outperform a complex algorithm with a poor feature space.\n",
    "The feature space is highly specific to the dataset being studied\n",
    "and is where your domain specific knowledge is most useful.\n",
    "Having a strong understanding of the system being studied\n",
    "provides an excellent starting point for developing features,\n",
    "which was why we started by visualising each of the configurations.\n",
    "\n",
    "This notebook investigates the calculation of a variety of features\n",
    "and how much they can separate the different classes.\n",
    "\n",
    "## Environment Setup\n",
    "\n",
    "This imports some functions from [sdanalysis](https://github.com/malramsay64/statdyn-analysis)\n",
    "a package I have written for the analysis of trajectories.\n",
    "These functions are used to calculate\n",
    "the orientations of each of the nearest neighbours relative to the orientation of the molecule\n",
    "and the distance of each of the nearest neighbours from the molecule.\n",
    "\n",
    "Additionally I am importing some utility functions from the project,\n",
    "which allow for the reading of files\n",
    "and the manual classification of each molecule."
   ]
  },
  {
   "cell_type": "code",
   "execution_count": null,
   "metadata": {},
   "outputs": [],
   "source": [
    "from sdanalysis.order import relative_orientations, relative_distances\n",
    "import numpy as np\n",
    "\n",
    "# Ignore all warnings which are generated\n",
    "import warnings\n",
    "warnings.filterwarnings('ignore')\n",
    "\n",
    "# Import project source files\n",
    "import sys\n",
    "sys.path.append(\"../src\")\n",
    "from trimer import classify_mols, read_files"
   ]
  },
  {
   "cell_type": "markdown",
   "metadata": {},
   "source": [
    "This reads configurations for each of the crystal structures\n",
    "into the variable `snaps`.\n",
    "These are the configurations we are going to be using throughout\n",
    "the rest of this notebook."
   ]
  },
  {
   "cell_type": "code",
   "execution_count": null,
   "metadata": {},
   "outputs": [],
   "source": [
    "crystals = [\"p2\", \"p2gg\", \"pg\"]\n",
    "snaps = read_files(\n",
    "    pressure=1.00,\n",
    "    temperature=0.40,\n",
    "    crystals=crystals\n",
    ")"
   ]
  },
  {
   "cell_type": "markdown",
   "metadata": {},
   "source": [
    "## Manual Classification\n",
    "\n",
    "To know if the features are capturing the differences of interest,\n",
    "that is between the crystal structures and the liquid,\n",
    "we need a source of 'truth'.\n",
    "The configurations we are using have been constructed,\n",
    "melting the region which is now liquid,\n",
    "while the crystal region was prevented from moving.\n",
    "This means I can classify the molecules in these configurations\n",
    "as liquid or crystalline based on the position,\n",
    "which is what the `classify_mols` function is doing.\n",
    "\n",
    "Since the `snaps` variable is a list,\n",
    "I am using a list comprehension to act on each configuration separately\n",
    "before concatenating the three configurations into a single array of classes."
   ]
  },
  {
   "cell_type": "code",
   "execution_count": null,
   "metadata": {},
   "outputs": [],
   "source": [
    "classes = np.concatenate(\n",
    "    [\n",
    "        classify_mols(snap, crys)\n",
    "        for snap, crys in zip(snaps, crystals)\n",
    "    ]\n",
    ")"
   ]
  },
  {
   "cell_type": "markdown",
   "metadata": {},
   "source": [
    "The array `classes` is comprised of integer values\n",
    "\n",
    "- `0` represents the liquid state\n",
    "- `1` represents the p2 crystal\n",
    "- `2` represents the p2gg crystal\n",
    "- `3` represents the pg crystal\n",
    "- `4` is molecules on the interface, which I will exclude from the analysis.\n",
    "\n",
    "The molecules on the interface of the liquid and crystal regions\n",
    "are excluded from this analysis since their state is not well defined,\n",
    "with typical crystals having a gradient from the crystal to liquid state.\n",
    "\n",
    "## Relative Orientation\n",
    "\n",
    "The main visual feature distinguishing the liquid from the crystal\n",
    "in the previous notebook was the orientation of the neighbouring molecules.\n",
    "The crystal was highly ordered while the liquid was random.\n",
    "It makes sense then to use this as some of the features.\n",
    "\n",
    "The way I am doing this is to use the orientation of the six nearest neighbours,\n",
    "with a threshold distance for being a neighbour.\n",
    "Six neighbours was chosen as the expected number for a two dimensional crystal.\n",
    "The nearest neighbours are returned in order of distance\n",
    "so the relative orientation of the molecules retains this ordering.\n",
    "Molecules which don't have six nearest neighbours\n",
    "have an orientation of 0 for any missing neighbours.\n"
   ]
  },
  {
   "cell_type": "code",
   "execution_count": null,
   "metadata": {},
   "outputs": [],
   "source": [
    "orientations = np.concatenate(\n",
    "    [\n",
    "        relative_orientations(\n",
    "            snap.box,\n",
    "            snap.position,\n",
    "            snap.orientation,\n",
    "            max_neighbours=6\n",
    "        )\n",
    "        for snap in snaps\n",
    "    ]\n",
    ")"
   ]
  },
  {
   "cell_type": "markdown",
   "metadata": {},
   "source": [
    "To create our dataset `X_o`\n",
    "we only want molecules which are not at the interface\n",
    "which are those with a value less than 4.\n",
    "The mask is then applied to the orientations calculated above\n",
    "and the classes calculated previously."
   ]
  },
  {
   "cell_type": "code",
   "execution_count": null,
   "metadata": {},
   "outputs": [],
   "source": [
    "mask = classes < 4\n",
    "X_o = orientations[mask]\n",
    "y = classes[mask]"
   ]
  },
  {
   "cell_type": "markdown",
   "metadata": {},
   "source": [
    "### Visualisation\n",
    "\n",
    "With the relative orientations calculated\n",
    "we want to know whether they are effective at\n",
    "separating the different crystal structures.\n",
    "Since it is not possible to visualise\n",
    "the six dimensional space each point resides in,\n",
    "we first have to reduce the dimensionality of the data.\n",
    "The approach we are using is a Principal Components Analysis (PCA),\n",
    "which identifies the combination of features responsible for the most variation.\n",
    "\n",
    "We are going to use the [Scikit-Learn](http://scikit-learn.org/stable/index.html) library\n",
    "for this analysis since it has all the features we require,\n",
    "it is well documented and is easy to use."
   ]
  },
  {
   "cell_type": "code",
   "execution_count": null,
   "metadata": {},
   "outputs": [],
   "source": [
    "from sklearn.decomposition import PCA, KernelPCA\n",
    "import matplotlib.pyplot as plt"
   ]
  },
  {
   "cell_type": "markdown",
   "metadata": {},
   "source": [
    "The standard PCA algorithm is a Singular Value Decomposition (SVD),\n",
    "a matrix operation which identifies a linear combination of features\n",
    "to give the largest variance."
   ]
  },
  {
   "cell_type": "code",
   "execution_count": null,
   "metadata": {},
   "outputs": [],
   "source": [
    "pca = PCA(n_components=2)\n",
    "X_r = pca.fit_transform(X_o)\n",
    "plt.scatter(X_r[:, 0], X_r[:, 1], alpha=.1, c=y, cmap='tab10');"
   ]
  },
  {
   "cell_type": "markdown",
   "metadata": {},
   "source": [
    "In the above image we can see two high density clusters,\n",
    "in cyan and magenta which would be two of the crystals.\n",
    "The blue, which is scattered across the space\n",
    "is quite clearly the liquid state.\n",
    "From this there is not a lot of separation between the different states,\n",
    "with the liquid occupying the entire space.\n",
    "\n",
    "An alternate approach to the dimensionality reduction\n",
    "is to use a non-linear combination of feature space.\n",
    "This effectively makes the changes in some regions\n",
    "more important than changes in other regions.\n",
    "The `KernelPCA` class in Scikit-learn allows for the choice of 'kernel',\n",
    "where a kernel is a way of performing this non-linear combination of variables.\n",
    "The kernel I have chosen to use is the [Radial Basis Function (RBF)](http://scikit-learn.org/stable/modules/metrics.html#rbf-kernel).\n"
   ]
  },
  {
   "cell_type": "code",
   "execution_count": null,
   "metadata": {},
   "outputs": [],
   "source": [
    "kpca = KernelPCA(n_components=2, kernel='rbf')\n",
    "X_r = kpca.fit_transform(X_o)\n",
    "plt.scatter(X_r[:, 0], X_r[:, 1], alpha=.1, c=y, cmap='tab10');"
   ]
  },
  {
   "cell_type": "markdown",
   "metadata": {},
   "source": [
    "In the image above we can see that by using the RBF kernel\n",
    "the liquid configurations are all bunched in the top left of the figure,\n",
    "with a big separation to the cyan and magenta crystal regions.\n",
    "This separation is really promising for using these features\n",
    "for the identification of these structures.\n",
    "Looking closely, below the magenta region is a red region which will be the third crystal.\n",
    "This lets us know that to distinguish these crystals\n",
    "we need more than two dimensions.\n",
    "\n",
    "## Using additional features\n",
    "\n",
    "The figures above show that there is little separation between\n",
    "the p2 and p2gg crystals in the main two dimensions.\n",
    "While it is possible the difference is present in other dimensions,\n",
    "another explanation is that there are not enough information\n",
    "in the features that are present.\n",
    "Is it possible to add additional features\n",
    "which enhance the separation of the different structures?\n",
    "\n",
    "### Relative distances\n",
    "\n",
    "The relative distance to each neighbouring molecule\n",
    "is another feature which could provide useful information.\n",
    "This is computed using the `relative_distances` function,\n",
    "finding the distance to the six nearest neighbours.\n",
    "Like with the `relative_orientations` function,\n",
    "the distances are ordered from closest to furthest.\n",
    "Where molecules have fewer than 6 nearest neighbours\n",
    "the `relative_distances` function returns a Nan value.\n",
    "Since the algorithms I am using don't support Nan values,\n",
    "I am replacing these with a value of 0\n",
    "which is far enough away from a reasonable value\n",
    "it is easily separable."
   ]
  },
  {
   "cell_type": "code",
   "execution_count": null,
   "metadata": {},
   "outputs": [],
   "source": [
    "distances = np.concatenate(\n",
    "    [\n",
    "        relative_distances(snap.box, snap.position, max_neighbours=6)\n",
    "        for snap in snaps\n",
    "    ]\n",
    ")\n",
    "distances[np.isnan(distances)] = 0\n",
    "combined = np.concatenate((orientations, distances), axis=1)"
   ]
  },
  {
   "cell_type": "markdown",
   "metadata": {},
   "source": [
    "By combining the relative orientations and distances\n",
    "into a single 12 dimensional feature space,\n",
    "the two features remain linked\n",
    "with both having the molecules in the same order.\n",
    "\n",
    "I have combined the relative orientation and distance\n",
    "without any scaling of the dimensions.\n",
    "It is generally regarded as best practice\n",
    "for features to have a mean and standard deviation of 1,\n",
    "which normalises how much the change in a feature\n",
    "affects the result.\n",
    "I have tried normalising the features,\n",
    "however my attempts are yet to improve on no normalisation.\n",
    "The reason that no normalisation works so well\n",
    "for this particular combination of variables\n",
    "is that both the rotations and displacements\n",
    "have values which are very similar,\n",
    "with a maximum around 3."
   ]
  },
  {
   "cell_type": "code",
   "execution_count": null,
   "metadata": {},
   "outputs": [],
   "source": [
    "mask = classes < 4\n",
    "X_od = combined[mask]\n",
    "y = classes[mask]"
   ]
  },
  {
   "cell_type": "markdown",
   "metadata": {},
   "source": [
    "Like for the orientational analysis,\n",
    "I am removing the interface molecules\n",
    "with the intention of making the differences more apparent.\n",
    "This reduced dataset is assigned to the variable `X_od`.\n",
    "\n",
    "Again we perform the linear principal component analysis,\n",
    "extracting the two dimensions in this new space\n",
    "which creates the largest separation of points."
   ]
  },
  {
   "cell_type": "code",
   "execution_count": null,
   "metadata": {},
   "outputs": [],
   "source": [
    "pca = PCA(n_components=2)\n",
    "X_rd = pca.fit_transform(X_od)\n",
    "plt.scatter(X_rd[:, 0], X_rd[:, 1], alpha=.1, c=y, cmap='tab10');"
   ]
  },
  {
   "cell_type": "markdown",
   "metadata": {},
   "source": [
    "In the figure above we can see that by introducing the dynamics,\n",
    "we have also created a splitting of the liquid phase.\n",
    "I suspect that the smaller group of molecules\n",
    "are those with only 5 nearest neighbours,\n",
    "since that would explain the large gap to the rest of the values.\n",
    "Apart from the splitting of molecules with fewer than 6 neighbours,\n",
    "there is not much more separation than just the relative orientations.\n",
    "All the crystal structures are still tightly clustered together\n",
    "and there is only the separation of the two crystal structures."
   ]
  },
  {
   "cell_type": "code",
   "execution_count": null,
   "metadata": {},
   "outputs": [],
   "source": [
    "kpca = KernelPCA(n_components=2, kernel='rbf')\n",
    "X_rd = kpca.fit_transform(X_od)\n",
    "plt.scatter(X_rd[:, 0], X_rd[:, 1], alpha=.1, c=y, cmap='tab10');"
   ]
  },
  {
   "cell_type": "markdown",
   "metadata": {},
   "source": [
    "Just like with the linear PCA,\n",
    "the addition of the relative distances\n",
    "doesn't help the separation of structures."
   ]
  }
 ],
 "metadata": {
  "jupytext": {
   "text_representation": {
    "extension": ".md",
    "format_name": "markdown",
    "format_version": "1.0",
    "jupytext_version": "0.8.2"
   }
  },
  "kernelspec": {
   "display_name": "Python 3",
   "language": "python",
   "name": "python3"
  },
  "language_info": {
   "codemirror_mode": {
    "name": "ipython",
    "version": 3
   },
   "file_extension": ".py",
   "mimetype": "text/x-python",
   "name": "python",
   "nbconvert_exporter": "python",
   "pygments_lexer": "ipython3",
   "version": "3.6.6"
  }
 },
 "nbformat": 4,
 "nbformat_minor": 2
}

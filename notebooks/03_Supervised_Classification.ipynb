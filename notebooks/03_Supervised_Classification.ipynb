{
 "cells": [
  {
   "cell_type": "markdown",
   "metadata": {},
   "source": [
    "# Supervised Classsification\n",
    "\n",
    "There are many different types of models we can use for classification,\n",
    "each of these models have types of problems they are well suited to.\n",
    "The goal of this notebook is to identify algorithms \n",
    "that will effectively classify our dataset\n",
    "which we can then investigate further."
   ]
  },
  {
   "cell_type": "code",
   "execution_count": 1,
   "metadata": {},
   "outputs": [
    {
     "data": {
      "text/html": [
       "\n",
       "    <div class=\"bk-root\">\n",
       "        <a href=\"https://bokeh.pydata.org\" target=\"_blank\" class=\"bk-logo bk-logo-small bk-logo-notebook\"></a>\n",
       "        <span id=\"1001\">Loading BokehJS ...</span>\n",
       "    </div>"
      ]
     },
     "metadata": {},
     "output_type": "display_data"
    },
    {
     "data": {
      "application/javascript": [
       "\n",
       "(function(root) {\n",
       "  function now() {\n",
       "    return new Date();\n",
       "  }\n",
       "\n",
       "  var force = true;\n",
       "\n",
       "  if (typeof root._bokeh_onload_callbacks === \"undefined\" || force === true) {\n",
       "    root._bokeh_onload_callbacks = [];\n",
       "    root._bokeh_is_loading = undefined;\n",
       "  }\n",
       "\n",
       "  var JS_MIME_TYPE = 'application/javascript';\n",
       "  var HTML_MIME_TYPE = 'text/html';\n",
       "  var EXEC_MIME_TYPE = 'application/vnd.bokehjs_exec.v0+json';\n",
       "  var CLASS_NAME = 'output_bokeh rendered_html';\n",
       "\n",
       "  /**\n",
       "   * Render data to the DOM node\n",
       "   */\n",
       "  function render(props, node) {\n",
       "    var script = document.createElement(\"script\");\n",
       "    node.appendChild(script);\n",
       "  }\n",
       "\n",
       "  /**\n",
       "   * Handle when an output is cleared or removed\n",
       "   */\n",
       "  function handleClearOutput(event, handle) {\n",
       "    var cell = handle.cell;\n",
       "\n",
       "    var id = cell.output_area._bokeh_element_id;\n",
       "    var server_id = cell.output_area._bokeh_server_id;\n",
       "    // Clean up Bokeh references\n",
       "    if (id != null && id in Bokeh.index) {\n",
       "      Bokeh.index[id].model.document.clear();\n",
       "      delete Bokeh.index[id];\n",
       "    }\n",
       "\n",
       "    if (server_id !== undefined) {\n",
       "      // Clean up Bokeh references\n",
       "      var cmd = \"from bokeh.io.state import curstate; print(curstate().uuid_to_server['\" + server_id + \"'].get_sessions()[0].document.roots[0]._id)\";\n",
       "      cell.notebook.kernel.execute(cmd, {\n",
       "        iopub: {\n",
       "          output: function(msg) {\n",
       "            var id = msg.content.text.trim();\n",
       "            if (id in Bokeh.index) {\n",
       "              Bokeh.index[id].model.document.clear();\n",
       "              delete Bokeh.index[id];\n",
       "            }\n",
       "          }\n",
       "        }\n",
       "      });\n",
       "      // Destroy server and session\n",
       "      var cmd = \"import bokeh.io.notebook as ion; ion.destroy_server('\" + server_id + \"')\";\n",
       "      cell.notebook.kernel.execute(cmd);\n",
       "    }\n",
       "  }\n",
       "\n",
       "  /**\n",
       "   * Handle when a new output is added\n",
       "   */\n",
       "  function handleAddOutput(event, handle) {\n",
       "    var output_area = handle.output_area;\n",
       "    var output = handle.output;\n",
       "\n",
       "    // limit handleAddOutput to display_data with EXEC_MIME_TYPE content only\n",
       "    if ((output.output_type != \"display_data\") || (!output.data.hasOwnProperty(EXEC_MIME_TYPE))) {\n",
       "      return\n",
       "    }\n",
       "\n",
       "    var toinsert = output_area.element.find(\".\" + CLASS_NAME.split(' ')[0]);\n",
       "\n",
       "    if (output.metadata[EXEC_MIME_TYPE][\"id\"] !== undefined) {\n",
       "      toinsert[toinsert.length - 1].firstChild.textContent = output.data[JS_MIME_TYPE];\n",
       "      // store reference to embed id on output_area\n",
       "      output_area._bokeh_element_id = output.metadata[EXEC_MIME_TYPE][\"id\"];\n",
       "    }\n",
       "    if (output.metadata[EXEC_MIME_TYPE][\"server_id\"] !== undefined) {\n",
       "      var bk_div = document.createElement(\"div\");\n",
       "      bk_div.innerHTML = output.data[HTML_MIME_TYPE];\n",
       "      var script_attrs = bk_div.children[0].attributes;\n",
       "      for (var i = 0; i < script_attrs.length; i++) {\n",
       "        toinsert[toinsert.length - 1].firstChild.setAttribute(script_attrs[i].name, script_attrs[i].value);\n",
       "      }\n",
       "      // store reference to server id on output_area\n",
       "      output_area._bokeh_server_id = output.metadata[EXEC_MIME_TYPE][\"server_id\"];\n",
       "    }\n",
       "  }\n",
       "\n",
       "  function register_renderer(events, OutputArea) {\n",
       "\n",
       "    function append_mime(data, metadata, element) {\n",
       "      // create a DOM node to render to\n",
       "      var toinsert = this.create_output_subarea(\n",
       "        metadata,\n",
       "        CLASS_NAME,\n",
       "        EXEC_MIME_TYPE\n",
       "      );\n",
       "      this.keyboard_manager.register_events(toinsert);\n",
       "      // Render to node\n",
       "      var props = {data: data, metadata: metadata[EXEC_MIME_TYPE]};\n",
       "      render(props, toinsert[toinsert.length - 1]);\n",
       "      element.append(toinsert);\n",
       "      return toinsert\n",
       "    }\n",
       "\n",
       "    /* Handle when an output is cleared or removed */\n",
       "    events.on('clear_output.CodeCell', handleClearOutput);\n",
       "    events.on('delete.Cell', handleClearOutput);\n",
       "\n",
       "    /* Handle when a new output is added */\n",
       "    events.on('output_added.OutputArea', handleAddOutput);\n",
       "\n",
       "    /**\n",
       "     * Register the mime type and append_mime function with output_area\n",
       "     */\n",
       "    OutputArea.prototype.register_mime_type(EXEC_MIME_TYPE, append_mime, {\n",
       "      /* Is output safe? */\n",
       "      safe: true,\n",
       "      /* Index of renderer in `output_area.display_order` */\n",
       "      index: 0\n",
       "    });\n",
       "  }\n",
       "\n",
       "  // register the mime type if in Jupyter Notebook environment and previously unregistered\n",
       "  if (root.Jupyter !== undefined) {\n",
       "    var events = require('base/js/events');\n",
       "    var OutputArea = require('notebook/js/outputarea').OutputArea;\n",
       "\n",
       "    if (OutputArea.prototype.mime_types().indexOf(EXEC_MIME_TYPE) == -1) {\n",
       "      register_renderer(events, OutputArea);\n",
       "    }\n",
       "  }\n",
       "\n",
       "  \n",
       "  if (typeof (root._bokeh_timeout) === \"undefined\" || force === true) {\n",
       "    root._bokeh_timeout = Date.now() + 5000;\n",
       "    root._bokeh_failed_load = false;\n",
       "  }\n",
       "\n",
       "  var NB_LOAD_WARNING = {'data': {'text/html':\n",
       "     \"<div style='background-color: #fdd'>\\n\"+\n",
       "     \"<p>\\n\"+\n",
       "     \"BokehJS does not appear to have successfully loaded. If loading BokehJS from CDN, this \\n\"+\n",
       "     \"may be due to a slow or bad network connection. Possible fixes:\\n\"+\n",
       "     \"</p>\\n\"+\n",
       "     \"<ul>\\n\"+\n",
       "     \"<li>re-rerun `output_notebook()` to attempt to load from CDN again, or</li>\\n\"+\n",
       "     \"<li>use INLINE resources instead, as so:</li>\\n\"+\n",
       "     \"</ul>\\n\"+\n",
       "     \"<code>\\n\"+\n",
       "     \"from bokeh.resources import INLINE\\n\"+\n",
       "     \"output_notebook(resources=INLINE)\\n\"+\n",
       "     \"</code>\\n\"+\n",
       "     \"</div>\"}};\n",
       "\n",
       "  function display_loaded() {\n",
       "    var el = document.getElementById(\"1001\");\n",
       "    if (el != null) {\n",
       "      el.textContent = \"BokehJS is loading...\";\n",
       "    }\n",
       "    if (root.Bokeh !== undefined) {\n",
       "      if (el != null) {\n",
       "        el.textContent = \"BokehJS \" + root.Bokeh.version + \" successfully loaded.\";\n",
       "      }\n",
       "    } else if (Date.now() < root._bokeh_timeout) {\n",
       "      setTimeout(display_loaded, 100)\n",
       "    }\n",
       "  }\n",
       "\n",
       "\n",
       "  function run_callbacks() {\n",
       "    try {\n",
       "      root._bokeh_onload_callbacks.forEach(function(callback) {\n",
       "        if (callback != null)\n",
       "          callback();\n",
       "      });\n",
       "    } finally {\n",
       "      delete root._bokeh_onload_callbacks\n",
       "    }\n",
       "    console.debug(\"Bokeh: all callbacks have finished\");\n",
       "  }\n",
       "\n",
       "  function load_libs(css_urls, js_urls, callback) {\n",
       "    if (css_urls == null) css_urls = [];\n",
       "    if (js_urls == null) js_urls = [];\n",
       "\n",
       "    root._bokeh_onload_callbacks.push(callback);\n",
       "    if (root._bokeh_is_loading > 0) {\n",
       "      console.debug(\"Bokeh: BokehJS is being loaded, scheduling callback at\", now());\n",
       "      return null;\n",
       "    }\n",
       "    if (js_urls == null || js_urls.length === 0) {\n",
       "      run_callbacks();\n",
       "      return null;\n",
       "    }\n",
       "    console.debug(\"Bokeh: BokehJS not loaded, scheduling load and callback at\", now());\n",
       "    root._bokeh_is_loading = css_urls.length + js_urls.length;\n",
       "\n",
       "    function on_load() {\n",
       "      root._bokeh_is_loading--;\n",
       "      if (root._bokeh_is_loading === 0) {\n",
       "        console.debug(\"Bokeh: all BokehJS libraries/stylesheets loaded\");\n",
       "        run_callbacks()\n",
       "      }\n",
       "    }\n",
       "\n",
       "    function on_error() {\n",
       "      console.error(\"failed to load \" + url);\n",
       "    }\n",
       "\n",
       "    for (var i = 0; i < css_urls.length; i++) {\n",
       "      var url = css_urls[i];\n",
       "      const element = document.createElement(\"link\");\n",
       "      element.onload = on_load;\n",
       "      element.onerror = on_error;\n",
       "      element.rel = \"stylesheet\";\n",
       "      element.type = \"text/css\";\n",
       "      element.href = url;\n",
       "      console.debug(\"Bokeh: injecting link tag for BokehJS stylesheet: \", url);\n",
       "      document.body.appendChild(element);\n",
       "    }\n",
       "\n",
       "    for (var i = 0; i < js_urls.length; i++) {\n",
       "      var url = js_urls[i];\n",
       "      var element = document.createElement('script');\n",
       "      element.onload = on_load;\n",
       "      element.onerror = on_error;\n",
       "      element.async = false;\n",
       "      element.src = url;\n",
       "      console.debug(\"Bokeh: injecting script tag for BokehJS library: \", url);\n",
       "      document.head.appendChild(element);\n",
       "    }\n",
       "  };var element = document.getElementById(\"1001\");\n",
       "  if (element == null) {\n",
       "    console.error(\"Bokeh: ERROR: autoload.js configured with elementid '1001' but no matching script tag was found. \")\n",
       "    return false;\n",
       "  }\n",
       "\n",
       "  function inject_raw_css(css) {\n",
       "    const element = document.createElement(\"style\");\n",
       "    element.appendChild(document.createTextNode(css));\n",
       "    document.body.appendChild(element);\n",
       "  }\n",
       "\n",
       "  var js_urls = [\"https://cdn.pydata.org/bokeh/release/bokeh-1.3.1.min.js\", \"https://cdn.pydata.org/bokeh/release/bokeh-widgets-1.3.1.min.js\", \"https://cdn.pydata.org/bokeh/release/bokeh-tables-1.3.1.min.js\", \"https://cdn.pydata.org/bokeh/release/bokeh-gl-1.3.1.min.js\"];\n",
       "  var css_urls = [];\n",
       "\n",
       "  var inline_js = [\n",
       "    function(Bokeh) {\n",
       "      Bokeh.set_log_level(\"info\");\n",
       "    },\n",
       "    \n",
       "    function(Bokeh) {\n",
       "      \n",
       "    },\n",
       "    function(Bokeh) {} // ensure no trailing comma for IE\n",
       "  ];\n",
       "\n",
       "  function run_inline_js() {\n",
       "    \n",
       "    if ((root.Bokeh !== undefined) || (force === true)) {\n",
       "      for (var i = 0; i < inline_js.length; i++) {\n",
       "        inline_js[i].call(root, root.Bokeh);\n",
       "      }if (force === true) {\n",
       "        display_loaded();\n",
       "      }} else if (Date.now() < root._bokeh_timeout) {\n",
       "      setTimeout(run_inline_js, 100);\n",
       "    } else if (!root._bokeh_failed_load) {\n",
       "      console.log(\"Bokeh: BokehJS failed to load within specified timeout.\");\n",
       "      root._bokeh_failed_load = true;\n",
       "    } else if (force !== true) {\n",
       "      var cell = $(document.getElementById(\"1001\")).parents('.cell').data().cell;\n",
       "      cell.output_area.append_execute_result(NB_LOAD_WARNING)\n",
       "    }\n",
       "\n",
       "  }\n",
       "\n",
       "  if (root._bokeh_is_loading === 0) {\n",
       "    console.debug(\"Bokeh: BokehJS loaded, going straight to plotting\");\n",
       "    run_inline_js();\n",
       "  } else {\n",
       "    load_libs(css_urls, js_urls, function() {\n",
       "      console.debug(\"Bokeh: BokehJS plotting callback run at\", now());\n",
       "      run_inline_js();\n",
       "    });\n",
       "  }\n",
       "}(window));"
      ],
      "application/vnd.bokehjs_load.v0+json": "\n(function(root) {\n  function now() {\n    return new Date();\n  }\n\n  var force = true;\n\n  if (typeof root._bokeh_onload_callbacks === \"undefined\" || force === true) {\n    root._bokeh_onload_callbacks = [];\n    root._bokeh_is_loading = undefined;\n  }\n\n  \n\n  \n  if (typeof (root._bokeh_timeout) === \"undefined\" || force === true) {\n    root._bokeh_timeout = Date.now() + 5000;\n    root._bokeh_failed_load = false;\n  }\n\n  var NB_LOAD_WARNING = {'data': {'text/html':\n     \"<div style='background-color: #fdd'>\\n\"+\n     \"<p>\\n\"+\n     \"BokehJS does not appear to have successfully loaded. If loading BokehJS from CDN, this \\n\"+\n     \"may be due to a slow or bad network connection. Possible fixes:\\n\"+\n     \"</p>\\n\"+\n     \"<ul>\\n\"+\n     \"<li>re-rerun `output_notebook()` to attempt to load from CDN again, or</li>\\n\"+\n     \"<li>use INLINE resources instead, as so:</li>\\n\"+\n     \"</ul>\\n\"+\n     \"<code>\\n\"+\n     \"from bokeh.resources import INLINE\\n\"+\n     \"output_notebook(resources=INLINE)\\n\"+\n     \"</code>\\n\"+\n     \"</div>\"}};\n\n  function display_loaded() {\n    var el = document.getElementById(\"1001\");\n    if (el != null) {\n      el.textContent = \"BokehJS is loading...\";\n    }\n    if (root.Bokeh !== undefined) {\n      if (el != null) {\n        el.textContent = \"BokehJS \" + root.Bokeh.version + \" successfully loaded.\";\n      }\n    } else if (Date.now() < root._bokeh_timeout) {\n      setTimeout(display_loaded, 100)\n    }\n  }\n\n\n  function run_callbacks() {\n    try {\n      root._bokeh_onload_callbacks.forEach(function(callback) {\n        if (callback != null)\n          callback();\n      });\n    } finally {\n      delete root._bokeh_onload_callbacks\n    }\n    console.debug(\"Bokeh: all callbacks have finished\");\n  }\n\n  function load_libs(css_urls, js_urls, callback) {\n    if (css_urls == null) css_urls = [];\n    if (js_urls == null) js_urls = [];\n\n    root._bokeh_onload_callbacks.push(callback);\n    if (root._bokeh_is_loading > 0) {\n      console.debug(\"Bokeh: BokehJS is being loaded, scheduling callback at\", now());\n      return null;\n    }\n    if (js_urls == null || js_urls.length === 0) {\n      run_callbacks();\n      return null;\n    }\n    console.debug(\"Bokeh: BokehJS not loaded, scheduling load and callback at\", now());\n    root._bokeh_is_loading = css_urls.length + js_urls.length;\n\n    function on_load() {\n      root._bokeh_is_loading--;\n      if (root._bokeh_is_loading === 0) {\n        console.debug(\"Bokeh: all BokehJS libraries/stylesheets loaded\");\n        run_callbacks()\n      }\n    }\n\n    function on_error() {\n      console.error(\"failed to load \" + url);\n    }\n\n    for (var i = 0; i < css_urls.length; i++) {\n      var url = css_urls[i];\n      const element = document.createElement(\"link\");\n      element.onload = on_load;\n      element.onerror = on_error;\n      element.rel = \"stylesheet\";\n      element.type = \"text/css\";\n      element.href = url;\n      console.debug(\"Bokeh: injecting link tag for BokehJS stylesheet: \", url);\n      document.body.appendChild(element);\n    }\n\n    for (var i = 0; i < js_urls.length; i++) {\n      var url = js_urls[i];\n      var element = document.createElement('script');\n      element.onload = on_load;\n      element.onerror = on_error;\n      element.async = false;\n      element.src = url;\n      console.debug(\"Bokeh: injecting script tag for BokehJS library: \", url);\n      document.head.appendChild(element);\n    }\n  };var element = document.getElementById(\"1001\");\n  if (element == null) {\n    console.error(\"Bokeh: ERROR: autoload.js configured with elementid '1001' but no matching script tag was found. \")\n    return false;\n  }\n\n  function inject_raw_css(css) {\n    const element = document.createElement(\"style\");\n    element.appendChild(document.createTextNode(css));\n    document.body.appendChild(element);\n  }\n\n  var js_urls = [\"https://cdn.pydata.org/bokeh/release/bokeh-1.3.1.min.js\", \"https://cdn.pydata.org/bokeh/release/bokeh-widgets-1.3.1.min.js\", \"https://cdn.pydata.org/bokeh/release/bokeh-tables-1.3.1.min.js\", \"https://cdn.pydata.org/bokeh/release/bokeh-gl-1.3.1.min.js\"];\n  var css_urls = [];\n\n  var inline_js = [\n    function(Bokeh) {\n      Bokeh.set_log_level(\"info\");\n    },\n    \n    function(Bokeh) {\n      \n    },\n    function(Bokeh) {} // ensure no trailing comma for IE\n  ];\n\n  function run_inline_js() {\n    \n    if ((root.Bokeh !== undefined) || (force === true)) {\n      for (var i = 0; i < inline_js.length; i++) {\n        inline_js[i].call(root, root.Bokeh);\n      }if (force === true) {\n        display_loaded();\n      }} else if (Date.now() < root._bokeh_timeout) {\n      setTimeout(run_inline_js, 100);\n    } else if (!root._bokeh_failed_load) {\n      console.log(\"Bokeh: BokehJS failed to load within specified timeout.\");\n      root._bokeh_failed_load = true;\n    } else if (force !== true) {\n      var cell = $(document.getElementById(\"1001\")).parents('.cell').data().cell;\n      cell.output_area.append_execute_result(NB_LOAD_WARNING)\n    }\n\n  }\n\n  if (root._bokeh_is_loading === 0) {\n    console.debug(\"Bokeh: BokehJS loaded, going straight to plotting\");\n    run_inline_js();\n  } else {\n    load_libs(css_urls, js_urls, function() {\n      console.debug(\"Bokeh: BokehJS plotting callback run at\", now());\n      run_inline_js();\n    });\n  }\n}(window));"
     },
     "metadata": {},
     "output_type": "display_data"
    }
   ],
   "source": [
    "%load_ext autoreload\n",
    "%autoreload 1\n",
    "\n",
    "%matplotlib inline\n",
    "\n",
    "import numpy as np\n",
    "from sklearn import cluster, decomposition, preprocessing, discriminant_analysis, tree, neighbors, naive_bayes\n",
    "from sklearn import model_selection\n",
    "import sklearn\n",
    "import umap\n",
    "from sdanalysis.order import compute_neighbours, relative_orientations, relative_distances\n",
    "from sdanalysis.figures import plot_frame\n",
    "import matplotlib.pyplot as plt\n",
    "import joblib\n",
    "\n",
    "import warnings\n",
    "warnings.filterwarnings('ignore')\n",
    "\n",
    "# Import project tools\n",
    "import sys\n",
    "sys.path.append('../src')\n",
    "%aimport trimer\n",
    "%aimport figures\n",
    "from trimer import read_all_files, classify_mols\n",
    "from figures import plot_clustering, plot_confusion_matrix\n",
    "\n",
    "# Configure Bokeh to output the figures to the notebook\n",
    "from bokeh.io import output_notebook, show\n",
    "output_notebook()"
   ]
  },
  {
   "cell_type": "markdown",
   "metadata": {},
   "source": [
    "The choice of the 100th frame of the trajectory is\n",
    "to choose a configuration in which\n",
    "there is sufficient thermal motion in the crystal region.\n",
    "This motion is to be indicative of the range of values for the crystal.\n",
    "\n",
    "At high temperatures, \n",
    "the 1st (0 indexed) frame of the dump dataset includes\n",
    "significant melting of the crysal\n",
    "which is not at all useful for\n",
    "the training of this algorithm."
   ]
  },
  {
   "cell_type": "code",
   "execution_count": 2,
   "metadata": {},
   "outputs": [],
   "source": [
    "var_snaps = read_all_files(\n",
    "    \"../data/simulation/dataset/output/\", \n",
    "    index=100,\n",
    "    pattern=\"trajectory-*.gsd\"\n",
    ")\n",
    "\n",
    "variables = [v for v, _ in var_snaps]\n",
    "snaps = [s for _, s in var_snaps]"
   ]
  },
  {
   "cell_type": "markdown",
   "metadata": {},
   "source": [
    "### Loading the training data\n",
    "\n",
    "We need to load in the training dataset we created in the first notebook.\n",
    "At this point we are interested in two sets of data,\n",
    "\n",
    "- $X$, the input data which is the orientation of the six nearest neighbours\n",
    "- $y$, the true labelled classification of the data."
   ]
  },
  {
   "cell_type": "code",
   "execution_count": 3,
   "metadata": {},
   "outputs": [],
   "source": [
    "classes = np.concatenate(\n",
    "    [classify_mols(snap, v.crystal) for snap, v in zip(snaps, variables)]\n",
    ")"
   ]
  },
  {
   "cell_type": "code",
   "execution_count": 4,
   "metadata": {},
   "outputs": [],
   "source": [
    "orientations = np.concatenate(\n",
    "    [relative_orientations(s.box, s.position, s.orientation) for s in snaps]\n",
    ")"
   ]
  },
  {
   "cell_type": "code",
   "execution_count": 5,
   "metadata": {},
   "outputs": [],
   "source": [
    "mask = classes < 4\n",
    "X = orientations[mask]\n",
    "y = classes[mask]"
   ]
  },
  {
   "cell_type": "markdown",
   "metadata": {},
   "source": [
    "### Collating the models\n",
    "\n",
    "The first step here is creating a list of models we would like to test.\n",
    "An excellent property of scikit-learn is \n",
    "that all the algorithms have the same API,\n",
    "allowing us to treat them all in the same way. \n",
    "\n",
    "This is not an exhastive list of all the possible classifiers in scikit-learn,\n",
    "just a smattering for comparison.\n",
    "For a more exhastive list check out [the scikit-learn documentation](http://scikit-learn.org/stable/supervised_learning.html#supervised-learning),\n",
    "and feel free to add more to the list."
   ]
  },
  {
   "cell_type": "code",
   "execution_count": 11,
   "metadata": {},
   "outputs": [],
   "source": [
    "ml_models = {\n",
    "    'LR': sklearn.linear_model.LogisticRegression(max_iter=200),\n",
    "    'SGD': sklearn.linear_model.SGDClassifier(tol=1e-3, max_iter=1000),\n",
    "    'LDA': sklearn.discriminant_analysis.LinearDiscriminantAnalysis(),\n",
    "    'DT': sklearn.tree.DecisionTreeClassifier(),\n",
    "    'KNN': sklearn.neighbors.KNeighborsClassifier(),\n",
    "    'NB': sklearn.naive_bayes.GaussianNB(),\n",
    "#     'SVM': svm.SVC(),\n",
    "#     'NN': sklearn.neural_network.MLPClassifier(max_iter=500)\n",
    "}"
   ]
  },
  {
   "cell_type": "markdown",
   "metadata": {},
   "source": [
    "### Testing the Models\n",
    "\n",
    "With a collection of models to test,\n",
    "we now need some method of testing the models to compare them.\n",
    "To perform the initial screening of datasets\n",
    "we are going to break our training data into two groups,\n",
    "\n",
    "- the training set, comprising 80% of the molecules\n",
    "- the validation set, comprising the remaining 20%.\n",
    "\n",
    "This division of the dataset gives us a set of data \n",
    "previously unseen by the algorithms,\n",
    "giving us a method of testing whether\n",
    "the algorithm is acutally learning the underlying features,\n",
    "or just 'memorising' the training data.\n",
    "This division of data will be through a random selection\n",
    "so as not to bias the selection of data."
   ]
  },
  {
   "cell_type": "code",
   "execution_count": 6,
   "metadata": {},
   "outputs": [],
   "source": [
    "validation_size = 0.20\n",
    "seed = 7\n",
    "\n",
    "selected = sklearn.model_selection.train_test_split(X, y, test_size=validation_size, random_state=seed)\n",
    "X_train, X_validation, y_train, y_validation = selected"
   ]
  },
  {
   "cell_type": "markdown",
   "metadata": {},
   "source": [
    "To get an idea of the models which\n",
    "warrant a further investigation,\n",
    "we can iterate through each of our models.\n",
    "Each model is scored by breaking the training data into `n_splits`,\n",
    "using one of these splits for testing and\n",
    "the remaining splits for training.\n",
    "This process is referred to as *cross validation*\n",
    "and typically the number of splits is 10.\n",
    "For the purposes of this running in a reasonable amount of time,\n",
    "`n_splits` is set to 2."
   ]
  },
  {
   "cell_type": "code",
   "execution_count": 7,
   "metadata": {},
   "outputs": [],
   "source": [
    "scoring='balanced_accuracy'\n",
    "n_splits = 2\n",
    "# Typically n_splits would be 10 but it runs much slower\n",
    "n_splits = 10"
   ]
  },
  {
   "cell_type": "markdown",
   "metadata": {},
   "source": [
    "## Unsorted Orientations"
   ]
  },
  {
   "cell_type": "code",
   "execution_count": 9,
   "metadata": {},
   "outputs": [
    {
     "name": "stdout",
     "output_type": "stream",
     "text": [
      "LR   : 0.79277 ± 0.00464\n",
      "SGD  : 0.79123 ± 0.00613\n",
      "LDA  : 0.78982 ± 0.00453\n",
      "DT   : 0.96042 ± 0.00228\n",
      "KNN  : 0.96836 ± 0.00173\n",
      "NB   : 0.80665 ± 0.00634\n"
     ]
    }
   ],
   "source": [
    "# Iterate through each model in our dictionary of models\n",
    "for name, model in ml_models.items():\n",
    "    kfold = sklearn.model_selection.KFold(n_splits=n_splits, random_state=seed)\n",
    "    cv_results = sklearn.model_selection.cross_val_score(model, X_train, y_train, cv=kfold, scoring=scoring)\n",
    "    print(f'{name:5s}: {cv_results.mean():.5f} ± {cv_results.std():.5f}')"
   ]
  },
  {
   "cell_type": "markdown",
   "metadata": {},
   "source": [
    "## Sorted Orientations"
   ]
  },
  {
   "cell_type": "code",
   "execution_count": 10,
   "metadata": {},
   "outputs": [],
   "source": [
    "X = np.sort(X, axis=1)\n",
    "\n",
    "selected = model_selection.train_test_split(X, y, test_size=validation_size, random_state=seed)\n",
    "X_train, X_validation, y_train, y_validation = selected"
   ]
  },
  {
   "cell_type": "code",
   "execution_count": 11,
   "metadata": {},
   "outputs": [
    {
     "name": "stdout",
     "output_type": "stream",
     "text": [
      "LR   : 0.92154 ± 0.00272\n",
      "SGD  : 0.83937 ± 0.05134\n",
      "LDA  : 0.93209 ± 0.00299\n",
      "DT   : 0.96405 ± 0.00124\n",
      "KNN  : 0.96826 ± 0.00108\n",
      "NB   : 0.89090 ± 0.00193\n"
     ]
    }
   ],
   "source": [
    "scoring='balanced_accuracy'\n",
    "n_splits = 2\n",
    "# Typically n_splits would be 10 but it runs much slower\n",
    "n_splits = 10\n",
    "\n",
    "# Iterate through each model in our dictionary of models\n",
    "for name, model in ml_models.items():\n",
    "    kfold = model_selection.KFold(n_splits=n_splits, random_state=seed)\n",
    "    cv_results = model_selection.cross_val_score(model, np.sort(X_train, axis=1), y_train, cv=kfold, scoring=scoring)\n",
    "    print(f'{name:5s}: {cv_results.mean():.5f} ± {cv_results.std():.5f}')"
   ]
  },
  {
   "cell_type": "markdown",
   "metadata": {},
   "source": [
    "Out of all the algorithms tested, \n",
    "there are three that stand out \n",
    "\n",
    "- K-Nearest Neighbours (KNN),\n",
    "- Decision Tree (DT),\n",
    "- Neural Network (NN)\n",
    "\n",
    "with accuracies in excess of 95%. \n",
    "\n",
    "So with these three algorithms it is likely worth\n",
    "tweaking the algorithms slightly from \n",
    "the defualt paramters in an effort to improve performance.\n",
    "It is also worth understanding which classes\n",
    "each of these algorithms is strongest at classifying.\n",
    "For this additional data we are going to be using a [confusion matrix](http://scikit-learn.org/stable/modules/generated/sklearn.metrics.confusion_matrix.html).\n",
    "In a confusion matrix, \n",
    "the diagonal elements represent the correct classifications,\n",
    "while the off diagonal elements are the values \n",
    "which were incorrectly classified."
   ]
  },
  {
   "cell_type": "code",
   "execution_count": 12,
   "metadata": {},
   "outputs": [
    {
     "name": "stdout",
     "output_type": "stream",
     "text": [
      "NB   : 0.89090 ± 0.00193\n"
     ]
    }
   ],
   "source": [
    "knn_model = neighbors.KNeighborsClassifier() \n",
    "kfold = model_selection.KFold(n_splits=n_splits, random_state=seed)\n",
    "cv_results = model_selection.cross_val_score(model, np.sort(X_train, axis=1), y_train, cv=kfold, scoring=scoring)\n",
    "print(f'{name:5s}: {cv_results.mean():.5f} ± {cv_results.std():.5f}')"
   ]
  },
  {
   "cell_type": "code",
   "execution_count": 13,
   "metadata": {},
   "outputs": [
    {
     "name": "stdout",
     "output_type": "stream",
     "text": [
      "Normalized confusion matrix\n"
     ]
    },
    {
     "data": {
      "image/png": "[encoded data removed]",
      "text/plain": [
       "<Figure size 432x288 with 2 Axes>"
      ]
     },
     "metadata": {
      "needs_background": "light"
     },
     "output_type": "display_data"
    }
   ],
   "source": [
    "y_pred = ml_models[\"KNN\"].fit(X_train, y_train).predict(X_validation)\n",
    "plot_confusion_matrix(y_validation, y_pred, classes=['liq', 'p2', 'p2gg', 'pg'])\n",
    "plt.savefig(\"../figures/confusion_matrix_knn.pdf\")"
   ]
  },
  {
   "cell_type": "code",
   "execution_count": 14,
   "metadata": {},
   "outputs": [
    {
     "name": "stdout",
     "output_type": "stream",
     "text": [
      "Normalized confusion matrix\n"
     ]
    },
    {
     "data": {
      "image/png": "[encoded data removed]",
      "text/plain": [
       "<Figure size 432x288 with 2 Axes>"
      ]
     },
     "metadata": {
      "needs_background": "light"
     },
     "output_type": "display_data"
    }
   ],
   "source": [
    "y_pred = ml_models[\"DT\"].fit(X_train, y_train).predict(X_validation)\n",
    "plot_confusion_matrix(y_validation, y_pred, classes=['liq', 'p2', 'p2gg', 'pg'])\n",
    "plt.savefig(\"../figures/confusion_matrix_dt.pdf\")"
   ]
  },
  {
   "cell_type": "code",
   "execution_count": 15,
   "metadata": {},
   "outputs": [],
   "source": [
    "# y_pred = ml_models[\"NN\"].fit(X_train, y_train).predict(X_validation)\n",
    "# plot_confusion_matrix(y_validation, y_pred, classes=['liq', 'p2', 'p2gg', 'pg'])\n",
    "# plt.savefig(\"../figures/confusion_matrix_nn.pdf\")"
   ]
  },
  {
   "cell_type": "markdown",
   "metadata": {},
   "source": [
    "It is interesting to note that all of the models\n",
    "have the most difficulty with the liquid/crystal characterisation,\n",
    "with the largest proportion of false positives being \n",
    "crystal incorrectly classified as liquid. \n",
    "To make this model we have created persistent\n",
    "it needs to be saved which is done using `joblib`."
   ]
  },
  {
   "cell_type": "code",
   "execution_count": 12,
   "metadata": {},
   "outputs": [
    {
     "data": {
      "text/plain": [
       "['../models/knn-trimer.pkl']"
      ]
     },
     "execution_count": 12,
     "metadata": {},
     "output_type": "execute_result"
    }
   ],
   "source": [
    "knn = ml_models['KNN']\n",
    "knn.fit(X_train, y_train)\n",
    "joblib.dump(knn, '../models/knn-trimer.pkl') "
   ]
  },
  {
   "cell_type": "code",
   "execution_count": 17,
   "metadata": {},
   "outputs": [
    {
     "data": {
      "text/plain": [
       "['../models/dt-trimer.pkl']"
      ]
     },
     "execution_count": 17,
     "metadata": {},
     "output_type": "execute_result"
    }
   ],
   "source": [
    "dt = ml_models['DT']\n",
    "dt.fit(X_train, y_train)\n",
    "joblib.dump(dt, '../models/dt-trimer.pkl') "
   ]
  },
  {
   "cell_type": "code",
   "execution_count": 18,
   "metadata": {},
   "outputs": [],
   "source": [
    "# nn = ml_models['NN']\n",
    "# nn.fit(X_train, y_train)\n",
    "# joblib.dump(nn, '../models/nn-trimer.pkl') "
   ]
  },
  {
   "cell_type": "markdown",
   "metadata": {},
   "source": [
    "## Visualisation of Errors "
   ]
  },
  {
   "cell_type": "code",
   "execution_count": 19,
   "metadata": {},
   "outputs": [],
   "source": [
    "# for nneighbours in [1, 2, 5, 10, 20, 40]:\n",
    "#     knn = sklearn.neighbors.KNeighborsClassifier(n_neighbors=nneighbours)\n",
    "#     kfold = sklearn.model_selection.KFold(n_splits=10, random_state=seed)\n",
    "#     cv_results = sklearn.model_selection.cross_val_score(knn, X_train, y_train, cv=kfold, scoring=scoring)\n",
    "#     print(f'{nneighbours}: {cv_results.mean():.5f} ± {cv_results.std():.5f}')"
   ]
  },
  {
   "cell_type": "code",
   "execution_count": 19,
   "metadata": {},
   "outputs": [],
   "source": [
    "X_s = np.sort(X_validation, axis=1)\n",
    "X_reduced = umap.UMAP().fit_transform(X_s)"
   ]
  },
  {
   "cell_type": "code",
   "execution_count": 20,
   "metadata": {},
   "outputs": [
    {
     "data": {
      "application/vnd.vegalite.v3+json": {
       "$schema": "https://vega.github.io/schema/vega-lite/v3.3.0.json",
       "config": {
        "mark": {
         "tooltip": null
        },
        "view": {
         "height": 300,
         "width": 400
        }
       },
       "data": {
        "name": "data-d59e30616783060604034ff3095effe7"
       },
       "datasets": {
        "data-d59e30616783060604034ff3095effe7": [
         {
          "class": 1,
          "dim1": 1.809781789779663,
          "dim2": -13.279230117797852
         },
         {
          "class": 3,
          "dim1": -11.927484512329102,
          "dim2": -3.8414525985717773
         },
         {
          "class": 0,
          "dim1": -1.3140748739242554,
          "dim2": -0.2961934208869934
         },
         {
          "class": 0,
          "dim1": -1.349756121635437,
          "dim2": 2.318655490875244
         },
         {
          "class": 0,
          "dim1": 5.214749336242676,
          "dim2": 5.005239486694336
         },
         {
          "class": 2,
          "dim1": -1.6116565465927124,
          "dim2": -8.177826881408691
         },
         {
          "class": 3,
          "dim1": -12.955338478088379,
          "dim2": -0.9234206080436707
         },
         {
          "class": 2,
          "dim1": -2.7008538246154785,
          "dim2": 6.807582378387451
         },
         {
          "class": 3,
          "dim1": -11.763755798339844,
          "dim2": 0.5576260685920715
         },
         {
          "class": 0,
          "dim1": 6.710203647613525,
          "dim2": 4.867636203765869
         },
         {
          "class": 0,
          "dim1": -0.4618980288505554,
          "dim2": 1.294540286064148
         },
         {
          "class": 0,
          "dim1": -1.1373265981674194,
          "dim2": -1.9055343866348267
         },
         {
          "class": 3,
          "dim1": -3.1563029289245605,
          "dim2": -1.19296395778656
         },
         {
          "class": 0,
          "dim1": 6.306492328643799,
          "dim2": 1.5039002895355225
         },
         {
          "class": 3,
          "dim1": -10.673192977905273,
          "dim2": -3.6370339393615723
         },
         {
          "class": 0,
          "dim1": 4.5644025802612305,
          "dim2": 3.9275498390197754
         },
         {
          "class": 0,
          "dim1": 3.5855162143707275,
          "dim2": 0.6985026001930237
         },
         {
          "class": 0,
          "dim1": 5.478313446044922,
          "dim2": 4.480723857879639
         },
         {
          "class": 2,
          "dim1": -6.880817413330078,
          "dim2": 6.910219669342041
         },
         {
          "class": 0,
          "dim1": -2.428116798400879,
          "dim2": -2.217667818069458
         },
         {
          "class": 0,
          "dim1": 4.9205169677734375,
          "dim2": 1.5750999450683594
         },
         {
          "class": 0,
          "dim1": -0.4436374604701996,
          "dim2": -1.4650250673294067
         },
         {
          "class": 0,
          "dim1": 6.195098400115967,
          "dim2": 5.121683120727539
         },
         {
          "class": 3,
          "dim1": -12.26137638092041,
          "dim2": -3.409968852996826
         },
         {
          "class": 0,
          "dim1": 3.4484241008758545,
          "dim2": 0.6490339040756226
         },
         {
          "class": 3,
          "dim1": -11.500189781188965,
          "dim2": -3.7429451942443848
         },
         {
          "class": 1,
          "dim1": -3.075099468231201,
          "dim2": 12.038182258605957
         },
         {
          "class": 3,
          "dim1": -11.60102653503418,
          "dim2": -3.274496555328369
         },
         {
          "class": 1,
          "dim1": 1.4953272342681885,
          "dim2": -12.876138687133789
         },
         {
          "class": 1,
          "dim1": -4.292346477508545,
          "dim2": 11.506668090820312
         },
         {
          "class": 0,
          "dim1": 0.07895812392234802,
          "dim2": -1.216691017150879
         },
         {
          "class": 1,
          "dim1": -4.065202713012695,
          "dim2": 11.327193260192871
         },
         {
          "class": 0,
          "dim1": 2.94472599029541,
          "dim2": 0.5326962471008301
         },
         {
          "class": 0,
          "dim1": 0.9674259424209595,
          "dim2": -1.0095189809799194
         },
         {
          "class": 0,
          "dim1": 5.841887474060059,
          "dim2": 1.7054674625396729
         },
         {
          "class": 0,
          "dim1": 7.994728088378906,
          "dim2": 4.268763065338135
         },
         {
          "class": 2,
          "dim1": -0.9409679770469666,
          "dim2": -8.035595893859863
         },
         {
          "class": 3,
          "dim1": -11.886743545532227,
          "dim2": -1.6835746765136719
         },
         {
          "class": 0,
          "dim1": 2.2961525917053223,
          "dim2": 3.6659858226776123
         },
         {
          "class": 3,
          "dim1": -11.703907012939453,
          "dim2": -0.5761952996253967
         },
         {
          "class": 0,
          "dim1": 1.8721842765808105,
          "dim2": 1.478776216506958
         },
         {
          "class": 1,
          "dim1": 1.164528250694275,
          "dim2": -11.730772972106934
         },
         {
          "class": 0,
          "dim1": -0.9961774349212646,
          "dim2": 1.3853285312652588
         },
         {
          "class": 3,
          "dim1": -12.792339324951172,
          "dim2": -1.8929731845855713
         },
         {
          "class": 0,
          "dim1": 2.3378114700317383,
          "dim2": 3.0046942234039307
         },
         {
          "class": 0,
          "dim1": 5.222367763519287,
          "dim2": 3.1609787940979004
         },
         {
          "class": 0,
          "dim1": 5.335784912109375,
          "dim2": 2.618746519088745
         },
         {
          "class": 0,
          "dim1": 1.329551339149475,
          "dim2": 3.394808053970337
         },
         {
          "class": 2,
          "dim1": 7.928718566894531,
          "dim2": -5.98079252243042
         },
         {
          "class": 0,
          "dim1": 6.725431442260742,
          "dim2": 5.160360336303711
         },
         {
          "class": 2,
          "dim1": -3.2032854557037354,
          "dim2": -6.6544718742370605
         },
         {
          "class": 2,
          "dim1": 6.2218780517578125,
          "dim2": -6.297574520111084
         },
         {
          "class": 0,
          "dim1": -1.2615097761154175,
          "dim2": 0.868981659412384
         },
         {
          "class": 2,
          "dim1": -3.171313762664795,
          "dim2": 7.629604816436768
         },
         {
          "class": 0,
          "dim1": -0.7068765163421631,
          "dim2": 2.2322802543640137
         },
         {
          "class": 0,
          "dim1": 8.036894798278809,
          "dim2": 6.24098014831543
         },
         {
          "class": 3,
          "dim1": -12.96718978881836,
          "dim2": -2.3908839225769043
         },
         {
          "class": 3,
          "dim1": -11.943456649780273,
          "dim2": 0.6736335158348083
         },
         {
          "class": 1,
          "dim1": 3.198667287826538,
          "dim2": -12.804929733276367
         },
         {
          "class": 0,
          "dim1": -0.2117781788110733,
          "dim2": 3.151120901107788
         },
         {
          "class": 0,
          "dim1": 4.76743745803833,
          "dim2": 0.9805902242660522
         },
         {
          "class": 1,
          "dim1": -3.27217173576355,
          "dim2": 12.286009788513184
         },
         {
          "class": 1,
          "dim1": 2.7436182498931885,
          "dim2": -13.015677452087402
         },
         {
          "class": 0,
          "dim1": 7.303718090057373,
          "dim2": 5.873052597045898
         },
         {
          "class": 3,
          "dim1": -12.025362968444824,
          "dim2": -3.547637462615967
         },
         {
          "class": 0,
          "dim1": 4.856842994689941,
          "dim2": 2.6672232151031494
         },
         {
          "class": 0,
          "dim1": 3.209927558898926,
          "dim2": 4.6409478187561035
         },
         {
          "class": 3,
          "dim1": -11.7185697555542,
          "dim2": -1.5133620500564575
         },
         {
          "class": 0,
          "dim1": 3.3186306953430176,
          "dim2": 4.724137783050537
         },
         {
          "class": 0,
          "dim1": 3.6915926933288574,
          "dim2": 0.40440618991851807
         },
         {
          "class": 2,
          "dim1": -2.286715269088745,
          "dim2": 6.611172676086426
         },
         {
          "class": 3,
          "dim1": -11.042218208312988,
          "dim2": -0.5492647886276245
         },
         {
          "class": 0,
          "dim1": 2.6286914348602295,
          "dim2": 1.7253483533859253
         },
         {
          "class": 0,
          "dim1": -2.3407061100006104,
          "dim2": 1.6106996536254883
         },
         {
          "class": 0,
          "dim1": 5.371779918670654,
          "dim2": 1.482381820678711
         },
         {
          "class": 3,
          "dim1": -11.680648803710938,
          "dim2": 0.1410578042268753
         },
         {
          "class": 0,
          "dim1": 3.0600011348724365,
          "dim2": 2.073791027069092
         },
         {
          "class": 1,
          "dim1": 1.222291111946106,
          "dim2": -11.632190704345703
         },
         {
          "class": 0,
          "dim1": 8.631561279296875,
          "dim2": 3.4156384468078613
         },
         {
          "class": 0,
          "dim1": -0.3629176616668701,
          "dim2": -0.36531132459640503
         },
         {
          "class": 0,
          "dim1": 1.8152493238449097,
          "dim2": 3.8342137336730957
         },
         {
          "class": 0,
          "dim1": 1.100873589515686,
          "dim2": 2.584070920944214
         },
         {
          "class": 0,
          "dim1": 6.033368110656738,
          "dim2": 1.7493104934692383
         },
         {
          "class": 2,
          "dim1": -3.013247489929199,
          "dim2": -8.015847206115723
         },
         {
          "class": 0,
          "dim1": 3.098461866378784,
          "dim2": 0.7366599440574646
         },
         {
          "class": 0,
          "dim1": -1.9087358713150024,
          "dim2": -1.9313557147979736
         },
         {
          "class": 3,
          "dim1": -11.664920806884766,
          "dim2": -0.3164973258972168
         },
         {
          "class": 0,
          "dim1": 4.726831912994385,
          "dim2": 2.885873794555664
         },
         {
          "class": 3,
          "dim1": -12.091830253601074,
          "dim2": -2.813478469848633
         },
         {
          "class": 0,
          "dim1": -2.406500816345215,
          "dim2": 0.2774862051010132
         },
         {
          "class": 3,
          "dim1": -12.425175666809082,
          "dim2": -2.9522488117218018
         },
         {
          "class": 0,
          "dim1": -0.3309946656227112,
          "dim2": 3.1090087890625
         },
         {
          "class": 1,
          "dim1": 4.946652889251709,
          "dim2": -12.04518985748291
         },
         {
          "class": 0,
          "dim1": 4.573275566101074,
          "dim2": 3.027266263961792
         },
         {
          "class": 0,
          "dim1": 8.433761596679688,
          "dim2": 5.294410705566406
         },
         {
          "class": 2,
          "dim1": -7.129861831665039,
          "dim2": 7.016506671905518
         },
         {
          "class": 0,
          "dim1": -2.1426823139190674,
          "dim2": -1.9085917472839355
         },
         {
          "class": 0,
          "dim1": -0.6538800001144409,
          "dim2": -3.0952439308166504
         },
         {
          "class": 2,
          "dim1": -7.014552116394043,
          "dim2": 7.680665493011475
         },
         {
          "class": 0,
          "dim1": 4.7945942878723145,
          "dim2": 0.7689571380615234
         },
         {
          "class": 0,
          "dim1": -3.707231044769287,
          "dim2": -0.38533541560173035
         },
         {
          "class": 3,
          "dim1": -12.512968063354492,
          "dim2": -0.6593409776687622
         },
         {
          "class": 1,
          "dim1": 2.2026774883270264,
          "dim2": -13.040844917297363
         },
         {
          "class": 0,
          "dim1": 1.8464038372039795,
          "dim2": 1.7542479038238525
         },
         {
          "class": 0,
          "dim1": 3.0834479331970215,
          "dim2": 2.8760385513305664
         },
         {
          "class": 0,
          "dim1": 6.324185371398926,
          "dim2": 1.1199184656143188
         },
         {
          "class": 0,
          "dim1": 5.498953342437744,
          "dim2": 3.713071584701538
         },
         {
          "class": 0,
          "dim1": 6.543221950531006,
          "dim2": 3.1292715072631836
         },
         {
          "class": 3,
          "dim1": -4.650467395782471,
          "dim2": -0.28519126772880554
         },
         {
          "class": 3,
          "dim1": -13.212774276733398,
          "dim2": -2.48519229888916
         },
         {
          "class": 1,
          "dim1": 3.760449171066284,
          "dim2": -12.921585083007812
         },
         {
          "class": 0,
          "dim1": 6.220278739929199,
          "dim2": 4.661028861999512
         },
         {
          "class": 0,
          "dim1": -2.2956559658050537,
          "dim2": -1.3070610761642456
         },
         {
          "class": 0,
          "dim1": 1.831365704536438,
          "dim2": 1.427632212638855
         },
         {
          "class": 0,
          "dim1": 5.242393970489502,
          "dim2": 3.8041293621063232
         },
         {
          "class": 2,
          "dim1": 7.537840843200684,
          "dim2": -4.768999099731445
         },
         {
          "class": 0,
          "dim1": 1.224893569946289,
          "dim2": 0.9727253913879395
         },
         {
          "class": 0,
          "dim1": 1.0579679012298584,
          "dim2": 0.5948742628097534
         },
         {
          "class": 0,
          "dim1": 8.435714721679688,
          "dim2": 5.680941104888916
         },
         {
          "class": 3,
          "dim1": -10.599252700805664,
          "dim2": -2.622915267944336
         },
         {
          "class": 3,
          "dim1": -12.192520141601562,
          "dim2": -2.5188469886779785
         },
         {
          "class": 2,
          "dim1": -2.981748104095459,
          "dim2": 7.174937725067139
         },
         {
          "class": 1,
          "dim1": 3.390536308288574,
          "dim2": -12.472416877746582
         },
         {
          "class": 0,
          "dim1": 2.7869136333465576,
          "dim2": 0.3307977020740509
         },
         {
          "class": 0,
          "dim1": -3.7485196590423584,
          "dim2": -1.9710065126419067
         },
         {
          "class": 2,
          "dim1": -3.025041341781616,
          "dim2": 7.358653545379639
         },
         {
          "class": 2,
          "dim1": -3.1574580669403076,
          "dim2": -7.551768779754639
         },
         {
          "class": 0,
          "dim1": -1.4424059391021729,
          "dim2": 0.7313176393508911
         },
         {
          "class": 3,
          "dim1": -12.221622467041016,
          "dim2": 0.4582175016403198
         },
         {
          "class": 0,
          "dim1": 7.82234001159668,
          "dim2": 3.5889735221862793
         },
         {
          "class": 0,
          "dim1": 1.9461157321929932,
          "dim2": 3.6051740646362305
         },
         {
          "class": 0,
          "dim1": -0.17413310706615448,
          "dim2": 3.1311776638031006
         },
         {
          "class": 0,
          "dim1": 2.7199583053588867,
          "dim2": 4.884413719177246
         },
         {
          "class": 2,
          "dim1": -3.328857660293579,
          "dim2": -7.366349220275879
         },
         {
          "class": 1,
          "dim1": -4.040231704711914,
          "dim2": 11.461203575134277
         },
         {
          "class": 0,
          "dim1": 7.326925754547119,
          "dim2": 6.580073356628418
         },
         {
          "class": 1,
          "dim1": 4.602532386779785,
          "dim2": -11.978401184082031
         },
         {
          "class": 1,
          "dim1": -4.1217193603515625,
          "dim2": 11.566532135009766
         },
         {
          "class": 3,
          "dim1": -10.445755958557129,
          "dim2": 0.537585973739624
         },
         {
          "class": 2,
          "dim1": -2.8056771755218506,
          "dim2": 6.88231086730957
         },
         {
          "class": 2,
          "dim1": -3.104814052581787,
          "dim2": 7.075754642486572
         },
         {
          "class": 0,
          "dim1": 2.0242977142333984,
          "dim2": 4.055403709411621
         },
         {
          "class": 0,
          "dim1": 6.023952484130859,
          "dim2": 4.011988162994385
         },
         {
          "class": 2,
          "dim1": -1.928934931755066,
          "dim2": -7.751323699951172
         },
         {
          "class": 0,
          "dim1": 6.663119792938232,
          "dim2": 4.326107025146484
         },
         {
          "class": 0,
          "dim1": -6.83477258682251,
          "dim2": 6.537875175476074
         },
         {
          "class": 3,
          "dim1": -11.424129486083984,
          "dim2": -2.579084873199463
         },
         {
          "class": 2,
          "dim1": 6.354888916015625,
          "dim2": -6.386320114135742
         },
         {
          "class": 0,
          "dim1": 0.9755816459655762,
          "dim2": -0.9131760597229004
         },
         {
          "class": 1,
          "dim1": 3.4990899562835693,
          "dim2": -13.169175148010254
         },
         {
          "class": 0,
          "dim1": 3.1854004859924316,
          "dim2": -0.13923242688179016
         },
         {
          "class": 1,
          "dim1": 5.426661014556885,
          "dim2": 0.15139800310134888
         },
         {
          "class": 1,
          "dim1": 1.9707084894180298,
          "dim2": -12.27402400970459
         },
         {
          "class": 3,
          "dim1": -11.398200988769531,
          "dim2": -1.7974168062210083
         },
         {
          "class": 2,
          "dim1": -2.3146822452545166,
          "dim2": -7.653017520904541
         },
         {
          "class": 0,
          "dim1": -4.239526748657227,
          "dim2": -1.8863180875778198
         },
         {
          "class": 0,
          "dim1": 7.7815937995910645,
          "dim2": 4.1615166664123535
         },
         {
          "class": 1,
          "dim1": -3.6935698986053467,
          "dim2": 11.697189331054688
         },
         {
          "class": 1,
          "dim1": 3.2694361209869385,
          "dim2": -12.939245223999023
         },
         {
          "class": 2,
          "dim1": -0.6064028143882751,
          "dim2": -1.3901721239089966
         },
         {
          "class": 0,
          "dim1": 4.23728084564209,
          "dim2": 0.27396029233932495
         },
         {
          "class": 1,
          "dim1": 2.676131248474121,
          "dim2": -12.282246589660645
         },
         {
          "class": 0,
          "dim1": -2.262497901916504,
          "dim2": 0.1513397991657257
         },
         {
          "class": 0,
          "dim1": 2.710714101791382,
          "dim2": 0.4404396414756775
         },
         {
          "class": 2,
          "dim1": -1.8880977630615234,
          "dim2": -8.14821720123291
         },
         {
          "class": 2,
          "dim1": -2.9884109497070312,
          "dim2": 0.10664719343185425
         },
         {
          "class": 1,
          "dim1": 4.551239967346191,
          "dim2": -12.100602149963379
         },
         {
          "class": 0,
          "dim1": 5.297093868255615,
          "dim2": 2.3362579345703125
         },
         {
          "class": 2,
          "dim1": 6.368639945983887,
          "dim2": -6.367244243621826
         },
         {
          "class": 0,
          "dim1": 0.4510200321674347,
          "dim2": 1.9993541240692139
         },
         {
          "class": 1,
          "dim1": -3.392094850540161,
          "dim2": 11.841936111450195
         },
         {
          "class": 2,
          "dim1": 7.593620777130127,
          "dim2": -6.149844646453857
         },
         {
          "class": 0,
          "dim1": 3.910884141921997,
          "dim2": 3.1867458820343018
         },
         {
          "class": 1,
          "dim1": -2.651888132095337,
          "dim2": 10.711944580078125
         },
         {
          "class": 0,
          "dim1": -0.1830807775259018,
          "dim2": 0.6485857367515564
         },
         {
          "class": 1,
          "dim1": 1.2839187383651733,
          "dim2": -12.931110382080078
         },
         {
          "class": 0,
          "dim1": 0.2974717319011688,
          "dim2": 1.799403429031372
         },
         {
          "class": 1,
          "dim1": -2.8049874305725098,
          "dim2": 12.145913124084473
         },
         {
          "class": 3,
          "dim1": -10.955060005187988,
          "dim2": -3.4933013916015625
         },
         {
          "class": 1,
          "dim1": -2.2484912872314453,
          "dim2": 11.340522766113281
         },
         {
          "class": 0,
          "dim1": 0.025548815727233887,
          "dim2": 2.424804925918579
         },
         {
          "class": 0,
          "dim1": 7.310896873474121,
          "dim2": 4.140636444091797
         },
         {
          "class": 0,
          "dim1": 0.8140047788619995,
          "dim2": 0.15472683310508728
         },
         {
          "class": 1,
          "dim1": 1.0910340547561646,
          "dim2": -12.162128448486328
         },
         {
          "class": 0,
          "dim1": -2.1792259216308594,
          "dim2": -1.0617583990097046
         },
         {
          "class": 3,
          "dim1": -11.912452697753906,
          "dim2": -3.773651599884033
         },
         {
          "class": 0,
          "dim1": 8.316290855407715,
          "dim2": 3.8671977519989014
         },
         {
          "class": 0,
          "dim1": -0.3545824885368347,
          "dim2": -0.09795807301998138
         },
         {
          "class": 0,
          "dim1": 6.105527877807617,
          "dim2": 2.7690813541412354
         },
         {
          "class": 0,
          "dim1": 0.0375189483165741,
          "dim2": 1.4592838287353516
         },
         {
          "class": 0,
          "dim1": 7.220940113067627,
          "dim2": 2.077824115753174
         },
         {
          "class": 0,
          "dim1": 1.7922738790512085,
          "dim2": 2.956467866897583
         },
         {
          "class": 1,
          "dim1": 3.9096977710723877,
          "dim2": -12.383292198181152
         },
         {
          "class": 0,
          "dim1": -1.2071539163589478,
          "dim2": -0.2218445986509323
         },
         {
          "class": 0,
          "dim1": 0.9238028526306152,
          "dim2": 2.240123748779297
         },
         {
          "class": 1,
          "dim1": 2.936305284500122,
          "dim2": -13.319345474243164
         },
         {
          "class": 2,
          "dim1": -2.8405585289001465,
          "dim2": -2.1813206672668457
         },
         {
          "class": 1,
          "dim1": 1.9227045774459839,
          "dim2": -13.18575382232666
         },
         {
          "class": 1,
          "dim1": 2.87870454788208,
          "dim2": -13.396885871887207
         },
         {
          "class": 3,
          "dim1": -12.08619213104248,
          "dim2": -0.7583263516426086
         },
         {
          "class": 0,
          "dim1": -1.0440447330474854,
          "dim2": -0.5424278974533081
         },
         {
          "class": 3,
          "dim1": -11.5003080368042,
          "dim2": -2.4792468547821045
         },
         {
          "class": 2,
          "dim1": -2.528959035873413,
          "dim2": -7.37224817276001
         },
         {
          "class": 1,
          "dim1": 3.160656690597534,
          "dim2": -13.076760292053223
         },
         {
          "class": 1,
          "dim1": -3.0536298751831055,
          "dim2": 12.091967582702637
         },
         {
          "class": 2,
          "dim1": 6.713432312011719,
          "dim2": -6.051568031311035
         },
         {
          "class": 3,
          "dim1": -4.847610950469971,
          "dim2": -2.5023550987243652
         },
         {
          "class": 2,
          "dim1": -3.244230270385742,
          "dim2": 7.814098358154297
         },
         {
          "class": 0,
          "dim1": 5.8007707595825195,
          "dim2": 4.283817291259766
         },
         {
          "class": 0,
          "dim1": 1.0996675491333008,
          "dim2": 3.910344362258911
         },
         {
          "class": 2,
          "dim1": -3.336803436279297,
          "dim2": 7.600564002990723
         },
         {
          "class": 1,
          "dim1": 2.282081365585327,
          "dim2": -1.8567440509796143
         },
         {
          "class": 0,
          "dim1": -1.512374997138977,
          "dim2": -1.2117646932601929
         },
         {
          "class": 0,
          "dim1": 7.563385009765625,
          "dim2": 4.845576286315918
         },
         {
          "class": 1,
          "dim1": -2.4617786407470703,
          "dim2": 12.026851654052734
         },
         {
          "class": 0,
          "dim1": -2.906193733215332,
          "dim2": -0.7629593014717102
         },
         {
          "class": 0,
          "dim1": 8.604925155639648,
          "dim2": 5.885405540466309
         },
         {
          "class": 0,
          "dim1": 7.278807163238525,
          "dim2": 3.6920647621154785
         },
         {
          "class": 0,
          "dim1": -1.058930516242981,
          "dim2": -0.471692830324173
         },
         {
          "class": 0,
          "dim1": 8.143068313598633,
          "dim2": 2.7589712142944336
         },
         {
          "class": 0,
          "dim1": -1.3103506565093994,
          "dim2": -1.9089244604110718
         },
         {
          "class": 2,
          "dim1": 5.816165447235107,
          "dim2": -6.65617561340332
         },
         {
          "class": 1,
          "dim1": 4.208034992218018,
          "dim2": -12.785606384277344
         },
         {
          "class": 0,
          "dim1": 5.648975372314453,
          "dim2": 4.467838287353516
         },
         {
          "class": 1,
          "dim1": -0.5376673340797424,
          "dim2": -1.9584864377975464
         },
         {
          "class": 0,
          "dim1": 6.85252046585083,
          "dim2": 5.6295013427734375
         },
         {
          "class": 0,
          "dim1": 0.5908117294311523,
          "dim2": 4.419588088989258
         },
         {
          "class": 0,
          "dim1": 5.198409080505371,
          "dim2": 2.696641683578491
         },
         {
          "class": 0,
          "dim1": -2.92201828956604,
          "dim2": 0.7601917386054993
         },
         {
          "class": 3,
          "dim1": -12.009371757507324,
          "dim2": -1.3852787017822266
         },
         {
          "class": 2,
          "dim1": 6.816586971282959,
          "dim2": -6.511143684387207
         },
         {
          "class": 1,
          "dim1": -2.5814826488494873,
          "dim2": 10.2322359085083
         },
         {
          "class": 0,
          "dim1": 3.051234006881714,
          "dim2": 4.4963908195495605
         },
         {
          "class": 1,
          "dim1": 2.294416666030884,
          "dim2": -13.390417098999023
         },
         {
          "class": 3,
          "dim1": -10.530330657958984,
          "dim2": -3.575225830078125
         },
         {
          "class": 0,
          "dim1": 2.247962713241577,
          "dim2": 2.882093906402588
         },
         {
          "class": 2,
          "dim1": 7.563510894775391,
          "dim2": -5.2286200523376465
         },
         {
          "class": 0,
          "dim1": 2.0735294818878174,
          "dim2": 2.62038516998291
         },
         {
          "class": 2,
          "dim1": 7.767082214355469,
          "dim2": -6.134144306182861
         },
         {
          "class": 0,
          "dim1": 5.452729225158691,
          "dim2": 2.6121809482574463
         },
         {
          "class": 3,
          "dim1": -10.738923072814941,
          "dim2": -3.460477828979492
         },
         {
          "class": 3,
          "dim1": -9.994878768920898,
          "dim2": 0.8333251476287842
         },
         {
          "class": 0,
          "dim1": 4.255988597869873,
          "dim2": 1.3961068391799927
         },
         {
          "class": 3,
          "dim1": -12.953579902648926,
          "dim2": -1.8051812648773193
         },
         {
          "class": 0,
          "dim1": 7.321125507354736,
          "dim2": 4.306194305419922
         },
         {
          "class": 0,
          "dim1": -0.050972454249858856,
          "dim2": 2.9212558269500732
         },
         {
          "class": 0,
          "dim1": 5.997013092041016,
          "dim2": 4.85554838180542
         },
         {
          "class": 0,
          "dim1": -0.632709801197052,
          "dim2": -3.341397762298584
         },
         {
          "class": 3,
          "dim1": -12.770792961120605,
          "dim2": -0.44518640637397766
         },
         {
          "class": 0,
          "dim1": -3.1099164485931396,
          "dim2": -0.6682956218719482
         },
         {
          "class": 0,
          "dim1": -1.9083999395370483,
          "dim2": -1.423136591911316
         },
         {
          "class": 0,
          "dim1": 3.1549198627471924,
          "dim2": 0.8860554695129395
         },
         {
          "class": 0,
          "dim1": 3.432162046432495,
          "dim2": 4.245154857635498
         },
         {
          "class": 0,
          "dim1": 6.6136908531188965,
          "dim2": 2.5362772941589355
         },
         {
          "class": 3,
          "dim1": -11.963295936584473,
          "dim2": -3.840122938156128
         },
         {
          "class": 0,
          "dim1": -0.12241483479738235,
          "dim2": -1.3635187149047852
         },
         {
          "class": 0,
          "dim1": 0.38823390007019043,
          "dim2": 3.0173189640045166
         },
         {
          "class": 0,
          "dim1": 0.5135346055030823,
          "dim2": 2.6591901779174805
         },
         {
          "class": 0,
          "dim1": -1.1412327289581299,
          "dim2": -0.5522545576095581
         },
         {
          "class": 0,
          "dim1": 1.6956262588500977,
          "dim2": 1.133596420288086
         },
         {
          "class": 0,
          "dim1": 2.8617866039276123,
          "dim2": 0.8795044422149658
         },
         {
          "class": 0,
          "dim1": -0.7686303853988647,
          "dim2": 1.0131186246871948
         },
         {
          "class": 3,
          "dim1": -11.207819938659668,
          "dim2": 0.9890866875648499
         },
         {
          "class": 0,
          "dim1": 6.2516608238220215,
          "dim2": 3.3472886085510254
         },
         {
          "class": 0,
          "dim1": 2.0480921268463135,
          "dim2": 1.0845037698745728
         },
         {
          "class": 1,
          "dim1": 2.3278234004974365,
          "dim2": -12.049339294433594
         },
         {
          "class": 0,
          "dim1": 3.5739479064941406,
          "dim2": 2.9817721843719482
         },
         {
          "class": 0,
          "dim1": 4.698793888092041,
          "dim2": 0.3407301604747772
         },
         {
          "class": 1,
          "dim1": -0.6317622661590576,
          "dim2": -7.720127105712891
         },
         {
          "class": 0,
          "dim1": 8.228837013244629,
          "dim2": 4.185655117034912
         },
         {
          "class": 0,
          "dim1": 8.171778678894043,
          "dim2": 6.080456733703613
         },
         {
          "class": 1,
          "dim1": 4.14940071105957,
          "dim2": -12.335954666137695
         },
         {
          "class": 0,
          "dim1": 7.6766133308410645,
          "dim2": 5.6017165184021
         },
         {
          "class": 0,
          "dim1": -3.9093024730682373,
          "dim2": -0.37836503982543945
         },
         {
          "class": 0,
          "dim1": 2.9992103576660156,
          "dim2": 0.3315459191799164
         },
         {
          "class": 0,
          "dim1": 1.098562240600586,
          "dim2": 3.0544803142547607
         },
         {
          "class": 1,
          "dim1": -2.3911850452423096,
          "dim2": 10.257513046264648
         },
         {
          "class": 3,
          "dim1": -12.881006240844727,
          "dim2": -1.1628187894821167
         },
         {
          "class": 0,
          "dim1": 7.073330879211426,
          "dim2": 4.084629535675049
         },
         {
          "class": 1,
          "dim1": -2.4066872596740723,
          "dim2": 9.729817390441895
         },
         {
          "class": 0,
          "dim1": 6.121382713317871,
          "dim2": 1.5256869792938232
         },
         {
          "class": 0,
          "dim1": 6.763014316558838,
          "dim2": 6.208183765411377
         },
         {
          "class": 3,
          "dim1": -11.846442222595215,
          "dim2": -3.1770131587982178
         },
         {
          "class": 2,
          "dim1": -1.6918965578079224,
          "dim2": -8.149693489074707
         },
         {
          "class": 0,
          "dim1": 0.30683043599128723,
          "dim2": 2.572570323944092
         },
         {
          "class": 2,
          "dim1": 6.731472969055176,
          "dim2": -6.771409511566162
         },
         {
          "class": 0,
          "dim1": 4.83737325668335,
          "dim2": 1.0744770765304565
         },
         {
          "class": 3,
          "dim1": -2.88061261177063,
          "dim2": 0.3804742991924286
         },
         {
          "class": 0,
          "dim1": -0.768974781036377,
          "dim2": 0.3033197224140167
         },
         {
          "class": 0,
          "dim1": -0.028099127113819122,
          "dim2": 0.8611963391304016
         },
         {
          "class": 0,
          "dim1": -0.9901109933853149,
          "dim2": -1.5167529582977295
         },
         {
          "class": 2,
          "dim1": -3.1776537895202637,
          "dim2": -6.411274433135986
         },
         {
          "class": 0,
          "dim1": 8.261686325073242,
          "dim2": 4.597137928009033
         },
         {
          "class": 0,
          "dim1": 6.536005973815918,
          "dim2": 4.766934871673584
         },
         {
          "class": 3,
          "dim1": -12.312617301940918,
          "dim2": -1.9986270666122437
         },
         {
          "class": 1,
          "dim1": 1.8072870969772339,
          "dim2": -12.56440544128418
         },
         {
          "class": 0,
          "dim1": 2.5845584869384766,
          "dim2": 4.438185214996338
         },
         {
          "class": 0,
          "dim1": 2.342698097229004,
          "dim2": -0.06725548952817917
         },
         {
          "class": 3,
          "dim1": -13.37556266784668,
          "dim2": -2.2177014350891113
         },
         {
          "class": 1,
          "dim1": -2.361659526824951,
          "dim2": 10.847042083740234
         },
         {
          "class": 0,
          "dim1": -0.5120618343353271,
          "dim2": 0.5142487287521362
         },
         {
          "class": 1,
          "dim1": 3.841028928756714,
          "dim2": 0.07377379387617111
         },
         {
          "class": 0,
          "dim1": 7.077755451202393,
          "dim2": 4.092990875244141
         },
         {
          "class": 0,
          "dim1": 1.8673040866851807,
          "dim2": 2.205580949783325
         },
         {
          "class": 0,
          "dim1": 6.109880447387695,
          "dim2": 5.09572696685791
         },
         {
          "class": 3,
          "dim1": -12.436393737792969,
          "dim2": -3.0622646808624268
         },
         {
          "class": 1,
          "dim1": 0.7646151185035706,
          "dim2": -11.910900115966797
         },
         {
          "class": 3,
          "dim1": -11.883191108703613,
          "dim2": -3.778672695159912
         },
         {
          "class": 2,
          "dim1": -3.385650157928467,
          "dim2": -7.332298278808594
         },
         {
          "class": 2,
          "dim1": -2.1819329261779785,
          "dim2": -7.846138000488281
         },
         {
          "class": 2,
          "dim1": 6.702410697937012,
          "dim2": -6.46016788482666
         },
         {
          "class": 0,
          "dim1": 2.1480305194854736,
          "dim2": 1.7561994791030884
         },
         {
          "class": 0,
          "dim1": 4.8963847160339355,
          "dim2": 4.593966484069824
         },
         {
          "class": 0,
          "dim1": 0.8237390518188477,
          "dim2": 2.8204524517059326
         },
         {
          "class": 2,
          "dim1": 7.28727912902832,
          "dim2": -5.632897853851318
         },
         {
          "class": 1,
          "dim1": 3.183948040008545,
          "dim2": -12.681249618530273
         },
         {
          "class": 0,
          "dim1": 2.714207649230957,
          "dim2": 2.483492374420166
         },
         {
          "class": 1,
          "dim1": 3.1066315174102783,
          "dim2": -12.602363586425781
         },
         {
          "class": 0,
          "dim1": 4.114542484283447,
          "dim2": 1.037611484527588
         },
         {
          "class": 1,
          "dim1": 2.333637237548828,
          "dim2": -12.939002990722656
         },
         {
          "class": 0,
          "dim1": 2.307913303375244,
          "dim2": 2.8795371055603027
         },
         {
          "class": 0,
          "dim1": 1.6317633390426636,
          "dim2": 0.9596234560012817
         },
         {
          "class": 0,
          "dim1": 3.8060452938079834,
          "dim2": 4.206944465637207
         },
         {
          "class": 3,
          "dim1": -10.575878143310547,
          "dim2": 0.01428336463868618
         },
         {
          "class": 0,
          "dim1": -3.2151496410369873,
          "dim2": 0.5838423371315002
         },
         {
          "class": 1,
          "dim1": 1.9429339170455933,
          "dim2": -12.392339706420898
         },
         {
          "class": 0,
          "dim1": 1.7005630731582642,
          "dim2": 1.2782762050628662
         },
         {
          "class": 0,
          "dim1": 7.6424407958984375,
          "dim2": 4.218429088592529
         },
         {
          "class": 0,
          "dim1": 4.471467971801758,
          "dim2": 2.3690905570983887
         },
         {
          "class": 1,
          "dim1": -2.9376790523529053,
          "dim2": 12.0084228515625
         },
         {
          "class": 2,
          "dim1": -2.9176886081695557,
          "dim2": -7.807956695556641
         },
         {
          "class": 0,
          "dim1": 1.9634950160980225,
          "dim2": 1.5990060567855835
         },
         {
          "class": 2,
          "dim1": 7.657358646392822,
          "dim2": -6.428833484649658
         },
         {
          "class": 1,
          "dim1": -2.2766225337982178,
          "dim2": 10.852876663208008
         },
         {
          "class": 0,
          "dim1": 2.0843722820281982,
          "dim2": 2.6106176376342773
         },
         {
          "class": 0,
          "dim1": 4.108338356018066,
          "dim2": 3.7995660305023193
         },
         {
          "class": 1,
          "dim1": 3.7783398628234863,
          "dim2": -12.665264129638672
         },
         {
          "class": 3,
          "dim1": -12.090598106384277,
          "dim2": -1.4134273529052734
         },
         {
          "class": 3,
          "dim1": -12.121760368347168,
          "dim2": -0.5386001467704773
         },
         {
          "class": 1,
          "dim1": -3.3945493698120117,
          "dim2": 11.460148811340332
         },
         {
          "class": 1,
          "dim1": 2.953368663787842,
          "dim2": -12.890142440795898
         },
         {
          "class": 1,
          "dim1": -2.4506921768188477,
          "dim2": 10.477702140808105
         },
         {
          "class": 0,
          "dim1": 4.050048351287842,
          "dim2": 4.804949760437012
         },
         {
          "class": 0,
          "dim1": 2.7071850299835205,
          "dim2": 4.489893913269043
         },
         {
          "class": 0,
          "dim1": 4.990861892700195,
          "dim2": 1.6209510564804077
         },
         {
          "class": 0,
          "dim1": 7.730173110961914,
          "dim2": 3.217909574508667
         },
         {
          "class": 0,
          "dim1": -2.0941247940063477,
          "dim2": -0.1245112493634224
         },
         {
          "class": 0,
          "dim1": -1.6791013479232788,
          "dim2": -0.05553954467177391
         },
         {
          "class": 0,
          "dim1": 1.7327117919921875,
          "dim2": 0.8912163972854614
         },
         {
          "class": 2,
          "dim1": -6.950892925262451,
          "dim2": 6.697636127471924
         },
         {
          "class": 3,
          "dim1": -12.632424354553223,
          "dim2": -1.5886014699935913
         },
         {
          "class": 0,
          "dim1": 3.2818381786346436,
          "dim2": 0.2055477797985077
         },
         {
          "class": 0,
          "dim1": -3.1619434356689453,
          "dim2": -1.2634034156799316
         },
         {
          "class": 0,
          "dim1": 2.2955751419067383,
          "dim2": 0.8312802910804749
         },
         {
          "class": 0,
          "dim1": 0.16818523406982422,
          "dim2": 3.6884541511535645
         },
         {
          "class": 2,
          "dim1": -7.20402717590332,
          "dim2": 6.977061748504639
         },
         {
          "class": 0,
          "dim1": -1.538622498512268,
          "dim2": -0.026998847723007202
         },
         {
          "class": 3,
          "dim1": -12.633624076843262,
          "dim2": -1.9032084941864014
         },
         {
          "class": 3,
          "dim1": -13.292208671569824,
          "dim2": -2.6750757694244385
         },
         {
          "class": 2,
          "dim1": -0.8832221031188965,
          "dim2": -0.03547045961022377
         },
         {
          "class": 0,
          "dim1": 8.476153373718262,
          "dim2": 4.406857967376709
         },
         {
          "class": 0,
          "dim1": 5.427695274353027,
          "dim2": 2.7035765647888184
         },
         {
          "class": 0,
          "dim1": 4.11786413192749,
          "dim2": 3.7124969959259033
         },
         {
          "class": 2,
          "dim1": 7.843700885772705,
          "dim2": -6.010913848876953
         },
         {
          "class": 0,
          "dim1": 2.936974287033081,
          "dim2": 0.128557488322258
         },
         {
          "class": 0,
          "dim1": -2.6663811206817627,
          "dim2": -1.6206934452056885
         },
         {
          "class": 3,
          "dim1": -10.867294311523438,
          "dim2": -2.8754634857177734
         },
         {
          "class": 0,
          "dim1": 6.2399468421936035,
          "dim2": 4.831363677978516
         },
         {
          "class": 3,
          "dim1": -12.503387451171875,
          "dim2": -2.9956421852111816
         },
         {
          "class": 2,
          "dim1": -2.0876779556274414,
          "dim2": -8.162314414978027
         },
         {
          "class": 0,
          "dim1": 7.009928226470947,
          "dim2": 4.782617092132568
         },
         {
          "class": 0,
          "dim1": 0.5020126700401306,
          "dim2": 2.107574462890625
         },
         {
          "class": 0,
          "dim1": 4.990433216094971,
          "dim2": 1.1232548952102661
         },
         {
          "class": 0,
          "dim1": 6.7842888832092285,
          "dim2": 3.4628806114196777
         },
         {
          "class": 0,
          "dim1": 3.808884620666504,
          "dim2": 4.273153781890869
         },
         {
          "class": 3,
          "dim1": -12.865397453308105,
          "dim2": -1.9483565092086792
         },
         {
          "class": 0,
          "dim1": -0.07800692319869995,
          "dim2": 0.8523499369621277
         },
         {
          "class": 0,
          "dim1": 5.830350399017334,
          "dim2": 1.9611408710479736
         },
         {
          "class": 3,
          "dim1": -11.301311492919922,
          "dim2": -0.22940944135189056
         },
         {
          "class": 3,
          "dim1": -10.845439910888672,
          "dim2": 0.038633063435554504
         },
         {
          "class": 0,
          "dim1": 1.5428438186645508,
          "dim2": -0.06486120820045471
         },
         {
          "class": 0,
          "dim1": -1.634765625,
          "dim2": 0.09614083915948868
         },
         {
          "class": 1,
          "dim1": -2.134884834289551,
          "dim2": -1.8974897861480713
         },
         {
          "class": 1,
          "dim1": 1.8830612897872925,
          "dim2": -13.334738731384277
         },
         {
          "class": 0,
          "dim1": 8.523689270019531,
          "dim2": 2.9405908584594727
         },
         {
          "class": 0,
          "dim1": -0.7743274569511414,
          "dim2": 2.5204343795776367
         },
         {
          "class": 0,
          "dim1": 7.883515357971191,
          "dim2": 3.6158483028411865
         },
         {
          "class": 1,
          "dim1": 0.9292750954627991,
          "dim2": -11.677947044372559
         },
         {
          "class": 3,
          "dim1": -12.831782341003418,
          "dim2": -1.7432961463928223
         },
         {
          "class": 2,
          "dim1": -1.9927078485488892,
          "dim2": -8.102537155151367
         },
         {
          "class": 0,
          "dim1": -4.557298183441162,
          "dim2": -0.5188730359077454
         },
         {
          "class": 2,
          "dim1": -1.9843800067901611,
          "dim2": -7.821437835693359
         },
         {
          "class": 3,
          "dim1": -11.8531494140625,
          "dim2": -2.7779552936553955
         },
         {
          "class": 3,
          "dim1": -11.440265655517578,
          "dim2": -3.2229197025299072
         },
         {
          "class": 0,
          "dim1": 0.5179856419563293,
          "dim2": 1.5625044107437134
         },
         {
          "class": 0,
          "dim1": 1.457485556602478,
          "dim2": 1.4457203149795532
         },
         {
          "class": 3,
          "dim1": -12.211156845092773,
          "dim2": -1.2259740829467773
         },
         {
          "class": 0,
          "dim1": 8.260492324829102,
          "dim2": 5.120023727416992
         },
         {
          "class": 3,
          "dim1": -12.869454383850098,
          "dim2": -2.362499952316284
         },
         {
          "class": 3,
          "dim1": -11.868033409118652,
          "dim2": -0.4060697555541992
         },
         {
          "class": 0,
          "dim1": 6.025417327880859,
          "dim2": 4.486771583557129
         },
         {
          "class": 0,
          "dim1": 5.581171035766602,
          "dim2": 2.744168281555176
         },
         {
          "class": 3,
          "dim1": -11.043437957763672,
          "dim2": 0.6180218458175659
         },
         {
          "class": 2,
          "dim1": 7.288989067077637,
          "dim2": -6.46579647064209
         },
         {
          "class": 0,
          "dim1": 5.195777893066406,
          "dim2": 1.7476214170455933
         },
         {
          "class": 2,
          "dim1": -2.68038010597229,
          "dim2": -7.568704605102539
         },
         {
          "class": 3,
          "dim1": -10.992852210998535,
          "dim2": -2.7534384727478027
         },
         {
          "class": 3,
          "dim1": -10.775728225708008,
          "dim2": -3.2026774883270264
         },
         {
          "class": 0,
          "dim1": 6.960225582122803,
          "dim2": 2.561284065246582
         },
         {
          "class": 0,
          "dim1": -0.8830716013908386,
          "dim2": 1.1475510597229004
         },
         {
          "class": 0,
          "dim1": 2.960693597793579,
          "dim2": 4.771688938140869
         },
         {
          "class": 1,
          "dim1": 2.6847317218780518,
          "dim2": -12.29162311553955
         },
         {
          "class": 2,
          "dim1": -2.2834064960479736,
          "dim2": -7.453907012939453
         },
         {
          "class": 3,
          "dim1": -11.807947158813477,
          "dim2": -3.2230329513549805
         },
         {
          "class": 2,
          "dim1": 7.330329418182373,
          "dim2": -5.566098213195801
         },
         {
          "class": 0,
          "dim1": 6.772268772125244,
          "dim2": 4.88168478012085
         },
         {
          "class": 0,
          "dim1": 0.3733859956264496,
          "dim2": 0.09779492020606995
         },
         {
          "class": 0,
          "dim1": 1.0608117580413818,
          "dim2": 1.4276914596557617
         },
         {
          "class": 0,
          "dim1": 5.232786178588867,
          "dim2": 2.289703845977783
         },
         {
          "class": 0,
          "dim1": 0.386470228433609,
          "dim2": 2.2477610111236572
         },
         {
          "class": 2,
          "dim1": -7.066623210906982,
          "dim2": 6.761599540710449
         },
         {
          "class": 0,
          "dim1": 1.596168875694275,
          "dim2": 1.243167519569397
         },
         {
          "class": 0,
          "dim1": 6.267625331878662,
          "dim2": 5.522676467895508
         },
         {
          "class": 0,
          "dim1": -1.4917817115783691,
          "dim2": -1.8301453590393066
         },
         {
          "class": 0,
          "dim1": 3.6683733463287354,
          "dim2": 0.4654572606086731
         },
         {
          "class": 0,
          "dim1": 1.8806349039077759,
          "dim2": -0.6435737609863281
         },
         {
          "class": 2,
          "dim1": -6.5590925216674805,
          "dim2": 7.856932163238525
         },
         {
          "class": 0,
          "dim1": -1.035286545753479,
          "dim2": -1.2858418226242065
         },
         {
          "class": 3,
          "dim1": -11.7426118850708,
          "dim2": -0.8368176817893982
         },
         {
          "class": 0,
          "dim1": -2.3240678310394287,
          "dim2": 1.3099241256713867
         },
         {
          "class": 0,
          "dim1": 4.068835258483887,
          "dim2": 2.254804849624634
         },
         {
          "class": 0,
          "dim1": 7.300919532775879,
          "dim2": 3.7462592124938965
         },
         {
          "class": 2,
          "dim1": -2.442701578140259,
          "dim2": -7.3179192543029785
         },
         {
          "class": 0,
          "dim1": 2.894355297088623,
          "dim2": 2.671741008758545
         },
         {
          "class": 1,
          "dim1": -4.049738883972168,
          "dim2": 11.612044334411621
         },
         {
          "class": 2,
          "dim1": 7.285797595977783,
          "dim2": -5.817173957824707
         },
         {
          "class": 0,
          "dim1": 0.6466989517211914,
          "dim2": -1.2471879720687866
         },
         {
          "class": 1,
          "dim1": 3.7672500610351562,
          "dim2": -12.057655334472656
         },
         {
          "class": 2,
          "dim1": -2.154362678527832,
          "dim2": -7.433304309844971
         },
         {
          "class": 0,
          "dim1": 0.343021959066391,
          "dim2": 1.8138545751571655
         },
         {
          "class": 0,
          "dim1": 5.4324870109558105,
          "dim2": 2.15144944190979
         },
         {
          "class": 3,
          "dim1": -12.970205307006836,
          "dim2": -3.2020304203033447
         },
         {
          "class": 2,
          "dim1": -7.183556079864502,
          "dim2": 7.113249778747559
         },
         {
          "class": 0,
          "dim1": 5.585648059844971,
          "dim2": 2.9683492183685303
         },
         {
          "class": 3,
          "dim1": -2.408919095993042,
          "dim2": 1.8508667945861816
         },
         {
          "class": 0,
          "dim1": 8.286908149719238,
          "dim2": 4.2902913093566895
         },
         {
          "class": 3,
          "dim1": -2.005401134490967,
          "dim2": 2.2136566638946533
         },
         {
          "class": 1,
          "dim1": 2.7443222999572754,
          "dim2": -12.263993263244629
         },
         {
          "class": 1,
          "dim1": 0.8523021936416626,
          "dim2": -11.691778182983398
         },
         {
          "class": 3,
          "dim1": -11.562724113464355,
          "dim2": -2.7348194122314453
         },
         {
          "class": 0,
          "dim1": 1.0441603660583496,
          "dim2": 2.3579156398773193
         },
         {
          "class": 2,
          "dim1": -1.0728892087936401,
          "dim2": -7.884471893310547
         },
         {
          "class": 0,
          "dim1": 6.533340930938721,
          "dim2": 2.9046428203582764
         },
         {
          "class": 0,
          "dim1": 8.307875633239746,
          "dim2": 2.7190001010894775
         },
         {
          "class": 0,
          "dim1": 7.273330211639404,
          "dim2": 4.3090949058532715
         },
         {
          "class": 2,
          "dim1": 5.195099353790283,
          "dim2": 2.5649120807647705
         },
         {
          "class": 3,
          "dim1": -11.36426067352295,
          "dim2": -3.4561712741851807
         },
         {
          "class": 0,
          "dim1": 2.7715604305267334,
          "dim2": 2.234891414642334
         },
         {
          "class": 2,
          "dim1": 6.986602783203125,
          "dim2": -6.14401912689209
         },
         {
          "class": 0,
          "dim1": 3.7762465476989746,
          "dim2": 1.4861938953399658
         },
         {
          "class": 3,
          "dim1": -11.378803253173828,
          "dim2": -2.9168481826782227
         },
         {
          "class": 0,
          "dim1": 1.3357475996017456,
          "dim2": 3.632965564727783
         },
         {
          "class": 3,
          "dim1": -12.130159378051758,
          "dim2": -2.5837090015411377
         },
         {
          "class": 0,
          "dim1": 3.6126906871795654,
          "dim2": 3.239459276199341
         },
         {
          "class": 2,
          "dim1": 7.781399250030518,
          "dim2": -6.285868167877197
         },
         {
          "class": 1,
          "dim1": -2.453005313873291,
          "dim2": 10.58966064453125
         },
         {
          "class": 0,
          "dim1": 2.1621127128601074,
          "dim2": 0.8162262439727783
         },
         {
          "class": 2,
          "dim1": -3.0416829586029053,
          "dim2": -6.579219341278076
         },
         {
          "class": 1,
          "dim1": 2.6671814918518066,
          "dim2": -12.207266807556152
         },
         {
          "class": 1,
          "dim1": 0.9874019622802734,
          "dim2": -12.16724967956543
         },
         {
          "class": 0,
          "dim1": 2.831724166870117,
          "dim2": 4.527625560760498
         },
         {
          "class": 0,
          "dim1": 1.9953757524490356,
          "dim2": 2.342123508453369
         },
         {
          "class": 2,
          "dim1": -6.9791107177734375,
          "dim2": 7.38008451461792
         },
         {
          "class": 1,
          "dim1": 4.762215614318848,
          "dim2": -12.345942497253418
         },
         {
          "class": 0,
          "dim1": -1.0244266986846924,
          "dim2": 2.3525888919830322
         },
         {
          "class": 0,
          "dim1": 1.789463758468628,
          "dim2": 2.8487708568573
         },
         {
          "class": 2,
          "dim1": -3.5631325244903564,
          "dim2": -6.888955116271973
         },
         {
          "class": 2,
          "dim1": -3.4155213832855225,
          "dim2": 8.481419563293457
         },
         {
          "class": 1,
          "dim1": 0.8768177628517151,
          "dim2": -11.774169921875
         },
         {
          "class": 0,
          "dim1": 6.617944240570068,
          "dim2": 3.621767282485962
         },
         {
          "class": 0,
          "dim1": 0.33960211277008057,
          "dim2": -1.2355775833129883
         },
         {
          "class": 0,
          "dim1": 6.882854461669922,
          "dim2": 2.1785383224487305
         },
         {
          "class": 3,
          "dim1": -12.729880332946777,
          "dim2": 0.07286529242992401
         },
         {
          "class": 2,
          "dim1": -3.192566394805908,
          "dim2": 7.4798712730407715
         },
         {
          "class": 0,
          "dim1": 8.654481887817383,
          "dim2": 3.5301084518432617
         },
         {
          "class": 1,
          "dim1": 0.7526758313179016,
          "dim2": -11.930213928222656
         },
         {
          "class": 0,
          "dim1": 4.022633075714111,
          "dim2": 0.014011136256158352
         },
         {
          "class": 1,
          "dim1": 4.995236873626709,
          "dim2": -0.6944178342819214
         },
         {
          "class": 0,
          "dim1": 2.1062283515930176,
          "dim2": 2.533151865005493
         },
         {
          "class": 0,
          "dim1": -1.783869981765747,
          "dim2": -1.1795982122421265
         },
         {
          "class": 0,
          "dim1": 1.7979148626327515,
          "dim2": 2.2030091285705566
         },
         {
          "class": 0,
          "dim1": 6.689107418060303,
          "dim2": 4.226138591766357
         },
         {
          "class": 3,
          "dim1": -12.552786827087402,
          "dim2": 0.017611410468816757
         },
         {
          "class": 0,
          "dim1": 0.7708325982093811,
          "dim2": 3.8819098472595215
         },
         {
          "class": 0,
          "dim1": 0.33229708671569824,
          "dim2": 2.579655408859253
         },
         {
          "class": 0,
          "dim1": 0.6103357076644897,
          "dim2": 1.6822550296783447
         },
         {
          "class": 0,
          "dim1": 4.778675556182861,
          "dim2": 4.578426361083984
         },
         {
          "class": 0,
          "dim1": 6.3196492195129395,
          "dim2": 5.3386383056640625
         },
         {
          "class": 0,
          "dim1": -1.38552725315094,
          "dim2": -0.8289420008659363
         },
         {
          "class": 0,
          "dim1": 3.5197043418884277,
          "dim2": 1.4772453308105469
         },
         {
          "class": 1,
          "dim1": 4.851200103759766,
          "dim2": -0.7250642776489258
         },
         {
          "class": 2,
          "dim1": 5.896092891693115,
          "dim2": -7.116081714630127
         },
         {
          "class": 2,
          "dim1": 6.799434185028076,
          "dim2": -6.7813639640808105
         },
         {
          "class": 1,
          "dim1": 2.038381338119507,
          "dim2": -12.849203109741211
         },
         {
          "class": 0,
          "dim1": 1.4093879461288452,
          "dim2": 3.9563488960266113
         },
         {
          "class": 2,
          "dim1": 7.551638126373291,
          "dim2": -6.592227935791016
         },
         {
          "class": 1,
          "dim1": 1.2524014711380005,
          "dim2": -12.629502296447754
         },
         {
          "class": 0,
          "dim1": 3.7888996601104736,
          "dim2": 4.057690620422363
         },
         {
          "class": 3,
          "dim1": -11.092065811157227,
          "dim2": -2.540306329727173
         },
         {
          "class": 1,
          "dim1": -3.770947217941284,
          "dim2": 11.497827529907227
         },
         {
          "class": 3,
          "dim1": -11.195113182067871,
          "dim2": 0.10565612465143204
         },
         {
          "class": 2,
          "dim1": -2.207124948501587,
          "dim2": -8.109415054321289
         },
         {
          "class": 3,
          "dim1": -4.589363098144531,
          "dim2": -1.9368577003479004
         },
         {
          "class": 1,
          "dim1": 2.995684862136841,
          "dim2": -12.68090534210205
         },
         {
          "class": 0,
          "dim1": 1.8474092483520508,
          "dim2": 1.8473068475723267
         },
         {
          "class": 1,
          "dim1": -2.9881885051727295,
          "dim2": 11.686247825622559
         },
         {
          "class": 2,
          "dim1": -3.066513776779175,
          "dim2": 7.28297233581543
         },
         {
          "class": 0,
          "dim1": 2.5572524070739746,
          "dim2": 4.295737266540527
         },
         {
          "class": 1,
          "dim1": -3.574275493621826,
          "dim2": 11.999689102172852
         },
         {
          "class": 3,
          "dim1": -11.598271369934082,
          "dim2": -2.644500255584717
         },
         {
          "class": 0,
          "dim1": 1.4845402240753174,
          "dim2": 4.40457010269165
         },
         {
          "class": 2,
          "dim1": -1.9491593837738037,
          "dim2": -8.140040397644043
         },
         {
          "class": 0,
          "dim1": 3.229372024536133,
          "dim2": 1.0257624387741089
         },
         {
          "class": 0,
          "dim1": 3.5609817504882812,
          "dim2": 0.7564343214035034
         },
         {
          "class": 0,
          "dim1": 4.478862285614014,
          "dim2": 0.8460347056388855
         },
         {
          "class": 0,
          "dim1": 2.166447877883911,
          "dim2": 2.620619773864746
         },
         {
          "class": 0,
          "dim1": 2.6639723777770996,
          "dim2": 4.7568888664245605
         },
         {
          "class": 0,
          "dim1": -1.5124062299728394,
          "dim2": -1.322363257408142
         },
         {
          "class": 1,
          "dim1": 2.9279181957244873,
          "dim2": -13.293615341186523
         },
         {
          "class": 0,
          "dim1": 4.717296123504639,
          "dim2": 0.7877538204193115
         },
         {
          "class": 0,
          "dim1": -1.4404618740081787,
          "dim2": -1.056156039237976
         },
         {
          "class": 3,
          "dim1": -10.93567180633545,
          "dim2": 0.29740074276924133
         },
         {
          "class": 2,
          "dim1": 7.842468738555908,
          "dim2": -6.188930988311768
         },
         {
          "class": 3,
          "dim1": -12.783288955688477,
          "dim2": -2.574235439300537
         },
         {
          "class": 3,
          "dim1": -12.832588195800781,
          "dim2": -2.334383726119995
         },
         {
          "class": 2,
          "dim1": 7.522461891174316,
          "dim2": -4.823780059814453
         },
         {
          "class": 1,
          "dim1": 1.723867416381836,
          "dim2": -12.98272705078125
         },
         {
          "class": 1,
          "dim1": 0.6730484366416931,
          "dim2": -11.379925727844238
         },
         {
          "class": 0,
          "dim1": 6.955667495727539,
          "dim2": 5.170771598815918
         },
         {
          "class": 2,
          "dim1": -3.6223950386047363,
          "dim2": -6.637343883514404
         },
         {
          "class": 0,
          "dim1": 6.309671401977539,
          "dim2": 2.2906384468078613
         },
         {
          "class": 2,
          "dim1": -3.066615581512451,
          "dim2": -7.448263168334961
         },
         {
          "class": 0,
          "dim1": 5.304193496704102,
          "dim2": 0.7518342137336731
         },
         {
          "class": 2,
          "dim1": 6.925152778625488,
          "dim2": -6.825458526611328
         },
         {
          "class": 2,
          "dim1": 7.727323532104492,
          "dim2": -5.4008870124816895
         },
         {
          "class": 0,
          "dim1": -0.6530422568321228,
          "dim2": -8.146651268005371
         },
         {
          "class": 3,
          "dim1": -12.264788627624512,
          "dim2": -2.8316092491149902
         },
         {
          "class": 3,
          "dim1": -11.873551368713379,
          "dim2": -2.5008697509765625
         },
         {
          "class": 0,
          "dim1": 3.4615423679351807,
          "dim2": 4.266199111938477
         },
         {
          "class": 0,
          "dim1": -2.1022422313690186,
          "dim2": 0.05048287287354469
         },
         {
          "class": 2,
          "dim1": 6.626940727233887,
          "dim2": -6.092312812805176
         },
         {
          "class": 2,
          "dim1": -6.9541521072387695,
          "dim2": 6.652392864227295
         },
         {
          "class": 3,
          "dim1": -12.167008399963379,
          "dim2": -2.7498397827148438
         },
         {
          "class": 3,
          "dim1": -10.519858360290527,
          "dim2": -3.160316228866577
         },
         {
          "class": 2,
          "dim1": 7.476245880126953,
          "dim2": -5.667081356048584
         },
         {
          "class": 0,
          "dim1": -1.956814169883728,
          "dim2": 2.268690586090088
         },
         {
          "class": 0,
          "dim1": 0.6021798253059387,
          "dim2": 1.5282946825027466
         },
         {
          "class": 0,
          "dim1": 7.172874450683594,
          "dim2": 1.9638299942016602
         },
         {
          "class": 1,
          "dim1": 1.0834890604019165,
          "dim2": 0.2601507306098938
         },
         {
          "class": 0,
          "dim1": 4.4602484703063965,
          "dim2": 2.4450130462646484
         },
         {
          "class": 3,
          "dim1": -12.212311744689941,
          "dim2": -3.646754741668701
         },
         {
          "class": 0,
          "dim1": 7.783287525177002,
          "dim2": 4.485121250152588
         },
         {
          "class": 0,
          "dim1": 8.96407699584961,
          "dim2": 3.5398037433624268
         },
         {
          "class": 0,
          "dim1": -1.528165578842163,
          "dim2": 2.1815102100372314
         },
         {
          "class": 1,
          "dim1": -2.8368916511535645,
          "dim2": 11.5726957321167
         },
         {
          "class": 0,
          "dim1": -3.5498201847076416,
          "dim2": -2.2311694622039795
         },
         {
          "class": 3,
          "dim1": -12.902022361755371,
          "dim2": -2.984896421432495
         },
         {
          "class": 1,
          "dim1": 5.346816539764404,
          "dim2": 0.23843707144260406
         },
         {
          "class": 1,
          "dim1": -2.749534845352173,
          "dim2": 11.622880935668945
         },
         {
          "class": 0,
          "dim1": 1.3126293420791626,
          "dim2": 1.2847681045532227
         },
         {
          "class": 0,
          "dim1": 7.967164993286133,
          "dim2": 3.273836851119995
         },
         {
          "class": 0,
          "dim1": 6.942617416381836,
          "dim2": 5.030573844909668
         },
         {
          "class": 2,
          "dim1": -3.455155372619629,
          "dim2": -7.039660930633545
         },
         {
          "class": 2,
          "dim1": 6.7361741065979,
          "dim2": -6.909796237945557
         },
         {
          "class": 0,
          "dim1": 3.245574474334717,
          "dim2": 3.4405457973480225
         },
         {
          "class": 0,
          "dim1": 3.52133846282959,
          "dim2": 2.967100143432617
         },
         {
          "class": 1,
          "dim1": 1.3337088823318481,
          "dim2": -12.918497085571289
         },
         {
          "class": 2,
          "dim1": -7.03016996383667,
          "dim2": 7.700290679931641
         },
         {
          "class": 3,
          "dim1": -11.419858932495117,
          "dim2": -0.38253089785575867
         },
         {
          "class": 0,
          "dim1": -0.9575918316841125,
          "dim2": -0.11333953589200974
         },
         {
          "class": 0,
          "dim1": 3.513159990310669,
          "dim2": -0.5748592615127563
         },
         {
          "class": 3,
          "dim1": -11.416296005249023,
          "dim2": -0.08266886323690414
         },
         {
          "class": 0,
          "dim1": 5.156464099884033,
          "dim2": 3.843169927597046
         },
         {
          "class": 2,
          "dim1": -3.5423591136932373,
          "dim2": -7.039797782897949
         },
         {
          "class": 1,
          "dim1": 2.202822208404541,
          "dim2": -13.035865783691406
         },
         {
          "class": 0,
          "dim1": 1.5790590047836304,
          "dim2": 3.097867727279663
         },
         {
          "class": 2,
          "dim1": 7.446531295776367,
          "dim2": -5.7463483810424805
         },
         {
          "class": 3,
          "dim1": -13.25913143157959,
          "dim2": -2.141057014465332
         },
         {
          "class": 2,
          "dim1": -3.6100852489471436,
          "dim2": -6.658095359802246
         },
         {
          "class": 0,
          "dim1": 0.38154974579811096,
          "dim2": 2.597686290740967
         },
         {
          "class": 0,
          "dim1": 7.317541122436523,
          "dim2": 3.7171988487243652
         },
         {
          "class": 2,
          "dim1": -2.3540475368499756,
          "dim2": 6.64056396484375
         },
         {
          "class": 2,
          "dim1": -3.2893271446228027,
          "dim2": 7.556477069854736
         },
         {
          "class": 3,
          "dim1": -11.895515441894531,
          "dim2": 0.40635907649993896
         },
         {
          "class": 1,
          "dim1": -3.0743415355682373,
          "dim2": 11.595802307128906
         },
         {
          "class": 3,
          "dim1": -12.539335250854492,
          "dim2": -0.25834959745407104
         },
         {
          "class": 3,
          "dim1": -10.963340759277344,
          "dim2": 0.09761157631874084
         },
         {
          "class": 0,
          "dim1": 6.557677268981934,
          "dim2": 2.3740482330322266
         },
         {
          "class": 2,
          "dim1": -2.8241782188415527,
          "dim2": 6.839841365814209
         },
         {
          "class": 0,
          "dim1": 3.7457358837127686,
          "dim2": 0.5456278920173645
         },
         {
          "class": 0,
          "dim1": 7.260446548461914,
          "dim2": 2.2276387214660645
         },
         {
          "class": 0,
          "dim1": 7.359183311462402,
          "dim2": 3.115834951400757
         },
         {
          "class": 0,
          "dim1": 2.242358446121216,
          "dim2": 3.571474313735962
         },
         {
          "class": 1,
          "dim1": -2.687413454055786,
          "dim2": 12.164656639099121
         },
         {
          "class": 2,
          "dim1": -2.1250295639038086,
          "dim2": -8.152907371520996
         },
         {
          "class": 0,
          "dim1": -3.2868125438690186,
          "dim2": -0.4631272256374359
         },
         {
          "class": 0,
          "dim1": 0.8519478440284729,
          "dim2": -0.11390378326177597
         },
         {
          "class": 1,
          "dim1": -2.295175075531006,
          "dim2": 10.925918579101562
         },
         {
          "class": 0,
          "dim1": -1.6348373889923096,
          "dim2": 1.9033459424972534
         },
         {
          "class": 0,
          "dim1": 3.4326963424682617,
          "dim2": 4.897040367126465
         },
         {
          "class": 2,
          "dim1": 5.727348804473877,
          "dim2": -6.715217113494873
         },
         {
          "class": 0,
          "dim1": 2.494013786315918,
          "dim2": 0.727547287940979
         },
         {
          "class": 0,
          "dim1": 6.615962028503418,
          "dim2": 5.204269886016846
         },
         {
          "class": 0,
          "dim1": 1.9113224744796753,
          "dim2": 3.295283079147339
         },
         {
          "class": 3,
          "dim1": -10.710803031921387,
          "dim2": -0.1424061357975006
         },
         {
          "class": 0,
          "dim1": -3.7834529876708984,
          "dim2": -2.355194568634033
         },
         {
          "class": 0,
          "dim1": 6.19911003112793,
          "dim2": 4.6507568359375
         },
         {
          "class": 2,
          "dim1": -3.257728338241577,
          "dim2": 7.930018424987793
         },
         {
          "class": 1,
          "dim1": 1.1233493089675903,
          "dim2": -12.303947448730469
         },
         {
          "class": 1,
          "dim1": 1.1016157865524292,
          "dim2": -12.332427978515625
         },
         {
          "class": 0,
          "dim1": 8.128702163696289,
          "dim2": 4.183073043823242
         },
         {
          "class": 0,
          "dim1": 6.832292079925537,
          "dim2": 1.7252123355865479
         },
         {
          "class": 0,
          "dim1": 0.27251264452934265,
          "dim2": 3.490297317504883
         },
         {
          "class": 0,
          "dim1": 2.346900701522827,
          "dim2": 0.9476926922798157
         },
         {
          "class": 3,
          "dim1": -11.53707218170166,
          "dim2": -3.8162944316864014
         },
         {
          "class": 0,
          "dim1": 3.437798023223877,
          "dim2": 3.251187562942505
         },
         {
          "class": 0,
          "dim1": 0.19617652893066406,
          "dim2": 2.307042360305786
         },
         {
          "class": 0,
          "dim1": 4.734340667724609,
          "dim2": 3.110367774963379
         },
         {
          "class": 1,
          "dim1": 4.810931205749512,
          "dim2": -12.154010772705078
         },
         {
          "class": 2,
          "dim1": -2.0945234298706055,
          "dim2": 6.560081958770752
         },
         {
          "class": 1,
          "dim1": 2.023935556411743,
          "dim2": -12.872354507446289
         },
         {
          "class": 2,
          "dim1": 6.428611755371094,
          "dim2": -6.615841865539551
         },
         {
          "class": 2,
          "dim1": 6.226354598999023,
          "dim2": -7.159755706787109
         },
         {
          "class": 2,
          "dim1": -1.3387960195541382,
          "dim2": -8.31234359741211
         },
         {
          "class": 0,
          "dim1": 3.283587694168091,
          "dim2": 2.8240256309509277
         },
         {
          "class": 0,
          "dim1": 6.480052471160889,
          "dim2": 4.696299076080322
         },
         {
          "class": 2,
          "dim1": 6.097712993621826,
          "dim2": -6.8782219886779785
         },
         {
          "class": 0,
          "dim1": 6.6145100593566895,
          "dim2": 5.7591705322265625
         },
         {
          "class": 0,
          "dim1": 2.370938539505005,
          "dim2": 2.935373306274414
         },
         {
          "class": 1,
          "dim1": 1.8622488975524902,
          "dim2": -12.44283390045166
         },
         {
          "class": 0,
          "dim1": 4.107712268829346,
          "dim2": 4.1214494705200195
         },
         {
          "class": 0,
          "dim1": 4.415844917297363,
          "dim2": 1.0313818454742432
         },
         {
          "class": 0,
          "dim1": 8.17390251159668,
          "dim2": 5.101760387420654
         },
         {
          "class": 1,
          "dim1": -2.3539252281188965,
          "dim2": 9.834617614746094
         },
         {
          "class": 0,
          "dim1": 6.674452781677246,
          "dim2": 5.32145357131958
         },
         {
          "class": 3,
          "dim1": -11.272056579589844,
          "dim2": -0.44562894105911255
         },
         {
          "class": 0,
          "dim1": 1.6247750520706177,
          "dim2": 1.1004246473312378
         },
         {
          "class": 3,
          "dim1": -12.933266639709473,
          "dim2": -0.4450346529483795
         },
         {
          "class": 1,
          "dim1": -2.618786096572876,
          "dim2": 12.007594108581543
         },
         {
          "class": 2,
          "dim1": -2.1119396686553955,
          "dim2": -7.42333459854126
         },
         {
          "class": 3,
          "dim1": -11.760969161987305,
          "dim2": 0.321948379278183
         },
         {
          "class": 2,
          "dim1": 7.135210037231445,
          "dim2": -5.247021675109863
         },
         {
          "class": 2,
          "dim1": 6.8204731941223145,
          "dim2": -6.917331695556641
         },
         {
          "class": 0,
          "dim1": 6.441319465637207,
          "dim2": 4.368897438049316
         },
         {
          "class": 0,
          "dim1": -1.3813810348510742,
          "dim2": 0.4165479242801666
         },
         {
          "class": 0,
          "dim1": 4.9448065757751465,
          "dim2": 1.0488120317459106
         },
         {
          "class": 3,
          "dim1": -10.44679069519043,
          "dim2": -3.2268896102905273
         },
         {
          "class": 2,
          "dim1": -2.4117021560668945,
          "dim2": 9.10563850402832
         },
         {
          "class": 0,
          "dim1": -0.6254979968070984,
          "dim2": -0.2834392786026001
         },
         {
          "class": 3,
          "dim1": -12.639182090759277,
          "dim2": -0.7313374876976013
         },
         {
          "class": 1,
          "dim1": 1.5912058353424072,
          "dim2": -12.174508094787598
         },
         {
          "class": 0,
          "dim1": -1.9805814027786255,
          "dim2": -0.8020488619804382
         },
         {
          "class": 0,
          "dim1": 1.148314118385315,
          "dim2": 2.91043758392334
         },
         {
          "class": 0,
          "dim1": -1.1102867126464844,
          "dim2": -0.6716981530189514
         },
         {
          "class": 0,
          "dim1": 4.006898880004883,
          "dim2": 0.7617915868759155
         },
         {
          "class": 0,
          "dim1": 5.813533782958984,
          "dim2": 2.812595844268799
         },
         {
          "class": 0,
          "dim1": -2.1614882946014404,
          "dim2": -0.8051148056983948
         },
         {
          "class": 0,
          "dim1": 5.031467914581299,
          "dim2": 3.338315486907959
         },
         {
          "class": 1,
          "dim1": 0.9906195998191833,
          "dim2": -11.806833267211914
         },
         {
          "class": 0,
          "dim1": 4.2854533195495605,
          "dim2": 2.6802101135253906
         },
         {
          "class": 0,
          "dim1": 5.1097893714904785,
          "dim2": 0.17362602055072784
         },
         {
          "class": 0,
          "dim1": 4.425446033477783,
          "dim2": 4.0328826904296875
         },
         {
          "class": 2,
          "dim1": 7.576526641845703,
          "dim2": -6.253283500671387
         },
         {
          "class": 0,
          "dim1": 6.9521260261535645,
          "dim2": 5.63383150100708
         },
         {
          "class": 0,
          "dim1": -3.2631216049194336,
          "dim2": -0.8140135407447815
         },
         {
          "class": 0,
          "dim1": 5.324080944061279,
          "dim2": 2.144637107849121
         },
         {
          "class": 3,
          "dim1": -10.384599685668945,
          "dim2": -3.1168453693389893
         },
         {
          "class": 0,
          "dim1": 4.831892490386963,
          "dim2": 1.2861629724502563
         },
         {
          "class": 1,
          "dim1": 2.331606149673462,
          "dim2": -12.000115394592285
         },
         {
          "class": 3,
          "dim1": -10.42537784576416,
          "dim2": -3.559400796890259
         },
         {
          "class": 2,
          "dim1": -7.0783185958862305,
          "dim2": 7.007143497467041
         },
         {
          "class": 0,
          "dim1": 3.9928579330444336,
          "dim2": 4.119259834289551
         },
         {
          "class": 0,
          "dim1": -0.4506959617137909,
          "dim2": -0.16725893318653107
         },
         {
          "class": 1,
          "dim1": 1.7943347692489624,
          "dim2": -12.729706764221191
         },
         {
          "class": 2,
          "dim1": 1.2754114866256714,
          "dim2": -1.4397629499435425
         },
         {
          "class": 0,
          "dim1": -0.9589710235595703,
          "dim2": 1.5158518552780151
         },
         {
          "class": 0,
          "dim1": 2.547985792160034,
          "dim2": 0.5927310585975647
         },
         {
          "class": 0,
          "dim1": -0.7697082757949829,
          "dim2": 1.0473684072494507
         },
         {
          "class": 1,
          "dim1": 3.6780927181243896,
          "dim2": -13.170021057128906
         },
         {
          "class": 1,
          "dim1": 2.74975323677063,
          "dim2": -13.495195388793945
         },
         {
          "class": 2,
          "dim1": -2.988326072692871,
          "dim2": -6.52271032333374
         },
         {
          "class": 2,
          "dim1": -7.109070777893066,
          "dim2": 7.664442539215088
         },
         {
          "class": 3,
          "dim1": -10.803254127502441,
          "dim2": -0.676301121711731
         },
         {
          "class": 0,
          "dim1": 2.785872459411621,
          "dim2": 0.7393730282783508
         },
         {
          "class": 0,
          "dim1": 1.7844828367233276,
          "dim2": 1.414063811302185
         },
         {
          "class": 3,
          "dim1": -12.91080093383789,
          "dim2": -1.8040674924850464
         },
         {
          "class": 2,
          "dim1": -1.036704659461975,
          "dim2": -2.0941061973571777
         },
         {
          "class": 0,
          "dim1": 5.527931213378906,
          "dim2": 2.134963035583496
         },
         {
          "class": 0,
          "dim1": 3.8452823162078857,
          "dim2": 5.3489556312561035
         },
         {
          "class": 2,
          "dim1": 7.451287746429443,
          "dim2": -4.861894130706787
         },
         {
          "class": 1,
          "dim1": 2.6537375450134277,
          "dim2": -12.823143005371094
         },
         {
          "class": 1,
          "dim1": 1.6148433685302734,
          "dim2": -12.334587097167969
         },
         {
          "class": 2,
          "dim1": -6.8622565269470215,
          "dim2": 7.823322772979736
         },
         {
          "class": 0,
          "dim1": -2.753840684890747,
          "dim2": 1.2622225284576416
         },
         {
          "class": 0,
          "dim1": 3.816410779953003,
          "dim2": 4.610034465789795
         },
         {
          "class": 2,
          "dim1": -3.2196409702301025,
          "dim2": 7.3068413734436035
         },
         {
          "class": 1,
          "dim1": 3.132021427154541,
          "dim2": -13.1781644821167
         },
         {
          "class": 2,
          "dim1": -6.66893196105957,
          "dim2": 8.089611053466797
         },
         {
          "class": 3,
          "dim1": -11.266240119934082,
          "dim2": -2.5070114135742188
         },
         {
          "class": 0,
          "dim1": 6.028026103973389,
          "dim2": 0.9985328316688538
         },
         {
          "class": 1,
          "dim1": 0.9175148606300354,
          "dim2": -11.782883644104004
         },
         {
          "class": 0,
          "dim1": 0.3368394672870636,
          "dim2": 0.5611032247543335
         },
         {
          "class": 0,
          "dim1": 8.845502853393555,
          "dim2": 3.44048810005188
         },
         {
          "class": 0,
          "dim1": 3.0639941692352295,
          "dim2": 2.491482973098755
         },
         {
          "class": 0,
          "dim1": 7.2523298263549805,
          "dim2": 6.64015531539917
         },
         {
          "class": 3,
          "dim1": -11.871644973754883,
          "dim2": -1.6148231029510498
         },
         {
          "class": 0,
          "dim1": 1.7991235256195068,
          "dim2": 4.274268627166748
         },
         {
          "class": 3,
          "dim1": -10.949225425720215,
          "dim2": -3.5364394187927246
         },
         {
          "class": 1,
          "dim1": 2.099400043487549,
          "dim2": -13.319785118103027
         },
         {
          "class": 0,
          "dim1": 4.626204490661621,
          "dim2": 0.406396746635437
         },
         {
          "class": 0,
          "dim1": -0.219569131731987,
          "dim2": -0.4376577138900757
         },
         {
          "class": 0,
          "dim1": -0.5776562690734863,
          "dim2": -1.486786961555481
         },
         {
          "class": 0,
          "dim1": 5.178630352020264,
          "dim2": 4.912264823913574
         },
         {
          "class": 0,
          "dim1": 7.331719398498535,
          "dim2": 6.613219261169434
         },
         {
          "class": 0,
          "dim1": 8.513343811035156,
          "dim2": 5.741045951843262
         },
         {
          "class": 1,
          "dim1": -2.3969316482543945,
          "dim2": 12.058835983276367
         },
         {
          "class": 1,
          "dim1": 2.8106446266174316,
          "dim2": -13.597373962402344
         },
         {
          "class": 2,
          "dim1": -2.659701108932495,
          "dim2": -7.488681793212891
         },
         {
          "class": 1,
          "dim1": -2.753749132156372,
          "dim2": 11.739221572875977
         },
         {
          "class": 0,
          "dim1": 8.306307792663574,
          "dim2": 2.726750373840332
         },
         {
          "class": 0,
          "dim1": -1.51852285861969,
          "dim2": 1.6089292764663696
         },
         {
          "class": 3,
          "dim1": -12.323089599609375,
          "dim2": -1.8513818979263306
         },
         {
          "class": 0,
          "dim1": 1.1125025749206543,
          "dim2": -0.291288822889328
         },
         {
          "class": 3,
          "dim1": -12.458765029907227,
          "dim2": -1.7039209604263306
         },
         {
          "class": 1,
          "dim1": 3.905893564224243,
          "dim2": -12.844008445739746
         },
         {
          "class": 3,
          "dim1": -11.884023666381836,
          "dim2": -2.9347152709960938
         },
         {
          "class": 0,
          "dim1": 4.746768951416016,
          "dim2": 3.6202340126037598
         },
         {
          "class": 0,
          "dim1": 6.532956123352051,
          "dim2": 4.530717849731445
         },
         {
          "class": 0,
          "dim1": 8.139822006225586,
          "dim2": 5.156766414642334
         },
         {
          "class": 0,
          "dim1": -2.6713483333587646,
          "dim2": 1.2811188697814941
         },
         {
          "class": 3,
          "dim1": -11.918651580810547,
          "dim2": 0.4917803704738617
         },
         {
          "class": 0,
          "dim1": -0.17073626816272736,
          "dim2": 1.936867117881775
         },
         {
          "class": 0,
          "dim1": -1.0621025562286377,
          "dim2": 0.3181031048297882
         },
         {
          "class": 0,
          "dim1": 0.9918199181556702,
          "dim2": 2.0350375175476074
         },
         {
          "class": 2,
          "dim1": -7.0622453689575195,
          "dim2": 7.063629150390625
         },
         {
          "class": 0,
          "dim1": 0.31193143129348755,
          "dim2": 0.5367301106452942
         },
         {
          "class": 1,
          "dim1": -2.9761269092559814,
          "dim2": 11.504490852355957
         },
         {
          "class": 0,
          "dim1": 2.7733194828033447,
          "dim2": 0.18213212490081787
         },
         {
          "class": 0,
          "dim1": 7.167144775390625,
          "dim2": 1.9017266035079956
         },
         {
          "class": 0,
          "dim1": 5.819628715515137,
          "dim2": 4.15274715423584
         },
         {
          "class": 0,
          "dim1": 1.562380075454712,
          "dim2": 1.116944670677185
         },
         {
          "class": 2,
          "dim1": -3.5861687660217285,
          "dim2": -7.400196075439453
         },
         {
          "class": 1,
          "dim1": 4.4141387939453125,
          "dim2": -12.612268447875977
         },
         {
          "class": 0,
          "dim1": 5.297896862030029,
          "dim2": 0.6773542761802673
         },
         {
          "class": 2,
          "dim1": 3.7287049293518066,
          "dim2": -0.540825605392456
         },
         {
          "class": 1,
          "dim1": -0.6316147446632385,
          "dim2": -3.4320671558380127
         },
         {
          "class": 1,
          "dim1": 1.7816569805145264,
          "dim2": -11.939484596252441
         },
         {
          "class": 0,
          "dim1": 8.33195972442627,
          "dim2": 3.8039333820343018
         },
         {
          "class": 1,
          "dim1": 4.014833927154541,
          "dim2": -13.010257720947266
         },
         {
          "class": 0,
          "dim1": -1.6708043813705444,
          "dim2": -0.0596880242228508
         },
         {
          "class": 0,
          "dim1": 6.1677775382995605,
          "dim2": 4.142216682434082
         },
         {
          "class": 0,
          "dim1": 2.717904806137085,
          "dim2": 2.087552785873413
         },
         {
          "class": 3,
          "dim1": -11.186322212219238,
          "dim2": -2.4127633571624756
         },
         {
          "class": 0,
          "dim1": 4.393802642822266,
          "dim2": 0.7078142166137695
         },
         {
          "class": 0,
          "dim1": -3.0115160942077637,
          "dim2": 0.27469924092292786
         },
         {
          "class": 0,
          "dim1": 2.068942070007324,
          "dim2": 1.3144086599349976
         },
         {
          "class": 0,
          "dim1": -2.4327125549316406,
          "dim2": -1.0500699281692505
         },
         {
          "class": 0,
          "dim1": 7.960694789886475,
          "dim2": 4.272410869598389
         },
         {
          "class": 2,
          "dim1": 7.0471343994140625,
          "dim2": -5.484999179840088
         },
         {
          "class": 0,
          "dim1": 2.197378635406494,
          "dim2": 4.188331127166748
         },
         {
          "class": 0,
          "dim1": -4.090404987335205,
          "dim2": -0.33237671852111816
         },
         {
          "class": 0,
          "dim1": -0.42229846119880676,
          "dim2": 1.278195858001709
         },
         {
          "class": 2,
          "dim1": -3.37506103515625,
          "dim2": -7.1992387771606445
         },
         {
          "class": 2,
          "dim1": 8.001976013183594,
          "dim2": -5.49166202545166
         },
         {
          "class": 0,
          "dim1": 3.4942054748535156,
          "dim2": 3.0630340576171875
         },
         {
          "class": 0,
          "dim1": 1.185956358909607,
          "dim2": 2.3165528774261475
         },
         {
          "class": 2,
          "dim1": -0.9645258188247681,
          "dim2": 2.1940765380859375
         },
         {
          "class": 1,
          "dim1": 0.7226201891899109,
          "dim2": -12.105815887451172
         },
         {
          "class": 0,
          "dim1": 6.319211959838867,
          "dim2": 5.33925724029541
         },
         {
          "class": 3,
          "dim1": -12.085779190063477,
          "dim2": 0.2091466188430786
         },
         {
          "class": 0,
          "dim1": 2.280069351196289,
          "dim2": 4.006155490875244
         },
         {
          "class": 1,
          "dim1": -0.07333690673112869,
          "dim2": -0.053976234048604965
         },
         {
          "class": 0,
          "dim1": 7.824666500091553,
          "dim2": 3.656100273132324
         },
         {
          "class": 3,
          "dim1": -12.966829299926758,
          "dim2": -1.7127556800842285
         },
         {
          "class": 3,
          "dim1": -4.574306488037109,
          "dim2": -2.4659323692321777
         },
         {
          "class": 1,
          "dim1": -4.7425031661987305,
          "dim2": 11.180331230163574
         },
         {
          "class": 0,
          "dim1": 8.108628273010254,
          "dim2": 3.4385828971862793
         },
         {
          "class": 0,
          "dim1": -10.78056812286377,
          "dim2": -1.2359776496887207
         },
         {
          "class": 1,
          "dim1": -3.60263991355896,
          "dim2": 11.982319831848145
         },
         {
          "class": 3,
          "dim1": -11.94485855102539,
          "dim2": 0.10879665613174438
         },
         {
          "class": 1,
          "dim1": 1.1235426664352417,
          "dim2": -12.307250022888184
         },
         {
          "class": 0,
          "dim1": 2.3261454105377197,
          "dim2": 2.8622779846191406
         },
         {
          "class": 2,
          "dim1": -3.3276355266571045,
          "dim2": 7.59227991104126
         },
         {
          "class": 0,
          "dim1": -0.30236437916755676,
          "dim2": -1.4018535614013672
         },
         {
          "class": 0,
          "dim1": 6.433935642242432,
          "dim2": 3.5850234031677246
         },
         {
          "class": 0,
          "dim1": 6.058483600616455,
          "dim2": 4.5215678215026855
         },
         {
          "class": 0,
          "dim1": -1.355330467224121,
          "dim2": -0.6621168255805969
         },
         {
          "class": 0,
          "dim1": 4.092136383056641,
          "dim2": 3.3268284797668457
         },
         {
          "class": 2,
          "dim1": 6.890817642211914,
          "dim2": -6.421575546264648
         },
         {
          "class": 2,
          "dim1": 6.379920959472656,
          "dim2": -6.85573148727417
         },
         {
          "class": 2,
          "dim1": -6.785019874572754,
          "dim2": 7.898715496063232
         },
         {
          "class": 0,
          "dim1": 1.8929994106292725,
          "dim2": 1.1511753797531128
         },
         {
          "class": 2,
          "dim1": -1.4190491437911987,
          "dim2": -7.9535956382751465
         },
         {
          "class": 1,
          "dim1": -0.63218092918396,
          "dim2": -3.410144805908203
         },
         {
          "class": 3,
          "dim1": -12.327150344848633,
          "dim2": -3.0633461475372314
         },
         {
          "class": 0,
          "dim1": 7.185371398925781,
          "dim2": 3.486806631088257
         },
         {
          "class": 0,
          "dim1": 5.173215389251709,
          "dim2": 3.385798215866089
         },
         {
          "class": 2,
          "dim1": -7.240666389465332,
          "dim2": 7.239766597747803
         },
         {
          "class": 2,
          "dim1": -7.1595964431762695,
          "dim2": 7.308221340179443
         },
         {
          "class": 0,
          "dim1": -1.8333834409713745,
          "dim2": -1.1537808179855347
         },
         {
          "class": 0,
          "dim1": 3.732851266860962,
          "dim2": 1.1986509561538696
         },
         {
          "class": 0,
          "dim1": -1.6660243272781372,
          "dim2": -0.891909122467041
         },
         {
          "class": 0,
          "dim1": 4.140187740325928,
          "dim2": 3.9368085861206055
         },
         {
          "class": 0,
          "dim1": 4.5790510177612305,
          "dim2": 1.0077890157699585
         },
         {
          "class": 0,
          "dim1": -1.6632007360458374,
          "dim2": -0.7720819115638733
         },
         {
          "class": 2,
          "dim1": 6.6586456298828125,
          "dim2": -6.173616886138916
         },
         {
          "class": 0,
          "dim1": 6.388715744018555,
          "dim2": 5.449824810028076
         },
         {
          "class": 0,
          "dim1": 3.355208158493042,
          "dim2": 4.0753254890441895
         },
         {
          "class": 0,
          "dim1": -1.5046206712722778,
          "dim2": -1.55607008934021
         },
         {
          "class": 0,
          "dim1": -4.5577216148376465,
          "dim2": -1.8959366083145142
         },
         {
          "class": 2,
          "dim1": 6.811770439147949,
          "dim2": -6.89589786529541
         },
         {
          "class": 0,
          "dim1": 4.346190452575684,
          "dim2": -0.42836862802505493
         },
         {
          "class": 3,
          "dim1": -11.197803497314453,
          "dim2": 0.0920850932598114
         },
         {
          "class": 2,
          "dim1": -1.4753797054290771,
          "dim2": -2.3281197547912598
         },
         {
          "class": 2,
          "dim1": -1.1653474569320679,
          "dim2": -7.745157718658447
         },
         {
          "class": 3,
          "dim1": -13.282563209533691,
          "dim2": -1.0187981128692627
         },
         {
          "class": 0,
          "dim1": 3.888068437576294,
          "dim2": 4.80425500869751
         },
         {
          "class": 3,
          "dim1": -12.790327072143555,
          "dim2": -3.3605751991271973
         },
         {
          "class": 3,
          "dim1": -11.453385353088379,
          "dim2": -3.84887433052063
         },
         {
          "class": 0,
          "dim1": 2.8202831745147705,
          "dim2": -0.14327384531497955
         },
         {
          "class": 2,
          "dim1": -3.0456182956695557,
          "dim2": 7.672397613525391
         },
         {
          "class": 3,
          "dim1": -12.181636810302734,
          "dim2": -0.9658693075180054
         },
         {
          "class": 0,
          "dim1": -1.9542169570922852,
          "dim2": 0.23217856884002686
         },
         {
          "class": 0,
          "dim1": -1.488737940788269,
          "dim2": 2.1166937351226807
         },
         {
          "class": 2,
          "dim1": -1.0806940793991089,
          "dim2": -8.14192008972168
         },
         {
          "class": 0,
          "dim1": -1.451693058013916,
          "dim2": -1.6244653463363647
         },
         {
          "class": 0,
          "dim1": -0.2111160159111023,
          "dim2": -0.562446653842926
         },
         {
          "class": 2,
          "dim1": 5.5044379234313965,
          "dim2": 0.7558587193489075
         },
         {
          "class": 2,
          "dim1": 6.076106071472168,
          "dim2": -7.039777755737305
         },
         {
          "class": 0,
          "dim1": -0.3766147494316101,
          "dim2": 0.2756412923336029
         },
         {
          "class": 0,
          "dim1": 6.909123420715332,
          "dim2": 3.9863390922546387
         },
         {
          "class": 0,
          "dim1": 6.737611770629883,
          "dim2": 4.5804948806762695
         },
         {
          "class": 0,
          "dim1": -0.004702643491327763,
          "dim2": 1.0212658643722534
         },
         {
          "class": 0,
          "dim1": -3.0199480056762695,
          "dim2": -1.3902517557144165
         },
         {
          "class": 0,
          "dim1": 3.352604866027832,
          "dim2": 3.3271234035491943
         },
         {
          "class": 0,
          "dim1": 2.9477570056915283,
          "dim2": 3.0304062366485596
         },
         {
          "class": 1,
          "dim1": -3.1071226596832275,
          "dim2": 12.163084983825684
         },
         {
          "class": 0,
          "dim1": 1.4920769929885864,
          "dim2": 1.8914175033569336
         },
         {
          "class": 1,
          "dim1": -2.426130771636963,
          "dim2": 9.716876983642578
         },
         {
          "class": 2,
          "dim1": -6.778504371643066,
          "dim2": 6.8384552001953125
         },
         {
          "class": 1,
          "dim1": 3.17252254486084,
          "dim2": -13.597431182861328
         },
         {
          "class": 2,
          "dim1": 6.812464714050293,
          "dim2": -5.816150188446045
         },
         {
          "class": 2,
          "dim1": -7.147049903869629,
          "dim2": 6.855035781860352
         },
         {
          "class": 0,
          "dim1": 2.4564287662506104,
          "dim2": 3.103619337081909
         },
         {
          "class": 0,
          "dim1": -0.36106398701667786,
          "dim2": 1.8183605670928955
         },
         {
          "class": 0,
          "dim1": -1.3828363418579102,
          "dim2": -2.053764581680298
         },
         {
          "class": 2,
          "dim1": -2.0259523391723633,
          "dim2": -7.491578102111816
         },
         {
          "class": 0,
          "dim1": 4.7478556632995605,
          "dim2": 0.9100932478904724
         },
         {
          "class": 0,
          "dim1": -4.402703762054443,
          "dim2": -1.616781234741211
         },
         {
          "class": 0,
          "dim1": 0.6542527079582214,
          "dim2": 0.21296600997447968
         },
         {
          "class": 0,
          "dim1": 2.5677671432495117,
          "dim2": 0.8418182134628296
         },
         {
          "class": 2,
          "dim1": -3.1262590885162354,
          "dim2": 7.378736972808838
         },
         {
          "class": 2,
          "dim1": 7.823508262634277,
          "dim2": -5.201483249664307
         },
         {
          "class": 0,
          "dim1": -0.22160719335079193,
          "dim2": 1.176200270652771
         },
         {
          "class": 0,
          "dim1": 6.4304962158203125,
          "dim2": 4.889947891235352
         },
         {
          "class": 0,
          "dim1": 4.430085182189941,
          "dim2": 3.4893617630004883
         },
         {
          "class": 0,
          "dim1": -1.2016626596450806,
          "dim2": 2.1165452003479004
         },
         {
          "class": 2,
          "dim1": -2.9704091548919678,
          "dim2": -1.9636101722717285
         },
         {
          "class": 3,
          "dim1": -12.769156455993652,
          "dim2": -2.7088847160339355
         },
         {
          "class": 0,
          "dim1": -1.1475471258163452,
          "dim2": -0.3146212100982666
         },
         {
          "class": 2,
          "dim1": -2.9245986938476562,
          "dim2": 7.087255477905273
         },
         {
          "class": 2,
          "dim1": -1.3512887954711914,
          "dim2": -7.697072982788086
         },
         {
          "class": 0,
          "dim1": -1.7599033117294312,
          "dim2": -0.5889139771461487
         },
         {
          "class": 3,
          "dim1": -10.589613914489746,
          "dim2": 0.6664813160896301
         },
         {
          "class": 1,
          "dim1": 4.252615451812744,
          "dim2": -12.465652465820312
         },
         {
          "class": 1,
          "dim1": 4.8672027587890625,
          "dim2": -12.18082332611084
         },
         {
          "class": 1,
          "dim1": 0.7866600751876831,
          "dim2": -11.688282012939453
         },
         {
          "class": 3,
          "dim1": -11.138345718383789,
          "dim2": 0.2424193173646927
         },
         {
          "class": 0,
          "dim1": 2.7982399463653564,
          "dim2": 2.3125932216644287
         },
         {
          "class": 0,
          "dim1": -2.193333864212036,
          "dim2": -1.3075921535491943
         },
         {
          "class": 0,
          "dim1": 8.065291404724121,
          "dim2": 6.19597053527832
         },
         {
          "class": 3,
          "dim1": -12.667712211608887,
          "dim2": -1.9997795820236206
         },
         {
          "class": 1,
          "dim1": 1.2695894241333008,
          "dim2": -12.74825668334961
         },
         {
          "class": 0,
          "dim1": 8.239462852478027,
          "dim2": 2.7727456092834473
         },
         {
          "class": 1,
          "dim1": 2.687882900238037,
          "dim2": -12.966072082519531
         },
         {
          "class": 1,
          "dim1": 3.9893038272857666,
          "dim2": -12.743804931640625
         },
         {
          "class": 0,
          "dim1": -1.9918348789215088,
          "dim2": -0.585353434085846
         },
         {
          "class": 1,
          "dim1": 1.2694849967956543,
          "dim2": -11.506728172302246
         },
         {
          "class": 3,
          "dim1": -12.347386360168457,
          "dim2": -3.3740696907043457
         },
         {
          "class": 0,
          "dim1": -2.1961216926574707,
          "dim2": 1.2099393606185913
         },
         {
          "class": 0,
          "dim1": 3.2654309272766113,
          "dim2": 4.32588005065918
         },
         {
          "class": 3,
          "dim1": -10.271879196166992,
          "dim2": 0.5440645217895508
         },
         {
          "class": 0,
          "dim1": 5.675232410430908,
          "dim2": 4.1500935554504395
         },
         {
          "class": 3,
          "dim1": -13.051031112670898,
          "dim2": -1.534900426864624
         },
         {
          "class": 1,
          "dim1": -2.2183966636657715,
          "dim2": 11.000649452209473
         },
         {
          "class": 1,
          "dim1": 2.552393913269043,
          "dim2": -12.645914077758789
         },
         {
          "class": 0,
          "dim1": 6.086557388305664,
          "dim2": 3.2312679290771484
         },
         {
          "class": 0,
          "dim1": 4.100674629211426,
          "dim2": 2.9333388805389404
         },
         {
          "class": 0,
          "dim1": 3.9402923583984375,
          "dim2": 2.682749032974243
         },
         {
          "class": 0,
          "dim1": 1.6089792251586914,
          "dim2": 4.4378132820129395
         },
         {
          "class": 0,
          "dim1": 3.728198289871216,
          "dim2": 2.1889941692352295
         },
         {
          "class": 0,
          "dim1": 7.935349464416504,
          "dim2": 4.278773307800293
         },
         {
          "class": 1,
          "dim1": 1.7663062810897827,
          "dim2": -12.26574993133545
         },
         {
          "class": 3,
          "dim1": -11.15367603302002,
          "dim2": -3.682260751724243
         },
         {
          "class": 0,
          "dim1": 6.180840969085693,
          "dim2": 5.17357063293457
         },
         {
          "class": 1,
          "dim1": 1.8135417699813843,
          "dim2": -13.3002290725708
         },
         {
          "class": 2,
          "dim1": -2.182555913925171,
          "dim2": -7.320739269256592
         },
         {
          "class": 0,
          "dim1": 3.496304988861084,
          "dim2": 2.6080334186553955
         },
         {
          "class": 3,
          "dim1": -12.863256454467773,
          "dim2": -1.6291779279708862
         },
         {
          "class": 0,
          "dim1": 7.1854939460754395,
          "dim2": 5.318288326263428
         },
         {
          "class": 3,
          "dim1": -11.150590896606445,
          "dim2": 0.37689048051834106
         },
         {
          "class": 0,
          "dim1": 3.158604621887207,
          "dim2": 4.875497341156006
         },
         {
          "class": 0,
          "dim1": 1.5911210775375366,
          "dim2": 2.4192652702331543
         },
         {
          "class": 2,
          "dim1": -7.2938008308410645,
          "dim2": 7.2784647941589355
         },
         {
          "class": 0,
          "dim1": 1.1711801290512085,
          "dim2": 3.9278664588928223
         },
         {
          "class": 0,
          "dim1": 5.48651647567749,
          "dim2": 3.880561590194702
         },
         {
          "class": 0,
          "dim1": 0.030532849952578545,
          "dim2": 2.6771795749664307
         },
         {
          "class": 0,
          "dim1": 4.885347843170166,
          "dim2": 4.62465763092041
         },
         {
          "class": 0,
          "dim1": 1.21967613697052,
          "dim2": 3.3382365703582764
         },
         {
          "class": 0,
          "dim1": -0.7869080305099487,
          "dim2": 1.4834868907928467
         },
         {
          "class": 0,
          "dim1": 8.56949234008789,
          "dim2": 3.0435447692871094
         },
         {
          "class": 1,
          "dim1": -0.7993478178977966,
          "dim2": -7.5832037925720215
         },
         {
          "class": 0,
          "dim1": -2.0635273456573486,
          "dim2": 0.8633737564086914
         },
         {
          "class": 0,
          "dim1": 0.4342077076435089,
          "dim2": 0.11018724739551544
         },
         {
          "class": 0,
          "dim1": -0.0949777141213417,
          "dim2": 1.9648051261901855
         },
         {
          "class": 2,
          "dim1": -7.002799987792969,
          "dim2": 7.7491536140441895
         },
         {
          "class": 0,
          "dim1": 3.3541038036346436,
          "dim2": 4.104443073272705
         },
         {
          "class": 0,
          "dim1": 1.3471605777740479,
          "dim2": 1.2724236249923706
         },
         {
          "class": 0,
          "dim1": -3.3552403450012207,
          "dim2": -0.404339462518692
         },
         {
          "class": 1,
          "dim1": -2.3205692768096924,
          "dim2": 10.949739456176758
         },
         {
          "class": 0,
          "dim1": 2.1117959022521973,
          "dim2": 2.7470932006835938
         },
         {
          "class": 0,
          "dim1": 4.225519180297852,
          "dim2": 3.803605794906616
         },
         {
          "class": 1,
          "dim1": 2.6054012775421143,
          "dim2": -12.985170364379883
         },
         {
          "class": 1,
          "dim1": 0.5963756442070007,
          "dim2": -10.789664268493652
         },
         {
          "class": 1,
          "dim1": 2.1897175312042236,
          "dim2": -13.488669395446777
         },
         {
          "class": 1,
          "dim1": 4.920078277587891,
          "dim2": -11.962544441223145
         },
         {
          "class": 3,
          "dim1": -11.95992374420166,
          "dim2": -1.784049391746521
         },
         {
          "class": 2,
          "dim1": -2.735584259033203,
          "dim2": -7.466403961181641
         },
         {
          "class": 1,
          "dim1": 1.866495966911316,
          "dim2": -12.528092384338379
         },
         {
          "class": 1,
          "dim1": 4.656313419342041,
          "dim2": -12.40108871459961
         },
         {
          "class": 2,
          "dim1": 7.928483963012695,
          "dim2": -5.896140098571777
         },
         {
          "class": 3,
          "dim1": -10.993130683898926,
          "dim2": -3.7563555240631104
         },
         {
          "class": 0,
          "dim1": 0.612113893032074,
          "dim2": 0.1653202772140503
         },
         {
          "class": 2,
          "dim1": 7.150611877441406,
          "dim2": -6.731380939483643
         },
         {
          "class": 0,
          "dim1": 5.091507434844971,
          "dim2": 1.7764848470687866
         },
         {
          "class": 1,
          "dim1": -2.4304258823394775,
          "dim2": 11.499041557312012
         },
         {
          "class": 0,
          "dim1": 6.811882495880127,
          "dim2": 5.706813812255859
         },
         {
          "class": 0,
          "dim1": 1.2015135288238525,
          "dim2": -0.36846280097961426
         },
         {
          "class": 0,
          "dim1": 4.49281120300293,
          "dim2": 3.6017568111419678
         },
         {
          "class": 2,
          "dim1": 7.582211971282959,
          "dim2": -6.3554606437683105
         },
         {
          "class": 1,
          "dim1": 3.5105273723602295,
          "dim2": -12.23127555847168
         },
         {
          "class": 0,
          "dim1": 4.4931840896606445,
          "dim2": 4.061870574951172
         },
         {
          "class": 3,
          "dim1": -12.857294082641602,
          "dim2": -0.5501459240913391
         },
         {
          "class": 0,
          "dim1": -1.6658698320388794,
          "dim2": -0.15945257246494293
         },
         {
          "class": 0,
          "dim1": 7.094318389892578,
          "dim2": 3.9059977531433105
         },
         {
          "class": 0,
          "dim1": 1.1783373355865479,
          "dim2": 1.7096025943756104
         },
         {
          "class": 0,
          "dim1": -1.046093463897705,
          "dim2": -1.110775113105774
         },
         {
          "class": 3,
          "dim1": -11.189208030700684,
          "dim2": 1.0022141933441162
         },
         {
          "class": 1,
          "dim1": -3.650721788406372,
          "dim2": 11.656448364257812
         },
         {
          "class": 3,
          "dim1": -11.29973030090332,
          "dim2": -3.271243095397949
         },
         {
          "class": 0,
          "dim1": 1.6726700067520142,
          "dim2": 2.1362810134887695
         },
         {
          "class": 0,
          "dim1": 0.4547557532787323,
          "dim2": 0.09709998965263367
         },
         {
          "class": 2,
          "dim1": 5.9713029861450195,
          "dim2": -6.981958866119385
         },
         {
          "class": 0,
          "dim1": 6.139935493469238,
          "dim2": 1.5961408615112305
         },
         {
          "class": 2,
          "dim1": 7.792980194091797,
          "dim2": -5.943692684173584
         },
         {
          "class": 0,
          "dim1": 3.4935853481292725,
          "dim2": 1.1032341718673706
         },
         {
          "class": 0,
          "dim1": 1.4215835332870483,
          "dim2": 3.976875066757202
         },
         {
          "class": 0,
          "dim1": 0.5637109875679016,
          "dim2": -1.0803552865982056
         },
         {
          "class": 0,
          "dim1": -0.5805689096450806,
          "dim2": -2.898756742477417
         },
         {
          "class": 0,
          "dim1": 3.5654289722442627,
          "dim2": 5.250827789306641
         },
         {
          "class": 1,
          "dim1": 1.925614595413208,
          "dim2": -13.457005500793457
         },
         {
          "class": 0,
          "dim1": 2.6838176250457764,
          "dim2": 4.4309797286987305
         },
         {
          "class": 2,
          "dim1": -7.105942726135254,
          "dim2": 7.6272382736206055
         },
         {
          "class": 0,
          "dim1": 6.38136625289917,
          "dim2": 4.087901592254639
         },
         {
          "class": 3,
          "dim1": -4.484901428222656,
          "dim2": -1.6947605609893799
         },
         {
          "class": 0,
          "dim1": -2.784245014190674,
          "dim2": 0.07231412082910538
         },
         {
          "class": 3,
          "dim1": -2.7554867267608643,
          "dim2": 0.9187808036804199
         },
         {
          "class": 0,
          "dim1": -0.17751386761665344,
          "dim2": 1.3307451009750366
         },
         {
          "class": 1,
          "dim1": 0.6799750328063965,
          "dim2": -12.010769844055176
         },
         {
          "class": 2,
          "dim1": 7.709100246429443,
          "dim2": -6.48093318939209
         },
         {
          "class": 1,
          "dim1": -4.059641361236572,
          "dim2": 11.736692428588867
         },
         {
          "class": 1,
          "dim1": -3.8669536113739014,
          "dim2": 11.72716236114502
         },
         {
          "class": 0,
          "dim1": 7.177887439727783,
          "dim2": 5.1159749031066895
         },
         {
          "class": 1,
          "dim1": -3.3787271976470947,
          "dim2": 11.653840065002441
         },
         {
          "class": 0,
          "dim1": -1.2296854257583618,
          "dim2": -0.6043173670768738
         },
         {
          "class": 2,
          "dim1": -3.303454637527466,
          "dim2": -6.474652290344238
         },
         {
          "class": 1,
          "dim1": 3.7914211750030518,
          "dim2": -12.391830444335938
         },
         {
          "class": 2,
          "dim1": -3.276366710662842,
          "dim2": 7.676229000091553
         },
         {
          "class": 1,
          "dim1": 2.86108136177063,
          "dim2": -13.649602890014648
         },
         {
          "class": 0,
          "dim1": 7.347562313079834,
          "dim2": 5.25494909286499
         },
         {
          "class": 1,
          "dim1": 0.9070236086845398,
          "dim2": -11.161311149597168
         },
         {
          "class": 0,
          "dim1": 7.086353778839111,
          "dim2": 4.949954986572266
         },
         {
          "class": 0,
          "dim1": 7.387418746948242,
          "dim2": 6.5991530418396
         },
         {
          "class": 0,
          "dim1": -0.6629278063774109,
          "dim2": -3.159444808959961
         },
         {
          "class": 0,
          "dim1": 6.910710334777832,
          "dim2": 5.4935150146484375
         },
         {
          "class": 0,
          "dim1": 4.635453224182129,
          "dim2": 1.083940863609314
         },
         {
          "class": 0,
          "dim1": 7.409149169921875,
          "dim2": 4.597127914428711
         },
         {
          "class": 0,
          "dim1": -1.8253909349441528,
          "dim2": 2.2617979049682617
         },
         {
          "class": 3,
          "dim1": -11.85315227508545,
          "dim2": -0.5168015956878662
         },
         {
          "class": 0,
          "dim1": 1.537581205368042,
          "dim2": 0.10909266024827957
         },
         {
          "class": 3,
          "dim1": -4.491526126861572,
          "dim2": -1.7681419849395752
         },
         {
          "class": 0,
          "dim1": -2.1838788986206055,
          "dim2": 0.44138026237487793
         },
         {
          "class": 0,
          "dim1": 4.241153240203857,
          "dim2": 1.9011489152908325
         },
         {
          "class": 3,
          "dim1": -10.349902153015137,
          "dim2": 0.7276540398597717
         },
         {
          "class": 0,
          "dim1": 7.513955116271973,
          "dim2": 2.2751119136810303
         },
         {
          "class": 0,
          "dim1": 8.19722843170166,
          "dim2": 3.3181896209716797
         },
         {
          "class": 3,
          "dim1": -12.423900604248047,
          "dim2": -3.4951493740081787
         },
         {
          "class": 1,
          "dim1": 1.5274728536605835,
          "dim2": -12.595142364501953
         },
         {
          "class": 3,
          "dim1": -11.660405158996582,
          "dim2": 0.28484851121902466
         },
         {
          "class": 1,
          "dim1": 5.003823280334473,
          "dim2": -11.694879531860352
         },
         {
          "class": 2,
          "dim1": -3.314358711242676,
          "dim2": -7.359730243682861
         },
         {
          "class": 0,
          "dim1": 4.011909484863281,
          "dim2": 2.00637149810791
         },
         {
          "class": 2,
          "dim1": -3.0470261573791504,
          "dim2": 8.697664260864258
         },
         {
          "class": 0,
          "dim1": -3.5527749061584473,
          "dim2": -1.3395951986312866
         },
         {
          "class": 0,
          "dim1": 5.654764652252197,
          "dim2": 2.8797595500946045
         },
         {
          "class": 0,
          "dim1": 4.516852378845215,
          "dim2": 2.7940876483917236
         },
         {
          "class": 1,
          "dim1": -2.2723824977874756,
          "dim2": 11.387856483459473
         },
         {
          "class": 3,
          "dim1": -10.45838451385498,
          "dim2": 0.787611722946167
         },
         {
          "class": 3,
          "dim1": -3.4516968727111816,
          "dim2": -1.7354224920272827
         },
         {
          "class": 0,
          "dim1": 7.153367042541504,
          "dim2": 5.324746608734131
         },
         {
          "class": 0,
          "dim1": 2.2739295959472656,
          "dim2": 1.3978668451309204
         },
         {
          "class": 3,
          "dim1": -11.180683135986328,
          "dim2": -3.4733664989471436
         },
         {
          "class": 0,
          "dim1": -3.263857841491699,
          "dim2": -1.8085346221923828
         },
         {
          "class": 3,
          "dim1": -11.165501594543457,
          "dim2": -0.006976209115236998
         },
         {
          "class": 0,
          "dim1": -1.3689805269241333,
          "dim2": 1.876682996749878
         },
         {
          "class": 0,
          "dim1": 1.1315730810165405,
          "dim2": 1.24497652053833
         },
         {
          "class": 3,
          "dim1": -12.19706916809082,
          "dim2": 0.2082594335079193
         },
         {
          "class": 3,
          "dim1": -13.169543266296387,
          "dim2": -1.5058183670043945
         },
         {
          "class": 0,
          "dim1": 3.219481945037842,
          "dim2": 3.1115121841430664
         },
         {
          "class": 2,
          "dim1": 7.2582526206970215,
          "dim2": -6.5445942878723145
         },
         {
          "class": 0,
          "dim1": 3.8168838024139404,
          "dim2": 1.771540641784668
         },
         {
          "class": 1,
          "dim1": -2.4663352966308594,
          "dim2": 12.065155029296875
         },
         {
          "class": 3,
          "dim1": -11.718125343322754,
          "dim2": -2.6432008743286133
         },
         {
          "class": 0,
          "dim1": 5.290112495422363,
          "dim2": 2.405341863632202
         },
         {
          "class": 1,
          "dim1": 3.9049031734466553,
          "dim2": -12.753079414367676
         },
         {
          "class": 0,
          "dim1": 2.8621814250946045,
          "dim2": 1.4862439632415771
         },
         {
          "class": 3,
          "dim1": -11.973793029785156,
          "dim2": -1.7926570177078247
         },
         {
          "class": 3,
          "dim1": -10.381915092468262,
          "dim2": -3.4518189430236816
         },
         {
          "class": 0,
          "dim1": -1.004433512687683,
          "dim2": -1.1078259944915771
         },
         {
          "class": 0,
          "dim1": 1.547753095626831,
          "dim2": -0.44100672006607056
         },
         {
          "class": 0,
          "dim1": 0.2619698643684387,
          "dim2": 2.922820568084717
         },
         {
          "class": 0,
          "dim1": -0.46338748931884766,
          "dim2": 1.2117350101470947
         },
         {
          "class": 0,
          "dim1": -1.5995718240737915,
          "dim2": -2.262465476989746
         },
         {
          "class": 3,
          "dim1": -11.186854362487793,
          "dim2": 0.2747543454170227
         },
         {
          "class": 1,
          "dim1": 3.9767255783081055,
          "dim2": -12.710168838500977
         },
         {
          "class": 0,
          "dim1": 0.6620129942893982,
          "dim2": 0.6417189836502075
         },
         {
          "class": 0,
          "dim1": 2.4443199634552,
          "dim2": 3.3206725120544434
         },
         {
          "class": 2,
          "dim1": 7.555820465087891,
          "dim2": -5.106103420257568
         },
         {
          "class": 0,
          "dim1": 7.530848503112793,
          "dim2": 5.749136447906494
         },
         {
          "class": 1,
          "dim1": 3.2984814643859863,
          "dim2": 1.6501625776290894
         },
         {
          "class": 0,
          "dim1": 3.0798702239990234,
          "dim2": 0.34456342458724976
         },
         {
          "class": 3,
          "dim1": -11.797162055969238,
          "dim2": -2.351254463195801
         },
         {
          "class": 1,
          "dim1": 1.268673300743103,
          "dim2": -11.609648704528809
         },
         {
          "class": 0,
          "dim1": 6.6853413581848145,
          "dim2": 5.263842582702637
         },
         {
          "class": 1,
          "dim1": -2.25443959236145,
          "dim2": 11.078047752380371
         },
         {
          "class": 0,
          "dim1": -2.879981279373169,
          "dim2": 0.13857226073741913
         },
         {
          "class": 0,
          "dim1": -0.18704353272914886,
          "dim2": -0.3636523485183716
         },
         {
          "class": 0,
          "dim1": 7.544698238372803,
          "dim2": 6.6551737785339355
         },
         {
          "class": 3,
          "dim1": -11.115769386291504,
          "dim2": -2.843730926513672
         },
         {
          "class": 0,
          "dim1": 3.7427713871002197,
          "dim2": 2.122021198272705
         },
         {
          "class": 3,
          "dim1": -10.903508186340332,
          "dim2": -2.886739492416382
         },
         {
          "class": 1,
          "dim1": -2.1784327030181885,
          "dim2": 6.81602668762207
         },
         {
          "class": 0,
          "dim1": 2.3041460514068604,
          "dim2": 4.189413070678711
         },
         {
          "class": 0,
          "dim1": -2.593609094619751,
          "dim2": 0.16372832655906677
         },
         {
          "class": 0,
          "dim1": -2.068969488143921,
          "dim2": -0.5001222491264343
         },
         {
          "class": 3,
          "dim1": -11.19526195526123,
          "dim2": -0.4123462736606598
         },
         {
          "class": 0,
          "dim1": 4.211220741271973,
          "dim2": 1.7625975608825684
         },
         {
          "class": 0,
          "dim1": 7.533931255340576,
          "dim2": 5.277305603027344
         },
         {
          "class": 1,
          "dim1": 3.6080708503723145,
          "dim2": -13.125510215759277
         },
         {
          "class": 0,
          "dim1": 0.37042728066444397,
          "dim2": 1.160915732383728
         },
         {
          "class": 3,
          "dim1": -11.572539329528809,
          "dim2": -0.2584892809391022
         },
         {
          "class": 0,
          "dim1": -1.57114577293396,
          "dim2": 0.03273307904601097
         },
         {
          "class": 0,
          "dim1": -1.2816029787063599,
          "dim2": -1.568877100944519
         },
         {
          "class": 0,
          "dim1": 1.1096409559249878,
          "dim2": 1.6742538213729858
         },
         {
          "class": 3,
          "dim1": -4.495215892791748,
          "dim2": -1.7109239101409912
         },
         {
          "class": 0,
          "dim1": 6.249610900878906,
          "dim2": 1.3125219345092773
         },
         {
          "class": 0,
          "dim1": 3.15692138671875,
          "dim2": 2.6112802028656006
         },
         {
          "class": 0,
          "dim1": -1.246137022972107,
          "dim2": -0.58162522315979
         },
         {
          "class": 3,
          "dim1": -11.622132301330566,
          "dim2": -3.3886725902557373
         },
         {
          "class": 0,
          "dim1": -1.6355786323547363,
          "dim2": -0.5183810591697693
         },
         {
          "class": 0,
          "dim1": 4.006691932678223,
          "dim2": -0.5032597780227661
         },
         {
          "class": 0,
          "dim1": 0.34973016381263733,
          "dim2": 1.991114616394043
         },
         {
          "class": 0,
          "dim1": -1.030106544494629,
          "dim2": 1.382209062576294
         },
         {
          "class": 2,
          "dim1": -3.148284435272217,
          "dim2": -6.329944133758545
         },
         {
          "class": 3,
          "dim1": -12.094321250915527,
          "dim2": -1.606224775314331
         },
         {
          "class": 1,
          "dim1": -2.6832339763641357,
          "dim2": -2.152691125869751
         },
         {
          "class": 0,
          "dim1": -0.10315864533185959,
          "dim2": 2.1483325958251953
         },
         {
          "class": 0,
          "dim1": 8.532644271850586,
          "dim2": 4.417476654052734
         },
         {
          "class": 2,
          "dim1": -2.1744186878204346,
          "dim2": -7.518533229827881
         },
         {
          "class": 1,
          "dim1": -2.2959201335906982,
          "dim2": 11.846867561340332
         },
         {
          "class": 0,
          "dim1": 2.537121534347534,
          "dim2": 3.760371446609497
         },
         {
          "class": 0,
          "dim1": -2.5081212520599365,
          "dim2": -1.6951377391815186
         },
         {
          "class": 0,
          "dim1": 1.5054783821105957,
          "dim2": 0.06506230682134628
         },
         {
          "class": 0,
          "dim1": -2.6034696102142334,
          "dim2": 1.7367465496063232
         },
         {
          "class": 0,
          "dim1": 2.7922275066375732,
          "dim2": 1.4901944398880005
         },
         {
          "class": 3,
          "dim1": -11.824064254760742,
          "dim2": -3.34206485748291
         },
         {
          "class": 0,
          "dim1": 7.157598495483398,
          "dim2": 2.0863449573516846
         },
         {
          "class": 1,
          "dim1": 1.4100638628005981,
          "dim2": -12.452841758728027
         },
         {
          "class": 1,
          "dim1": 1.0958256721496582,
          "dim2": -11.497025489807129
         },
         {
          "class": 0,
          "dim1": 4.334886074066162,
          "dim2": 3.0784664154052734
         },
         {
          "class": 0,
          "dim1": -1.6389219760894775,
          "dim2": -0.8246413469314575
         },
         {
          "class": 0,
          "dim1": -1.553693175315857,
          "dim2": -0.8717584609985352
         },
         {
          "class": 0,
          "dim1": -0.008391435258090496,
          "dim2": 0.01419092621654272
         },
         {
          "class": 1,
          "dim1": -2.801673650741577,
          "dim2": 11.707548141479492
         },
         {
          "class": 2,
          "dim1": 7.467563152313232,
          "dim2": -6.3730292320251465
         },
         {
          "class": 2,
          "dim1": -6.270124912261963,
          "dim2": 8.263605117797852
         },
         {
          "class": 0,
          "dim1": -1.8102173805236816,
          "dim2": 0.5630039572715759
         },
         {
          "class": 0,
          "dim1": 8.25843620300293,
          "dim2": 2.727187156677246
         },
         {
          "class": 0,
          "dim1": 4.388174533843994,
          "dim2": 3.55995774269104
         },
         {
          "class": 0,
          "dim1": 6.6844916343688965,
          "dim2": 3.5176937580108643
         },
         {
          "class": 0,
          "dim1": 4.109857082366943,
          "dim2": 2.594158172607422
         },
         {
          "class": 0,
          "dim1": 1.9572138786315918,
          "dim2": 0.28946468234062195
         },
         {
          "class": 0,
          "dim1": -1.6949646472930908,
          "dim2": 0.3123280704021454
         },
         {
          "class": 0,
          "dim1": 2.7785727977752686,
          "dim2": 2.1722395420074463
         },
         {
          "class": 1,
          "dim1": 0.9839048385620117,
          "dim2": -12.048359870910645
         },
         {
          "class": 0,
          "dim1": 1.3423354625701904,
          "dim2": 2.159693717956543
         },
         {
          "class": 2,
          "dim1": -2.4503591060638428,
          "dim2": -7.425700664520264
         },
         {
          "class": 0,
          "dim1": 5.874337673187256,
          "dim2": 4.673003196716309
         },
         {
          "class": 0,
          "dim1": -2.549787998199463,
          "dim2": 0.7430281639099121
         },
         {
          "class": 3,
          "dim1": -12.803349494934082,
          "dim2": -1.2052586078643799
         },
         {
          "class": 0,
          "dim1": -0.1924833059310913,
          "dim2": 1.3794686794281006
         },
         {
          "class": 3,
          "dim1": -12.164681434631348,
          "dim2": -0.5340684652328491
         },
         {
          "class": 0,
          "dim1": -0.05650797113776207,
          "dim2": 2.3873541355133057
         },
         {
          "class": 2,
          "dim1": 8.011393547058105,
          "dim2": -5.462155342102051
         },
         {
          "class": 3,
          "dim1": -12.978774070739746,
          "dim2": -1.2520588636398315
         },
         {
          "class": 2,
          "dim1": -2.1674273014068604,
          "dim2": -7.580704689025879
         },
         {
          "class": 0,
          "dim1": -1.9543187618255615,
          "dim2": 0.32452332973480225
         },
         {
          "class": 1,
          "dim1": 4.58116340637207,
          "dim2": -12.151237487792969
         },
         {
          "class": 0,
          "dim1": 1.418393611907959,
          "dim2": 4.369261264801025
         },
         {
          "class": 2,
          "dim1": -2.8591437339782715,
          "dim2": -7.429996967315674
         },
         {
          "class": 0,
          "dim1": 3.179152250289917,
          "dim2": 4.41477108001709
         },
         {
          "class": 0,
          "dim1": -2.6571712493896484,
          "dim2": 1.5162380933761597
         },
         {
          "class": 1,
          "dim1": 1.6985840797424316,
          "dim2": -13.181325912475586
         },
         {
          "class": 0,
          "dim1": -2.9660022258758545,
          "dim2": 0.1607956439256668
         },
         {
          "class": 1,
          "dim1": -2.3920602798461914,
          "dim2": 10.341879844665527
         },
         {
          "class": 0,
          "dim1": -0.0806070938706398,
          "dim2": -1.2427523136138916
         },
         {
          "class": 0,
          "dim1": -1.4555565118789673,
          "dim2": 2.0211071968078613
         },
         {
          "class": 0,
          "dim1": 1.9555861949920654,
          "dim2": 2.240623712539673
         },
         {
          "class": 0,
          "dim1": -1.3603705167770386,
          "dim2": -0.5281414985656738
         },
         {
          "class": 3,
          "dim1": -11.432147026062012,
          "dim2": 0.016588203608989716
         },
         {
          "class": 0,
          "dim1": 3.1922738552093506,
          "dim2": 2.0146143436431885
         },
         {
          "class": 0,
          "dim1": -1.0982959270477295,
          "dim2": -0.5025196075439453
         },
         {
          "class": 0,
          "dim1": 0.9950222969055176,
          "dim2": 1.9536519050598145
         },
         {
          "class": 1,
          "dim1": 1.2206343412399292,
          "dim2": -12.068127632141113
         },
         {
          "class": 0,
          "dim1": 5.092645168304443,
          "dim2": 2.015375852584839
         },
         {
          "class": 0,
          "dim1": 4.163204193115234,
          "dim2": 4.690403461456299
         },
         {
          "class": 3,
          "dim1": -11.218057632446289,
          "dim2": 0.4855203926563263
         },
         {
          "class": 3,
          "dim1": -12.628178596496582,
          "dim2": -2.9996910095214844
         },
         {
          "class": 0,
          "dim1": 6.020370960235596,
          "dim2": 4.30881929397583
         },
         {
          "class": 3,
          "dim1": -4.760814189910889,
          "dim2": -0.2874598205089569
         },
         {
          "class": 1,
          "dim1": 4.127729415893555,
          "dim2": -0.4715069830417633
         },
         {
          "class": 2,
          "dim1": 1.3579449653625488,
          "dim2": -0.5899381041526794
         },
         {
          "class": 2,
          "dim1": -7.242935657501221,
          "dim2": 7.218130588531494
         },
         {
          "class": 2,
          "dim1": 6.97730827331543,
          "dim2": -6.084584712982178
         },
         {
          "class": 0,
          "dim1": -2.1550965309143066,
          "dim2": -1.017447829246521
         },
         {
          "class": 1,
          "dim1": 4.109643459320068,
          "dim2": -12.089475631713867
         },
         {
          "class": 0,
          "dim1": 8.702471733093262,
          "dim2": 3.3309390544891357
         },
         {
          "class": 1,
          "dim1": -2.1977877616882324,
          "dim2": 10.913426399230957
         },
         {
          "class": 0,
          "dim1": 5.595470428466797,
          "dim2": 4.63619327545166
         },
         {
          "class": 0,
          "dim1": 5.80077600479126,
          "dim2": 4.579876899719238
         },
         {
          "class": 2,
          "dim1": -7.051401615142822,
          "dim2": 7.737151622772217
         },
         {
          "class": 2,
          "dim1": 6.6441330909729,
          "dim2": -6.726521015167236
         },
         {
          "class": 3,
          "dim1": -12.069975852966309,
          "dim2": -0.5718181133270264
         },
         {
          "class": 2,
          "dim1": -3.4777910709381104,
          "dim2": -7.102193355560303
         },
         {
          "class": 0,
          "dim1": -1.2617665529251099,
          "dim2": -0.08119833469390869
         },
         {
          "class": 1,
          "dim1": -6.691092014312744,
          "dim2": 7.683750152587891
         },
         {
          "class": 0,
          "dim1": -0.03575300797820091,
          "dim2": 0.11117386817932129
         },
         {
          "class": 2,
          "dim1": -2.895803689956665,
          "dim2": 6.969265460968018
         },
         {
          "class": 0,
          "dim1": -1.1294059753417969,
          "dim2": 1.4636927843093872
         },
         {
          "class": 0,
          "dim1": -2.178980827331543,
          "dim2": 6.468620777130127
         },
         {
          "class": 0,
          "dim1": 6.581080913543701,
          "dim2": 1.5378615856170654
         },
         {
          "class": 1,
          "dim1": 2.7894558906555176,
          "dim2": -13.267021179199219
         },
         {
          "class": 1,
          "dim1": 4.676721096038818,
          "dim2": -12.08861255645752
         },
         {
          "class": 1,
          "dim1": -2.7570955753326416,
          "dim2": 10.989205360412598
         },
         {
          "class": 1,
          "dim1": 1.2570542097091675,
          "dim2": -12.770008087158203
         },
         {
          "class": 2,
          "dim1": -2.5282490253448486,
          "dim2": -7.48828125
         },
         {
          "class": 0,
          "dim1": 2.5670812129974365,
          "dim2": 0.1137392669916153
         },
         {
          "class": 2,
          "dim1": -7.168499946594238,
          "dim2": 7.309694290161133
         },
         {
          "class": 0,
          "dim1": 8.047597885131836,
          "dim2": 2.717097759246826
         },
         {
          "class": 0,
          "dim1": 3.534522771835327,
          "dim2": 2.006596326828003
         },
         {
          "class": 0,
          "dim1": 0.8049512505531311,
          "dim2": 2.2294833660125732
         },
         {
          "class": 0,
          "dim1": -1.6451419591903687,
          "dim2": -1.7533037662506104
         },
         {
          "class": 0,
          "dim1": 2.3921310901641846,
          "dim2": 3.7244346141815186
         },
         {
          "class": 0,
          "dim1": 8.3653564453125,
          "dim2": 4.146399974822998
         },
         {
          "class": 0,
          "dim1": -3.1899564266204834,
          "dim2": -1.0465399026870728
         },
         {
          "class": 0,
          "dim1": 2.8629367351531982,
          "dim2": 2.7037508487701416
         },
         {
          "class": 2,
          "dim1": 6.920642852783203,
          "dim2": -6.830728054046631
         },
         {
          "class": 0,
          "dim1": -4.246424674987793,
          "dim2": -1.9646449089050293
         },
         {
          "class": 3,
          "dim1": -12.410568237304688,
          "dim2": -0.2324369102716446
         },
         {
          "class": 0,
          "dim1": -2.4443917274475098,
          "dim2": 0.04341385141015053
         },
         {
          "class": 2,
          "dim1": 6.978899955749512,
          "dim2": -6.950338363647461
         },
         {
          "class": 0,
          "dim1": -0.16340485215187073,
          "dim2": 0.21725746989250183
         },
         {
          "class": 0,
          "dim1": 2.996657609939575,
          "dim2": 2.8625357151031494
         },
         {
          "class": 3,
          "dim1": -12.25698471069336,
          "dim2": -0.7301464676856995
         },
         {
          "class": 0,
          "dim1": -2.0161001682281494,
          "dim2": 0.017808755859732628
         },
         {
          "class": 2,
          "dim1": -1.291873574256897,
          "dim2": -2.246424436569214
         },
         {
          "class": 2,
          "dim1": 6.768675327301025,
          "dim2": -5.929332256317139
         },
         {
          "class": 0,
          "dim1": 5.684500694274902,
          "dim2": 1.3996334075927734
         },
         {
          "class": 0,
          "dim1": 2.9167637825012207,
          "dim2": 0.6671127080917358
         },
         {
          "class": 0,
          "dim1": 1.1746082305908203,
          "dim2": 1.2887706756591797
         },
         {
          "class": 0,
          "dim1": 6.733726978302002,
          "dim2": 3.6884336471557617
         },
         {
          "class": 0,
          "dim1": 2.00536847114563,
          "dim2": 3.0414681434631348
         },
         {
          "class": 0,
          "dim1": 3.771517038345337,
          "dim2": -0.25767478346824646
         },
         {
          "class": 0,
          "dim1": 3.0338401794433594,
          "dim2": 2.961869716644287
         },
         {
          "class": 1,
          "dim1": -4.545255661010742,
          "dim2": 11.284769058227539
         },
         {
          "class": 0,
          "dim1": 3.9000942707061768,
          "dim2": 0.3187340199947357
         },
         {
          "class": 3,
          "dim1": -11.737417221069336,
          "dim2": -3.922722101211548
         },
         {
          "class": 2,
          "dim1": -2.940093755722046,
          "dim2": -6.819283962249756
         },
         {
          "class": 1,
          "dim1": -4.480055332183838,
          "dim2": 11.417520523071289
         },
         {
          "class": 0,
          "dim1": 0.5468215346336365,
          "dim2": -0.07782083749771118
         },
         {
          "class": 1,
          "dim1": 1.2771025896072388,
          "dim2": -11.721986770629883
         },
         {
          "class": 0,
          "dim1": -2.7925398349761963,
          "dim2": -0.659796416759491
         },
         {
          "class": 0,
          "dim1": 5.8073625564575195,
          "dim2": 2.730546236038208
         },
         {
          "class": 3,
          "dim1": -12.020538330078125,
          "dim2": -1.7289016246795654
         },
         {
          "class": 3,
          "dim1": -12.40364933013916,
          "dim2": -1.975555419921875
         },
         {
          "class": 0,
          "dim1": 8.16636848449707,
          "dim2": 4.201739311218262
         },
         {
          "class": 0,
          "dim1": 4.772340297698975,
          "dim2": 4.136603355407715
         },
         {
          "class": 0,
          "dim1": 0.6742923855781555,
          "dim2": 4.315588474273682
         },
         {
          "class": 0,
          "dim1": 1.3635923862457275,
          "dim2": 1.3251725435256958
         },
         {
          "class": 0,
          "dim1": -0.9190546274185181,
          "dim2": 0.5089169144630432
         },
         {
          "class": 0,
          "dim1": 2.3887076377868652,
          "dim2": 1.7829169034957886
         },
         {
          "class": 0,
          "dim1": -2.774844169616699,
          "dim2": -1.0385059118270874
         },
         {
          "class": 0,
          "dim1": -0.20184676349163055,
          "dim2": -1.5654089450836182
         },
         {
          "class": 0,
          "dim1": 3.1409993171691895,
          "dim2": 0.2294202446937561
         },
         {
          "class": 0,
          "dim1": 2.5614352226257324,
          "dim2": 2.9132626056671143
         },
         {
          "class": 0,
          "dim1": 1.1613487005233765,
          "dim2": 1.320453405380249
         },
         {
          "class": 0,
          "dim1": 3.968858003616333,
          "dim2": 5.420053005218506
         },
         {
          "class": 2,
          "dim1": -2.536853790283203,
          "dim2": -7.520143032073975
         },
         {
          "class": 0,
          "dim1": 4.605269908905029,
          "dim2": 2.8074939250946045
         },
         {
          "class": 2,
          "dim1": -2.8107101917266846,
          "dim2": -7.913539886474609
         },
         {
          "class": 0,
          "dim1": -0.9594188928604126,
          "dim2": -0.9741970896720886
         },
         {
          "class": 3,
          "dim1": -11.336494445800781,
          "dim2": -2.6056833267211914
         },
         {
          "class": 0,
          "dim1": 6.08809757232666,
          "dim2": 2.0762603282928467
         },
         {
          "class": 0,
          "dim1": -2.5826339721679688,
          "dim2": 0.006870568264275789
         },
         {
          "class": 2,
          "dim1": 6.871183395385742,
          "dim2": -6.569116592407227
         },
         {
          "class": 3,
          "dim1": -10.578930854797363,
          "dim2": -0.028693655505776405
         },
         {
          "class": 0,
          "dim1": 2.7479124069213867,
          "dim2": 1.6995341777801514
         },
         {
          "class": 1,
          "dim1": 1.5772734880447388,
          "dim2": -11.911371231079102
         },
         {
          "class": 0,
          "dim1": 3.4390406608581543,
          "dim2": 4.169719219207764
         },
         {
          "class": 0,
          "dim1": 3.342613697052002,
          "dim2": 4.695799827575684
         },
         {
          "class": 0,
          "dim1": 2.6174352169036865,
          "dim2": 3.186436176300049
         },
         {
          "class": 0,
          "dim1": 6.689389228820801,
          "dim2": 3.163083791732788
         },
         {
          "class": 1,
          "dim1": -3.863969564437866,
          "dim2": 11.552069664001465
         },
         {
          "class": 0,
          "dim1": -1.9195255041122437,
          "dim2": -1.4219917058944702
         },
         {
          "class": 0,
          "dim1": 5.876027584075928,
          "dim2": 2.0047447681427
         },
         {
          "class": 1,
          "dim1": 5.268703937530518,
          "dim2": 0.1431715339422226
         },
         {
          "class": 0,
          "dim1": 6.137101650238037,
          "dim2": 2.4597842693328857
         },
         {
          "class": 0,
          "dim1": 7.870029926300049,
          "dim2": 6.324195861816406
         },
         {
          "class": 0,
          "dim1": 7.5209174156188965,
          "dim2": 3.9134445190429688
         },
         {
          "class": 0,
          "dim1": -0.1615329086780548,
          "dim2": -1.5539252758026123
         },
         {
          "class": 0,
          "dim1": 3.913421392440796,
          "dim2": 0.5190230011940002
         },
         {
          "class": 2,
          "dim1": -6.979931354522705,
          "dim2": 6.613217830657959
         },
         {
          "class": 1,
          "dim1": 2.007230281829834,
          "dim2": -13.330291748046875
         },
         {
          "class": 3,
          "dim1": -11.608787536621094,
          "dim2": -1.7802485227584839
         },
         {
          "class": 0,
          "dim1": 1.7078819274902344,
          "dim2": 4.248701572418213
         },
         {
          "class": 3,
          "dim1": -11.588203430175781,
          "dim2": -3.3747053146362305
         },
         {
          "class": 0,
          "dim1": 8.441661834716797,
          "dim2": 5.348008632659912
         },
         {
          "class": 0,
          "dim1": 6.13372802734375,
          "dim2": 0.9320443868637085
         },
         {
          "class": 3,
          "dim1": -12.624089241027832,
          "dim2": -1.054694414138794
         },
         {
          "class": 0,
          "dim1": 8.322416305541992,
          "dim2": 3.42353892326355
         },
         {
          "class": 3,
          "dim1": -11.266918182373047,
          "dim2": -2.0245821475982666
         },
         {
          "class": 0,
          "dim1": 4.629255771636963,
          "dim2": 2.6169965267181396
         },
         {
          "class": 2,
          "dim1": 7.809564590454102,
          "dim2": -5.914862632751465
         },
         {
          "class": 2,
          "dim1": 5.844552040100098,
          "dim2": -7.022782325744629
         },
         {
          "class": 3,
          "dim1": -11.834136009216309,
          "dim2": -0.8789457082748413
         },
         {
          "class": 0,
          "dim1": 5.767272472381592,
          "dim2": 4.631086349487305
         },
         {
          "class": 2,
          "dim1": 6.793067932128906,
          "dim2": -6.503779888153076
         },
         {
          "class": 0,
          "dim1": 4.902488708496094,
          "dim2": 4.625936031341553
         },
         {
          "class": 1,
          "dim1": 1.2670084238052368,
          "dim2": -12.967235565185547
         },
         {
          "class": 0,
          "dim1": -0.8988422155380249,
          "dim2": 0.30591118335723877
         },
         {
          "class": 2,
          "dim1": 6.722970008850098,
          "dim2": -6.081482887268066
         },
         {
          "class": 1,
          "dim1": 2.1146187782287598,
          "dim2": -12.323461532592773
         },
         {
          "class": 2,
          "dim1": -7.2455363273620605,
          "dim2": 7.4184160232543945
         },
         {
          "class": 0,
          "dim1": 3.5647037029266357,
          "dim2": 0.6545250415802002
         },
         {
          "class": 0,
          "dim1": 0.9844800233840942,
          "dim2": -0.19136470556259155
         },
         {
          "class": 1,
          "dim1": 2.3291409015655518,
          "dim2": -13.438870429992676
         },
         {
          "class": 0,
          "dim1": 7.554498195648193,
          "dim2": -4.700819969177246
         },
         {
          "class": 0,
          "dim1": 7.593953609466553,
          "dim2": 2.9090335369110107
         },
         {
          "class": 0,
          "dim1": 5.103876113891602,
          "dim2": 3.281447172164917
         },
         {
          "class": 0,
          "dim1": 5.112085819244385,
          "dim2": 3.3170738220214844
         },
         {
          "class": 0,
          "dim1": 4.388453483581543,
          "dim2": 1.0671193599700928
         },
         {
          "class": 2,
          "dim1": 6.825371742248535,
          "dim2": -6.584859848022461
         },
         {
          "class": 0,
          "dim1": -0.9547221660614014,
          "dim2": 0.5041565299034119
         },
         {
          "class": 0,
          "dim1": -0.4403611421585083,
          "dim2": 2.7857272624969482
         },
         {
          "class": 0,
          "dim1": -0.9536538124084473,
          "dim2": -0.7071254253387451
         },
         {
          "class": 1,
          "dim1": 3.1917386054992676,
          "dim2": -13.372455596923828
         },
         {
          "class": 2,
          "dim1": -2.3945744037628174,
          "dim2": 6.652044296264648
         },
         {
          "class": 0,
          "dim1": 4.696818828582764,
          "dim2": 4.620474338531494
         },
         {
          "class": 3,
          "dim1": -2.173612356185913,
          "dim2": 2.0789566040039062
         },
         {
          "class": 3,
          "dim1": -11.125846862792969,
          "dim2": 0.2985219657421112
         },
         {
          "class": 2,
          "dim1": -2.298150062561035,
          "dim2": -8.039278984069824
         },
         {
          "class": 0,
          "dim1": -3.6587395668029785,
          "dim2": -0.36060211062431335
         },
         {
          "class": 0,
          "dim1": 6.232967376708984,
          "dim2": 4.358336925506592
         },
         {
          "class": 2,
          "dim1": -3.392646551132202,
          "dim2": 7.653043270111084
         },
         {
          "class": 3,
          "dim1": -12.303168296813965,
          "dim2": -2.656496524810791
         },
         {
          "class": 0,
          "dim1": -1.4669865369796753,
          "dim2": -2.1027653217315674
         },
         {
          "class": 1,
          "dim1": -2.836162805557251,
          "dim2": 11.485608100891113
         },
         {
          "class": 0,
          "dim1": 4.5782084465026855,
          "dim2": 1.2655075788497925
         },
         {
          "class": 1,
          "dim1": 3.089876890182495,
          "dim2": -13.040239334106445
         },
         {
          "class": 2,
          "dim1": 7.584282398223877,
          "dim2": -4.832268714904785
         },
         {
          "class": 0,
          "dim1": 7.116738796234131,
          "dim2": 6.535062789916992
         },
         {
          "class": 0,
          "dim1": 2.229898452758789,
          "dim2": 1.3575459718704224
         },
         {
          "class": 1,
          "dim1": 4.936671257019043,
          "dim2": -11.57548999786377
         },
         {
          "class": 0,
          "dim1": 6.227694511413574,
          "dim2": 3.3282177448272705
         },
         {
          "class": 3,
          "dim1": -11.699626922607422,
          "dim2": -1.143254280090332
         },
         {
          "class": 0,
          "dim1": 1.6674569845199585,
          "dim2": 1.7046594619750977
         },
         {
          "class": 2,
          "dim1": -7.235507965087891,
          "dim2": 7.281842231750488
         },
         {
          "class": 0,
          "dim1": 3.560713291168213,
          "dim2": 4.480102062225342
         },
         {
          "class": 0,
          "dim1": 5.378268718719482,
          "dim2": 4.410774230957031
         },
         {
          "class": 0,
          "dim1": 7.145473957061768,
          "dim2": 6.357211589813232
         },
         {
          "class": 3,
          "dim1": -11.539901733398438,
          "dim2": -0.7954474091529846
         },
         {
          "class": 0,
          "dim1": 6.794477462768555,
          "dim2": 1.7260795831680298
         },
         {
          "class": 0,
          "dim1": 0.5906599760055542,
          "dim2": 2.3794689178466797
         },
         {
          "class": 0,
          "dim1": 1.1275843381881714,
          "dim2": 1.0488239526748657
         },
         {
          "class": 2,
          "dim1": -3.306428909301758,
          "dim2": -7.6761088371276855
         },
         {
          "class": 2,
          "dim1": -7.103847503662109,
          "dim2": 6.815943241119385
         },
         {
          "class": 0,
          "dim1": -2.962636947631836,
          "dim2": -0.6875932216644287
         },
         {
          "class": 0,
          "dim1": 3.984447717666626,
          "dim2": 4.517851829528809
         },
         {
          "class": 0,
          "dim1": 4.06828498840332,
          "dim2": 2.8333652019500732
         },
         {
          "class": 3,
          "dim1": -11.142515182495117,
          "dim2": -0.2041497677564621
         },
         {
          "class": 2,
          "dim1": -3.1970293521881104,
          "dim2": -6.969809532165527
         },
         {
          "class": 0,
          "dim1": 2.372824192047119,
          "dim2": 2.3419065475463867
         },
         {
          "class": 0,
          "dim1": 4.1946892738342285,
          "dim2": 5.0394086837768555
         },
         {
          "class": 0,
          "dim1": 3.7730705738067627,
          "dim2": -0.9770323038101196
         },
         {
          "class": 1,
          "dim1": -2.6806273460388184,
          "dim2": 10.74233341217041
         },
         {
          "class": 0,
          "dim1": 7.082633018493652,
          "dim2": 5.049526214599609
         },
         {
          "class": 2,
          "dim1": -2.217613935470581,
          "dim2": -7.362984657287598
         },
         {
          "class": 1,
          "dim1": 4.877235412597656,
          "dim2": -12.219945907592773
         },
         {
          "class": 1,
          "dim1": 2.747800350189209,
          "dim2": -12.270853042602539
         },
         {
          "class": 0,
          "dim1": -0.2789262533187866,
          "dim2": -0.41856831312179565
         },
         {
          "class": 0,
          "dim1": -1.162030816078186,
          "dim2": 2.0386149883270264
         },
         {
          "class": 2,
          "dim1": -3.425642251968384,
          "dim2": -7.555477142333984
         },
         {
          "class": 0,
          "dim1": 5.900326251983643,
          "dim2": 3.6135215759277344
         },
         {
          "class": 0,
          "dim1": 3.091593027114868,
          "dim2": 1.4870924949645996
         },
         {
          "class": 0,
          "dim1": 5.353487491607666,
          "dim2": 2.385240316390991
         },
         {
          "class": 0,
          "dim1": 6.816133499145508,
          "dim2": 2.1147663593292236
         },
         {
          "class": 0,
          "dim1": 6.471142768859863,
          "dim2": 2.7884230613708496
         },
         {
          "class": 1,
          "dim1": 5.332439422607422,
          "dim2": 0.36652815341949463
         },
         {
          "class": 0,
          "dim1": 4.024712085723877,
          "dim2": 3.454602003097534
         },
         {
          "class": 3,
          "dim1": -11.420047760009766,
          "dim2": -1.8382835388183594
         },
         {
          "class": 1,
          "dim1": 3.995112180709839,
          "dim2": -13.003447532653809
         },
         {
          "class": 3,
          "dim1": -10.752402305603027,
          "dim2": -2.9368371963500977
         },
         {
          "class": 0,
          "dim1": 0.13582341372966766,
          "dim2": 1.106235146522522
         },
         {
          "class": 0,
          "dim1": 2.6277310848236084,
          "dim2": 4.251316547393799
         },
         {
          "class": 0,
          "dim1": 4.149136066436768,
          "dim2": 1.873979091644287
         },
         {
          "class": 3,
          "dim1": -10.726415634155273,
          "dim2": 0.1252703070640564
         },
         {
          "class": 2,
          "dim1": -6.891674041748047,
          "dim2": 7.719245910644531
         },
         {
          "class": 0,
          "dim1": 6.792654991149902,
          "dim2": 4.624144554138184
         },
         {
          "class": 0,
          "dim1": 3.5248565673828125,
          "dim2": 1.830971598625183
         },
         {
          "class": 1,
          "dim1": 4.939342975616455,
          "dim2": -11.702177047729492
         },
         {
          "class": 2,
          "dim1": -3.2770910263061523,
          "dim2": 7.704164981842041
         },
         {
          "class": 0,
          "dim1": 0.4296950101852417,
          "dim2": 1.1514426469802856
         },
         {
          "class": 0,
          "dim1": 0.6109460592269897,
          "dim2": 0.9052019715309143
         },
         {
          "class": 1,
          "dim1": 1.0984017848968506,
          "dim2": -12.027188301086426
         },
         {
          "class": 0,
          "dim1": 0.34150806069374084,
          "dim2": 3.79172420501709
         },
         {
          "class": 1,
          "dim1": 2.7373032569885254,
          "dim2": -12.769604682922363
         },
         {
          "class": 1,
          "dim1": -3.7574715614318848,
          "dim2": 11.451685905456543
         },
         {
          "class": 0,
          "dim1": -2.2696621417999268,
          "dim2": -2.012866735458374
         },
         {
          "class": 0,
          "dim1": -0.7815955281257629,
          "dim2": 1.3607404232025146
         },
         {
          "class": 2,
          "dim1": 2.2557213306427,
          "dim2": -1.7030718326568604
         },
         {
          "class": 1,
          "dim1": -0.692222535610199,
          "dim2": -7.620671272277832
         },
         {
          "class": 0,
          "dim1": 0.789689838886261,
          "dim2": 1.1960928440093994
         },
         {
          "class": 1,
          "dim1": 1.1525601148605347,
          "dim2": -12.363602638244629
         },
         {
          "class": 2,
          "dim1": -6.709990978240967,
          "dim2": 6.868777275085449
         },
         {
          "class": 2,
          "dim1": -2.3225884437561035,
          "dim2": -7.304107666015625
         },
         {
          "class": 0,
          "dim1": -2.9067211151123047,
          "dim2": 0.30566155910491943
         },
         {
          "class": 0,
          "dim1": 3.732707977294922,
          "dim2": -0.9990375638008118
         },
         {
          "class": 0,
          "dim1": 2.4201765060424805,
          "dim2": 2.2950377464294434
         },
         {
          "class": 3,
          "dim1": -4.631938457489014,
          "dim2": -0.24337340891361237
         },
         {
          "class": 3,
          "dim1": -11.644519805908203,
          "dim2": -0.9621853232383728
         },
         {
          "class": 2,
          "dim1": -1.292600393295288,
          "dim2": -7.844341278076172
         },
         {
          "class": 0,
          "dim1": 2.4968247413635254,
          "dim2": 2.422273635864258
         },
         {
          "class": 0,
          "dim1": 2.3489632606506348,
          "dim2": 3.566086769104004
         },
         {
          "class": 0,
          "dim1": -0.8933697938919067,
          "dim2": 0.813527524471283
         },
         {
          "class": 0,
          "dim1": 4.55815315246582,
          "dim2": 4.319575309753418
         },
         {
          "class": 3,
          "dim1": -12.509997367858887,
          "dim2": -2.032550096511841
         },
         {
          "class": 0,
          "dim1": -1.7751529216766357,
          "dim2": 0.026667656376957893
         },
         {
          "class": 0,
          "dim1": -2.246133804321289,
          "dim2": 0.12572185695171356
         },
         {
          "class": 3,
          "dim1": -12.74659538269043,
          "dim2": -1.5269240140914917
         },
         {
          "class": 0,
          "dim1": 1.378143310546875,
          "dim2": -0.35846590995788574
         },
         {
          "class": 2,
          "dim1": -2.503868579864502,
          "dim2": -0.2010398656129837
         },
         {
          "class": 0,
          "dim1": -0.2579824924468994,
          "dim2": 0.11018893867731094
         },
         {
          "class": 3,
          "dim1": -11.734969139099121,
          "dim2": 0.320097953081131
         },
         {
          "class": 0,
          "dim1": -1.1548278331756592,
          "dim2": 1.4230661392211914
         },
         {
          "class": 1,
          "dim1": 3.363908529281616,
          "dim2": -13.04987621307373
         },
         {
          "class": 2,
          "dim1": -2.3442628383636475,
          "dim2": -7.493236064910889
         },
         {
          "class": 1,
          "dim1": 1.570168375968933,
          "dim2": -12.562833786010742
         },
         {
          "class": 0,
          "dim1": -1.7279661893844604,
          "dim2": -1.542824149131775
         },
         {
          "class": 0,
          "dim1": 7.2090983390808105,
          "dim2": 5.426572799682617
         },
         {
          "class": 2,
          "dim1": 7.044956207275391,
          "dim2": -6.602895259857178
         },
         {
          "class": 0,
          "dim1": 6.748912334442139,
          "dim2": 3.3744380474090576
         },
         {
          "class": 3,
          "dim1": -12.217266082763672,
          "dim2": -0.2915996313095093
         },
         {
          "class": 0,
          "dim1": 0.48962506651878357,
          "dim2": 2.478947877883911
         },
         {
          "class": 0,
          "dim1": -1.482703447341919,
          "dim2": -1.195094108581543
         },
         {
          "class": 1,
          "dim1": 4.110037326812744,
          "dim2": -12.268315315246582
         },
         {
          "class": 0,
          "dim1": 5.84785270690918,
          "dim2": 4.718766689300537
         },
         {
          "class": 0,
          "dim1": 1.304548978805542,
          "dim2": 2.0841946601867676
         },
         {
          "class": 3,
          "dim1": -12.221209526062012,
          "dim2": -0.9217924475669861
         },
         {
          "class": 0,
          "dim1": 1.2442684173583984,
          "dim2": 2.4506654739379883
         },
         {
          "class": 3,
          "dim1": -10.9091157913208,
          "dim2": 0.735990583896637
         },
         {
          "class": 1,
          "dim1": 0.8707587122917175,
          "dim2": -11.6190185546875
         },
         {
          "class": 3,
          "dim1": -11.226588249206543,
          "dim2": -0.2981947362422943
         },
         {
          "class": 2,
          "dim1": 5.903122425079346,
          "dim2": -6.599954128265381
         },
         {
          "class": 0,
          "dim1": 1.1150726079940796,
          "dim2": 2.2425713539123535
         },
         {
          "class": 2,
          "dim1": 7.867251873016357,
          "dim2": -5.147249698638916
         },
         {
          "class": 2,
          "dim1": 6.414088249206543,
          "dim2": -6.334756851196289
         },
         {
          "class": 0,
          "dim1": 5.588543891906738,
          "dim2": 2.8248202800750732
         },
         {
          "class": 0,
          "dim1": -0.3145018219947815,
          "dim2": 1.42485773563385
         },
         {
          "class": 2,
          "dim1": -1.4043318033218384,
          "dim2": -7.937623977661133
         },
         {
          "class": 3,
          "dim1": -12.514843940734863,
          "dim2": -0.9760395884513855
         },
         {
          "class": 0,
          "dim1": 1.2460910081863403,
          "dim2": 3.4455840587615967
         },
         {
          "class": 2,
          "dim1": -3.430805206298828,
          "dim2": 8.507584571838379
         },
         {
          "class": 1,
          "dim1": -0.2195032238960266,
          "dim2": -0.31670942902565
         },
         {
          "class": 0,
          "dim1": 3.7848904132843018,
          "dim2": -0.9680412411689758
         },
         {
          "class": 0,
          "dim1": 6.6330084800720215,
          "dim2": 5.49125862121582
         },
         {
          "class": 0,
          "dim1": 1.494215726852417,
          "dim2": -0.2913128137588501
         },
         {
          "class": 0,
          "dim1": 5.277139186859131,
          "dim2": 2.4208199977874756
         },
         {
          "class": 3,
          "dim1": -12.248771667480469,
          "dim2": -1.38044011592865
         },
         {
          "class": 0,
          "dim1": 3.683051347732544,
          "dim2": 1.6549328565597534
         },
         {
          "class": 0,
          "dim1": 0.20041954517364502,
          "dim2": 0.1535232663154602
         },
         {
          "class": 0,
          "dim1": 4.463831901550293,
          "dim2": 3.0888266563415527
         },
         {
          "class": 0,
          "dim1": 6.6857733726501465,
          "dim2": 4.5032958984375
         },
         {
          "class": 1,
          "dim1": 0.7470785975456238,
          "dim2": -11.33067798614502
         },
         {
          "class": 3,
          "dim1": -11.754922866821289,
          "dim2": -2.6465952396392822
         },
         {
          "class": 0,
          "dim1": -1.5833494663238525,
          "dim2": -1.6752707958221436
         },
         {
          "class": 1,
          "dim1": -2.6168103218078613,
          "dim2": 10.664064407348633
         },
         {
          "class": 0,
          "dim1": 5.293354034423828,
          "dim2": 4.264079570770264
         },
         {
          "class": 0,
          "dim1": 4.2486982345581055,
          "dim2": 1.7970154285430908
         },
         {
          "class": 0,
          "dim1": -1.5180772542953491,
          "dim2": 1.580403208732605
         },
         {
          "class": 0,
          "dim1": 6.084507942199707,
          "dim2": 4.481566905975342
         },
         {
          "class": 2,
          "dim1": 7.715056896209717,
          "dim2": -6.056537628173828
         },
         {
          "class": 0,
          "dim1": 3.0712344646453857,
          "dim2": 3.886593818664551
         },
         {
          "class": 3,
          "dim1": -12.966872215270996,
          "dim2": -2.523015022277832
         },
         {
          "class": 1,
          "dim1": 4.118807315826416,
          "dim2": -12.767724990844727
         },
         {
          "class": 0,
          "dim1": 1.4326107501983643,
          "dim2": 2.824549436569214
         },
         {
          "class": 0,
          "dim1": 4.858667373657227,
          "dim2": 4.725076675415039
         },
         {
          "class": 0,
          "dim1": -2.115135908126831,
          "dim2": -0.33687517046928406
         },
         {
          "class": 0,
          "dim1": 1.1562105417251587,
          "dim2": 0.9789804220199585
         },
         {
          "class": 1,
          "dim1": 3.476288080215454,
          "dim2": -13.089056015014648
         },
         {
          "class": 1,
          "dim1": 4.139248371124268,
          "dim2": -12.736112594604492
         },
         {
          "class": 1,
          "dim1": 3.961700439453125,
          "dim2": -12.91283893585205
         },
         {
          "class": 0,
          "dim1": 6.603454113006592,
          "dim2": 3.245567798614502
         },
         {
          "class": 0,
          "dim1": 2.7537834644317627,
          "dim2": 2.7330667972564697
         },
         {
          "class": 0,
          "dim1": 6.383677005767822,
          "dim2": 5.597002983093262
         },
         {
          "class": 0,
          "dim1": 2.2745201587677,
          "dim2": 2.99999737739563
         },
         {
          "class": 0,
          "dim1": 2.052424192428589,
          "dim2": 2.664788007736206
         },
         {
          "class": 3,
          "dim1": -12.183523178100586,
          "dim2": -3.702960252761841
         },
         {
          "class": 2,
          "dim1": 6.964789867401123,
          "dim2": -6.785957336425781
         },
         {
          "class": 0,
          "dim1": -1.7119876146316528,
          "dim2": 1.1839911937713623
         },
         {
          "class": 0,
          "dim1": -0.2220233678817749,
          "dim2": 0.9522678852081299
         },
         {
          "class": 1,
          "dim1": 3.268106698989868,
          "dim2": -13.096665382385254
         },
         {
          "class": 3,
          "dim1": -12.043282508850098,
          "dim2": -0.05292562395334244
         },
         {
          "class": 0,
          "dim1": 1.7030754089355469,
          "dim2": 4.265251636505127
         },
         {
          "class": 0,
          "dim1": -3.1478445529937744,
          "dim2": -6.321085453033447
         },
         {
          "class": 1,
          "dim1": 1.0633124113082886,
          "dim2": -12.412750244140625
         },
         {
          "class": 0,
          "dim1": 2.298767328262329,
          "dim2": 2.887763500213623
         },
         {
          "class": 2,
          "dim1": -6.522806644439697,
          "dim2": 8.154370307922363
         },
         {
          "class": 2,
          "dim1": -3.587259292602539,
          "dim2": -7.381136894226074
         },
         {
          "class": 0,
          "dim1": -3.0004634857177734,
          "dim2": 0.6528005003929138
         },
         {
          "class": 0,
          "dim1": -0.7333545684814453,
          "dim2": 2.5467755794525146
         },
         {
          "class": 1,
          "dim1": 1.6782711744308472,
          "dim2": -13.019335746765137
         },
         {
          "class": 2,
          "dim1": 7.640808582305908,
          "dim2": -6.415633201599121
         },
         {
          "class": 0,
          "dim1": -2.891900062561035,
          "dim2": 0.3182891309261322
         },
         {
          "class": 0,
          "dim1": -0.21843214333057404,
          "dim2": 2.90826153755188
         },
         {
          "class": 1,
          "dim1": 4.704061508178711,
          "dim2": -12.373815536499023
         },
         {
          "class": 1,
          "dim1": 1.3475595712661743,
          "dim2": -12.730875015258789
         },
         {
          "class": 0,
          "dim1": 3.0240721702575684,
          "dim2": 4.819489002227783
         },
         {
          "class": 0,
          "dim1": 6.333211898803711,
          "dim2": 4.563077449798584
         },
         {
          "class": 0,
          "dim1": -2.8437938690185547,
          "dim2": -0.4455597400665283
         },
         {
          "class": 0,
          "dim1": 1.505491018295288,
          "dim2": 1.050861120223999
         },
         {
          "class": 1,
          "dim1": 3.3223018646240234,
          "dim2": -13.078948020935059
         },
         {
          "class": 0,
          "dim1": 3.1101861000061035,
          "dim2": 2.7266054153442383
         },
         {
          "class": 1,
          "dim1": -2.31140398979187,
          "dim2": 10.767024993896484
         },
         {
          "class": 0,
          "dim1": 7.813253879547119,
          "dim2": 4.190649509429932
         },
         {
          "class": 0,
          "dim1": 7.62577486038208,
          "dim2": 2.74706768989563
         },
         {
          "class": 0,
          "dim1": -2.1695873737335205,
          "dim2": -1.0628772974014282
         },
         {
          "class": 0,
          "dim1": 7.312212944030762,
          "dim2": 3.635328531265259
         },
         {
          "class": 2,
          "dim1": -2.3743536472320557,
          "dim2": -8.085996627807617
         },
         {
          "class": 3,
          "dim1": -11.44729995727539,
          "dim2": -3.4983270168304443
         },
         {
          "class": 1,
          "dim1": 4.786076545715332,
          "dim2": -12.130816459655762
         },
         {
          "class": 2,
          "dim1": -1.3654532432556152,
          "dim2": -8.272418975830078
         },
         {
          "class": 0,
          "dim1": -3.348053455352783,
          "dim2": -2.1336119174957275
         },
         {
          "class": 0,
          "dim1": 4.4990715980529785,
          "dim2": 2.503587484359741
         },
         {
          "class": 0,
          "dim1": -0.41075393557548523,
          "dim2": 1.9534900188446045
         },
         {
          "class": 2,
          "dim1": 7.537522315979004,
          "dim2": -4.78892183303833
         },
         {
          "class": 0,
          "dim1": 4.175928115844727,
          "dim2": 2.7825443744659424
         },
         {
          "class": 0,
          "dim1": 0.4031888544559479,
          "dim2": 1.4966039657592773
         },
         {
          "class": 0,
          "dim1": -0.7438936233520508,
          "dim2": 1.6828516721725464
         },
         {
          "class": 0,
          "dim1": 4.261186599731445,
          "dim2": 4.158854961395264
         },
         {
          "class": 0,
          "dim1": 5.423638820648193,
          "dim2": 4.706241607666016
         },
         {
          "class": 0,
          "dim1": -1.1818547248840332,
          "dim2": 1.2337613105773926
         },
         {
          "class": 3,
          "dim1": -12.672842979431152,
          "dim2": -0.014828435145318508
         },
         {
          "class": 3,
          "dim1": -10.734244346618652,
          "dim2": -0.23599980771541595
         },
         {
          "class": 3,
          "dim1": -4.326156139373779,
          "dim2": -1.2536827325820923
         },
         {
          "class": 0,
          "dim1": -0.11061841994524002,
          "dim2": 1.5987385511398315
         },
         {
          "class": 0,
          "dim1": -1.2552393674850464,
          "dim2": -1.7852824926376343
         },
         {
          "class": 1,
          "dim1": -2.5004119873046875,
          "dim2": 10.140027046203613
         },
         {
          "class": 0,
          "dim1": -0.2942064702510834,
          "dim2": 2.8761255741119385
         },
         {
          "class": 1,
          "dim1": -2.6932404041290283,
          "dim2": 12.062652587890625
         },
         {
          "class": 0,
          "dim1": -1.3564707040786743,
          "dim2": 1.622435212135315
         },
         {
          "class": 0,
          "dim1": 2.780012845993042,
          "dim2": 2.2684316635131836
         },
         {
          "class": 2,
          "dim1": -7.1812639236450195,
          "dim2": 7.2035064697265625
         },
         {
          "class": 3,
          "dim1": -3.2754483222961426,
          "dim2": 0.11855918914079666
         },
         {
          "class": 0,
          "dim1": 6.439085006713867,
          "dim2": 3.4609742164611816
         },
         {
          "class": 3,
          "dim1": -12.057260513305664,
          "dim2": -0.9100350737571716
         },
         {
          "class": 0,
          "dim1": 4.5566582679748535,
          "dim2": 2.565035343170166
         },
         {
          "class": 0,
          "dim1": 5.769270896911621,
          "dim2": 4.2089924812316895
         },
         {
          "class": 0,
          "dim1": 7.038452625274658,
          "dim2": 5.955621719360352
         },
         {
          "class": 1,
          "dim1": -3.3587474822998047,
          "dim2": 11.774636268615723
         },
         {
          "class": 0,
          "dim1": 2.5234615802764893,
          "dim2": 1.9626106023788452
         },
         {
          "class": 1,
          "dim1": 2.956596612930298,
          "dim2": -12.93339729309082
         },
         {
          "class": 3,
          "dim1": -12.02668285369873,
          "dim2": -1.4549016952514648
         },
         {
          "class": 0,
          "dim1": 1.3704549074172974,
          "dim2": 3.4781291484832764
         },
         {
          "class": 0,
          "dim1": -0.48400309681892395,
          "dim2": 1.517236590385437
         },
         {
          "class": 0,
          "dim1": 7.474499225616455,
          "dim2": 4.002732276916504
         },
         {
          "class": 0,
          "dim1": -0.380916565656662,
          "dim2": 0.648837685585022
         },
         {
          "class": 2,
          "dim1": -2.2960219383239746,
          "dim2": -7.312658786773682
         },
         {
          "class": 1,
          "dim1": -2.228130578994751,
          "dim2": 10.744094848632812
         },
         {
          "class": 0,
          "dim1": 7.180447101593018,
          "dim2": 2.8726155757904053
         },
         {
          "class": 0,
          "dim1": 5.88632869720459,
          "dim2": 4.199078559875488
         },
         {
          "class": 1,
          "dim1": 2.040248394012451,
          "dim2": -13.627843856811523
         },
         {
          "class": 2,
          "dim1": 6.923125267028809,
          "dim2": -5.644824981689453
         },
         {
          "class": 3,
          "dim1": -11.58736515045166,
          "dim2": -3.7073652744293213
         },
         {
          "class": 2,
          "dim1": 7.889558792114258,
          "dim2": -5.833432197570801
         },
         {
          "class": 0,
          "dim1": 6.769967079162598,
          "dim2": 2.8880274295806885
         },
         {
          "class": 3,
          "dim1": -4.5637311935424805,
          "dim2": -0.7016685009002686
         },
         {
          "class": 1,
          "dim1": -2.7614827156066895,
          "dim2": 11.421831130981445
         },
         {
          "class": 1,
          "dim1": -2.3229944705963135,
          "dim2": 10.326181411743164
         },
         {
          "class": 0,
          "dim1": 5.969832897186279,
          "dim2": 4.909960746765137
         },
         {
          "class": 2,
          "dim1": -2.1235244274139404,
          "dim2": -8.189674377441406
         },
         {
          "class": 0,
          "dim1": -0.955717146396637,
          "dim2": 0.6063752174377441
         },
         {
          "class": 0,
          "dim1": 6.716246604919434,
          "dim2": 5.696606159210205
         },
         {
          "class": 0,
          "dim1": -0.6925145387649536,
          "dim2": 2.081219434738159
         },
         {
          "class": 2,
          "dim1": 7.5600738525390625,
          "dim2": -5.755114555358887
         },
         {
          "class": 0,
          "dim1": 0.418529748916626,
          "dim2": 2.8926498889923096
         },
         {
          "class": 2,
          "dim1": 7.666019439697266,
          "dim2": -6.284265041351318
         },
         {
          "class": 0,
          "dim1": 2.013350248336792,
          "dim2": 0.2918510437011719
         },
         {
          "class": 0,
          "dim1": 6.810410499572754,
          "dim2": 2.119626522064209
         },
         {
          "class": 3,
          "dim1": -11.142409324645996,
          "dim2": 0.39840734004974365
         },
         {
          "class": 2,
          "dim1": -3.167616844177246,
          "dim2": -2.0745961666107178
         },
         {
          "class": 0,
          "dim1": 4.65693998336792,
          "dim2": 1.6145342588424683
         },
         {
          "class": 0,
          "dim1": -1.1709303855895996,
          "dim2": 2.433419942855835
         },
         {
          "class": 0,
          "dim1": 0.8384181261062622,
          "dim2": 1.1117117404937744
         },
         {
          "class": 0,
          "dim1": 2.9750444889068604,
          "dim2": 3.6442911624908447
         },
         {
          "class": 0,
          "dim1": 3.14273738861084,
          "dim2": 0.18862366676330566
         },
         {
          "class": 3,
          "dim1": -11.295774459838867,
          "dim2": -2.541066884994507
         },
         {
          "class": 0,
          "dim1": -3.1840546131134033,
          "dim2": -2.036515235900879
         },
         {
          "class": 0,
          "dim1": 6.250462055206299,
          "dim2": 3.974932909011841
         },
         {
          "class": 2,
          "dim1": -6.908569812774658,
          "dim2": 7.776130676269531
         },
         {
          "class": 3,
          "dim1": -10.360301971435547,
          "dim2": 0.7456067204475403
         },
         {
          "class": 2,
          "dim1": 6.86024284362793,
          "dim2": -6.901600360870361
         },
         {
          "class": 0,
          "dim1": 3.759755849838257,
          "dim2": 2.9673569202423096
         },
         {
          "class": 0,
          "dim1": 3.140760660171509,
          "dim2": 4.022414684295654
         },
         {
          "class": 1,
          "dim1": -2.704028367996216,
          "dim2": 12.179826736450195
         },
         {
          "class": 2,
          "dim1": 6.844293117523193,
          "dim2": -6.4189887046813965
         },
         {
          "class": 0,
          "dim1": 5.067473411560059,
          "dim2": 4.517940998077393
         },
         {
          "class": 2,
          "dim1": -3.12685489654541,
          "dim2": 7.455816745758057
         },
         {
          "class": 0,
          "dim1": 7.504172325134277,
          "dim2": 5.520772933959961
         },
         {
          "class": 0,
          "dim1": 3.9166760444641113,
          "dim2": 5.389075756072998
         },
         {
          "class": 0,
          "dim1": 8.505306243896484,
          "dim2": 5.553464889526367
         },
         {
          "class": 2,
          "dim1": -3.4236905574798584,
          "dim2": -7.264898300170898
         },
         {
          "class": 0,
          "dim1": -3.15195631980896,
          "dim2": -2.049618721008301
         },
         {
          "class": 0,
          "dim1": -1.385434627532959,
          "dim2": -0.05548069626092911
         },
         {
          "class": 2,
          "dim1": -3.1385085582733154,
          "dim2": 7.483911037445068
         },
         {
          "class": 0,
          "dim1": 2.0375659465789795,
          "dim2": 2.5485150814056396
         },
         {
          "class": 0,
          "dim1": 3.468841791152954,
          "dim2": 0.126740500330925
         },
         {
          "class": 0,
          "dim1": 4.786525726318359,
          "dim2": 2.732665538787842
         },
         {
          "class": 2,
          "dim1": -2.313922166824341,
          "dim2": 6.622109413146973
         },
         {
          "class": 0,
          "dim1": -2.4611589908599854,
          "dim2": 2.01888108253479
         },
         {
          "class": 0,
          "dim1": -1.361565113067627,
          "dim2": 0.7077090740203857
         },
         {
          "class": 0,
          "dim1": 2.852780818939209,
          "dim2": 1.3387911319732666
         },
         {
          "class": 0,
          "dim1": -2.2390661239624023,
          "dim2": 2.0390822887420654
         },
         {
          "class": 0,
          "dim1": -0.15194344520568848,
          "dim2": 1.9478422403335571
         },
         {
          "class": 2,
          "dim1": -2.909947633743286,
          "dim2": 6.917573928833008
         },
         {
          "class": 1,
          "dim1": -2.6974754333496094,
          "dim2": -2.1544370651245117
         },
         {
          "class": 0,
          "dim1": 3.1640403270721436,
          "dim2": 4.365108489990234
         },
         {
          "class": 0,
          "dim1": -1.0619194507598877,
          "dim2": 1.9668316841125488
         },
         {
          "class": 0,
          "dim1": 4.102158069610596,
          "dim2": 3.252945899963379
         },
         {
          "class": 0,
          "dim1": -4.011191368103027,
          "dim2": -1.8838030099868774
         },
         {
          "class": 0,
          "dim1": 1.0830589532852173,
          "dim2": 2.676809549331665
         },
         {
          "class": 0,
          "dim1": 8.280160903930664,
          "dim2": 2.8111581802368164
         },
         {
          "class": 0,
          "dim1": 0.6402919292449951,
          "dim2": -1.2222414016723633
         },
         {
          "class": 0,
          "dim1": -1.3440866470336914,
          "dim2": -1.9673699140548706
         },
         {
          "class": 3,
          "dim1": -10.622162818908691,
          "dim2": -3.397002935409546
         },
         {
          "class": 1,
          "dim1": 4.025197505950928,
          "dim2": -12.557818412780762
         },
         {
          "class": 1,
          "dim1": 2.3639109134674072,
          "dim2": -12.475632667541504
         },
         {
          "class": 0,
          "dim1": 6.473715782165527,
          "dim2": 5.7818379402160645
         },
         {
          "class": 2,
          "dim1": -2.889357328414917,
          "dim2": -7.619980335235596
         },
         {
          "class": 3,
          "dim1": -11.01904296875,
          "dim2": 0.25635382533073425
         },
         {
          "class": 0,
          "dim1": -4.5650224685668945,
          "dim2": -0.8332710266113281
         },
         {
          "class": 2,
          "dim1": -3.0116705894470215,
          "dim2": 7.182819843292236
         },
         {
          "class": 3,
          "dim1": -2.0333850383758545,
          "dim2": -0.30145177245140076
         },
         {
          "class": 0,
          "dim1": 2.3122503757476807,
          "dim2": 3.6919305324554443
         },
         {
          "class": 0,
          "dim1": 3.3701488971710205,
          "dim2": 4.061759948730469
         },
         {
          "class": 0,
          "dim1": -1.2548539638519287,
          "dim2": 0.17121998965740204
         },
         {
          "class": 2,
          "dim1": 7.851809978485107,
          "dim2": -5.892550468444824
         },
         {
          "class": 0,
          "dim1": 6.771553993225098,
          "dim2": 3.0860307216644287
         },
         {
          "class": 1,
          "dim1": 1.9930745363235474,
          "dim2": -12.868936538696289
         },
         {
          "class": 0,
          "dim1": -3.751162528991699,
          "dim2": -0.3421512544155121
         },
         {
          "class": 3,
          "dim1": -12.9981050491333,
          "dim2": -1.31514573097229
         },
         {
          "class": 0,
          "dim1": 0.8848559856414795,
          "dim2": 0.2800685465335846
         },
         {
          "class": 2,
          "dim1": -2.8681235313415527,
          "dim2": 7.117172718048096
         },
         {
          "class": 3,
          "dim1": -12.234503746032715,
          "dim2": -3.341600179672241
         },
         {
          "class": 2,
          "dim1": -1.270511507987976,
          "dim2": -7.880161762237549
         },
         {
          "class": 0,
          "dim1": 7.838916301727295,
          "dim2": 3.8612008094787598
         },
         {
          "class": 3,
          "dim1": -12.414253234863281,
          "dim2": -1.2523328065872192
         },
         {
          "class": 1,
          "dim1": 0.6461358070373535,
          "dim2": -11.144987106323242
         },
         {
          "class": 0,
          "dim1": -0.124568872153759,
          "dim2": -1.5726208686828613
         },
         {
          "class": 0,
          "dim1": 4.260447978973389,
          "dim2": 1.1344339847564697
         },
         {
          "class": 0,
          "dim1": -3.245640277862549,
          "dim2": -0.44774433970451355
         },
         {
          "class": 1,
          "dim1": 0.6231326460838318,
          "dim2": -10.832232475280762
         },
         {
          "class": 0,
          "dim1": 1.1031590700149536,
          "dim2": 3.335153579711914
         },
         {
          "class": 2,
          "dim1": 6.896533966064453,
          "dim2": -5.788343906402588
         },
         {
          "class": 0,
          "dim1": 3.3069562911987305,
          "dim2": 3.8619799613952637
         },
         {
          "class": 0,
          "dim1": 2.9733541011810303,
          "dim2": 2.4685745239257812
         },
         {
          "class": 0,
          "dim1": -1.9316493272781372,
          "dim2": 0.28317344188690186
         },
         {
          "class": 0,
          "dim1": 6.308786392211914,
          "dim2": 1.3055639266967773
         },
         {
          "class": 0,
          "dim1": 6.458937168121338,
          "dim2": 5.725991249084473
         },
         {
          "class": 0,
          "dim1": 4.788418769836426,
          "dim2": 2.642289876937866
         },
         {
          "class": 0,
          "dim1": -0.32562896609306335,
          "dim2": 0.8850379586219788
         },
         {
          "class": 0,
          "dim1": -2.0790154933929443,
          "dim2": 0.11513734608888626
         },
         {
          "class": 0,
          "dim1": 5.755223274230957,
          "dim2": 4.786547660827637
         },
         {
          "class": 2,
          "dim1": 2.5290322303771973,
          "dim2": -0.9208956956863403
         },
         {
          "class": 0,
          "dim1": 7.887753486633301,
          "dim2": 4.16793966293335
         },
         {
          "class": 2,
          "dim1": 7.718747615814209,
          "dim2": -5.197700023651123
         },
         {
          "class": 0,
          "dim1": 2.800516366958618,
          "dim2": 3.97762131690979
         },
         {
          "class": 2,
          "dim1": 5.548055171966553,
          "dim2": -6.853939533233643
         },
         {
          "class": 3,
          "dim1": -10.59805679321289,
          "dim2": -2.84794545173645
         },
         {
          "class": 3,
          "dim1": -11.128192901611328,
          "dim2": 0.31252220273017883
         },
         {
          "class": 1,
          "dim1": -2.282043695449829,
          "dim2": 11.113718032836914
         },
         {
          "class": 0,
          "dim1": 6.96864652633667,
          "dim2": 2.9142239093780518
         },
         {
          "class": 2,
          "dim1": -2.560112953186035,
          "dim2": -7.643709659576416
         },
         {
          "class": 3,
          "dim1": -13.331448554992676,
          "dim2": -2.096320629119873
         },
         {
          "class": 3,
          "dim1": -11.629472732543945,
          "dim2": -0.7572194933891296
         },
         {
          "class": 0,
          "dim1": 3.2021517753601074,
          "dim2": 3.401503324508667
         },
         {
          "class": 0,
          "dim1": 6.2429656982421875,
          "dim2": 2.462798595428467
         },
         {
          "class": 0,
          "dim1": 1.1705595254898071,
          "dim2": 2.6711432933807373
         },
         {
          "class": 2,
          "dim1": -3.2823870182037354,
          "dim2": -7.56058406829834
         },
         {
          "class": 3,
          "dim1": -10.396803855895996,
          "dim2": 0.5124515295028687
         },
         {
          "class": 0,
          "dim1": -0.6104775071144104,
          "dim2": -1.0289781093597412
         },
         {
          "class": 2,
          "dim1": -3.068850040435791,
          "dim2": -2.0516138076782227
         },
         {
          "class": 1,
          "dim1": 5.394651412963867,
          "dim2": 0.1794154793024063
         },
         {
          "class": 2,
          "dim1": 1.306692361831665,
          "dim2": -1.4903218746185303
         },
         {
          "class": 0,
          "dim1": 5.611734867095947,
          "dim2": 3.3138926029205322
         },
         {
          "class": 0,
          "dim1": 2.477245569229126,
          "dim2": 2.2711830139160156
         },
         {
          "class": 3,
          "dim1": -11.939556121826172,
          "dim2": -0.5599721670150757
         },
         {
          "class": 2,
          "dim1": -3.4463553428649902,
          "dim2": -7.379865646362305
         },
         {
          "class": 0,
          "dim1": 0.8123250603675842,
          "dim2": 2.0489068031311035
         },
         {
          "class": 2,
          "dim1": -3.5761091709136963,
          "dim2": -7.328153610229492
         },
         {
          "class": 0,
          "dim1": -0.10768312215805054,
          "dim2": 3.1840126514434814
         },
         {
          "class": 1,
          "dim1": 1.0333163738250732,
          "dim2": -11.363275527954102
         },
         {
          "class": 3,
          "dim1": -11.838960647583008,
          "dim2": -0.8083338141441345
         },
         {
          "class": 3,
          "dim1": -12.753846168518066,
          "dim2": -0.45525553822517395
         },
         {
          "class": 0,
          "dim1": 3.1879634857177734,
          "dim2": 4.026273727416992
         },
         {
          "class": 0,
          "dim1": -2.775103807449341,
          "dim2": 0.40176743268966675
         },
         {
          "class": 0,
          "dim1": 4.516024589538574,
          "dim2": 3.1867475509643555
         },
         {
          "class": 0,
          "dim1": 1.799468994140625,
          "dim2": -1.4598361253738403
         },
         {
          "class": 3,
          "dim1": -10.366189956665039,
          "dim2": 0.5622649192810059
         },
         {
          "class": 0,
          "dim1": -1.6522098779678345,
          "dim2": -1.2813411951065063
         },
         {
          "class": 0,
          "dim1": -0.34903958439826965,
          "dim2": -0.2927801311016083
         },
         {
          "class": 2,
          "dim1": 6.1855363845825195,
          "dim2": -6.549059867858887
         },
         {
          "class": 3,
          "dim1": -9.977052688598633,
          "dim2": 0.8403086066246033
         },
         {
          "class": 0,
          "dim1": -0.8318962454795837,
          "dim2": 1.4315338134765625
         },
         {
          "class": 1,
          "dim1": 0.7358167171478271,
          "dim2": -12.100358963012695
         },
         {
          "class": 0,
          "dim1": -0.43074262142181396,
          "dim2": -0.3226828873157501
         },
         {
          "class": 0,
          "dim1": 2.4149513244628906,
          "dim2": 3.981687068939209
         },
         {
          "class": 2,
          "dim1": 6.242072105407715,
          "dim2": -7.201705455780029
         },
         {
          "class": 0,
          "dim1": 3.109632968902588,
          "dim2": 2.870007276535034
         },
         {
          "class": 0,
          "dim1": 7.640558242797852,
          "dim2": 4.469934940338135
         },
         {
          "class": 3,
          "dim1": -12.921009063720703,
          "dim2": -1.23416268825531
         },
         {
          "class": 0,
          "dim1": 5.975135326385498,
          "dim2": 4.592148780822754
         },
         {
          "class": 3,
          "dim1": -10.999471664428711,
          "dim2": 0.576442301273346
         },
         {
          "class": 3,
          "dim1": -10.649628639221191,
          "dim2": 0.19712382555007935
         },
         {
          "class": 1,
          "dim1": 2.168212413787842,
          "dim2": -12.92211627960205
         },
         {
          "class": 0,
          "dim1": 2.6749157905578613,
          "dim2": 1.0149919986724854
         },
         {
          "class": 3,
          "dim1": -11.115533828735352,
          "dim2": -0.2971014380455017
         },
         {
          "class": 0,
          "dim1": 5.24124813079834,
          "dim2": 3.4027938842773438
         },
         {
          "class": 0,
          "dim1": 5.100100994110107,
          "dim2": 2.727586507797241
         },
         {
          "class": 1,
          "dim1": -2.4010627269744873,
          "dim2": 10.37064266204834
         },
         {
          "class": 0,
          "dim1": 0.2844644784927368,
          "dim2": -0.47983497381210327
         },
         {
          "class": 0,
          "dim1": 3.7554917335510254,
          "dim2": 0.9711025953292847
         },
         {
          "class": 0,
          "dim1": 1.2311573028564453,
          "dim2": 3.9429666996002197
         },
         {
          "class": 3,
          "dim1": -12.144449234008789,
          "dim2": 0.04158153384923935
         },
         {
          "class": 1,
          "dim1": -2.5758414268493652,
          "dim2": 10.307165145874023
         },
         {
          "class": 0,
          "dim1": 2.4113361835479736,
          "dim2": 0.614919900894165
         },
         {
          "class": 0,
          "dim1": 3.036817789077759,
          "dim2": 3.2363288402557373
         },
         {
          "class": 0,
          "dim1": -0.008531291969120502,
          "dim2": 2.028714895248413
         },
         {
          "class": 0,
          "dim1": 2.4055163860321045,
          "dim2": 4.04635763168335
         },
         {
          "class": 0,
          "dim1": 7.5587944984436035,
          "dim2": 3.1986618041992188
         },
         {
          "class": 2,
          "dim1": -2.4694008827209473,
          "dim2": 6.765638828277588
         },
         {
          "class": 0,
          "dim1": 3.9024524688720703,
          "dim2": 3.0343565940856934
         },
         {
          "class": 3,
          "dim1": -13.037466049194336,
          "dim2": -2.7466819286346436
         },
         {
          "class": 0,
          "dim1": -0.13433736562728882,
          "dim2": 3.4386229515075684
         },
         {
          "class": 0,
          "dim1": 7.1299357414245605,
          "dim2": 5.270639419555664
         },
         {
          "class": 0,
          "dim1": -0.776616096496582,
          "dim2": 1.2019081115722656
         },
         {
          "class": 0,
          "dim1": 5.906630516052246,
          "dim2": 4.323379993438721
         },
         {
          "class": 0,
          "dim1": 7.718670845031738,
          "dim2": 3.6214489936828613
         },
         {
          "class": 0,
          "dim1": 1.8577018976211548,
          "dim2": 1.8620617389678955
         },
         {
          "class": 1,
          "dim1": -3.4605228900909424,
          "dim2": 11.764986991882324
         },
         {
          "class": 0,
          "dim1": 7.554910659790039,
          "dim2": 4.355349540710449
         },
         {
          "class": 0,
          "dim1": 4.136963367462158,
          "dim2": 4.2216010093688965
         },
         {
          "class": 1,
          "dim1": -2.359489679336548,
          "dim2": 12.07666015625
         },
         {
          "class": 0,
          "dim1": 5.7786865234375,
          "dim2": 4.365049362182617
         },
         {
          "class": 0,
          "dim1": 1.9301908016204834,
          "dim2": 3.401885747909546
         },
         {
          "class": 0,
          "dim1": 7.770346164703369,
          "dim2": 3.701530694961548
         },
         {
          "class": 0,
          "dim1": 4.749580383300781,
          "dim2": 4.289551258087158
         },
         {
          "class": 0,
          "dim1": 2.196377992630005,
          "dim2": 0.1318279504776001
         },
         {
          "class": 3,
          "dim1": -12.244400024414062,
          "dim2": -2.2616453170776367
         },
         {
          "class": 1,
          "dim1": -3.277818441390991,
          "dim2": 11.63299560546875
         },
         {
          "class": 0,
          "dim1": 0.6787643432617188,
          "dim2": 4.364749908447266
         },
         {
          "class": 1,
          "dim1": 2.3173582553863525,
          "dim2": -13.50110149383545
         },
         {
          "class": 1,
          "dim1": 2.7764997482299805,
          "dim2": -12.807952880859375
         },
         {
          "class": 0,
          "dim1": -0.04029636085033417,
          "dim2": 3.509037971496582
         },
         {
          "class": 2,
          "dim1": 7.096985816955566,
          "dim2": -6.527953147888184
         },
         {
          "class": 0,
          "dim1": -0.9662266373634338,
          "dim2": -0.21938543021678925
         },
         {
          "class": 0,
          "dim1": -1.8448259830474854,
          "dim2": -0.6412808895111084
         },
         {
          "class": 0,
          "dim1": 3.5984046459198,
          "dim2": 3.5840840339660645
         },
         {
          "class": 3,
          "dim1": -11.414362907409668,
          "dim2": -3.5494742393493652
         },
         {
          "class": 3,
          "dim1": -12.39293384552002,
          "dim2": -2.9546284675598145
         },
         {
          "class": 2,
          "dim1": 7.691763877868652,
          "dim2": -5.860864639282227
         },
         {
          "class": 0,
          "dim1": 3.157820463180542,
          "dim2": 4.149423122406006
         },
         {
          "class": 3,
          "dim1": -11.491621017456055,
          "dim2": -1.0312753915786743
         },
         {
          "class": 0,
          "dim1": 5.520018577575684,
          "dim2": 2.11057186126709
         },
         {
          "class": 3,
          "dim1": -12.947705268859863,
          "dim2": -1.1305543184280396
         },
         {
          "class": 1,
          "dim1": -4.095881462097168,
          "dim2": 11.594877243041992
         },
         {
          "class": 1,
          "dim1": 4.609347343444824,
          "dim2": -12.466728210449219
         },
         {
          "class": 0,
          "dim1": 1.4771455526351929,
          "dim2": 4.23336935043335
         },
         {
          "class": 0,
          "dim1": 4.050323486328125,
          "dim2": -0.1304512917995453
         },
         {
          "class": 0,
          "dim1": -1.7437691688537598,
          "dim2": 0.049128104001283646
         },
         {
          "class": 0,
          "dim1": -1.3749772310256958,
          "dim2": 0.013555984944105148
         },
         {
          "class": 1,
          "dim1": 2.743403911590576,
          "dim2": -12.849090576171875
         },
         {
          "class": 0,
          "dim1": 7.678198337554932,
          "dim2": 4.115947246551514
         },
         {
          "class": 0,
          "dim1": -2.5593597888946533,
          "dim2": 0.3733065724372864
         },
         {
          "class": 1,
          "dim1": -2.3089020252227783,
          "dim2": 10.850336074829102
         },
         {
          "class": 0,
          "dim1": 3.270782470703125,
          "dim2": 1.9157911539077759
         },
         {
          "class": 0,
          "dim1": 0.5961318016052246,
          "dim2": 3.1823177337646484
         },
         {
          "class": 3,
          "dim1": -10.309163093566895,
          "dim2": 0.6937699913978577
         },
         {
          "class": 0,
          "dim1": 0.3101174235343933,
          "dim2": 2.446969509124756
         },
         {
          "class": 0,
          "dim1": 7.58455753326416,
          "dim2": 2.6717286109924316
         },
         {
          "class": 0,
          "dim1": 3.1956279277801514,
          "dim2": 0.7282533049583435
         },
         {
          "class": 0,
          "dim1": 2.601308584213257,
          "dim2": 4.248999118804932
         },
         {
          "class": 1,
          "dim1": -3.0241963863372803,
          "dim2": 8.70644760131836
         },
         {
          "class": 3,
          "dim1": -12.3533353805542,
          "dim2": 0.12156754732131958
         },
         {
          "class": 0,
          "dim1": 6.59634256362915,
          "dim2": 1.7393475770950317
         },
         {
          "class": 3,
          "dim1": -12.751375198364258,
          "dim2": -2.795111894607544
         },
         {
          "class": 3,
          "dim1": -12.010724067687988,
          "dim2": -0.5475773811340332
         },
         {
          "class": 0,
          "dim1": 3.1845650672912598,
          "dim2": 5.031441688537598
         },
         {
          "class": 3,
          "dim1": -12.610413551330566,
          "dim2": -1.882725715637207
         },
         {
          "class": 1,
          "dim1": -2.2785112857818604,
          "dim2": 10.918258666992188
         },
         {
          "class": 1,
          "dim1": 2.7192792892456055,
          "dim2": -13.58378791809082
         },
         {
          "class": 0,
          "dim1": 5.451663017272949,
          "dim2": 3.9644320011138916
         },
         {
          "class": 3,
          "dim1": -12.284815788269043,
          "dim2": -0.13866327702999115
         },
         {
          "class": 2,
          "dim1": -3.1486878395080566,
          "dim2": -7.382180690765381
         },
         {
          "class": 2,
          "dim1": 7.717564582824707,
          "dim2": -5.985805988311768
         },
         {
          "class": 1,
          "dim1": 3.122361660003662,
          "dim2": -13.07235050201416
         },
         {
          "class": 1,
          "dim1": 3.9327330589294434,
          "dim2": -12.526396751403809
         },
         {
          "class": 2,
          "dim1": -2.550072431564331,
          "dim2": -7.98685359954834
         },
         {
          "class": 0,
          "dim1": 8.21803092956543,
          "dim2": 3.088406801223755
         },
         {
          "class": 3,
          "dim1": -12.185802459716797,
          "dim2": -3.129394769668579
         },
         {
          "class": 0,
          "dim1": -3.8887269496917725,
          "dim2": -2.0643248558044434
         },
         {
          "class": 2,
          "dim1": 3.8428945541381836,
          "dim2": 0.08867958188056946
         },
         {
          "class": 0,
          "dim1": -0.29201552271842957,
          "dim2": 2.9651715755462646
         },
         {
          "class": 1,
          "dim1": 2.1069529056549072,
          "dim2": -13.080992698669434
         },
         {
          "class": 0,
          "dim1": 0.9956185221672058,
          "dim2": -0.20152784883975983
         },
         {
          "class": 0,
          "dim1": 1.6281858682632446,
          "dim2": 1.1915831565856934
         },
         {
          "class": 0,
          "dim1": 5.653468132019043,
          "dim2": 1.1717029809951782
         },
         {
          "class": 2,
          "dim1": -2.392695903778076,
          "dim2": 6.655358791351318
         },
         {
          "class": 3,
          "dim1": -11.749251365661621,
          "dim2": -2.719993829727173
         },
         {
          "class": 3,
          "dim1": -11.966558456420898,
          "dim2": -1.4300440549850464
         },
         {
          "class": 0,
          "dim1": 0.23477937281131744,
          "dim2": 0.49872371554374695
         },
         {
          "class": 0,
          "dim1": 6.1983442306518555,
          "dim2": 5.149567604064941
         },
         {
          "class": 0,
          "dim1": 8.394014358520508,
          "dim2": 5.287008762359619
         },
         {
          "class": 0,
          "dim1": 0.3808978497982025,
          "dim2": -1.0622209310531616
         },
         {
          "class": 0,
          "dim1": 3.714016914367676,
          "dim2": 0.5473631620407104
         },
         {
          "class": 0,
          "dim1": -3.3159008026123047,
          "dim2": -1.7072322368621826
         },
         {
          "class": 0,
          "dim1": 3.49951434135437,
          "dim2": 3.9620394706726074
         },
         {
          "class": 0,
          "dim1": -3.9280734062194824,
          "dim2": -2.024446725845337
         },
         {
          "class": 0,
          "dim1": -0.5902132987976074,
          "dim2": -1.7564711570739746
         },
         {
          "class": 0,
          "dim1": 4.452274322509766,
          "dim2": 3.6502742767333984
         },
         {
          "class": 2,
          "dim1": 5.8158721923828125,
          "dim2": -6.664456367492676
         },
         {
          "class": 3,
          "dim1": -11.295205116271973,
          "dim2": -2.6758875846862793
         },
         {
          "class": 0,
          "dim1": 4.89309024810791,
          "dim2": 0.9997758269309998
         },
         {
          "class": 1,
          "dim1": 0.746055543422699,
          "dim2": -11.11905574798584
         },
         {
          "class": 1,
          "dim1": 2.0252015590667725,
          "dim2": -13.589211463928223
         },
         {
          "class": 2,
          "dim1": -3.1231133937835693,
          "dim2": -7.260745525360107
         },
         {
          "class": 2,
          "dim1": -6.327493667602539,
          "dim2": 8.20690631866455
         },
         {
          "class": 2,
          "dim1": -2.4373457431793213,
          "dim2": 6.70070219039917
         },
         {
          "class": 0,
          "dim1": 7.385303020477295,
          "dim2": 3.3361575603485107
         },
         {
          "class": 0,
          "dim1": -1.7886782884597778,
          "dim2": -0.08003787696361542
         },
         {
          "class": 3,
          "dim1": -10.805075645446777,
          "dim2": -0.022747838869690895
         },
         {
          "class": 0,
          "dim1": 8.019613265991211,
          "dim2": 5.21419620513916
         },
         {
          "class": 1,
          "dim1": 2.727874279022217,
          "dim2": -12.722023010253906
         },
         {
          "class": 3,
          "dim1": -11.570734977722168,
          "dim2": -0.8851206302642822
         },
         {
          "class": 2,
          "dim1": -3.049489736557007,
          "dim2": -7.851080894470215
         },
         {
          "class": 0,
          "dim1": 3.8720290660858154,
          "dim2": 4.023975849151611
         },
         {
          "class": 2,
          "dim1": -7.054346084594727,
          "dim2": 6.76662015914917
         },
         {
          "class": 3,
          "dim1": -10.256851196289062,
          "dim2": 0.6404083967208862
         },
         {
          "class": 0,
          "dim1": 7.277010917663574,
          "dim2": 3.6450634002685547
         },
         {
          "class": 0,
          "dim1": 3.4027867317199707,
          "dim2": 1.327884554862976
         },
         {
          "class": 0,
          "dim1": 4.034841060638428,
          "dim2": 5.392881870269775
         },
         {
          "class": 3,
          "dim1": -12.270537376403809,
          "dim2": -2.0698835849761963
         },
         {
          "class": 0,
          "dim1": 7.158947467803955,
          "dim2": 5.196071147918701
         },
         {
          "class": 0,
          "dim1": -2.3661797046661377,
          "dim2": -0.40499722957611084
         },
         {
          "class": 0,
          "dim1": -2.5989608764648438,
          "dim2": -0.8085963726043701
         },
         {
          "class": 0,
          "dim1": -0.8316028714179993,
          "dim2": -1.7164359092712402
         },
         {
          "class": 0,
          "dim1": 2.5620875358581543,
          "dim2": 1.791282296180725
         },
         {
          "class": 1,
          "dim1": 5.367778301239014,
          "dim2": 0.18813632428646088
         },
         {
          "class": 2,
          "dim1": -3.1615281105041504,
          "dim2": -6.3212361335754395
         },
         {
          "class": 0,
          "dim1": 6.148928165435791,
          "dim2": 1.3893027305603027
         },
         {
          "class": 0,
          "dim1": 3.222158670425415,
          "dim2": 4.692529678344727
         },
         {
          "class": 0,
          "dim1": 4.3138957023620605,
          "dim2": 2.946263551712036
         },
         {
          "class": 2,
          "dim1": 7.624068260192871,
          "dim2": -4.863217353820801
         },
         {
          "class": 0,
          "dim1": 3.9044861793518066,
          "dim2": 4.421279430389404
         },
         {
          "class": 2,
          "dim1": -1.6099952459335327,
          "dim2": -8.245113372802734
         },
         {
          "class": 0,
          "dim1": 2.2570250034332275,
          "dim2": 3.3890349864959717
         },
         {
          "class": 0,
          "dim1": -3.4470138549804688,
          "dim2": -2.5085620880126953
         },
         {
          "class": 2,
          "dim1": 6.364944934844971,
          "dim2": -6.8435869216918945
         },
         {
          "class": 0,
          "dim1": 1.7753655910491943,
          "dim2": 1.9428911209106445
         },
         {
          "class": 0,
          "dim1": 4.727327823638916,
          "dim2": 4.914268970489502
         },
         {
          "class": 1,
          "dim1": 1.8908110857009888,
          "dim2": -13.442266464233398
         },
         {
          "class": 0,
          "dim1": -1.3923007249832153,
          "dim2": 1.7722519636154175
         },
         {
          "class": 2,
          "dim1": 5.858858585357666,
          "dim2": -6.60072660446167
         },
         {
          "class": 3,
          "dim1": -11.110629081726074,
          "dim2": -2.6249821186065674
         },
         {
          "class": 2,
          "dim1": -2.5493905544281006,
          "dim2": -7.453752517700195
         },
         {
          "class": 0,
          "dim1": 3.9736666679382324,
          "dim2": -0.17267170548439026
         },
         {
          "class": 2,
          "dim1": 6.805626392364502,
          "dim2": -5.773200511932373
         },
         {
          "class": 0,
          "dim1": 6.822618007659912,
          "dim2": 6.433455944061279
         },
         {
          "class": 3,
          "dim1": -10.990607261657715,
          "dim2": -3.4448840618133545
         },
         {
          "class": 0,
          "dim1": 7.020651340484619,
          "dim2": 5.087600231170654
         },
         {
          "class": 0,
          "dim1": 4.685418128967285,
          "dim2": 0.5537661910057068
         },
         {
          "class": 0,
          "dim1": 0.5833213925361633,
          "dim2": -1.2404122352600098
         },
         {
          "class": 1,
          "dim1": -2.6785316467285156,
          "dim2": 11.610206604003906
         },
         {
          "class": 2,
          "dim1": 5.7646636962890625,
          "dim2": -6.844130992889404
         },
         {
          "class": 1,
          "dim1": -3.1119284629821777,
          "dim2": 12.098828315734863
         },
         {
          "class": 0,
          "dim1": 2.5082504749298096,
          "dim2": -1.0663704872131348
         },
         {
          "class": 1,
          "dim1": 2.797950506210327,
          "dim2": -12.91292953491211
         },
         {
          "class": 2,
          "dim1": -3.2720861434936523,
          "dim2": 7.779263496398926
         },
         {
          "class": 0,
          "dim1": 3.007159471511841,
          "dim2": 0.8747840523719788
         },
         {
          "class": 0,
          "dim1": 5.781680583953857,
          "dim2": 1.836466670036316
         },
         {
          "class": 0,
          "dim1": 7.565436363220215,
          "dim2": 4.606851100921631
         },
         {
          "class": 0,
          "dim1": 2.6630260944366455,
          "dim2": 1.5151957273483276
         },
         {
          "class": 3,
          "dim1": -11.203876495361328,
          "dim2": 0.8137380480766296
         },
         {
          "class": 2,
          "dim1": -1.2046736478805542,
          "dim2": -7.761520862579346
         },
         {
          "class": 2,
          "dim1": -2.8000407218933105,
          "dim2": -7.3455047607421875
         },
         {
          "class": 0,
          "dim1": 0.6473579406738281,
          "dim2": 2.210629463195801
         },
         {
          "class": 0,
          "dim1": 4.833904266357422,
          "dim2": 1.9260492324829102
         },
         {
          "class": 2,
          "dim1": -2.427903890609741,
          "dim2": -8.05864429473877
         },
         {
          "class": 2,
          "dim1": -3.220770835876465,
          "dim2": -6.951454162597656
         },
         {
          "class": 2,
          "dim1": 7.537860870361328,
          "dim2": -6.209198474884033
         },
         {
          "class": 2,
          "dim1": -2.995012044906616,
          "dim2": -7.898425102233887
         },
         {
          "class": 0,
          "dim1": 4.7470784187316895,
          "dim2": 0.20725777745246887
         },
         {
          "class": 0,
          "dim1": 6.812590599060059,
          "dim2": 4.0805277824401855
         },
         {
          "class": 0,
          "dim1": -2.5339415073394775,
          "dim2": 0.05953636020421982
         },
         {
          "class": 0,
          "dim1": -1.6921290159225464,
          "dim2": 0.06118419021368027
         },
         {
          "class": 0,
          "dim1": 8.426274299621582,
          "dim2": 3.4126877784729004
         },
         {
          "class": 0,
          "dim1": 2.108372211456299,
          "dim2": 0.0981689840555191
         },
         {
          "class": 1,
          "dim1": -3.994934320449829,
          "dim2": 11.783949851989746
         },
         {
          "class": 3,
          "dim1": -12.299650192260742,
          "dim2": -3.236617088317871
         },
         {
          "class": 1,
          "dim1": -3.178957462310791,
          "dim2": 11.266542434692383
         },
         {
          "class": 0,
          "dim1": 2.39264178276062,
          "dim2": 3.38224458694458
         },
         {
          "class": 3,
          "dim1": -12.401979446411133,
          "dim2": 0.31905168294906616
         },
         {
          "class": 3,
          "dim1": -11.396328926086426,
          "dim2": 0.18643876910209656
         },
         {
          "class": 0,
          "dim1": 2.6461775302886963,
          "dim2": 4.112752437591553
         },
         {
          "class": 0,
          "dim1": 4.889211177825928,
          "dim2": 2.41414475440979
         },
         {
          "class": 1,
          "dim1": 2.590583086013794,
          "dim2": -12.326385498046875
         },
         {
          "class": 3,
          "dim1": -12.334009170532227,
          "dim2": -1.0946801900863647
         },
         {
          "class": 0,
          "dim1": -2.120131254196167,
          "dim2": 1.5435429811477661
         },
         {
          "class": 0,
          "dim1": 3.259024143218994,
          "dim2": 3.085754871368408
         },
         {
          "class": 3,
          "dim1": -12.335193634033203,
          "dim2": -2.8734848499298096
         },
         {
          "class": 3,
          "dim1": -13.323484420776367,
          "dim2": -2.456024169921875
         },
         {
          "class": 3,
          "dim1": -11.039398193359375,
          "dim2": -3.319150447845459
         },
         {
          "class": 0,
          "dim1": 8.493538856506348,
          "dim2": 5.448091506958008
         },
         {
          "class": 0,
          "dim1": 6.516247272491455,
          "dim2": 5.442930221557617
         },
         {
          "class": 0,
          "dim1": 1.6433260440826416,
          "dim2": 1.0586127042770386
         },
         {
          "class": 3,
          "dim1": -11.229033470153809,
          "dim2": 0.9890699982643127
         },
         {
          "class": 0,
          "dim1": 3.681217908859253,
          "dim2": 3.9820265769958496
         },
         {
          "class": 1,
          "dim1": 5.298300266265869,
          "dim2": 0.29354074597358704
         },
         {
          "class": 0,
          "dim1": -0.492339164018631,
          "dim2": 1.8532806634902954
         },
         {
          "class": 2,
          "dim1": 6.466957092285156,
          "dim2": -6.852670669555664
         },
         {
          "class": 0,
          "dim1": 3.7543246746063232,
          "dim2": 3.263197183609009
         },
         {
          "class": 0,
          "dim1": 5.693185806274414,
          "dim2": 3.9798827171325684
         },
         {
          "class": 3,
          "dim1": -11.387823104858398,
          "dim2": -3.7122910022735596
         },
         {
          "class": 1,
          "dim1": 4.095859050750732,
          "dim2": -12.901972770690918
         },
         {
          "class": 0,
          "dim1": 5.903014659881592,
          "dim2": 3.970302104949951
         },
         {
          "class": 3,
          "dim1": -10.845305442810059,
          "dim2": 0.7813369035720825
         },
         {
          "class": 3,
          "dim1": -12.913690567016602,
          "dim2": -2.9470572471618652
         },
         {
          "class": 0,
          "dim1": -0.763840913772583,
          "dim2": -1.7032407522201538
         },
         {
          "class": 0,
          "dim1": 0.5517376065254211,
          "dim2": 2.2043139934539795
         },
         {
          "class": 0,
          "dim1": -1.8405506610870361,
          "dim2": -0.37336504459381104
         },
         {
          "class": 3,
          "dim1": -10.489046096801758,
          "dim2": -3.3491830825805664
         },
         {
          "class": 0,
          "dim1": -1.205965280532837,
          "dim2": 1.4612277746200562
         },
         {
          "class": 1,
          "dim1": 3.1127288341522217,
          "dim2": -12.425969123840332
         },
         {
          "class": 1,
          "dim1": 4.718850135803223,
          "dim2": -12.013266563415527
         },
         {
          "class": 2,
          "dim1": 7.182454586029053,
          "dim2": -5.286991596221924
         },
         {
          "class": 0,
          "dim1": 0.30179110169410706,
          "dim2": -1.0352503061294556
         },
         {
          "class": 2,
          "dim1": -1.3438531160354614,
          "dim2": -8.228315353393555
         },
         {
          "class": 0,
          "dim1": 6.696096420288086,
          "dim2": 3.9335198402404785
         },
         {
          "class": 0,
          "dim1": 2.365678310394287,
          "dim2": 2.2436232566833496
         },
         {
          "class": 0,
          "dim1": 3.0687243938446045,
          "dim2": 3.036484479904175
         },
         {
          "class": 3,
          "dim1": -12.0755615234375,
          "dim2": -1.757413387298584
         },
         {
          "class": 1,
          "dim1": -2.9831435680389404,
          "dim2": 11.37442684173584
         },
         {
          "class": 0,
          "dim1": 3.316462516784668,
          "dim2": 3.582685947418213
         },
         {
          "class": 3,
          "dim1": -12.952597618103027,
          "dim2": -1.3185120820999146
         },
         {
          "class": 0,
          "dim1": -0.14442498981952667,
          "dim2": 2.8523573875427246
         },
         {
          "class": 0,
          "dim1": 3.611776351928711,
          "dim2": 5.171169757843018
         },
         {
          "class": 2,
          "dim1": 4.423984527587891,
          "dim2": -0.01171564869582653
         },
         {
          "class": 0,
          "dim1": 7.000162124633789,
          "dim2": 6.320669651031494
         },
         {
          "class": 1,
          "dim1": -2.2677433490753174,
          "dim2": 11.216325759887695
         },
         {
          "class": 1,
          "dim1": 3.5527565479278564,
          "dim2": -13.069391250610352
         },
         {
          "class": 0,
          "dim1": 0.8040969371795654,
          "dim2": 2.1208624839782715
         },
         {
          "class": 0,
          "dim1": 2.78464412689209,
          "dim2": 0.9539324045181274
         },
         {
          "class": 0,
          "dim1": 4.007883548736572,
          "dim2": 2.7730884552001953
         },
         {
          "class": 0,
          "dim1": 3.18795108795166,
          "dim2": 3.884561538696289
         },
         {
          "class": 2,
          "dim1": -3.3145649433135986,
          "dim2": 7.775191307067871
         },
         {
          "class": 0,
          "dim1": -3.3009917736053467,
          "dim2": -1.7328234910964966
         },
         {
          "class": 0,
          "dim1": 4.901803493499756,
          "dim2": 4.3338212966918945
         },
         {
          "class": 0,
          "dim1": 1.7852834463119507,
          "dim2": 1.506658911705017
         },
         {
          "class": 2,
          "dim1": -3.287330150604248,
          "dim2": 7.968358516693115
         },
         {
          "class": 3,
          "dim1": -12.81945514678955,
          "dim2": -1.1965563297271729
         },
         {
          "class": 0,
          "dim1": -2.508997678756714,
          "dim2": -1.9277219772338867
         },
         {
          "class": 3,
          "dim1": -12.402398109436035,
          "dim2": -0.9214746952056885
         },
         {
          "class": 0,
          "dim1": -0.5267232060432434,
          "dim2": 1.2962441444396973
         },
         {
          "class": 1,
          "dim1": -2.4162614345550537,
          "dim2": 9.125523567199707
         },
         {
          "class": 3,
          "dim1": -12.920125961303711,
          "dim2": -0.31453436613082886
         },
         {
          "class": 2,
          "dim1": -1.815768837928772,
          "dim2": -8.282486915588379
         },
         {
          "class": 0,
          "dim1": 1.8677293062210083,
          "dim2": 3.7806193828582764
         },
         {
          "class": 0,
          "dim1": 2.090951442718506,
          "dim2": 3.1950266361236572
         },
         {
          "class": 0,
          "dim1": 5.620344161987305,
          "dim2": 1.8056262731552124
         },
         {
          "class": 0,
          "dim1": 4.546191692352295,
          "dim2": 4.656213760375977
         },
         {
          "class": 0,
          "dim1": 4.559264183044434,
          "dim2": 2.635366439819336
         },
         {
          "class": 0,
          "dim1": 0.45396649837493896,
          "dim2": 2.1013619899749756
         },
         {
          "class": 0,
          "dim1": 2.266329526901245,
          "dim2": 4.165295600891113
         },
         {
          "class": 1,
          "dim1": 2.828843116760254,
          "dim2": -13.142180442810059
         },
         {
          "class": 1,
          "dim1": -2.2714591026306152,
          "dim2": 10.37092399597168
         },
         {
          "class": 0,
          "dim1": 0.8852206468582153,
          "dim2": 3.7489166259765625
         },
         {
          "class": 0,
          "dim1": -2.113893508911133,
          "dim2": -0.34235721826553345
         },
         {
          "class": 1,
          "dim1": 4.4424729347229,
          "dim2": -12.013703346252441
         },
         {
          "class": 2,
          "dim1": -0.5115312933921814,
          "dim2": 2.3709464073181152
         },
         {
          "class": 0,
          "dim1": 5.9376654624938965,
          "dim2": 2.008991003036499
         },
         {
          "class": 0,
          "dim1": -0.745739758014679,
          "dim2": 2.2809388637542725
         },
         {
          "class": 0,
          "dim1": 1.3651939630508423,
          "dim2": 1.702149748802185
         },
         {
          "class": 2,
          "dim1": -1.5487538576126099,
          "dim2": -7.9806904792785645
         },
         {
          "class": 3,
          "dim1": -11.4595365524292,
          "dim2": 0.6614400744438171
         },
         {
          "class": 3,
          "dim1": -11.83762264251709,
          "dim2": -2.5425381660461426
         },
         {
          "class": 0,
          "dim1": 7.826146602630615,
          "dim2": 4.779910087585449
         },
         {
          "class": 0,
          "dim1": 2.952057123184204,
          "dim2": 3.5072269439697266
         },
         {
          "class": 0,
          "dim1": 4.646368980407715,
          "dim2": 3.8965506553649902
         },
         {
          "class": 2,
          "dim1": 6.853386402130127,
          "dim2": -6.932413101196289
         },
         {
          "class": 0,
          "dim1": 3.2448253631591797,
          "dim2": 0.2465720772743225
         },
         {
          "class": 0,
          "dim1": 5.224740505218506,
          "dim2": 2.857936382293701
         },
         {
          "class": 0,
          "dim1": 3.3292531967163086,
          "dim2": 1.3989620208740234
         },
         {
          "class": 0,
          "dim1": 8.373285293579102,
          "dim2": 3.5071282386779785
         },
         {
          "class": 0,
          "dim1": -0.002200659131631255,
          "dim2": 1.5511261224746704
         },
         {
          "class": 0,
          "dim1": 3.891343832015991,
          "dim2": 3.740476369857788
         },
         {
          "class": 0,
          "dim1": 5.961235046386719,
          "dim2": 4.677416801452637
         },
         {
          "class": 1,
          "dim1": 0.7748301029205322,
          "dim2": -11.647111892700195
         },
         {
          "class": 0,
          "dim1": 1.153272271156311,
          "dim2": -0.3196503818035126
         },
         {
          "class": 1,
          "dim1": 3.495302677154541,
          "dim2": -13.50858211517334
         },
         {
          "class": 0,
          "dim1": -2.227036952972412,
          "dim2": 1.465989589691162
         },
         {
          "class": 3,
          "dim1": -12.055919647216797,
          "dim2": -3.696262836456299
         },
         {
          "class": 0,
          "dim1": -3.6236395835876465,
          "dim2": -0.40042778849601746
         },
         {
          "class": 3,
          "dim1": -10.262175559997559,
          "dim2": -3.2178969383239746
         },
         {
          "class": 0,
          "dim1": -1.6652820110321045,
          "dim2": 1.4472019672393799
         },
         {
          "class": 0,
          "dim1": 5.835575580596924,
          "dim2": 4.056872844696045
         },
         {
          "class": 2,
          "dim1": -3.0125715732574463,
          "dim2": -6.849595069885254
         },
         {
          "class": 2,
          "dim1": -3.02264666557312,
          "dim2": -7.951779365539551
         },
         {
          "class": 0,
          "dim1": 8.330185890197754,
          "dim2": 5.053824424743652
         },
         {
          "class": 3,
          "dim1": -11.153914451599121,
          "dim2": 0.4053904116153717
         },
         {
          "class": 0,
          "dim1": 7.181499004364014,
          "dim2": 1.9259850978851318
         },
         {
          "class": 1,
          "dim1": -2.595726490020752,
          "dim2": 10.3202486038208
         },
         {
          "class": 1,
          "dim1": 4.180474758148193,
          "dim2": -11.945612907409668
         },
         {
          "class": 0,
          "dim1": 7.544211387634277,
          "dim2": 3.873887300491333
         },
         {
          "class": 0,
          "dim1": 8.564936637878418,
          "dim2": 3.7549688816070557
         },
         {
          "class": 2,
          "dim1": -2.880561590194702,
          "dim2": -7.644005298614502
         },
         {
          "class": 3,
          "dim1": -10.183074951171875,
          "dim2": 0.6521775722503662
         },
         {
          "class": 0,
          "dim1": 3.46768856048584,
          "dim2": 0.41186830401420593
         },
         {
          "class": 0,
          "dim1": 7.955586910247803,
          "dim2": 4.810397624969482
         },
         {
          "class": 0,
          "dim1": 0.30698835849761963,
          "dim2": 0.8036212921142578
         },
         {
          "class": 3,
          "dim1": -10.419961929321289,
          "dim2": 0.7716981768608093
         },
         {
          "class": 1,
          "dim1": 4.635401248931885,
          "dim2": -12.008576393127441
         },
         {
          "class": 0,
          "dim1": -1.705114483833313,
          "dim2": -0.8903887867927551
         },
         {
          "class": 0,
          "dim1": 6.833897113800049,
          "dim2": 3.9090609550476074
         },
         {
          "class": 0,
          "dim1": -3.1155848503112793,
          "dim2": -2.3929622173309326
         },
         {
          "class": 0,
          "dim1": 3.247134208679199,
          "dim2": 0.8852108716964722
         },
         {
          "class": 0,
          "dim1": -1.5245904922485352,
          "dim2": 2.228541374206543
         },
         {
          "class": 1,
          "dim1": 3.250256061553955,
          "dim2": -12.826662063598633
         },
         {
          "class": 2,
          "dim1": 5.975580215454102,
          "dim2": 1.3014171123504639
         },
         {
          "class": 1,
          "dim1": -3.2102625370025635,
          "dim2": 12.247954368591309
         },
         {
          "class": 1,
          "dim1": 2.4763479232788086,
          "dim2": -13.198148727416992
         },
         {
          "class": 0,
          "dim1": 1.8992732763290405,
          "dim2": -0.0464443638920784
         },
         {
          "class": 2,
          "dim1": 6.260262489318848,
          "dim2": -7.192856788635254
         },
         {
          "class": 0,
          "dim1": 0.4530477225780487,
          "dim2": 1.640263557434082
         },
         {
          "class": 1,
          "dim1": 3.0674097537994385,
          "dim2": -12.775898933410645
         },
         {
          "class": 0,
          "dim1": 3.9201712608337402,
          "dim2": 2.0409109592437744
         },
         {
          "class": 0,
          "dim1": 2.3897998332977295,
          "dim2": 1.6008802652359009
         },
         {
          "class": 3,
          "dim1": -3.4690754413604736,
          "dim2": -1.8230057954788208
         },
         {
          "class": 0,
          "dim1": 4.898331642150879,
          "dim2": 3.0368595123291016
         },
         {
          "class": 3,
          "dim1": -12.402010917663574,
          "dim2": -2.389566421508789
         },
         {
          "class": 0,
          "dim1": 6.2193922996521,
          "dim2": 4.114968776702881
         },
         {
          "class": 0,
          "dim1": -3.463087797164917,
          "dim2": -0.508282482624054
         },
         {
          "class": 0,
          "dim1": 5.6884284019470215,
          "dim2": 2.8897619247436523
         },
         {
          "class": 0,
          "dim1": 8.046406745910645,
          "dim2": 4.879064083099365
         },
         {
          "class": 1,
          "dim1": -4.1139984130859375,
          "dim2": 11.656169891357422
         },
         {
          "class": 3,
          "dim1": -10.5971040725708,
          "dim2": 0.6754598021507263
         },
         {
          "class": 2,
          "dim1": -2.5573768615722656,
          "dim2": -7.491357803344727
         },
         {
          "class": 3,
          "dim1": -12.68710994720459,
          "dim2": 0.0956500768661499
         },
         {
          "class": 0,
          "dim1": 3.596660852432251,
          "dim2": 0.1603502631187439
         },
         {
          "class": 0,
          "dim1": 1.385933518409729,
          "dim2": 3.249056100845337
         },
         {
          "class": 3,
          "dim1": -4.417697906494141,
          "dim2": -1.4201831817626953
         },
         {
          "class": 0,
          "dim1": 0.13459408283233643,
          "dim2": 0.8443214297294617
         },
         {
          "class": 0,
          "dim1": -2.046800136566162,
          "dim2": 1.9978965520858765
         },
         {
          "class": 0,
          "dim1": 6.0103864669799805,
          "dim2": 2.839153289794922
         },
         {
          "class": 0,
          "dim1": 2.909532308578491,
          "dim2": -0.3975449204444885
         },
         {
          "class": 0,
          "dim1": -2.5590834617614746,
          "dim2": -1.9403626918792725
         },
         {
          "class": 3,
          "dim1": -12.392104148864746,
          "dim2": -3.524028778076172
         },
         {
          "class": 0,
          "dim1": 8.60019302368164,
          "dim2": 3.7840476036071777
         },
         {
          "class": 0,
          "dim1": -0.9041628837585449,
          "dim2": -0.19755496084690094
         },
         {
          "class": 1,
          "dim1": -2.585359811782837,
          "dim2": 12.082060813903809
         },
         {
          "class": 0,
          "dim1": 3.0047762393951416,
          "dim2": 1.3086124658584595
         },
         {
          "class": 0,
          "dim1": -3.1909608840942383,
          "dim2": -2.080759286880493
         },
         {
          "class": 0,
          "dim1": -1.210778832435608,
          "dim2": 1.7580132484436035
         },
         {
          "class": 0,
          "dim1": -1.756326675415039,
          "dim2": 2.2782092094421387
         },
         {
          "class": 0,
          "dim1": 4.322299957275391,
          "dim2": 1.9074770212173462
         },
         {
          "class": 2,
          "dim1": 1.1341733932495117,
          "dim2": -0.30707141757011414
         },
         {
          "class": 1,
          "dim1": 0.5932921171188354,
          "dim2": -10.809260368347168
         },
         {
          "class": 0,
          "dim1": 2.1114072799682617,
          "dim2": 1.9312825202941895
         },
         {
          "class": 0,
          "dim1": -3.763850212097168,
          "dim2": -0.3854214549064636
         },
         {
          "class": 0,
          "dim1": 1.697335958480835,
          "dim2": 1.5656014680862427
         },
         {
          "class": 0,
          "dim1": -1.7887482643127441,
          "dim2": -0.4349910616874695
         },
         {
          "class": 1,
          "dim1": 1.3385014533996582,
          "dim2": -13.008035659790039
         },
         {
          "class": 1,
          "dim1": 0.6791253685951233,
          "dim2": -11.309927940368652
         },
         {
          "class": 0,
          "dim1": 5.526594161987305,
          "dim2": 0.7100900411605835
         },
         {
          "class": 1,
          "dim1": -3.074425458908081,
          "dim2": 11.353899955749512
         },
         {
          "class": 0,
          "dim1": 6.2372541427612305,
          "dim2": 3.222165822982788
         },
         {
          "class": 2,
          "dim1": -2.3726375102996826,
          "dim2": -7.1659088134765625
         },
         {
          "class": 0,
          "dim1": 4.901461601257324,
          "dim2": 1.0912039279937744
         },
         {
          "class": 3,
          "dim1": -10.9458589553833,
          "dim2": 0.5314905643463135
         },
         {
          "class": 0,
          "dim1": -3.414872407913208,
          "dim2": -1.967038869857788
         },
         {
          "class": 1,
          "dim1": 2.249938488006592,
          "dim2": -12.607193946838379
         },
         {
          "class": 0,
          "dim1": 5.239843845367432,
          "dim2": 3.28399395942688
         },
         {
          "class": 0,
          "dim1": 3.844378709793091,
          "dim2": 5.3773322105407715
         },
         {
          "class": 0,
          "dim1": 2.423214912414551,
          "dim2": 3.945791244506836
         },
         {
          "class": 1,
          "dim1": 4.03757905960083,
          "dim2": -12.725526809692383
         },
         {
          "class": 2,
          "dim1": -2.35036563873291,
          "dim2": 6.627077579498291
         },
         {
          "class": 2,
          "dim1": 7.75804328918457,
          "dim2": -5.450030326843262
         },
         {
          "class": 2,
          "dim1": -2.107682228088379,
          "dim2": -7.456233978271484
         },
         {
          "class": 0,
          "dim1": 3.4426023960113525,
          "dim2": 4.326833248138428
         },
         {
          "class": 0,
          "dim1": 2.1646780967712402,
          "dim2": 1.6011861562728882
         },
         {
          "class": 2,
          "dim1": 7.764078617095947,
          "dim2": -6.221907615661621
         },
         {
          "class": 0,
          "dim1": -1.9900932312011719,
          "dim2": 6.430942058563232
         },
         {
          "class": 3,
          "dim1": -12.736191749572754,
          "dim2": -1.2860668897628784
         },
         {
          "class": 1,
          "dim1": 3.0816328525543213,
          "dim2": -12.263410568237305
         },
         {
          "class": 0,
          "dim1": 5.623817443847656,
          "dim2": 3.30946946144104
         },
         {
          "class": 1,
          "dim1": -2.590878486633301,
          "dim2": -2.1241323947906494
         },
         {
          "class": 0,
          "dim1": 7.928898334503174,
          "dim2": 3.784581184387207
         },
         {
          "class": 0,
          "dim1": 5.159094333648682,
          "dim2": 1.5689008235931396
         },
         {
          "class": 0,
          "dim1": 0.6030129194259644,
          "dim2": -1.0611951351165771
         },
         {
          "class": 0,
          "dim1": -0.02320590429008007,
          "dim2": 2.2178897857666016
         },
         {
          "class": 0,
          "dim1": 6.405447959899902,
          "dim2": 3.4610843658447266
         },
         {
          "class": 0,
          "dim1": 7.188788414001465,
          "dim2": 4.0216217041015625
         },
         {
          "class": 1,
          "dim1": 2.3074305057525635,
          "dim2": -1.5934338569641113
         },
         {
          "class": 0,
          "dim1": -0.1296698898077011,
          "dim2": 1.2241307497024536
         },
         {
          "class": 2,
          "dim1": -3.2512717247009277,
          "dim2": -6.931891441345215
         },
         {
          "class": 3,
          "dim1": -12.94630241394043,
          "dim2": -0.7363579869270325
         },
         {
          "class": 0,
          "dim1": 5.001574993133545,
          "dim2": 1.882825255393982
         },
         {
          "class": 0,
          "dim1": 3.6427836418151855,
          "dim2": 2.538525104522705
         },
         {
          "class": 0,
          "dim1": 4.258664131164551,
          "dim2": 1.737322449684143
         },
         {
          "class": 0,
          "dim1": 6.175925254821777,
          "dim2": 2.091689348220825
         },
         {
          "class": 2,
          "dim1": 1.8230820894241333,
          "dim2": -1.3927892446517944
         },
         {
          "class": 1,
          "dim1": 3.904374122619629,
          "dim2": -12.400261878967285
         },
         {
          "class": 0,
          "dim1": 0.10674741864204407,
          "dim2": 3.577410936355591
         },
         {
          "class": 0,
          "dim1": 8.061805725097656,
          "dim2": 3.5525903701782227
         },
         {
          "class": 1,
          "dim1": 3.116964340209961,
          "dim2": -13.356935501098633
         },
         {
          "class": 3,
          "dim1": -11.4408540725708,
          "dim2": -1.0133014917373657
         },
         {
          "class": 3,
          "dim1": -12.77352237701416,
          "dim2": -0.41340693831443787
         },
         {
          "class": 0,
          "dim1": 6.382612705230713,
          "dim2": 4.504020690917969
         },
         {
          "class": 0,
          "dim1": 1.284085750579834,
          "dim2": 0.5293565392494202
         },
         {
          "class": 2,
          "dim1": 7.140795707702637,
          "dim2": -6.648722171783447
         },
         {
          "class": 0,
          "dim1": -0.01671004295349121,
          "dim2": 3.180366277694702
         },
         {
          "class": 3,
          "dim1": -13.344330787658691,
          "dim2": -1.5256768465042114
         },
         {
          "class": 0,
          "dim1": 7.8647942543029785,
          "dim2": 4.182854652404785
         },
         {
          "class": 0,
          "dim1": 2.298896312713623,
          "dim2": 4.1492719650268555
         },
         {
          "class": 3,
          "dim1": -11.957919120788574,
          "dim2": -3.0943784713745117
         },
         {
          "class": 0,
          "dim1": 8.134340286254883,
          "dim2": 4.304727554321289
         },
         {
          "class": 0,
          "dim1": 0.476872056722641,
          "dim2": 0.166307732462883
         },
         {
          "class": 3,
          "dim1": -12.787802696228027,
          "dim2": -1.848454236984253
         },
         {
          "class": 0,
          "dim1": -1.9002488851547241,
          "dim2": -0.3946562707424164
         },
         {
          "class": 1,
          "dim1": -2.903282642364502,
          "dim2": 11.206608772277832
         },
         {
          "class": 0,
          "dim1": -2.612031936645508,
          "dim2": -0.05687064304947853
         },
         {
          "class": 0,
          "dim1": 4.6341118812561035,
          "dim2": 5.216575622558594
         },
         {
          "class": 0,
          "dim1": 2.392429828643799,
          "dim2": 0.541344165802002
         },
         {
          "class": 0,
          "dim1": 2.860370635986328,
          "dim2": -0.11668790131807327
         },
         {
          "class": 0,
          "dim1": 4.776813507080078,
          "dim2": 5.154554843902588
         },
         {
          "class": 0,
          "dim1": 0.2775670886039734,
          "dim2": 2.7880947589874268
         },
         {
          "class": 3,
          "dim1": -12.731724739074707,
          "dim2": -1.5622321367263794
         },
         {
          "class": 2,
          "dim1": -6.766621112823486,
          "dim2": 7.970127105712891
         },
         {
          "class": 0,
          "dim1": 2.3143460750579834,
          "dim2": -1.4779611825942993
         },
         {
          "class": 2,
          "dim1": -2.5026793479919434,
          "dim2": 6.809981346130371
         },
         {
          "class": 3,
          "dim1": -13.264411926269531,
          "dim2": -2.5738067626953125
         },
         {
          "class": 1,
          "dim1": 2.1795661449432373,
          "dim2": -13.039732933044434
         },
         {
          "class": 3,
          "dim1": -10.233965873718262,
          "dim2": -3.2150330543518066
         },
         {
          "class": 0,
          "dim1": 1.7277716398239136,
          "dim2": 2.594848394393921
         },
         {
          "class": 1,
          "dim1": -2.462566614151001,
          "dim2": 9.319047927856445
         },
         {
          "class": 0,
          "dim1": 1.5483719110488892,
          "dim2": 0.990540623664856
         },
         {
          "class": 3,
          "dim1": -11.907052993774414,
          "dim2": -0.5452484488487244
         },
         {
          "class": 0,
          "dim1": -1.383963704109192,
          "dim2": -1.627034068107605
         },
         {
          "class": 0,
          "dim1": -0.19426900148391724,
          "dim2": 0.5397955179214478
         },
         {
          "class": 0,
          "dim1": 2.8889739513397217,
          "dim2": 2.4471638202667236
         },
         {
          "class": 0,
          "dim1": 3.614415168762207,
          "dim2": 4.43922233581543
         },
         {
          "class": 1,
          "dim1": 2.0997490882873535,
          "dim2": -13.409982681274414
         },
         {
          "class": 1,
          "dim1": -2.29270076751709,
          "dim2": 11.637327194213867
         },
         {
          "class": 0,
          "dim1": 2.9164793491363525,
          "dim2": 0.0850580483675003
         },
         {
          "class": 0,
          "dim1": 2.424933910369873,
          "dim2": 3.8817298412323
         },
         {
          "class": 0,
          "dim1": 7.552669048309326,
          "dim2": 4.826198101043701
         },
         {
          "class": 0,
          "dim1": 6.661786079406738,
          "dim2": 1.4973442554473877
         },
         {
          "class": 0,
          "dim1": 0.5996636748313904,
          "dim2": 4.408715724945068
         },
         {
          "class": 0,
          "dim1": 6.182308197021484,
          "dim2": 5.140172958374023
         },
         {
          "class": 0,
          "dim1": 3.53969669342041,
          "dim2": 2.0899176597595215
         },
         {
          "class": 1,
          "dim1": 1.3553946018218994,
          "dim2": -13.009493827819824
         },
         {
          "class": 3,
          "dim1": -12.414544105529785,
          "dim2": -2.2783291339874268
         },
         {
          "class": 0,
          "dim1": 6.576021194458008,
          "dim2": 3.579678535461426
         },
         {
          "class": 3,
          "dim1": -10.49906063079834,
          "dim2": 0.7127397656440735
         },
         {
          "class": 0,
          "dim1": 6.742707252502441,
          "dim2": 1.8289991617202759
         },
         {
          "class": 0,
          "dim1": -2.2867038249969482,
          "dim2": 2.1387293338775635
         },
         {
          "class": 3,
          "dim1": -13.147377014160156,
          "dim2": -2.50301456451416
         },
         {
          "class": 0,
          "dim1": 1.837934970855713,
          "dim2": 1.1925398111343384
         },
         {
          "class": 0,
          "dim1": 7.236396312713623,
          "dim2": 3.865757465362549
         },
         {
          "class": 0,
          "dim1": -0.13366951048374176,
          "dim2": -1.5794826745986938
         },
         {
          "class": 3,
          "dim1": -11.948637008666992,
          "dim2": -3.8505163192749023
         },
         {
          "class": 0,
          "dim1": 2.5935797691345215,
          "dim2": 4.60400915145874
         },
         {
          "class": 3,
          "dim1": -10.407974243164062,
          "dim2": 0.6032230854034424
         },
         {
          "class": 2,
          "dim1": -1.9596221446990967,
          "dim2": -7.755433082580566
         },
         {
          "class": 1,
          "dim1": -2.287640333175659,
          "dim2": 11.226876258850098
         },
         {
          "class": 0,
          "dim1": 0.544965386390686,
          "dim2": 1.4287041425704956
         },
         {
          "class": 0,
          "dim1": -1.0486688613891602,
          "dim2": -0.20864950120449066
         },
         {
          "class": 3,
          "dim1": -11.763442993164062,
          "dim2": -2.3276381492614746
         },
         {
          "class": 0,
          "dim1": -4.072173118591309,
          "dim2": -1.8386547565460205
         },
         {
          "class": 3,
          "dim1": -10.463739395141602,
          "dim2": -3.550306558609009
         },
         {
          "class": 2,
          "dim1": 7.7333245277404785,
          "dim2": -6.390255451202393
         },
         {
          "class": 3,
          "dim1": -12.297525405883789,
          "dim2": -0.5430639386177063
         },
         {
          "class": 1,
          "dim1": 0.7658194303512573,
          "dim2": -11.715700149536133
         },
         {
          "class": 0,
          "dim1": -0.5338542461395264,
          "dim2": 0.611080527305603
         },
         {
          "class": 2,
          "dim1": -3.480034828186035,
          "dim2": -7.417797088623047
         },
         {
          "class": 2,
          "dim1": 7.17266321182251,
          "dim2": -6.763969421386719
         },
         {
          "class": 2,
          "dim1": 7.493356227874756,
          "dim2": -5.6315016746521
         },
         {
          "class": 2,
          "dim1": -7.195451259613037,
          "dim2": 7.144744396209717
         },
         {
          "class": 0,
          "dim1": -3.1250369548797607,
          "dim2": -0.7558335661888123
         },
         {
          "class": 0,
          "dim1": 3.917114496231079,
          "dim2": 4.374017715454102
         },
         {
          "class": 0,
          "dim1": 3.1670916080474854,
          "dim2": 2.9789090156555176
         },
         {
          "class": 0,
          "dim1": 0.46050208806991577,
          "dim2": 1.1766403913497925
         },
         {
          "class": 0,
          "dim1": 5.997012615203857,
          "dim2": 3.664524793624878
         },
         {
          "class": 3,
          "dim1": -12.78965950012207,
          "dim2": -1.8134196996688843
         },
         {
          "class": 0,
          "dim1": 2.191524028778076,
          "dim2": -0.8561034798622131
         },
         {
          "class": 1,
          "dim1": 3.6722757816314697,
          "dim2": -12.259734153747559
         },
         {
          "class": 0,
          "dim1": 6.712886810302734,
          "dim2": 2.357919931411743
         },
         {
          "class": 0,
          "dim1": 2.4866278171539307,
          "dim2": 3.8812026977539062
         },
         {
          "class": 0,
          "dim1": -0.850975513458252,
          "dim2": -0.7015321254730225
         },
         {
          "class": 3,
          "dim1": -12.714942932128906,
          "dim2": -2.9850587844848633
         },
         {
          "class": 0,
          "dim1": 6.044121265411377,
          "dim2": 4.82246732711792
         },
         {
          "class": 3,
          "dim1": -12.358040809631348,
          "dim2": -0.8290860652923584
         },
         {
          "class": 0,
          "dim1": 4.754299640655518,
          "dim2": 0.18601985275745392
         },
         {
          "class": 0,
          "dim1": 7.788166046142578,
          "dim2": 4.776006698608398
         },
         {
          "class": 0,
          "dim1": 3.1234211921691895,
          "dim2": 3.980827569961548
         },
         {
          "class": 0,
          "dim1": -2.204413890838623,
          "dim2": 0.20491747558116913
         },
         {
          "class": 1,
          "dim1": -4.6006059646606445,
          "dim2": 11.40523624420166
         },
         {
          "class": 1,
          "dim1": 3.4449849128723145,
          "dim2": -13.548295021057129
         },
         {
          "class": 3,
          "dim1": -11.254150390625,
          "dim2": 0.273129940032959
         },
         {
          "class": 1,
          "dim1": 2.607088327407837,
          "dim2": -13.204580307006836
         },
         {
          "class": 1,
          "dim1": 4.031831741333008,
          "dim2": -12.134023666381836
         },
         {
          "class": 2,
          "dim1": -2.8886592388153076,
          "dim2": -0.29542994499206543
         },
         {
          "class": 3,
          "dim1": -12.216347694396973,
          "dim2": -3.7413837909698486
         },
         {
          "class": 0,
          "dim1": 1.6913115978240967,
          "dim2": 2.3330020904541016
         },
         {
          "class": 1,
          "dim1": -3.0725841522216797,
          "dim2": 12.024234771728516
         },
         {
          "class": 0,
          "dim1": 2.726712465286255,
          "dim2": 3.98529052734375
         },
         {
          "class": 2,
          "dim1": -2.604414939880371,
          "dim2": -7.955053329467773
         },
         {
          "class": 0,
          "dim1": 4.318985462188721,
          "dim2": 0.8363856077194214
         },
         {
          "class": 2,
          "dim1": 7.5144453048706055,
          "dim2": -6.530421733856201
         },
         {
          "class": 2,
          "dim1": -6.786727428436279,
          "dim2": 7.8182196617126465
         },
         {
          "class": 1,
          "dim1": 3.0787105560302734,
          "dim2": -12.27840805053711
         },
         {
          "class": 3,
          "dim1": -12.11107063293457,
          "dim2": -2.2379276752471924
         },
         {
          "class": 0,
          "dim1": 5.54194974899292,
          "dim2": 2.027822256088257
         },
         {
          "class": 0,
          "dim1": 6.32571268081665,
          "dim2": 4.233484745025635
         },
         {
          "class": 0,
          "dim1": -0.16831550002098083,
          "dim2": 2.59859037399292
         },
         {
          "class": 3,
          "dim1": -12.15161418914795,
          "dim2": -0.21854941546916962
         },
         {
          "class": 3,
          "dim1": -10.751206398010254,
          "dim2": -3.5435218811035156
         },
         {
          "class": 0,
          "dim1": 5.0460309982299805,
          "dim2": 3.3329615592956543
         },
         {
          "class": 3,
          "dim1": -13.075214385986328,
          "dim2": -1.0492652654647827
         },
         {
          "class": 0,
          "dim1": -0.1971164047718048,
          "dim2": 2.372955560684204
         },
         {
          "class": 0,
          "dim1": 4.3946356773376465,
          "dim2": 1.840736746788025
         },
         {
          "class": 3,
          "dim1": -10.779999732971191,
          "dim2": -3.620332956314087
         },
         {
          "class": 0,
          "dim1": 4.782515525817871,
          "dim2": 4.487130165100098
         },
         {
          "class": 0,
          "dim1": 2.6736788749694824,
          "dim2": 2.1700234413146973
         },
         {
          "class": 0,
          "dim1": 8.524723052978516,
          "dim2": 4.326820373535156
         },
         {
          "class": 0,
          "dim1": -2.284750461578369,
          "dim2": -0.11550109833478928
         },
         {
          "class": 2,
          "dim1": -2.9742512702941895,
          "dim2": -7.761029243469238
         },
         {
          "class": 0,
          "dim1": -1.2080250978469849,
          "dim2": -0.3780393600463867
         },
         {
          "class": 0,
          "dim1": 5.813615322113037,
          "dim2": 3.909054756164551
         },
         {
          "class": 0,
          "dim1": -2.412355899810791,
          "dim2": -0.007775270380079746
         },
         {
          "class": 0,
          "dim1": 6.775785446166992,
          "dim2": 5.921379089355469
         },
         {
          "class": 0,
          "dim1": 8.467729568481445,
          "dim2": 4.628118515014648
         },
         {
          "class": 2,
          "dim1": -3.6205058097839355,
          "dim2": -6.650991439819336
         },
         {
          "class": 0,
          "dim1": 1.6633803844451904,
          "dim2": 2.1450729370117188
         },
         {
          "class": 0,
          "dim1": 7.5278520584106445,
          "dim2": 4.293167591094971
         },
         {
          "class": 1,
          "dim1": -2.2701804637908936,
          "dim2": 11.35681438446045
         },
         {
          "class": 0,
          "dim1": 1.521687388420105,
          "dim2": 0.6016442775726318
         },
         {
          "class": 1,
          "dim1": 2.1860454082489014,
          "dim2": -12.056283950805664
         },
         {
          "class": 2,
          "dim1": 6.395751476287842,
          "dim2": -7.195328235626221
         },
         {
          "class": 0,
          "dim1": -3.0747904777526855,
          "dim2": -2.004883289337158
         },
         {
          "class": 0,
          "dim1": 5.276605606079102,
          "dim2": 0.4469907283782959
         },
         {
          "class": 0,
          "dim1": 2.0554614067077637,
          "dim2": 2.97005295753479
         },
         {
          "class": 0,
          "dim1": 1.7980848550796509,
          "dim2": -0.5128417611122131
         },
         {
          "class": 0,
          "dim1": 4.109698295593262,
          "dim2": 2.6719276905059814
         },
         {
          "class": 2,
          "dim1": -7.114237308502197,
          "dim2": 7.659867763519287
         },
         {
          "class": 0,
          "dim1": -3.069779634475708,
          "dim2": -1.711074709892273
         },
         {
          "class": 0,
          "dim1": 4.496761798858643,
          "dim2": 3.696453094482422
         },
         {
          "class": 3,
          "dim1": -3.367105722427368,
          "dim2": -2.1426854133605957
         },
         {
          "class": 0,
          "dim1": -2.6320793628692627,
          "dim2": -2.195842742919922
         },
         {
          "class": 0,
          "dim1": 4.65723991394043,
          "dim2": 2.6128602027893066
         },
         {
          "class": 0,
          "dim1": 0.7770126461982727,
          "dim2": 3.1524693965911865
         },
         {
          "class": 0,
          "dim1": 3.056121826171875,
          "dim2": 4.377920627593994
         },
         {
          "class": 2,
          "dim1": 7.632379531860352,
          "dim2": -5.056623935699463
         },
         {
          "class": 3,
          "dim1": -12.352438926696777,
          "dim2": -3.4800784587860107
         },
         {
          "class": 0,
          "dim1": 0.6423335671424866,
          "dim2": 2.53938627243042
         },
         {
          "class": 2,
          "dim1": -2.582610607147217,
          "dim2": -7.715939044952393
         },
         {
          "class": 0,
          "dim1": 4.636381149291992,
          "dim2": 3.5013866424560547
         },
         {
          "class": 0,
          "dim1": -0.9716517925262451,
          "dim2": -0.2372601181268692
         },
         {
          "class": 2,
          "dim1": -2.739163637161255,
          "dim2": 7.078684329986572
         },
         {
          "class": 3,
          "dim1": -11.150847434997559,
          "dim2": -0.01011751964688301
         },
         {
          "class": 2,
          "dim1": -3.53818678855896,
          "dim2": -7.331137657165527
         },
         {
          "class": 0,
          "dim1": -4.488239765167236,
          "dim2": -0.5588829517364502
         },
         {
          "class": 3,
          "dim1": -12.645803451538086,
          "dim2": 0.1984066516160965
         },
         {
          "class": 0,
          "dim1": -0.9434247612953186,
          "dim2": -2.2001054286956787
         },
         {
          "class": 3,
          "dim1": -11.433658599853516,
          "dim2": -0.28121018409729004
         },
         {
          "class": 3,
          "dim1": -11.191069602966309,
          "dim2": 0.7453605532646179
         },
         {
          "class": 1,
          "dim1": 1.1368945837020874,
          "dim2": -12.151004791259766
         },
         {
          "class": 0,
          "dim1": 4.906074523925781,
          "dim2": 0.42169928550720215
         },
         {
          "class": 0,
          "dim1": 6.353405952453613,
          "dim2": 3.5241754055023193
         },
         {
          "class": 1,
          "dim1": 1.4187177419662476,
          "dim2": -12.61361312866211
         },
         {
          "class": 1,
          "dim1": 2.7518672943115234,
          "dim2": -12.507564544677734
         },
         {
          "class": 0,
          "dim1": 0.21482905745506287,
          "dim2": -1.0189340114593506
         },
         {
          "class": 0,
          "dim1": 8.364950180053711,
          "dim2": 4.069841384887695
         },
         {
          "class": 1,
          "dim1": -2.6926064491271973,
          "dim2": 12.17815113067627
         },
         {
          "class": 0,
          "dim1": 2.577939033508301,
          "dim2": 4.494668483734131
         },
         {
          "class": 0,
          "dim1": 3.359304428100586,
          "dim2": 3.924543857574463
         },
         {
          "class": 0,
          "dim1": 2.814872980117798,
          "dim2": 2.1650986671447754
         },
         {
          "class": 0,
          "dim1": 3.781045913696289,
          "dim2": 0.45858034491539
         },
         {
          "class": 2,
          "dim1": 3.0808684825897217,
          "dim2": 4.860945701599121
         },
         {
          "class": 0,
          "dim1": 2.3944547176361084,
          "dim2": 3.4291553497314453
         },
         {
          "class": 1,
          "dim1": -2.7317745685577393,
          "dim2": 12.128944396972656
         },
         {
          "class": 3,
          "dim1": -12.471468925476074,
          "dim2": -1.5287001132965088
         },
         {
          "class": 3,
          "dim1": -10.7374849319458,
          "dim2": 0.5442854762077332
         },
         {
          "class": 1,
          "dim1": 0.8287572860717773,
          "dim2": -11.388763427734375
         },
         {
          "class": 0,
          "dim1": 1.974973440170288,
          "dim2": -0.3137541115283966
         },
         {
          "class": 2,
          "dim1": 7.806417465209961,
          "dim2": -5.568675518035889
         },
         {
          "class": 1,
          "dim1": -2.3399600982666016,
          "dim2": 10.285447120666504
         },
         {
          "class": 3,
          "dim1": -11.133654594421387,
          "dim2": -3.254108190536499
         },
         {
          "class": 0,
          "dim1": 7.47259521484375,
          "dim2": 4.594583511352539
         },
         {
          "class": 0,
          "dim1": 7.970865249633789,
          "dim2": 5.918802738189697
         },
         {
          "class": 0,
          "dim1": 0.7033246159553528,
          "dim2": 2.679696798324585
         },
         {
          "class": 3,
          "dim1": -13.085972785949707,
          "dim2": -2.6703412532806396
         },
         {
          "class": 0,
          "dim1": 1.2318766117095947,
          "dim2": 1.4665600061416626
         },
         {
          "class": 0,
          "dim1": 4.158707618713379,
          "dim2": 1.299726963043213
         },
         {
          "class": 0,
          "dim1": 2.878673553466797,
          "dim2": 2.1861236095428467
         },
         {
          "class": 3,
          "dim1": -12.586463928222656,
          "dim2": -1.8758829832077026
         },
         {
          "class": 0,
          "dim1": -1.0103631019592285,
          "dim2": 0.5732237696647644
         },
         {
          "class": 0,
          "dim1": 5.248137950897217,
          "dim2": 2.1178364753723145
         },
         {
          "class": 1,
          "dim1": -2.891623020172119,
          "dim2": 10.467362403869629
         },
         {
          "class": 2,
          "dim1": -3.3710215091705322,
          "dim2": -7.622916221618652
         },
         {
          "class": 1,
          "dim1": 1.4091864824295044,
          "dim2": -12.711437225341797
         },
         {
          "class": 0,
          "dim1": 7.3272905349731445,
          "dim2": 5.742920398712158
         },
         {
          "class": 0,
          "dim1": 8.15031909942627,
          "dim2": 3.240553379058838
         },
         {
          "class": 2,
          "dim1": 6.031887531280518,
          "dim2": -6.4798665046691895
         },
         {
          "class": 3,
          "dim1": -11.992239952087402,
          "dim2": -1.8703423738479614
         },
         {
          "class": 0,
          "dim1": 8.350846290588379,
          "dim2": 4.71422004699707
         },
         {
          "class": 3,
          "dim1": -11.797379493713379,
          "dim2": -3.695176839828491
         },
         {
          "class": 1,
          "dim1": 2.2333810329437256,
          "dim2": -1.803222417831421
         },
         {
          "class": 1,
          "dim1": 4.901257038116455,
          "dim2": -11.629531860351562
         },
         {
          "class": 1,
          "dim1": 1.3811285495758057,
          "dim2": -12.23195743560791
         },
         {
          "class": 3,
          "dim1": -11.17233657836914,
          "dim2": -2.6990468502044678
         },
         {
          "class": 0,
          "dim1": 2.071075677871704,
          "dim2": 4.354996681213379
         },
         {
          "class": 0,
          "dim1": 1.085065245628357,
          "dim2": -0.26462191343307495
         },
         {
          "class": 0,
          "dim1": 0.6228607296943665,
          "dim2": 0.1494254320859909
         },
         {
          "class": 2,
          "dim1": -6.862817287445068,
          "dim2": 7.9511871337890625
         },
         {
          "class": 2,
          "dim1": -2.57185435295105,
          "dim2": -7.590081214904785
         },
         {
          "class": 3,
          "dim1": -11.015236854553223,
          "dim2": -0.04020063579082489
         },
         {
          "class": 0,
          "dim1": 4.854854583740234,
          "dim2": 5.167337894439697
         },
         {
          "class": 0,
          "dim1": 0.19725042581558228,
          "dim2": 1.4678094387054443
         },
         {
          "class": 0,
          "dim1": 2.6540305614471436,
          "dim2": 0.8486868143081665
         },
         {
          "class": 2,
          "dim1": -2.547227144241333,
          "dim2": -7.384659767150879
         },
         {
          "class": 0,
          "dim1": 5.649585723876953,
          "dim2": 3.1827564239501953
         },
         {
          "class": 2,
          "dim1": -6.551019668579102,
          "dim2": 8.13796615600586
         },
         {
          "class": 0,
          "dim1": 4.324892997741699,
          "dim2": 0.1391388177871704
         },
         {
          "class": 1,
          "dim1": -2.9526240825653076,
          "dim2": 11.400516510009766
         },
         {
          "class": 0,
          "dim1": 1.3548766374588013,
          "dim2": 0.6672985553741455
         },
         {
          "class": 0,
          "dim1": 3.8748302459716797,
          "dim2": -0.8787518739700317
         },
         {
          "class": 0,
          "dim1": 3.0194668769836426,
          "dim2": 3.239623785018921
         },
         {
          "class": 0,
          "dim1": 6.424870491027832,
          "dim2": 5.726809024810791
         },
         {
          "class": 2,
          "dim1": -2.933764934539795,
          "dim2": -7.519620895385742
         },
         {
          "class": 3,
          "dim1": -12.880769729614258,
          "dim2": -1.8770055770874023
         },
         {
          "class": 0,
          "dim1": 7.084134578704834,
          "dim2": 5.166736125946045
         },
         {
          "class": 2,
          "dim1": 7.003523349761963,
          "dim2": -6.79546594619751
         },
         {
          "class": 0,
          "dim1": 4.317826747894287,
          "dim2": 5.1908769607543945
         },
         {
          "class": 0,
          "dim1": 8.493741989135742,
          "dim2": 3.158062696456909
         },
         {
          "class": 0,
          "dim1": 2.425082206726074,
          "dim2": 3.035045862197876
         },
         {
          "class": 0,
          "dim1": 5.597563743591309,
          "dim2": 1.740319848060608
         },
         {
          "class": 0,
          "dim1": 2.628833293914795,
          "dim2": 2.347878932952881
         },
         {
          "class": 0,
          "dim1": -4.046444892883301,
          "dim2": -2.433026075363159
         },
         {
          "class": 0,
          "dim1": 3.8918967247009277,
          "dim2": 0.5878205895423889
         },
         {
          "class": 0,
          "dim1": 2.1725573539733887,
          "dim2": 3.241607666015625
         },
         {
          "class": 0,
          "dim1": 8.38668441772461,
          "dim2": 5.282209873199463
         },
         {
          "class": 1,
          "dim1": -3.5405516624450684,
          "dim2": 11.715507507324219
         },
         {
          "class": 3,
          "dim1": -11.767070770263672,
          "dim2": -1.2207627296447754
         },
         {
          "class": 1,
          "dim1": 3.8414838314056396,
          "dim2": -12.327630996704102
         },
         {
          "class": 1,
          "dim1": 4.051947593688965,
          "dim2": -13.020966529846191
         },
         {
          "class": 0,
          "dim1": 3.0527873039245605,
          "dim2": 4.536347389221191
         },
         {
          "class": 3,
          "dim1": -11.118756294250488,
          "dim2": -1.1809842586517334
         },
         {
          "class": 1,
          "dim1": 2.5146100521087646,
          "dim2": -13.314112663269043
         },
         {
          "class": 2,
          "dim1": -3.2324118614196777,
          "dim2": -7.73210334777832
         },
         {
          "class": 0,
          "dim1": 3.2066640853881836,
          "dim2": 0.15329019725322723
         },
         {
          "class": 1,
          "dim1": -2.226431131362915,
          "dim2": -1.9303717613220215
         },
         {
          "class": 3,
          "dim1": -10.232129096984863,
          "dim2": 0.7491663694381714
         },
         {
          "class": 0,
          "dim1": -3.251246452331543,
          "dim2": -1.6602156162261963
         },
         {
          "class": 2,
          "dim1": 6.857708930969238,
          "dim2": -5.763586521148682
         },
         {
          "class": 3,
          "dim1": -11.2076416015625,
          "dim2": 0.34464722871780396
         },
         {
          "class": 0,
          "dim1": 4.377187252044678,
          "dim2": 4.046949863433838
         },
         {
          "class": 3,
          "dim1": -12.391097068786621,
          "dim2": -3.5940299034118652
         },
         {
          "class": 0,
          "dim1": 8.21090030670166,
          "dim2": 2.673079013824463
         },
         {
          "class": 2,
          "dim1": 7.335456848144531,
          "dim2": -6.516611576080322
         },
         {
          "class": 2,
          "dim1": -3.1006693840026855,
          "dim2": -7.347079753875732
         },
         {
          "class": 0,
          "dim1": 6.420838356018066,
          "dim2": 3.466909885406494
         },
         {
          "class": 0,
          "dim1": -2.485337495803833,
          "dim2": -0.6458378434181213
         },
         {
          "class": 0,
          "dim1": 6.665505886077881,
          "dim2": 3.6128697395324707
         },
         {
          "class": 2,
          "dim1": 5.8347883224487305,
          "dim2": -6.927511215209961
         },
         {
          "class": 2,
          "dim1": -3.0578367710113525,
          "dim2": -7.503011226654053
         },
         {
          "class": 1,
          "dim1": -2.47165584564209,
          "dim2": 10.169087409973145
         },
         {
          "class": 0,
          "dim1": 4.31476354598999,
          "dim2": 4.160109043121338
         },
         {
          "class": 0,
          "dim1": 1.309301733970642,
          "dim2": 2.238119602203369
         },
         {
          "class": 0,
          "dim1": -3.8470535278320312,
          "dim2": -1.8797060251235962
         },
         {
          "class": 1,
          "dim1": 2.194159746170044,
          "dim2": -13.3494873046875
         },
         {
          "class": 2,
          "dim1": 7.234130859375,
          "dim2": -5.46673583984375
         },
         {
          "class": 0,
          "dim1": 8.241554260253906,
          "dim2": 5.174503803253174
         },
         {
          "class": 0,
          "dim1": 0.3521020710468292,
          "dim2": 0.08381558954715729
         },
         {
          "class": 0,
          "dim1": 2.107269763946533,
          "dim2": 4.053750038146973
         },
         {
          "class": 0,
          "dim1": -2.7921509742736816,
          "dim2": -2.2583398818969727
         },
         {
          "class": 0,
          "dim1": 2.447801113128662,
          "dim2": 2.7380354404449463
         },
         {
          "class": 2,
          "dim1": 7.669942378997803,
          "dim2": -6.194128036499023
         },
         {
          "class": 0,
          "dim1": 8.521903991699219,
          "dim2": 5.545020580291748
         },
         {
          "class": 0,
          "dim1": 1.142317533493042,
          "dim2": 0.31491610407829285
         },
         {
          "class": 1,
          "dim1": -0.623023509979248,
          "dim2": -3.011457920074463
         },
         {
          "class": 0,
          "dim1": 2.9079039096832275,
          "dim2": 4.77813196182251
         },
         {
          "class": 2,
          "dim1": 5.79005241394043,
          "dim2": -6.988257884979248
         },
         {
          "class": 2,
          "dim1": 6.441456317901611,
          "dim2": -6.295437812805176
         },
         {
          "class": 0,
          "dim1": 8.382692337036133,
          "dim2": 4.512714385986328
         },
         {
          "class": 1,
          "dim1": 1.7965857982635498,
          "dim2": -12.87669849395752
         },
         {
          "class": 1,
          "dim1": 2.9973065853118896,
          "dim2": -12.777416229248047
         },
         {
          "class": 0,
          "dim1": 1.913309931755066,
          "dim2": -1.2151925563812256
         },
         {
          "class": 0,
          "dim1": 4.554751396179199,
          "dim2": 3.047018051147461
         },
         {
          "class": 3,
          "dim1": -12.134963989257812,
          "dim2": -1.0352981090545654
         },
         {
          "class": 0,
          "dim1": 5.662403583526611,
          "dim2": 3.1198644638061523
         },
         {
          "class": 0,
          "dim1": -1.6469781398773193,
          "dim2": 0.41893792152404785
         },
         {
          "class": 0,
          "dim1": 6.653991222381592,
          "dim2": 5.086832523345947
         },
         {
          "class": 0,
          "dim1": 2.029277801513672,
          "dim2": 2.8812689781188965
         },
         {
          "class": 0,
          "dim1": -0.8811054825782776,
          "dim2": -0.8297327756881714
         },
         {
          "class": 1,
          "dim1": 3.2712836265563965,
          "dim2": -12.737025260925293
         },
         {
          "class": 0,
          "dim1": -3.442741870880127,
          "dim2": -1.9787492752075195
         },
         {
          "class": 0,
          "dim1": -0.6749647259712219,
          "dim2": 1.1169906854629517
         },
         {
          "class": 0,
          "dim1": -1.342186689376831,
          "dim2": 1.8347111940383911
         },
         {
          "class": 2,
          "dim1": 7.4844770431518555,
          "dim2": -6.187119007110596
         },
         {
          "class": 0,
          "dim1": 3.7181482315063477,
          "dim2": 1.186482310295105
         },
         {
          "class": 0,
          "dim1": 3.102074384689331,
          "dim2": 3.178858995437622
         },
         {
          "class": 1,
          "dim1": -2.96504807472229,
          "dim2": 10.938634872436523
         },
         {
          "class": 0,
          "dim1": 1.125076174736023,
          "dim2": 2.2948598861694336
         },
         {
          "class": 2,
          "dim1": 7.348804950714111,
          "dim2": -6.501735687255859
         },
         {
          "class": 3,
          "dim1": -4.065864562988281,
          "dim2": -2.1579601764678955
         },
         {
          "class": 3,
          "dim1": -12.838088035583496,
          "dim2": -0.20533433556556702
         },
         {
          "class": 3,
          "dim1": -11.892248153686523,
          "dim2": -0.08898445963859558
         },
         {
          "class": 1,
          "dim1": -3.9220969676971436,
          "dim2": 11.829029083251953
         },
         {
          "class": 3,
          "dim1": -13.221085548400879,
          "dim2": -2.029158353805542
         },
         {
          "class": 0,
          "dim1": 3.439091920852661,
          "dim2": 5.133710861206055
         },
         {
          "class": 1,
          "dim1": 2.936333417892456,
          "dim2": -13.384512901306152
         },
         {
          "class": 2,
          "dim1": -7.145505905151367,
          "dim2": 6.924074649810791
         },
         {
          "class": 1,
          "dim1": 2.575105905532837,
          "dim2": -12.643593788146973
         },
         {
          "class": 1,
          "dim1": 0.5858478546142578,
          "dim2": -10.689583778381348
         },
         {
          "class": 3,
          "dim1": -12.046936988830566,
          "dim2": -3.5630881786346436
         },
         {
          "class": 0,
          "dim1": 0.15735876560211182,
          "dim2": 2.124105215072632
         },
         {
          "class": 0,
          "dim1": -2.0832457542419434,
          "dim2": -0.827866792678833
         },
         {
          "class": 0,
          "dim1": 3.424964189529419,
          "dim2": 1.075907826423645
         },
         {
          "class": 0,
          "dim1": 1.527125358581543,
          "dim2": 4.267773628234863
         },
         {
          "class": 2,
          "dim1": -2.429410934448242,
          "dim2": -1.7199524641036987
         },
         {
          "class": 3,
          "dim1": -9.936521530151367,
          "dim2": 0.8247012495994568
         },
         {
          "class": 1,
          "dim1": -0.6412045359611511,
          "dim2": -3.2658796310424805
         },
         {
          "class": 1,
          "dim1": 3.98700213432312,
          "dim2": -12.555960655212402
         },
         {
          "class": 3,
          "dim1": -10.583815574645996,
          "dim2": -2.904207468032837
         },
         {
          "class": 0,
          "dim1": -1.6411538124084473,
          "dim2": -0.5116018652915955
         },
         {
          "class": 0,
          "dim1": -1.4156421422958374,
          "dim2": 0.15396010875701904
         },
         {
          "class": 0,
          "dim1": 0.4750952124595642,
          "dim2": 3.924825668334961
         },
         {
          "class": 3,
          "dim1": -12.995522499084473,
          "dim2": -2.8018763065338135
         },
         {
          "class": 1,
          "dim1": -2.7301766872406006,
          "dim2": 10.534186363220215
         },
         {
          "class": 3,
          "dim1": -12.83543586730957,
          "dim2": -1.174859642982483
         },
         {
          "class": 1,
          "dim1": 3.554874897003174,
          "dim2": -12.911795616149902
         },
         {
          "class": 3,
          "dim1": -11.554612159729004,
          "dim2": -3.7129123210906982
         },
         {
          "class": 3,
          "dim1": -10.499549865722656,
          "dim2": 0.5021910667419434
         },
         {
          "class": 1,
          "dim1": 1.3098887205123901,
          "dim2": -11.737895011901855
         },
         {
          "class": 0,
          "dim1": 3.0042009353637695,
          "dim2": 2.826253652572632
         },
         {
          "class": 0,
          "dim1": 0.18048758804798126,
          "dim2": 3.617645025253296
         },
         {
          "class": 0,
          "dim1": 4.589229583740234,
          "dim2": 1.4482638835906982
         },
         {
          "class": 1,
          "dim1": -3.6098926067352295,
          "dim2": 11.449377059936523
         },
         {
          "class": 0,
          "dim1": 7.958885669708252,
          "dim2": 4.300143241882324
         },
         {
          "class": 0,
          "dim1": -1.255015254020691,
          "dim2": -0.6653529405593872
         },
         {
          "class": 0,
          "dim1": 0.2901480495929718,
          "dim2": 0.8551657795906067
         },
         {
          "class": 2,
          "dim1": 6.994426250457764,
          "dim2": -5.584872245788574
         },
         {
          "class": 0,
          "dim1": 2.3458192348480225,
          "dim2": 3.2094690799713135
         },
         {
          "class": 1,
          "dim1": 0.8050768971443176,
          "dim2": -11.498153686523438
         },
         {
          "class": 2,
          "dim1": -7.050082206726074,
          "dim2": 7.523745059967041
         },
         {
          "class": 3,
          "dim1": -12.529560089111328,
          "dim2": -3.4702885150909424
         },
         {
          "class": 2,
          "dim1": -3.049267053604126,
          "dim2": -7.832247734069824
         },
         {
          "class": 0,
          "dim1": -0.13387857377529144,
          "dim2": 2.0994160175323486
         },
         {
          "class": 0,
          "dim1": 3.9179911613464355,
          "dim2": -0.14266228675842285
         },
         {
          "class": 0,
          "dim1": -3.1790425777435303,
          "dim2": -1.1611287593841553
         },
         {
          "class": 1,
          "dim1": 3.9035582542419434,
          "dim2": -13.159361839294434
         },
         {
          "class": 0,
          "dim1": -2.217423915863037,
          "dim2": 2.155061960220337
         },
         {
          "class": 0,
          "dim1": 4.597509384155273,
          "dim2": 0.8804522156715393
         },
         {
          "class": 0,
          "dim1": 4.2595744132995605,
          "dim2": 4.952591419219971
         },
         {
          "class": 0,
          "dim1": 2.646395683288574,
          "dim2": 4.367603778839111
         },
         {
          "class": 1,
          "dim1": 1.4911198616027832,
          "dim2": -12.5289888381958
         },
         {
          "class": 0,
          "dim1": 0.48193180561065674,
          "dim2": 0.1215781643986702
         },
         {
          "class": 0,
          "dim1": 7.607905387878418,
          "dim2": 4.957655906677246
         },
         {
          "class": 0,
          "dim1": 8.117240905761719,
          "dim2": 4.6632561683654785
         },
         {
          "class": 0,
          "dim1": 2.9239606857299805,
          "dim2": 2.5697097778320312
         },
         {
          "class": 3,
          "dim1": -4.437005996704102,
          "dim2": -1.9353702068328857
         },
         {
          "class": 1,
          "dim1": -2.400815725326538,
          "dim2": 9.683277130126953
         },
         {
          "class": 2,
          "dim1": 7.226930141448975,
          "dim2": -6.576445579528809
         },
         {
          "class": 3,
          "dim1": -12.40852165222168,
          "dim2": -1.1677166223526
         },
         {
          "class": 0,
          "dim1": 1.0300195217132568,
          "dim2": 2.8791189193725586
         },
         {
          "class": 0,
          "dim1": 8.194696426391602,
          "dim2": 3.826251745223999
         },
         {
          "class": 1,
          "dim1": 2.8057198524475098,
          "dim2": -12.830951690673828
         },
         {
          "class": 3,
          "dim1": -12.301610946655273,
          "dim2": 0.05717233195900917
         },
         {
          "class": 3,
          "dim1": -12.611404418945312,
          "dim2": -2.6974689960479736
         },
         {
          "class": 2,
          "dim1": -3.0055150985717773,
          "dim2": 7.283960342407227
         },
         {
          "class": 0,
          "dim1": -2.184265375137329,
          "dim2": 0.06053671985864639
         },
         {
          "class": 2,
          "dim1": 7.389501094818115,
          "dim2": -5.601435661315918
         },
         {
          "class": 1,
          "dim1": 4.7669901847839355,
          "dim2": -12.272358894348145
         },
         {
          "class": 0,
          "dim1": 4.550931453704834,
          "dim2": 4.062719345092773
         },
         {
          "class": 2,
          "dim1": 6.778666019439697,
          "dim2": -7.0527215003967285
         },
         {
          "class": 0,
          "dim1": -1.9073506593704224,
          "dim2": 0.9185664057731628
         },
         {
          "class": 0,
          "dim1": 4.18237829208374,
          "dim2": 1.1231842041015625
         },
         {
          "class": 3,
          "dim1": -11.528786659240723,
          "dim2": 0.356985867023468
         },
         {
          "class": 3,
          "dim1": -10.242408752441406,
          "dim2": -3.291133165359497
         },
         {
          "class": 0,
          "dim1": -1.1228468418121338,
          "dim2": -1.9598443508148193
         },
         {
          "class": 2,
          "dim1": -6.621097087860107,
          "dim2": 8.0977783203125
         },
         {
          "class": 2,
          "dim1": -3.185882806777954,
          "dim2": -6.906116008758545
         },
         {
          "class": 0,
          "dim1": 2.6584324836730957,
          "dim2": 0.08631924539804459
         },
         {
          "class": 2,
          "dim1": 6.890268802642822,
          "dim2": -6.658785820007324
         },
         {
          "class": 2,
          "dim1": -3.4810378551483154,
          "dim2": -7.276819705963135
         },
         {
          "class": 0,
          "dim1": 2.268972635269165,
          "dim2": 2.8630473613739014
         },
         {
          "class": 3,
          "dim1": -12.881440162658691,
          "dim2": -2.3914012908935547
         },
         {
          "class": 3,
          "dim1": -11.902344703674316,
          "dim2": -0.19705253839492798
         },
         {
          "class": 0,
          "dim1": 5.347622394561768,
          "dim2": 2.566859722137451
         },
         {
          "class": 0,
          "dim1": -1.5585789680480957,
          "dim2": 0.6727114319801331
         },
         {
          "class": 0,
          "dim1": 2.6476733684539795,
          "dim2": 2.0966320037841797
         },
         {
          "class": 0,
          "dim1": 3.395700216293335,
          "dim2": 5.108551979064941
         },
         {
          "class": 0,
          "dim1": -1.1387614011764526,
          "dim2": 0.29579460620880127
         },
         {
          "class": 2,
          "dim1": 6.945446491241455,
          "dim2": -6.1666975021362305
         },
         {
          "class": 1,
          "dim1": -4.771127223968506,
          "dim2": 11.168173789978027
         },
         {
          "class": 3,
          "dim1": -10.780587196350098,
          "dim2": 0.7892290949821472
         },
         {
          "class": 0,
          "dim1": 7.246575355529785,
          "dim2": 3.9319658279418945
         },
         {
          "class": 0,
          "dim1": 6.324865818023682,
          "dim2": 3.283329486846924
         },
         {
          "class": 0,
          "dim1": 6.903098106384277,
          "dim2": 1.7915409803390503
         },
         {
          "class": 0,
          "dim1": -0.7520194053649902,
          "dim2": 2.551682710647583
         },
         {
          "class": 0,
          "dim1": 0.4426599442958832,
          "dim2": 2.7946949005126953
         },
         {
          "class": 0,
          "dim1": 0.4681856334209442,
          "dim2": 4.083022117614746
         },
         {
          "class": 0,
          "dim1": 7.223394393920898,
          "dim2": 3.966219425201416
         },
         {
          "class": 0,
          "dim1": 1.908378005027771,
          "dim2": 4.329208850860596
         },
         {
          "class": 0,
          "dim1": -0.07582977414131165,
          "dim2": 3.065042018890381
         },
         {
          "class": 1,
          "dim1": -4.8026909828186035,
          "dim2": 11.132549285888672
         },
         {
          "class": 1,
          "dim1": -3.3453354835510254,
          "dim2": 11.325187683105469
         },
         {
          "class": 0,
          "dim1": 2.0730204582214355,
          "dim2": 1.3640111684799194
         },
         {
          "class": 0,
          "dim1": 3.248873233795166,
          "dim2": 1.741827130317688
         },
         {
          "class": 0,
          "dim1": 1.1023752689361572,
          "dim2": 1.9594148397445679
         },
         {
          "class": 0,
          "dim1": -0.11554129421710968,
          "dim2": 2.7519779205322266
         },
         {
          "class": 0,
          "dim1": -4.509740352630615,
          "dim2": -1.4135605096817017
         },
         {
          "class": 0,
          "dim1": 3.7464780807495117,
          "dim2": 2.914525032043457
         },
         {
          "class": 0,
          "dim1": 0.36154383420944214,
          "dim2": 1.8721855878829956
         },
         {
          "class": 2,
          "dim1": -1.8179289102554321,
          "dim2": -8.28200912475586
         },
         {
          "class": 0,
          "dim1": -3.10933518409729,
          "dim2": -2.2506070137023926
         },
         {
          "class": 0,
          "dim1": 4.29640007019043,
          "dim2": 3.29422664642334
         },
         {
          "class": 0,
          "dim1": 2.5921804904937744,
          "dim2": 1.1319940090179443
         },
         {
          "class": 0,
          "dim1": 4.454989910125732,
          "dim2": 0.631686806678772
         },
         {
          "class": 0,
          "dim1": 7.303832054138184,
          "dim2": 5.985235691070557
         },
         {
          "class": 0,
          "dim1": -1.2819080352783203,
          "dim2": 0.345653235912323
         },
         {
          "class": 2,
          "dim1": -7.126614570617676,
          "dim2": 7.409252166748047
         },
         {
          "class": 0,
          "dim1": 5.752130031585693,
          "dim2": 4.687716484069824
         },
         {
          "class": 0,
          "dim1": 8.122241973876953,
          "dim2": 4.209955215454102
         },
         {
          "class": 1,
          "dim1": 4.67974328994751,
          "dim2": -12.35823917388916
         },
         {
          "class": 1,
          "dim1": 0.5999935269355774,
          "dim2": -10.748533248901367
         },
         {
          "class": 0,
          "dim1": 8.113197326660156,
          "dim2": 5.033473014831543
         },
         {
          "class": 0,
          "dim1": -0.49823087453842163,
          "dim2": 0.40911465883255005
         },
         {
          "class": 1,
          "dim1": 3.4652156829833984,
          "dim2": -13.120804786682129
         },
         {
          "class": 3,
          "dim1": -11.214986801147461,
          "dim2": 0.4265510141849518
         },
         {
          "class": 1,
          "dim1": 1.2308837175369263,
          "dim2": -12.545042991638184
         },
         {
          "class": 3,
          "dim1": -13.228416442871094,
          "dim2": -2.191107749938965
         },
         {
          "class": 1,
          "dim1": 1.1431801319122314,
          "dim2": -11.327658653259277
         },
         {
          "class": 0,
          "dim1": 4.5078444480896,
          "dim2": 2.5858652591705322
         },
         {
          "class": 1,
          "dim1": 5.254602432250977,
          "dim2": 0.1361720710992813
         },
         {
          "class": 2,
          "dim1": -3.3140487670898438,
          "dim2": -7.11978006362915
         },
         {
          "class": 1,
          "dim1": 3.2630701065063477,
          "dim2": -12.728557586669922
         },
         {
          "class": 0,
          "dim1": 1.5426263809204102,
          "dim2": 4.329996585845947
         },
         {
          "class": 0,
          "dim1": 7.551164150238037,
          "dim2": 5.5022501945495605
         },
         {
          "class": 0,
          "dim1": 7.339756488800049,
          "dim2": 2.195347547531128
         },
         {
          "class": 2,
          "dim1": 6.25058126449585,
          "dim2": -7.15848445892334
         },
         {
          "class": 1,
          "dim1": 1.6023505926132202,
          "dim2": -0.5367341041564941
         },
         {
          "class": 0,
          "dim1": -1.3126041889190674,
          "dim2": -0.6222119331359863
         },
         {
          "class": 0,
          "dim1": 5.772708892822266,
          "dim2": 4.048571586608887
         },
         {
          "class": 2,
          "dim1": -7.140493869781494,
          "dim2": 7.021345615386963
         },
         {
          "class": 2,
          "dim1": -3.0123696327209473,
          "dim2": 7.25062370300293
         },
         {
          "class": 2,
          "dim1": 2.154940366744995,
          "dim2": -0.2784469425678253
         },
         {
          "class": 1,
          "dim1": -3.7296595573425293,
          "dim2": 11.480157852172852
         },
         {
          "class": 0,
          "dim1": 6.335021495819092,
          "dim2": 4.9918131828308105
         },
         {
          "class": 0,
          "dim1": 4.390719413757324,
          "dim2": 0.6809868812561035
         },
         {
          "class": 3,
          "dim1": -11.121195793151855,
          "dim2": -0.3770398795604706
         },
         {
          "class": 0,
          "dim1": -3.254014015197754,
          "dim2": -0.8836020231246948
         },
         {
          "class": 2,
          "dim1": 6.740334510803223,
          "dim2": -6.531519889831543
         },
         {
          "class": 0,
          "dim1": 5.206276893615723,
          "dim2": 3.5620532035827637
         },
         {
          "class": 2,
          "dim1": -7.096628189086914,
          "dim2": 6.767333507537842
         },
         {
          "class": 2,
          "dim1": -1.0178172588348389,
          "dim2": 2.4625449180603027
         },
         {
          "class": 0,
          "dim1": 5.929205894470215,
          "dim2": 3.5121467113494873
         },
         {
          "class": 0,
          "dim1": -0.1394115537405014,
          "dim2": 3.3922441005706787
         },
         {
          "class": 0,
          "dim1": 1.3839313983917236,
          "dim2": 1.7861658334732056
         },
         {
          "class": 0,
          "dim1": 1.9895309209823608,
          "dim2": 0.8904790282249451
         },
         {
          "class": 2,
          "dim1": -3.0413482189178467,
          "dim2": -7.921123027801514
         },
         {
          "class": 0,
          "dim1": 5.974906921386719,
          "dim2": 4.8170857429504395
         },
         {
          "class": 1,
          "dim1": 3.378467559814453,
          "dim2": -13.144841194152832
         },
         {
          "class": 2,
          "dim1": -3.5823469161987305,
          "dim2": -6.585288047790527
         },
         {
          "class": 0,
          "dim1": 7.377468109130859,
          "dim2": 2.1676716804504395
         },
         {
          "class": 0,
          "dim1": -1.6253517866134644,
          "dim2": 0.6149338483810425
         },
         {
          "class": 3,
          "dim1": -10.831677436828613,
          "dim2": -3.600550889968872
         },
         {
          "class": 1,
          "dim1": 3.5327513217926025,
          "dim2": -12.44761848449707
         },
         {
          "class": 0,
          "dim1": 3.3641631603240967,
          "dim2": 3.6708531379699707
         },
         {
          "class": 2,
          "dim1": -7.004799842834473,
          "dim2": 6.640100479125977
         },
         {
          "class": 2,
          "dim1": 7.318276882171631,
          "dim2": -5.194626331329346
         },
         {
          "class": 1,
          "dim1": -2.7511935234069824,
          "dim2": 10.102802276611328
         },
         {
          "class": 3,
          "dim1": -4.6528825759887695,
          "dim2": -0.2929319739341736
         },
         {
          "class": 0,
          "dim1": 2.708381175994873,
          "dim2": 0.9279828667640686
         },
         {
          "class": 0,
          "dim1": 2.335127115249634,
          "dim2": -0.2723182737827301
         },
         {
          "class": 0,
          "dim1": 4.983704090118408,
          "dim2": 2.1547489166259766
         },
         {
          "class": 2,
          "dim1": 7.8101372718811035,
          "dim2": -6.012728214263916
         },
         {
          "class": 0,
          "dim1": 6.40482234954834,
          "dim2": 3.2518720626831055
         },
         {
          "class": 1,
          "dim1": -3.4775452613830566,
          "dim2": 11.96242618560791
         },
         {
          "class": 3,
          "dim1": -4.180273056030273,
          "dim2": -0.46762344241142273
         },
         {
          "class": 1,
          "dim1": 1.0160677433013916,
          "dim2": -11.77522087097168
         },
         {
          "class": 1,
          "dim1": 1.3444364070892334,
          "dim2": -11.946453094482422
         },
         {
          "class": 0,
          "dim1": 8.29248046875,
          "dim2": 4.729640483856201
         },
         {
          "class": 0,
          "dim1": 1.3285956382751465,
          "dim2": 3.870055675506592
         },
         {
          "class": 0,
          "dim1": 2.568068742752075,
          "dim2": 2.3275771141052246
         },
         {
          "class": 2,
          "dim1": 4.045653820037842,
          "dim2": 0.2253715544939041
         },
         {
          "class": 0,
          "dim1": -1.1154664754867554,
          "dim2": 0.25892677903175354
         },
         {
          "class": 2,
          "dim1": 6.058273792266846,
          "dim2": -7.133338451385498
         },
         {
          "class": 1,
          "dim1": 2.791837453842163,
          "dim2": -12.86305046081543
         },
         {
          "class": 0,
          "dim1": 2.410869836807251,
          "dim2": 0.4273201525211334
         },
         {
          "class": 3,
          "dim1": -10.522648811340332,
          "dim2": -3.588229179382324
         },
         {
          "class": 3,
          "dim1": -10.713455200195312,
          "dim2": 0.12410661578178406
         },
         {
          "class": 0,
          "dim1": -1.7308531999588013,
          "dim2": 0.3359515368938446
         },
         {
          "class": 0,
          "dim1": 4.346584320068359,
          "dim2": 3.578840732574463
         },
         {
          "class": 1,
          "dim1": 2.0594799518585205,
          "dim2": -12.958192825317383
         },
         {
          "class": 0,
          "dim1": -0.3405728042125702,
          "dim2": -0.2342568039894104
         },
         {
          "class": 0,
          "dim1": 1.7256768941879272,
          "dim2": 4.237554550170898
         },
         {
          "class": 0,
          "dim1": 2.5839791297912598,
          "dim2": 2.0709991455078125
         },
         {
          "class": 1,
          "dim1": 2.402689218521118,
          "dim2": -12.287493705749512
         },
         {
          "class": 3,
          "dim1": -11.11898422241211,
          "dim2": -0.5235801339149475
         },
         {
          "class": 2,
          "dim1": 6.431464195251465,
          "dim2": -6.584727764129639
         },
         {
          "class": 0,
          "dim1": 6.760834693908691,
          "dim2": 1.5933560132980347
         },
         {
          "class": 0,
          "dim1": 7.021982192993164,
          "dim2": 3.6700267791748047
         },
         {
          "class": 0,
          "dim1": -2.9197845458984375,
          "dim2": -1.156359076499939
         },
         {
          "class": 0,
          "dim1": 0.9270727038383484,
          "dim2": 2.5135509967803955
         },
         {
          "class": 3,
          "dim1": -11.223274230957031,
          "dim2": -3.7172136306762695
         },
         {
          "class": 1,
          "dim1": 4.9560770988464355,
          "dim2": -0.7072113156318665
         },
         {
          "class": 0,
          "dim1": 6.606589317321777,
          "dim2": 5.243595123291016
         },
         {
          "class": 3,
          "dim1": -4.852598190307617,
          "dim2": -2.467700719833374
         },
         {
          "class": 2,
          "dim1": -6.9174723625183105,
          "dim2": 7.74735689163208
         },
         {
          "class": 0,
          "dim1": 7.553284168243408,
          "dim2": 3.0660786628723145
         },
         {
          "class": 3,
          "dim1": -3.9963433742523193,
          "dim2": -2.1818923950195312
         },
         {
          "class": 0,
          "dim1": 3.0505337715148926,
          "dim2": 3.8099725246429443
         },
         {
          "class": 0,
          "dim1": -1.0840427875518799,
          "dim2": 1.127685785293579
         },
         {
          "class": 0,
          "dim1": 4.9810638427734375,
          "dim2": 0.8271526098251343
         },
         {
          "class": 2,
          "dim1": -3.329063653945923,
          "dim2": -7.223653316497803
         },
         {
          "class": 2,
          "dim1": -6.529164791107178,
          "dim2": 8.047096252441406
         },
         {
          "class": 1,
          "dim1": 2.7682812213897705,
          "dim2": -12.818674087524414
         },
         {
          "class": 0,
          "dim1": 4.074818134307861,
          "dim2": 1.6658663749694824
         },
         {
          "class": 0,
          "dim1": 4.187739372253418,
          "dim2": -0.45965537428855896
         },
         {
          "class": 2,
          "dim1": -2.6170170307159424,
          "dim2": 6.768021583557129
         },
         {
          "class": 1,
          "dim1": -3.4010987281799316,
          "dim2": 11.920594215393066
         },
         {
          "class": 0,
          "dim1": 1.199383020401001,
          "dim2": 1.1634013652801514
         },
         {
          "class": 2,
          "dim1": -2.861268997192383,
          "dim2": -7.641805648803711
         },
         {
          "class": 3,
          "dim1": -11.537507057189941,
          "dim2": 0.28587618470191956
         },
         {
          "class": 1,
          "dim1": -2.5441784858703613,
          "dim2": 11.207382202148438
         },
         {
          "class": 1,
          "dim1": -2.3808605670928955,
          "dim2": 12.061176300048828
         },
         {
          "class": 2,
          "dim1": -3.0181567668914795,
          "dim2": -7.44563627243042
         },
         {
          "class": 0,
          "dim1": 4.417486667633057,
          "dim2": 3.7405600547790527
         },
         {
          "class": 2,
          "dim1": -3.291210174560547,
          "dim2": 7.762484550476074
         },
         {
          "class": 1,
          "dim1": 3.950380563735962,
          "dim2": -12.912394523620605
         },
         {
          "class": 0,
          "dim1": 8.57754898071289,
          "dim2": 3.2119758129119873
         },
         {
          "class": 3,
          "dim1": -12.963199615478516,
          "dim2": -2.253446578979492
         },
         {
          "class": 2,
          "dim1": 7.445102214813232,
          "dim2": -6.693989276885986
         },
         {
          "class": 1,
          "dim1": -3.652764081954956,
          "dim2": 11.56557846069336
         },
         {
          "class": 0,
          "dim1": -2.2674500942230225,
          "dim2": -0.4014663100242615
         },
         {
          "class": 3,
          "dim1": -10.742223739624023,
          "dim2": 0.6562618613243103
         },
         {
          "class": 0,
          "dim1": 1.532846450805664,
          "dim2": 1.469933271408081
         },
         {
          "class": 3,
          "dim1": -11.704048156738281,
          "dim2": -3.2524778842926025
         },
         {
          "class": 2,
          "dim1": 6.045218467712402,
          "dim2": -7.213810443878174
         },
         {
          "class": 0,
          "dim1": 6.386441230773926,
          "dim2": 5.645779132843018
         },
         {
          "class": 1,
          "dim1": -3.5830078125,
          "dim2": 11.597085952758789
         },
         {
          "class": 0,
          "dim1": 7.726254463195801,
          "dim2": 6.081589698791504
         },
         {
          "class": 3,
          "dim1": -13.1856689453125,
          "dim2": -2.1843206882476807
         },
         {
          "class": 3,
          "dim1": -4.536675453186035,
          "dim2": -0.3170921802520752
         },
         {
          "class": 3,
          "dim1": -12.088571548461914,
          "dim2": -2.657831907272339
         },
         {
          "class": 0,
          "dim1": 4.227941513061523,
          "dim2": 3.300955057144165
         },
         {
          "class": 3,
          "dim1": -11.039229393005371,
          "dim2": 0.4315328896045685
         },
         {
          "class": 0,
          "dim1": -1.1562726497650146,
          "dim2": -0.14484955370426178
         },
         {
          "class": 0,
          "dim1": 3.605602502822876,
          "dim2": 3.500912666320801
         },
         {
          "class": 2,
          "dim1": 7.086912631988525,
          "dim2": -5.470841407775879
         },
         {
          "class": 0,
          "dim1": 6.135320663452148,
          "dim2": 4.699630260467529
         },
         {
          "class": 0,
          "dim1": 6.285638332366943,
          "dim2": 3.8535513877868652
         },
         {
          "class": 2,
          "dim1": 7.451050758361816,
          "dim2": -5.334254264831543
         },
         {
          "class": 1,
          "dim1": 2.444812297821045,
          "dim2": -12.798910140991211
         },
         {
          "class": 1,
          "dim1": 1.8710060119628906,
          "dim2": -12.449319839477539
         },
         {
          "class": 3,
          "dim1": -12.190369606018066,
          "dim2": -1.1199564933776855
         },
         {
          "class": 0,
          "dim1": 5.256010055541992,
          "dim2": 2.3714046478271484
         },
         {
          "class": 1,
          "dim1": 0.745914101600647,
          "dim2": -11.178596496582031
         },
         {
          "class": 0,
          "dim1": 5.005702018737793,
          "dim2": 1.321204662322998
         },
         {
          "class": 1,
          "dim1": -3.344970941543579,
          "dim2": 11.526727676391602
         },
         {
          "class": 1,
          "dim1": -2.2193830013275146,
          "dim2": 11.036818504333496
         },
         {
          "class": 0,
          "dim1": 6.040989875793457,
          "dim2": 1.9471412897109985
         },
         {
          "class": 0,
          "dim1": -0.8911694884300232,
          "dim2": 1.0289005041122437
         },
         {
          "class": 3,
          "dim1": -12.122398376464844,
          "dim2": -0.5391258001327515
         },
         {
          "class": 1,
          "dim1": -3.2472031116485596,
          "dim2": 11.74605655670166
         },
         {
          "class": 2,
          "dim1": 7.534650802612305,
          "dim2": -5.802547454833984
         },
         {
          "class": 3,
          "dim1": -10.972622871398926,
          "dim2": -2.8556127548217773
         },
         {
          "class": 2,
          "dim1": 3.764608144760132,
          "dim2": -0.998688817024231
         },
         {
          "class": 1,
          "dim1": 0.8025363087654114,
          "dim2": -11.19701862335205
         },
         {
          "class": 0,
          "dim1": 1.269578218460083,
          "dim2": 3.8254234790802
         },
         {
          "class": 1,
          "dim1": 2.4808528423309326,
          "dim2": -13.659931182861328
         },
         {
          "class": 1,
          "dim1": 4.8401875495910645,
          "dim2": -11.715352058410645
         },
         {
          "class": 0,
          "dim1": -1.5409307479858398,
          "dim2": 2.1707897186279297
         },
         {
          "class": 1,
          "dim1": 0.6678502559661865,
          "dim2": -11.435161590576172
         },
         {
          "class": 0,
          "dim1": 3.5786616802215576,
          "dim2": 0.7460017204284668
         },
         {
          "class": 0,
          "dim1": -1.6884654760360718,
          "dim2": 0.25223278999328613
         },
         {
          "class": 3,
          "dim1": -11.253936767578125,
          "dim2": -2.1749422550201416
         },
         {
          "class": 0,
          "dim1": 5.722133159637451,
          "dim2": 4.556741237640381
         },
         {
          "class": 2,
          "dim1": 6.1592535972595215,
          "dim2": -7.09276819229126
         },
         {
          "class": 0,
          "dim1": -3.97725510597229,
          "dim2": -1.9885237216949463
         },
         {
          "class": 2,
          "dim1": -7.179522514343262,
          "dim2": 7.020190715789795
         },
         {
          "class": 0,
          "dim1": 4.316037654876709,
          "dim2": 3.2946293354034424
         },
         {
          "class": 1,
          "dim1": 2.2545812129974365,
          "dim2": -12.97414493560791
         },
         {
          "class": 0,
          "dim1": 4.394667625427246,
          "dim2": 0.5998083353042603
         },
         {
          "class": 0,
          "dim1": 7.306450366973877,
          "dim2": 2.7505457401275635
         },
         {
          "class": 0,
          "dim1": -0.11532622575759888,
          "dim2": -0.7314457297325134
         },
         {
          "class": 0,
          "dim1": 0.7994111180305481,
          "dim2": 1.871445894241333
         },
         {
          "class": 0,
          "dim1": 6.901040077209473,
          "dim2": 2.115084648132324
         },
         {
          "class": 2,
          "dim1": -0.9492018818855286,
          "dim2": 2.4571657180786133
         },
         {
          "class": 2,
          "dim1": -1.5194035768508911,
          "dim2": -7.643730163574219
         },
         {
          "class": 0,
          "dim1": 4.223043441772461,
          "dim2": 2.8371036052703857
         },
         {
          "class": 3,
          "dim1": -12.656599044799805,
          "dim2": -1.8482283353805542
         },
         {
          "class": 0,
          "dim1": -0.5707896947860718,
          "dim2": 2.61167049407959
         },
         {
          "class": 0,
          "dim1": -1.738712191581726,
          "dim2": -1.2718584537506104
         },
         {
          "class": 0,
          "dim1": 7.481443405151367,
          "dim2": 2.3922958374023438
         },
         {
          "class": 2,
          "dim1": -3.359382390975952,
          "dim2": 8.3272066116333
         },
         {
          "class": 0,
          "dim1": 4.623473167419434,
          "dim2": 0.7027244567871094
         },
         {
          "class": 1,
          "dim1": 1.8494071960449219,
          "dim2": -1.388649821281433
         },
         {
          "class": 3,
          "dim1": -10.861245155334473,
          "dim2": 0.8068912625312805
         },
         {
          "class": 2,
          "dim1": 6.263134956359863,
          "dim2": -7.050514221191406
         },
         {
          "class": 0,
          "dim1": 4.638978481292725,
          "dim2": 2.6789169311523438
         },
         {
          "class": 0,
          "dim1": 3.938490152359009,
          "dim2": 4.0521111488342285
         },
         {
          "class": 3,
          "dim1": -11.515944480895996,
          "dim2": -3.1777286529541016
         },
         {
          "class": 0,
          "dim1": 4.44495153427124,
          "dim2": 1.5346413850784302
         },
         {
          "class": 0,
          "dim1": 6.267694473266602,
          "dim2": 4.640317440032959
         },
         {
          "class": 3,
          "dim1": -12.410845756530762,
          "dim2": -2.946979284286499
         },
         {
          "class": 0,
          "dim1": 2.9319396018981934,
          "dim2": 3.5640275478363037
         },
         {
          "class": 3,
          "dim1": -13.127384185791016,
          "dim2": -1.302146077156067
         },
         {
          "class": 3,
          "dim1": -11.25734806060791,
          "dim2": 1.0004639625549316
         },
         {
          "class": 1,
          "dim1": -3.2570250034332275,
          "dim2": 11.478399276733398
         },
         {
          "class": 1,
          "dim1": 1.5628695487976074,
          "dim2": -12.285602569580078
         },
         {
          "class": 0,
          "dim1": 1.1278303861618042,
          "dim2": 3.2491402626037598
         },
         {
          "class": 0,
          "dim1": 8.018406867980957,
          "dim2": 4.894640922546387
         },
         {
          "class": 3,
          "dim1": -12.650405883789062,
          "dim2": -2.5190229415893555
         },
         {
          "class": 0,
          "dim1": -3.057373523712158,
          "dim2": 0.08573216944932938
         },
         {
          "class": 3,
          "dim1": -11.659517288208008,
          "dim2": 0.2196207046508789
         },
         {
          "class": 0,
          "dim1": -1.4579603672027588,
          "dim2": 2.2997989654541016
         },
         {
          "class": 0,
          "dim1": 7.963107585906982,
          "dim2": 4.1919755935668945
         },
         {
          "class": 0,
          "dim1": 7.730071067810059,
          "dim2": 2.914881467819214
         },
         {
          "class": 3,
          "dim1": -10.597636222839355,
          "dim2": -3.2928903102874756
         },
         {
          "class": 2,
          "dim1": -6.641673564910889,
          "dim2": 8.055360794067383
         },
         {
          "class": 2,
          "dim1": -3.595710277557373,
          "dim2": -6.904983043670654
         },
         {
          "class": 3,
          "dim1": -12.962060928344727,
          "dim2": -1.06173837184906
         },
         {
          "class": 0,
          "dim1": -3.3484385013580322,
          "dim2": -1.8623706102371216
         },
         {
          "class": 3,
          "dim1": -11.794151306152344,
          "dim2": -0.16551059484481812
         },
         {
          "class": 0,
          "dim1": 2.187868118286133,
          "dim2": 1.744635820388794
         },
         {
          "class": 1,
          "dim1": -2.7389612197875977,
          "dim2": 11.659720420837402
         },
         {
          "class": 1,
          "dim1": 2.9998013973236084,
          "dim2": -12.310868263244629
         },
         {
          "class": 0,
          "dim1": 5.493651390075684,
          "dim2": 2.598086357116699
         },
         {
          "class": 0,
          "dim1": 1.0359597206115723,
          "dim2": 2.498849391937256
         },
         {
          "class": 0,
          "dim1": 3.5978102684020996,
          "dim2": 1.6316347122192383
         },
         {
          "class": 0,
          "dim1": 8.423172950744629,
          "dim2": 4.55211067199707
         },
         {
          "class": 1,
          "dim1": -2.7721147537231445,
          "dim2": 11.08674144744873
         },
         {
          "class": 2,
          "dim1": -3.495241165161133,
          "dim2": -7.500961780548096
         },
         {
          "class": 1,
          "dim1": 0.62095046043396,
          "dim2": -11.096948623657227
         },
         {
          "class": 2,
          "dim1": 7.621979236602783,
          "dim2": -5.336154937744141
         },
         {
          "class": 3,
          "dim1": -10.407022476196289,
          "dim2": -3.39786434173584
         },
         {
          "class": 0,
          "dim1": 3.2444798946380615,
          "dim2": 2.6625053882598877
         },
         {
          "class": 0,
          "dim1": 3.0986225605010986,
          "dim2": 4.837977409362793
         },
         {
          "class": 0,
          "dim1": 1.5804531574249268,
          "dim2": 2.990560531616211
         },
         {
          "class": 2,
          "dim1": 6.760470867156982,
          "dim2": -5.810732364654541
         },
         {
          "class": 0,
          "dim1": -2.438887596130371,
          "dim2": 6.718072414398193
         },
         {
          "class": 3,
          "dim1": -11.536075592041016,
          "dim2": 0.4076713025569916
         },
         {
          "class": 1,
          "dim1": 0.8179038763046265,
          "dim2": -11.632164001464844
         },
         {
          "class": 3,
          "dim1": -10.391112327575684,
          "dim2": -2.7290704250335693
         },
         {
          "class": 0,
          "dim1": 6.851111888885498,
          "dim2": 6.007313251495361
         },
         {
          "class": 1,
          "dim1": -3.408176898956299,
          "dim2": 11.662251472473145
         },
         {
          "class": 2,
          "dim1": 5.537588119506836,
          "dim2": -6.981162071228027
         },
         {
          "class": 0,
          "dim1": 0.37352874875068665,
          "dim2": 2.5326592922210693
         },
         {
          "class": 2,
          "dim1": -3.22607421875,
          "dim2": 7.723785400390625
         },
         {
          "class": 1,
          "dim1": 0.8957754969596863,
          "dim2": -11.514872550964355
         },
         {
          "class": 1,
          "dim1": 3.7605090141296387,
          "dim2": -12.910388946533203
         },
         {
          "class": 2,
          "dim1": -3.9602978229522705,
          "dim2": -2.131147623062134
         },
         {
          "class": 0,
          "dim1": 6.909071922302246,
          "dim2": 5.1786274909973145
         },
         {
          "class": 3,
          "dim1": -12.046491622924805,
          "dim2": -0.00546822277829051
         },
         {
          "class": 0,
          "dim1": 0.5715941786766052,
          "dim2": 4.031734943389893
         },
         {
          "class": 3,
          "dim1": -11.458571434020996,
          "dim2": -2.4243409633636475
         },
         {
          "class": 0,
          "dim1": 3.734395980834961,
          "dim2": 0.7643852829933167
         },
         {
          "class": 3,
          "dim1": -11.45875358581543,
          "dim2": -1.1581523418426514
         },
         {
          "class": 0,
          "dim1": 2.196326971054077,
          "dim2": 4.4143877029418945
         },
         {
          "class": 1,
          "dim1": 3.4526007175445557,
          "dim2": -13.13520336151123
         },
         {
          "class": 0,
          "dim1": 4.670255184173584,
          "dim2": 4.809338569641113
         },
         {
          "class": 3,
          "dim1": -10.449679374694824,
          "dim2": 0.5040385723114014
         },
         {
          "class": 0,
          "dim1": 3.077594757080078,
          "dim2": 3.0677106380462646
         },
         {
          "class": 0,
          "dim1": 2.397289276123047,
          "dim2": 2.110668420791626
         },
         {
          "class": 0,
          "dim1": -3.151900291442871,
          "dim2": -1.3691548109054565
         },
         {
          "class": 1,
          "dim1": 1.274282693862915,
          "dim2": -12.628927230834961
         },
         {
          "class": 2,
          "dim1": -1.8281364440917969,
          "dim2": -7.358719825744629
         },
         {
          "class": 0,
          "dim1": -2.097384214401245,
          "dim2": 0.06630285829305649
         },
         {
          "class": 0,
          "dim1": 4.878389835357666,
          "dim2": 4.9001240730285645
         },
         {
          "class": 1,
          "dim1": 1.0350853204727173,
          "dim2": -12.319669723510742
         },
         {
          "class": 2,
          "dim1": -6.2414116859436035,
          "dim2": 8.256235122680664
         },
         {
          "class": 3,
          "dim1": -12.145002365112305,
          "dim2": -3.740920305252075
         },
         {
          "class": 3,
          "dim1": -4.8259735107421875,
          "dim2": -2.505882501602173
         },
         {
          "class": 0,
          "dim1": 1.3178561925888062,
          "dim2": 1.23147714138031
         },
         {
          "class": 0,
          "dim1": 2.820603370666504,
          "dim2": 0.16052716970443726
         },
         {
          "class": 0,
          "dim1": 6.077279567718506,
          "dim2": 3.9352922439575195
         },
         {
          "class": 0,
          "dim1": 6.703254222869873,
          "dim2": 4.395031452178955
         },
         {
          "class": 3,
          "dim1": -12.36024284362793,
          "dim2": -3.4161722660064697
         },
         {
          "class": 0,
          "dim1": 6.553126811981201,
          "dim2": 3.4752230644226074
         },
         {
          "class": 2,
          "dim1": 7.2685627937316895,
          "dim2": -6.4600019454956055
         },
         {
          "class": 1,
          "dim1": 0.6974422931671143,
          "dim2": -11.958697319030762
         },
         {
          "class": 0,
          "dim1": 0.23319298028945923,
          "dim2": 0.3519173264503479
         },
         {
          "class": 0,
          "dim1": 5.149374485015869,
          "dim2": 1.455678105354309
         },
         {
          "class": 0,
          "dim1": 6.837228298187256,
          "dim2": 4.749495029449463
         },
         {
          "class": 1,
          "dim1": 1.7199082374572754,
          "dim2": -12.330211639404297
         },
         {
          "class": 0,
          "dim1": 2.5757198333740234,
          "dim2": 1.5059067010879517
         },
         {
          "class": 0,
          "dim1": 2.4694459438323975,
          "dim2": 1.5473624467849731
         },
         {
          "class": 0,
          "dim1": 7.341329097747803,
          "dim2": 2.1073546409606934
         },
         {
          "class": 0,
          "dim1": 6.124870300292969,
          "dim2": 2.3235151767730713
         },
         {
          "class": 1,
          "dim1": 3.980593204498291,
          "dim2": -13.01648235321045
         },
         {
          "class": 2,
          "dim1": 6.838016033172607,
          "dim2": -6.470132827758789
         },
         {
          "class": 0,
          "dim1": -0.1544087827205658,
          "dim2": -0.9081525206565857
         },
         {
          "class": 0,
          "dim1": 2.7259175777435303,
          "dim2": 4.4924211502075195
         },
         {
          "class": 3,
          "dim1": -4.6942667961120605,
          "dim2": -0.2731323838233948
         },
         {
          "class": 0,
          "dim1": 2.406980037689209,
          "dim2": 2.1007919311523438
         },
         {
          "class": 1,
          "dim1": 1.130237340927124,
          "dim2": -11.786866188049316
         },
         {
          "class": 0,
          "dim1": -0.13596804440021515,
          "dim2": 1.9925686120986938
         },
         {
          "class": 2,
          "dim1": -6.88260555267334,
          "dim2": 7.318715572357178
         },
         {
          "class": 1,
          "dim1": -2.5202229022979736,
          "dim2": 10.58015251159668
         },
         {
          "class": 0,
          "dim1": -1.1721453666687012,
          "dim2": -0.9520140886306763
         },
         {
          "class": 0,
          "dim1": -1.9859223365783691,
          "dim2": 2.2377970218658447
         },
         {
          "class": 1,
          "dim1": 0.7086353302001953,
          "dim2": -11.228005409240723
         },
         {
          "class": 0,
          "dim1": 3.970318078994751,
          "dim2": 3.095001459121704
         },
         {
          "class": 0,
          "dim1": 2.3709022998809814,
          "dim2": 2.006436824798584
         },
         {
          "class": 2,
          "dim1": -3.3121228218078613,
          "dim2": 8.221271514892578
         },
         {
          "class": 1,
          "dim1": 0.9871920943260193,
          "dim2": -12.317144393920898
         },
         {
          "class": 1,
          "dim1": -4.461945056915283,
          "dim2": 11.427995681762695
         },
         {
          "class": 0,
          "dim1": 4.035797119140625,
          "dim2": 2.4256064891815186
         },
         {
          "class": 0,
          "dim1": -4.515958309173584,
          "dim2": -2.306342363357544
         },
         {
          "class": 0,
          "dim1": 3.4139277935028076,
          "dim2": 0.5067896246910095
         },
         {
          "class": 0,
          "dim1": 8.187731742858887,
          "dim2": 4.61053991317749
         },
         {
          "class": 3,
          "dim1": -11.01945686340332,
          "dim2": -3.3769748210906982
         },
         {
          "class": 1,
          "dim1": 4.8573408126831055,
          "dim2": -12.202115058898926
         },
         {
          "class": 2,
          "dim1": -3.277289628982544,
          "dim2": 8.038784980773926
         },
         {
          "class": 0,
          "dim1": 4.913454532623291,
          "dim2": 4.74507999420166
         },
         {
          "class": 1,
          "dim1": 0.6206039786338806,
          "dim2": -11.280655860900879
         },
         {
          "class": 0,
          "dim1": 7.535080909729004,
          "dim2": 3.9212300777435303
         },
         {
          "class": 0,
          "dim1": 2.4013664722442627,
          "dim2": 1.7993332147598267
         },
         {
          "class": 0,
          "dim1": -3.038172960281372,
          "dim2": -2.069432258605957
         },
         {
          "class": 1,
          "dim1": 4.051674842834473,
          "dim2": -12.63201904296875
         },
         {
          "class": 0,
          "dim1": 4.2690935134887695,
          "dim2": 3.1751863956451416
         },
         {
          "class": 0,
          "dim1": -3.499086856842041,
          "dim2": -0.8320315480232239
         },
         {
          "class": 0,
          "dim1": 0.4696340262889862,
          "dim2": 1.749854564666748
         },
         {
          "class": 2,
          "dim1": 7.56185245513916,
          "dim2": -4.841995716094971
         },
         {
          "class": 0,
          "dim1": 2.635498046875,
          "dim2": 2.302901029586792
         },
         {
          "class": 2,
          "dim1": 5.5984416007995605,
          "dim2": -6.896728992462158
         },
         {
          "class": 3,
          "dim1": -12.659407615661621,
          "dim2": -1.441476821899414
         },
         {
          "class": 0,
          "dim1": 4.5963263511657715,
          "dim2": 1.319278597831726
         },
         {
          "class": 3,
          "dim1": -12.7376708984375,
          "dim2": -1.1744213104248047
         },
         {
          "class": 1,
          "dim1": -3.0408287048339844,
          "dim2": 12.01940631866455
         },
         {
          "class": 0,
          "dim1": 0.8558208346366882,
          "dim2": 2.2592718601226807
         },
         {
          "class": 0,
          "dim1": 2.933505058288574,
          "dim2": 4.730269908905029
         },
         {
          "class": 3,
          "dim1": -10.383526802062988,
          "dim2": 0.7524959444999695
         },
         {
          "class": 3,
          "dim1": -12.277478218078613,
          "dim2": -0.43430131673812866
         },
         {
          "class": 0,
          "dim1": 1.4470312595367432,
          "dim2": 3.360297918319702
         },
         {
          "class": 3,
          "dim1": -12.461907386779785,
          "dim2": -1.9388401508331299
         },
         {
          "class": 0,
          "dim1": -2.5354297161102295,
          "dim2": -1.7660239934921265
         },
         {
          "class": 0,
          "dim1": 1.1603286266326904,
          "dim2": 1.8523564338684082
         },
         {
          "class": 2,
          "dim1": -3.284273862838745,
          "dim2": 8.021535873413086
         },
         {
          "class": 0,
          "dim1": -0.5587213635444641,
          "dim2": 2.298487663269043
         },
         {
          "class": 0,
          "dim1": 2.0008795261383057,
          "dim2": 0.8337523937225342
         },
         {
          "class": 0,
          "dim1": 7.940921783447266,
          "dim2": 2.613449811935425
         },
         {
          "class": 3,
          "dim1": -11.736717224121094,
          "dim2": -3.1852333545684814
         },
         {
          "class": 0,
          "dim1": 0.09870896488428116,
          "dim2": 1.9247742891311646
         },
         {
          "class": 0,
          "dim1": 1.4469209909439087,
          "dim2": 0.7261896729469299
         },
         {
          "class": 3,
          "dim1": -12.122186660766602,
          "dim2": -2.7225613594055176
         },
         {
          "class": 0,
          "dim1": 6.7405104637146,
          "dim2": 5.47699499130249
         },
         {
          "class": 0,
          "dim1": 7.264598846435547,
          "dim2": 4.0692291259765625
         },
         {
          "class": 1,
          "dim1": 4.541030406951904,
          "dim2": -12.064438819885254
         },
         {
          "class": 3,
          "dim1": -11.29560375213623,
          "dim2": -0.21566659212112427
         },
         {
          "class": 0,
          "dim1": -3.5121254920959473,
          "dim2": -0.30760353803634644
         },
         {
          "class": 0,
          "dim1": 2.6149189472198486,
          "dim2": 2.3091678619384766
         },
         {
          "class": 0,
          "dim1": 3.2830584049224854,
          "dim2": 1.8280861377716064
         },
         {
          "class": 0,
          "dim1": 4.860767841339111,
          "dim2": 3.6556661128997803
         },
         {
          "class": 3,
          "dim1": -10.943258285522461,
          "dim2": -3.6733405590057373
         },
         {
          "class": 0,
          "dim1": 5.498237133026123,
          "dim2": 2.6736865043640137
         },
         {
          "class": 1,
          "dim1": 0.8096129894256592,
          "dim2": -11.275771141052246
         },
         {
          "class": 0,
          "dim1": 5.978088855743408,
          "dim2": 4.570518970489502
         },
         {
          "class": 0,
          "dim1": 7.235975742340088,
          "dim2": 3.1675961017608643
         },
         {
          "class": 0,
          "dim1": 6.567927360534668,
          "dim2": 5.814533710479736
         },
         {
          "class": 0,
          "dim1": 5.6189351081848145,
          "dim2": 3.767624616622925
         },
         {
          "class": 0,
          "dim1": 0.47021716833114624,
          "dim2": 1.2255842685699463
         },
         {
          "class": 1,
          "dim1": 1.188799500465393,
          "dim2": -12.784082412719727
         },
         {
          "class": 1,
          "dim1": -2.8766098022460938,
          "dim2": 10.583600997924805
         },
         {
          "class": 0,
          "dim1": 6.6419782638549805,
          "dim2": 2.966398000717163
         },
         {
          "class": 2,
          "dim1": 7.286780834197998,
          "dim2": -6.4022088050842285
         },
         {
          "class": 3,
          "dim1": -11.173069953918457,
          "dim2": -2.244173526763916
         },
         {
          "class": 0,
          "dim1": -3.6724274158477783,
          "dim2": -0.7956755757331848
         },
         {
          "class": 0,
          "dim1": 7.777499198913574,
          "dim2": 4.866477966308594
         },
         {
          "class": 0,
          "dim1": 4.787798881530762,
          "dim2": 4.449612140655518
         },
         {
          "class": 3,
          "dim1": -10.567662239074707,
          "dim2": -3.092433214187622
         },
         {
          "class": 0,
          "dim1": 5.54939079284668,
          "dim2": 1.302870512008667
         },
         {
          "class": 0,
          "dim1": 7.952015399932861,
          "dim2": 4.885923385620117
         },
         {
          "class": 3,
          "dim1": -12.394535064697266,
          "dim2": -0.7290587425231934
         },
         {
          "class": 0,
          "dim1": 3.7008016109466553,
          "dim2": 2.284430980682373
         },
         {
          "class": 0,
          "dim1": 6.709745407104492,
          "dim2": 3.306694507598877
         },
         {
          "class": 2,
          "dim1": 6.195861339569092,
          "dim2": -7.196054935455322
         },
         {
          "class": 3,
          "dim1": -10.644837379455566,
          "dim2": -2.7795073986053467
         },
         {
          "class": 0,
          "dim1": 2.141476631164551,
          "dim2": 1.1852680444717407
         },
         {
          "class": 3,
          "dim1": -10.653529167175293,
          "dim2": -3.725598096847534
         },
         {
          "class": 0,
          "dim1": -0.5891683101654053,
          "dim2": 2.0982022285461426
         },
         {
          "class": 1,
          "dim1": 2.461930990219116,
          "dim2": -12.840731620788574
         },
         {
          "class": 1,
          "dim1": 2.758416175842285,
          "dim2": -13.15827465057373
         },
         {
          "class": 1,
          "dim1": 3.3579788208007812,
          "dim2": -13.09237003326416
         },
         {
          "class": 0,
          "dim1": 1.3939920663833618,
          "dim2": 3.914006233215332
         },
         {
          "class": 0,
          "dim1": -0.021572977304458618,
          "dim2": -1.1006745100021362
         },
         {
          "class": 0,
          "dim1": 2.6577327251434326,
          "dim2": 0.41436052322387695
         },
         {
          "class": 0,
          "dim1": -0.11230401694774628,
          "dim2": 2.2189764976501465
         },
         {
          "class": 2,
          "dim1": -2.0763862133026123,
          "dim2": 6.538182258605957
         },
         {
          "class": 0,
          "dim1": 6.622834205627441,
          "dim2": 5.037227153778076
         },
         {
          "class": 3,
          "dim1": -12.612956047058105,
          "dim2": -2.0001420974731445
         },
         {
          "class": 3,
          "dim1": -12.062732696533203,
          "dim2": -3.467123508453369
         },
         {
          "class": 0,
          "dim1": 1.2349339723587036,
          "dim2": 1.604826807975769
         },
         {
          "class": 3,
          "dim1": -12.020026206970215,
          "dim2": -0.24574454128742218
         },
         {
          "class": 0,
          "dim1": 1.0927574634552002,
          "dim2": 2.02573561668396
         },
         {
          "class": 0,
          "dim1": 4.5235490798950195,
          "dim2": 1.3240209817886353
         },
         {
          "class": 0,
          "dim1": -2.1384291648864746,
          "dim2": 0.09748020768165588
         },
         {
          "class": 0,
          "dim1": -0.6376343965530396,
          "dim2": -7.704776287078857
         },
         {
          "class": 0,
          "dim1": -3.6131534576416016,
          "dim2": -1.253413438796997
         },
         {
          "class": 0,
          "dim1": 4.445816993713379,
          "dim2": 4.119974613189697
         },
         {
          "class": 1,
          "dim1": -4.37388277053833,
          "dim2": 11.28162670135498
         },
         {
          "class": 2,
          "dim1": 5.656072616577148,
          "dim2": -6.823866367340088
         },
         {
          "class": 1,
          "dim1": 0.6562349200248718,
          "dim2": -11.755409240722656
         },
         {
          "class": 0,
          "dim1": 2.3319034576416016,
          "dim2": 3.3327419757843018
         },
         {
          "class": 2,
          "dim1": 7.098170757293701,
          "dim2": -5.444465160369873
         },
         {
          "class": 2,
          "dim1": -2.537226438522339,
          "dim2": 6.91804313659668
         },
         {
          "class": 0,
          "dim1": 8.404481887817383,
          "dim2": 3.4976086616516113
         },
         {
          "class": 1,
          "dim1": -3.6206610202789307,
          "dim2": 11.599006652832031
         },
         {
          "class": 0,
          "dim1": 5.743923664093018,
          "dim2": 4.68433141708374
         },
         {
          "class": 3,
          "dim1": -13.044099807739258,
          "dim2": -1.0664458274841309
         },
         {
          "class": 0,
          "dim1": 3.5991671085357666,
          "dim2": -0.3643498122692108
         },
         {
          "class": 0,
          "dim1": -3.5973336696624756,
          "dim2": -2.136847496032715
         },
         {
          "class": 3,
          "dim1": -3.6671526432037354,
          "dim2": -1.932604193687439
         },
         {
          "class": 2,
          "dim1": -2.5862839221954346,
          "dim2": 6.77204704284668
         },
         {
          "class": 0,
          "dim1": 7.491529941558838,
          "dim2": 5.76716423034668
         },
         {
          "class": 0,
          "dim1": 6.043331623077393,
          "dim2": 2.7773547172546387
         },
         {
          "class": 2,
          "dim1": -3.4847686290740967,
          "dim2": -7.184622764587402
         },
         {
          "class": 0,
          "dim1": 5.643631458282471,
          "dim2": 5.16910457611084
         },
         {
          "class": 0,
          "dim1": 5.149229526519775,
          "dim2": 4.006290912628174
         },
         {
          "class": 3,
          "dim1": -10.414788246154785,
          "dim2": 0.42421218752861023
         },
         {
          "class": 2,
          "dim1": -3.261091709136963,
          "dim2": -7.486636161804199
         },
         {
          "class": 0,
          "dim1": 7.72816801071167,
          "dim2": 6.198431491851807
         },
         {
          "class": 0,
          "dim1": -0.769317626953125,
          "dim2": 2.5162830352783203
         },
         {
          "class": 1,
          "dim1": -3.66153621673584,
          "dim2": 11.667913436889648
         },
         {
          "class": 1,
          "dim1": -2.4143760204315186,
          "dim2": 9.138285636901855
         },
         {
          "class": 0,
          "dim1": -1.2876360416412354,
          "dim2": -1.3304572105407715
         },
         {
          "class": 2,
          "dim1": -3.118358850479126,
          "dim2": -7.371906280517578
         },
         {
          "class": 0,
          "dim1": 4.669818878173828,
          "dim2": 0.6206984519958496
         },
         {
          "class": 1,
          "dim1": 1.3663564920425415,
          "dim2": -12.403329849243164
         },
         {
          "class": 0,
          "dim1": -2.7099175453186035,
          "dim2": -1.170866847038269
         },
         {
          "class": 0,
          "dim1": 7.433371067047119,
          "dim2": 5.69050931930542
         },
         {
          "class": 3,
          "dim1": -11.140872955322266,
          "dim2": 0.9161316752433777
         },
         {
          "class": 0,
          "dim1": 0.09081682562828064,
          "dim2": 3.6294591426849365
         },
         {
          "class": 2,
          "dim1": -2.9484307765960693,
          "dim2": 7.022706985473633
         },
         {
          "class": 3,
          "dim1": -12.01129150390625,
          "dim2": 0.3979080021381378
         },
         {
          "class": 0,
          "dim1": 6.71301794052124,
          "dim2": 5.743961334228516
         },
         {
          "class": 0,
          "dim1": 6.447445392608643,
          "dim2": 5.449331283569336
         },
         {
          "class": 0,
          "dim1": -2.33713436126709,
          "dim2": 0.40328675508499146
         },
         {
          "class": 0,
          "dim1": -1.9908452033996582,
          "dim2": 0.9249496459960938
         },
         {
          "class": 0,
          "dim1": 8.071209907531738,
          "dim2": 4.688920974731445
         },
         {
          "class": 0,
          "dim1": -3.789740800857544,
          "dim2": -1.2450751066207886
         },
         {
          "class": 0,
          "dim1": 7.242320537567139,
          "dim2": 4.002848148345947
         },
         {
          "class": 2,
          "dim1": 5.82777738571167,
          "dim2": -7.0720672607421875
         },
         {
          "class": 1,
          "dim1": 2.0004336833953857,
          "dim2": -12.22148609161377
         },
         {
          "class": 0,
          "dim1": 7.149220943450928,
          "dim2": -4.929765701293945
         },
         {
          "class": 2,
          "dim1": -3.418668508529663,
          "dim2": 8.476886749267578
         },
         {
          "class": 0,
          "dim1": 8.29822063446045,
          "dim2": 2.7094693183898926
         },
         {
          "class": 2,
          "dim1": 5.699316501617432,
          "dim2": -6.756955146789551
         },
         {
          "class": 0,
          "dim1": 0.003834276460111141,
          "dim2": 1.0625799894332886
         },
         {
          "class": 3,
          "dim1": -12.12242317199707,
          "dim2": -1.3220022916793823
         },
         {
          "class": 0,
          "dim1": 6.995412826538086,
          "dim2": 5.198777198791504
         },
         {
          "class": 0,
          "dim1": 2.7271788120269775,
          "dim2": 0.3481544852256775
         },
         {
          "class": 0,
          "dim1": 0.6502674221992493,
          "dim2": 4.429263591766357
         },
         {
          "class": 0,
          "dim1": -4.400910377502441,
          "dim2": -2.3292980194091797
         },
         {
          "class": 0,
          "dim1": -2.1168394088745117,
          "dim2": 1.076230525970459
         },
         {
          "class": 0,
          "dim1": 2.9869353771209717,
          "dim2": 1.9261198043823242
         },
         {
          "class": 0,
          "dim1": -0.11854706704616547,
          "dim2": 1.5572913885116577
         },
         {
          "class": 1,
          "dim1": -2.2187507152557373,
          "dim2": -1.9694949388504028
         },
         {
          "class": 2,
          "dim1": -3.3603744506835938,
          "dim2": -7.129245758056641
         },
         {
          "class": 2,
          "dim1": -7.019775867462158,
          "dim2": 7.503426551818848
         },
         {
          "class": 3,
          "dim1": -12.117534637451172,
          "dim2": 0.5383045077323914
         },
         {
          "class": 3,
          "dim1": -12.118694305419922,
          "dim2": -1.2234601974487305
         },
         {
          "class": 2,
          "dim1": 6.206676959991455,
          "dim2": -7.163238525390625
         },
         {
          "class": 1,
          "dim1": -2.5773122310638428,
          "dim2": 12.082100868225098
         },
         {
          "class": 0,
          "dim1": 4.7919816970825195,
          "dim2": 4.038086891174316
         },
         {
          "class": 0,
          "dim1": 3.2052459716796875,
          "dim2": -0.17064735293388367
         },
         {
          "class": 1,
          "dim1": -2.6549699306488037,
          "dim2": 11.636961936950684
         },
         {
          "class": 2,
          "dim1": -6.478404521942139,
          "dim2": 7.9740729331970215
         },
         {
          "class": 0,
          "dim1": 5.191453456878662,
          "dim2": 0.6743789911270142
         },
         {
          "class": 0,
          "dim1": 7.31692361831665,
          "dim2": 3.7716221809387207
         },
         {
          "class": 0,
          "dim1": 1.4895416498184204,
          "dim2": 3.799015998840332
         },
         {
          "class": 3,
          "dim1": -11.539539337158203,
          "dim2": -1.8706408739089966
         },
         {
          "class": 2,
          "dim1": -3.636922597885132,
          "dim2": -6.677668571472168
         },
         {
          "class": 3,
          "dim1": -13.324265480041504,
          "dim2": -2.396873950958252
         },
         {
          "class": 0,
          "dim1": 8.319178581237793,
          "dim2": 3.401698350906372
         },
         {
          "class": 3,
          "dim1": -11.24491024017334,
          "dim2": -3.199557304382324
         },
         {
          "class": 0,
          "dim1": -1.6133356094360352,
          "dim2": 0.6086023449897766
         },
         {
          "class": 2,
          "dim1": -6.905336856842041,
          "dim2": 7.88877534866333
         },
         {
          "class": 0,
          "dim1": 2.069108486175537,
          "dim2": 0.9918155670166016
         },
         {
          "class": 3,
          "dim1": -9.903071403503418,
          "dim2": 0.8592453598976135
         },
         {
          "class": 0,
          "dim1": 1.993382453918457,
          "dim2": 2.3955299854278564
         },
         {
          "class": 0,
          "dim1": -1.5838518142700195,
          "dim2": -2.1999146938323975
         },
         {
          "class": 0,
          "dim1": -3.969088554382324,
          "dim2": -1.8811547756195068
         },
         {
          "class": 0,
          "dim1": 2.090247631072998,
          "dim2": 1.126884937286377
         },
         {
          "class": 0,
          "dim1": 7.012970924377441,
          "dim2": 3.9483470916748047
         },
         {
          "class": 3,
          "dim1": -12.358077049255371,
          "dim2": -2.368587017059326
         },
         {
          "class": 2,
          "dim1": -2.9997453689575195,
          "dim2": 7.138784408569336
         },
         {
          "class": 0,
          "dim1": -0.6063207387924194,
          "dim2": -0.9259605407714844
         },
         {
          "class": 0,
          "dim1": 6.510467529296875,
          "dim2": 3.6323375701904297
         },
         {
          "class": 3,
          "dim1": -11.523062705993652,
          "dim2": -0.5617835521697998
         },
         {
          "class": 0,
          "dim1": -1.2305803298950195,
          "dim2": -1.3492878675460815
         },
         {
          "class": 1,
          "dim1": -2.940737724304199,
          "dim2": 11.344205856323242
         },
         {
          "class": 0,
          "dim1": -10.060371398925781,
          "dim2": 0.27132970094680786
         },
         {
          "class": 0,
          "dim1": -3.098144292831421,
          "dim2": 0.6021708250045776
         },
         {
          "class": 0,
          "dim1": 3.4089088439941406,
          "dim2": 3.427933931350708
         },
         {
          "class": 3,
          "dim1": -12.234322547912598,
          "dim2": -2.905527353286743
         },
         {
          "class": 0,
          "dim1": 3.402484655380249,
          "dim2": 2.8864965438842773
         },
         {
          "class": 1,
          "dim1": -2.7541604042053223,
          "dim2": 11.589418411254883
         },
         {
          "class": 2,
          "dim1": 7.52169132232666,
          "dim2": -5.667791366577148
         },
         {
          "class": 0,
          "dim1": 0.9048583507537842,
          "dim2": 4.2555460929870605
         },
         {
          "class": 3,
          "dim1": -10.968602180480957,
          "dim2": 0.35514917969703674
         },
         {
          "class": 3,
          "dim1": -13.1143159866333,
          "dim2": -1.404283881187439
         },
         {
          "class": 1,
          "dim1": 0.5888698697090149,
          "dim2": -10.968268394470215
         },
         {
          "class": 2,
          "dim1": -6.918870449066162,
          "dim2": 7.789377689361572
         },
         {
          "class": 3,
          "dim1": -12.74896240234375,
          "dim2": -3.0806782245635986
         },
         {
          "class": 2,
          "dim1": -2.8425791263580322,
          "dim2": -7.071494102478027
         },
         {
          "class": 0,
          "dim1": 4.173040390014648,
          "dim2": -0.5532482862472534
         },
         {
          "class": 1,
          "dim1": 2.4435460567474365,
          "dim2": -13.667991638183594
         },
         {
          "class": 0,
          "dim1": 2.75628399848938,
          "dim2": 0.9037281274795532
         },
         {
          "class": 0,
          "dim1": 1.9353715181350708,
          "dim2": 3.028836250305176
         },
         {
          "class": 3,
          "dim1": -10.909162521362305,
          "dim2": 0.36834388971328735
         },
         {
          "class": 3,
          "dim1": -10.959443092346191,
          "dim2": -0.08520237356424332
         },
         {
          "class": 0,
          "dim1": 6.050309181213379,
          "dim2": 2.5207009315490723
         },
         {
          "class": 2,
          "dim1": -1.6739227771759033,
          "dim2": -7.593144416809082
         },
         {
          "class": 0,
          "dim1": 7.8207502365112305,
          "dim2": 5.757002830505371
         },
         {
          "class": 0,
          "dim1": 4.021127700805664,
          "dim2": -0.5901846289634705
         },
         {
          "class": 0,
          "dim1": -0.9402538537979126,
          "dim2": -2.6012721061706543
         },
         {
          "class": 0,
          "dim1": 6.751016139984131,
          "dim2": 1.558069109916687
         },
         {
          "class": 1,
          "dim1": 0.6758170127868652,
          "dim2": -11.699421882629395
         },
         {
          "class": 0,
          "dim1": 8.521771430969238,
          "dim2": 4.287868976593018
         },
         {
          "class": 2,
          "dim1": 7.583009719848633,
          "dim2": -6.6540846824646
         },
         {
          "class": 3,
          "dim1": -12.178606986999512,
          "dim2": -2.05584979057312
         },
         {
          "class": 3,
          "dim1": -12.425152778625488,
          "dim2": -3.0407421588897705
         },
         {
          "class": 0,
          "dim1": -3.223978281021118,
          "dim2": -1.1422065496444702
         },
         {
          "class": 3,
          "dim1": -12.561704635620117,
          "dim2": -0.2586372494697571
         },
         {
          "class": 0,
          "dim1": -2.5852091312408447,
          "dim2": -0.15452103316783905
         },
         {
          "class": 0,
          "dim1": 6.435075283050537,
          "dim2": 4.943460464477539
         },
         {
          "class": 3,
          "dim1": -11.112141609191895,
          "dim2": 0.5730588436126709
         },
         {
          "class": 0,
          "dim1": 7.270112037658691,
          "dim2": 5.184714317321777
         }
        ]
       },
       "encoding": {
        "color": {
         "field": "class",
         "scale": {
          "scheme": "category10"
         },
         "title": "Class",
         "type": "nominal"
        },
        "x": {
         "field": "dim1",
         "title": "Dimension 1",
         "type": "quantitative"
        },
        "y": {
         "field": "dim2",
         "title": "Dimension 2",
         "type": "quantitative"
        }
       },
       "mark": {
        "opacity": 1,
        "type": "circle"
       }
      },
      "image/png": "[encoded data removed]",
      "text/plain": [
       "<VegaLite 3 object>\n",
       "\n",
       "If you see this message, it means the renderer has not been properly enabled\n",
       "for the frontend that you are using. For more information, see\n",
       "https://altair-viz.github.io/user_guide/troubleshooting.html\n"
      ]
     },
     "execution_count": 20,
     "metadata": {},
     "output_type": "execute_result"
    }
   ],
   "source": [
    "figures.plot_dimensionality_reduction(X_reduced, knn.predict(X_validation))"
   ]
  },
  {
   "cell_type": "code",
   "execution_count": 21,
   "metadata": {},
   "outputs": [
    {
     "data": {
      "application/vnd.vegalite.v3+json": {
       "$schema": "https://vega.github.io/schema/vega-lite/v3.3.0.json",
       "config": {
        "mark": {
         "tooltip": null
        },
        "view": {
         "height": 300,
         "width": 400
        }
       },
       "data": {
        "name": "data-910e0ce821a3c8a4d78f5f8bb3acc846"
       },
       "datasets": {
        "data-910e0ce821a3c8a4d78f5f8bb3acc846": [
         {
          "class": 0,
          "dim1": 3.5167481899261475,
          "dim2": 1.5383344888687134
         },
         {
          "class": 1,
          "dim1": 1.8074619770050049,
          "dim2": -13.180588722229004
         },
         {
          "class": 3,
          "dim1": -10.342781066894531,
          "dim2": -3.384187936782837
         },
         {
          "class": 0,
          "dim1": 3.8789474964141846,
          "dim2": -0.7949018478393555
         },
         {
          "class": 0,
          "dim1": 6.686133861541748,
          "dim2": 3.728661060333252
         },
         {
          "class": 0,
          "dim1": -4.172324180603027,
          "dim2": -0.6274668574333191
         },
         {
          "class": 1,
          "dim1": 1.4021557569503784,
          "dim2": -11.55710506439209
         },
         {
          "class": 3,
          "dim1": -10.933629989624023,
          "dim2": -2.7526493072509766
         },
         {
          "class": 3,
          "dim1": -10.271879196166992,
          "dim2": 0.5440645217895508
         },
         {
          "class": 3,
          "dim1": -12.458765029907227,
          "dim2": -1.7039209604263306
         },
         {
          "class": 0,
          "dim1": -1.1983718872070312,
          "dim2": -1.4390755891799927
         },
         {
          "class": 0,
          "dim1": 3.3484745025634766,
          "dim2": 2.4902689456939697
         },
         {
          "class": 3,
          "dim1": -12.39370059967041,
          "dim2": 0.05871965363621712
         },
         {
          "class": 0,
          "dim1": 0.6439588069915771,
          "dim2": 1.8779710531234741
         },
         {
          "class": 0,
          "dim1": 3.701134443283081,
          "dim2": 2.512728691101074
         },
         {
          "class": 1,
          "dim1": -2.925877571105957,
          "dim2": 11.658708572387695
         },
         {
          "class": 2,
          "dim1": 7.897814750671387,
          "dim2": -5.949606895446777
         },
         {
          "class": 1,
          "dim1": 3.159554958343506,
          "dim2": -12.21792984008789
         },
         {
          "class": 0,
          "dim1": 1.62528657913208,
          "dim2": 2.194018602371216
         },
         {
          "class": 0,
          "dim1": 5.258009910583496,
          "dim2": 5.240381717681885
         },
         {
          "class": 3,
          "dim1": -11.205221176147461,
          "dim2": -1.0723443031311035
         },
         {
          "class": 0,
          "dim1": -2.653468132019043,
          "dim2": -0.8478848338127136
         },
         {
          "class": 3,
          "dim1": -2.613558292388916,
          "dim2": 1.5993596315383911
         },
         {
          "class": 0,
          "dim1": -0.9787595868110657,
          "dim2": -0.4178827404975891
         },
         {
          "class": 1,
          "dim1": 0.9070236086845398,
          "dim2": -11.161311149597168
         },
         {
          "class": 0,
          "dim1": -3.625122308731079,
          "dim2": -0.38876596093177795
         },
         {
          "class": 1,
          "dim1": 1.0238629579544067,
          "dim2": -12.21537971496582
         },
         {
          "class": 3,
          "dim1": -10.718914031982422,
          "dim2": -3.6825332641601562
         },
         {
          "class": 0,
          "dim1": 6.362500190734863,
          "dim2": 5.180670738220215
         },
         {
          "class": 0,
          "dim1": -1.038162350654602,
          "dim2": 0.7901715636253357
         },
         {
          "class": 1,
          "dim1": -2.5773122310638428,
          "dim2": 12.082100868225098
         },
         {
          "class": 0,
          "dim1": 3.927053928375244,
          "dim2": 2.5528647899627686
         },
         {
          "class": 0,
          "dim1": 3.81856632232666,
          "dim2": 2.7908878326416016
         },
         {
          "class": 3,
          "dim1": 5.32488489151001,
          "dim2": 0.279471218585968
         },
         {
          "class": 0,
          "dim1": -2.8932008743286133,
          "dim2": -2.1351022720336914
         },
         {
          "class": 0,
          "dim1": 3.5279502868652344,
          "dim2": 3.244253396987915
         },
         {
          "class": 2,
          "dim1": 7.393636226654053,
          "dim2": -5.63869047164917
         },
         {
          "class": 2,
          "dim1": 7.839627742767334,
          "dim2": -5.941345691680908
         },
         {
          "class": 2,
          "dim1": 7.137784957885742,
          "dim2": -6.866296768188477
         },
         {
          "class": 0,
          "dim1": 8.915567398071289,
          "dim2": 3.495992660522461
         },
         {
          "class": 0,
          "dim1": 5.66585111618042,
          "dim2": 5.035606384277344
         },
         {
          "class": 0,
          "dim1": 5.310676097869873,
          "dim2": 0.6746429204940796
         },
         {
          "class": 0,
          "dim1": -4.818516254425049,
          "dim2": 11.081343650817871
         },
         {
          "class": 0,
          "dim1": 7.104602813720703,
          "dim2": 4.9841628074646
         },
         {
          "class": 0,
          "dim1": 0.7106070518493652,
          "dim2": 1.1880114078521729
         },
         {
          "class": 0,
          "dim1": 4.264638423919678,
          "dim2": 1.1217252016067505
         },
         {
          "class": 0,
          "dim1": -0.5640778541564941,
          "dim2": 1.3665333986282349
         },
         {
          "class": 0,
          "dim1": -2.663935899734497,
          "dim2": -0.1481788158416748
         },
         {
          "class": 2,
          "dim1": -2.2260403633117676,
          "dim2": -7.405165195465088
         },
         {
          "class": 0,
          "dim1": 0.10323536396026611,
          "dim2": 1.3263994455337524
         },
         {
          "class": 0,
          "dim1": 0.7062885165214539,
          "dim2": 2.246293067932129
         },
         {
          "class": 1,
          "dim1": 2.3226280212402344,
          "dim2": -12.23648452758789
         },
         {
          "class": 0,
          "dim1": -1.9260964393615723,
          "dim2": 0.8929024934768677
         },
         {
          "class": 1,
          "dim1": -2.4991097450256348,
          "dim2": 11.563152313232422
         },
         {
          "class": 0,
          "dim1": 3.158604621887207,
          "dim2": 4.875497341156006
         },
         {
          "class": 0,
          "dim1": 3.079878568649292,
          "dim2": 4.455233573913574
         },
         {
          "class": 2,
          "dim1": -2.4906094074249268,
          "dim2": 6.685558319091797
         },
         {
          "class": 3,
          "dim1": -12.484000205993652,
          "dim2": -2.9596519470214844
         },
         {
          "class": 0,
          "dim1": 7.353058338165283,
          "dim2": 3.4267196655273438
         },
         {
          "class": 0,
          "dim1": 4.053603172302246,
          "dim2": -0.535115659236908
         },
         {
          "class": 1,
          "dim1": 4.985299110412598,
          "dim2": -11.558401107788086
         },
         {
          "class": 0,
          "dim1": 5.606261253356934,
          "dim2": 1.715232014656067
         },
         {
          "class": 1,
          "dim1": 4.391524791717529,
          "dim2": -12.49761962890625
         },
         {
          "class": 3,
          "dim1": -12.001235008239746,
          "dim2": -2.5694029331207275
         },
         {
          "class": 2,
          "dim1": 6.883352279663086,
          "dim2": -6.780643939971924
         },
         {
          "class": 1,
          "dim1": -2.4617786407470703,
          "dim2": 12.026851654052734
         },
         {
          "class": 0,
          "dim1": 5.597563743591309,
          "dim2": 1.740319848060608
         },
         {
          "class": 3,
          "dim1": -11.82763957977295,
          "dim2": -0.6667091250419617
         },
         {
          "class": 2,
          "dim1": 2.975224256515503,
          "dim2": 2.394601583480835
         },
         {
          "class": 1,
          "dim1": 1.574526309967041,
          "dim2": -13.002097129821777
         },
         {
          "class": 1,
          "dim1": -4.771127223968506,
          "dim2": 11.168173789978027
         },
         {
          "class": 3,
          "dim1": -1.8097598552703857,
          "dim2": 0.3409588932991028
         },
         {
          "class": 2,
          "dim1": 5.868385314941406,
          "dim2": -6.976593971252441
         },
         {
          "class": 1,
          "dim1": 4.095859050750732,
          "dim2": -12.901972770690918
         },
         {
          "class": 3,
          "dim1": -12.352438926696777,
          "dim2": -3.4800784587860107
         },
         {
          "class": 0,
          "dim1": 5.075552463531494,
          "dim2": 3.7265713214874268
         },
         {
          "class": 0,
          "dim1": -3.000784397125244,
          "dim2": -0.9545382857322693
         },
         {
          "class": 1,
          "dim1": -3.4449081420898438,
          "dim2": 8.539192199707031
         },
         {
          "class": 2,
          "dim1": 7.612992286682129,
          "dim2": -6.514086723327637
         },
         {
          "class": 2,
          "dim1": 6.963446617126465,
          "dim2": -5.748105525970459
         },
         {
          "class": 2,
          "dim1": -2.8755178451538086,
          "dim2": -7.67514705657959
         },
         {
          "class": 0,
          "dim1": -4.502047061920166,
          "dim2": -1.3840265274047852
         },
         {
          "class": 0,
          "dim1": 4.445816993713379,
          "dim2": 4.119974613189697
         },
         {
          "class": 0,
          "dim1": 0.46153539419174194,
          "dim2": 1.647839069366455
         },
         {
          "class": 0,
          "dim1": 2.3749167919158936,
          "dim2": 2.0973660945892334
         },
         {
          "class": 1,
          "dim1": 1.2336589097976685,
          "dim2": -11.532535552978516
         },
         {
          "class": 0,
          "dim1": -1.2141129970550537,
          "dim2": 0.6178123950958252
         },
         {
          "class": 0,
          "dim1": -0.9589710235595703,
          "dim2": 1.5158518552780151
         },
         {
          "class": 0,
          "dim1": 3.1001296043395996,
          "dim2": 0.5952923893928528
         },
         {
          "class": 3,
          "dim1": -10.927510261535645,
          "dim2": 0.5265830755233765
         },
         {
          "class": 0,
          "dim1": -0.24360395967960358,
          "dim2": 0.982119083404541
         },
         {
          "class": 2,
          "dim1": -2.4503591060638428,
          "dim2": -7.425700664520264
         },
         {
          "class": 3,
          "dim1": -11.732211112976074,
          "dim2": -1.7005009651184082
         },
         {
          "class": 1,
          "dim1": 2.649355411529541,
          "dim2": -12.660819053649902
         },
         {
          "class": 0,
          "dim1": 7.212384223937988,
          "dim2": 6.108530044555664
         },
         {
          "class": 0,
          "dim1": 0.0880940780043602,
          "dim2": 2.650996208190918
         },
         {
          "class": 0,
          "dim1": -2.0795092582702637,
          "dim2": -2.1298129558563232
         },
         {
          "class": 0,
          "dim1": -1.5783119201660156,
          "dim2": -0.811021089553833
         },
         {
          "class": 2,
          "dim1": 6.470755577087402,
          "dim2": -7.17530632019043
         },
         {
          "class": 3,
          "dim1": -13.36568546295166,
          "dim2": -2.3297617435455322
         },
         {
          "class": 3,
          "dim1": -12.853596687316895,
          "dim2": -1.5829347372055054
         },
         {
          "class": 1,
          "dim1": 1.8830612897872925,
          "dim2": -13.334738731384277
         },
         {
          "class": 2,
          "dim1": 2.080815553665161,
          "dim2": 0.9471002817153931
         },
         {
          "class": 0,
          "dim1": 3.342613697052002,
          "dim2": 4.695799827575684
         },
         {
          "class": 2,
          "dim1": -1.4975602626800537,
          "dim2": -8.15133285522461
         },
         {
          "class": 2,
          "dim1": 7.7116217613220215,
          "dim2": -5.041311740875244
         },
         {
          "class": 0,
          "dim1": 6.700937747955322,
          "dim2": 3.8383677005767822
         },
         {
          "class": 1,
          "dim1": 1.4130183458328247,
          "dim2": -11.910162925720215
         },
         {
          "class": 0,
          "dim1": -0.641941487789154,
          "dim2": -3.235942840576172
         },
         {
          "class": 2,
          "dim1": -3.2923707962036133,
          "dim2": 8.072555541992188
         },
         {
          "class": 2,
          "dim1": -2.884227752685547,
          "dim2": 6.909243583679199
         },
         {
          "class": 3,
          "dim1": -12.557892799377441,
          "dim2": -2.9274425506591797
         },
         {
          "class": 3,
          "dim1": -11.225715637207031,
          "dim2": -2.9883081912994385
         },
         {
          "class": 2,
          "dim1": 6.472888946533203,
          "dim2": -6.3409905433654785
         },
         {
          "class": 0,
          "dim1": 5.0065155029296875,
          "dim2": 1.9385687112808228
         },
         {
          "class": 2,
          "dim1": -2.268237829208374,
          "dim2": 6.64503288269043
         },
         {
          "class": 0,
          "dim1": 4.414228439331055,
          "dim2": 3.5765600204467773
         },
         {
          "class": 0,
          "dim1": 0.4328514635562897,
          "dim2": 0.15792833268642426
         },
         {
          "class": 0,
          "dim1": 6.07690954208374,
          "dim2": 2.5037243366241455
         },
         {
          "class": 0,
          "dim1": 4.336238384246826,
          "dim2": 1.7754528522491455
         },
         {
          "class": 1,
          "dim1": 1.9513258934020996,
          "dim2": -12.551546096801758
         },
         {
          "class": 1,
          "dim1": -2.571826696395874,
          "dim2": 11.420689582824707
         },
         {
          "class": 0,
          "dim1": 7.069977760314941,
          "dim2": 2.8833372592926025
         },
         {
          "class": 0,
          "dim1": 4.616004943847656,
          "dim2": 4.709644317626953
         },
         {
          "class": 1,
          "dim1": 1.1822880506515503,
          "dim2": -12.314837455749512
         },
         {
          "class": 1,
          "dim1": 0.6655460596084595,
          "dim2": -11.219635009765625
         },
         {
          "class": 2,
          "dim1": -6.599928855895996,
          "dim2": 7.709531784057617
         },
         {
          "class": 2,
          "dim1": 6.5268683433532715,
          "dim2": -6.7183051109313965
         },
         {
          "class": 0,
          "dim1": 4.972012996673584,
          "dim2": -0.6580638885498047
         },
         {
          "class": 0,
          "dim1": 4.317826747894287,
          "dim2": 5.1908769607543945
         },
         {
          "class": 0,
          "dim1": -0.1215403825044632,
          "dim2": 1.721749186515808
         },
         {
          "class": 0,
          "dim1": 3.117591142654419,
          "dim2": 0.26873525977134705
         },
         {
          "class": 0,
          "dim1": 5.0113325119018555,
          "dim2": 2.985234022140503
         },
         {
          "class": 0,
          "dim1": 8.045527458190918,
          "dim2": 4.830021381378174
         },
         {
          "class": 0,
          "dim1": 4.045653820037842,
          "dim2": 0.2253715544939041
         },
         {
          "class": 1,
          "dim1": 0.6756250858306885,
          "dim2": -10.688040733337402
         },
         {
          "class": 0,
          "dim1": 6.9739885330200195,
          "dim2": 4.053278923034668
         },
         {
          "class": 0,
          "dim1": 3.977476119995117,
          "dim2": 0.9715262651443481
         },
         {
          "class": 2,
          "dim1": 7.709792137145996,
          "dim2": -5.080203533172607
         },
         {
          "class": 0,
          "dim1": 4.720747470855713,
          "dim2": 1.7465107440948486
         },
         {
          "class": 0,
          "dim1": 6.767848968505859,
          "dim2": 4.638426303863525
         },
         {
          "class": 2,
          "dim1": 6.455279350280762,
          "dim2": -7.218545436859131
         },
         {
          "class": 1,
          "dim1": -2.3510422706604004,
          "dim2": 11.188141822814941
         },
         {
          "class": 0,
          "dim1": 4.012943744659424,
          "dim2": 4.0761823654174805
         },
         {
          "class": 0,
          "dim1": 2.333299160003662,
          "dim2": -0.5518511533737183
         },
         {
          "class": 0,
          "dim1": 7.58677339553833,
          "dim2": 6.476377010345459
         },
         {
          "class": 1,
          "dim1": 1.9482147693634033,
          "dim2": -13.638723373413086
         },
         {
          "class": 0,
          "dim1": 7.267426013946533,
          "dim2": 4.9754557609558105
         },
         {
          "class": 0,
          "dim1": 0.00035110354656353593,
          "dim2": -0.6721585392951965
         },
         {
          "class": 2,
          "dim1": 7.226930141448975,
          "dim2": -6.576445579528809
         },
         {
          "class": 0,
          "dim1": -2.5444772243499756,
          "dim2": 0.031713977456092834
         },
         {
          "class": 0,
          "dim1": -0.22160719335079193,
          "dim2": 1.176200270652771
         },
         {
          "class": 1,
          "dim1": -3.975205421447754,
          "dim2": 11.742823600769043
         },
         {
          "class": 3,
          "dim1": -12.560731887817383,
          "dim2": -1.0437016487121582
         },
         {
          "class": 0,
          "dim1": -1.2873132228851318,
          "dim2": 2.0246243476867676
         },
         {
          "class": 1,
          "dim1": 2.9662134647369385,
          "dim2": -12.749795913696289
         },
         {
          "class": 0,
          "dim1": 2.1418471336364746,
          "dim2": -1.5366442203521729
         },
         {
          "class": 0,
          "dim1": -2.992018222808838,
          "dim2": -2.289759874343872
         },
         {
          "class": 2,
          "dim1": -2.8989439010620117,
          "dim2": -7.269384384155273
         },
         {
          "class": 3,
          "dim1": -11.12850284576416,
          "dim2": 0.15561825037002563
         },
         {
          "class": 0,
          "dim1": 6.818191051483154,
          "dim2": 5.001859664916992
         },
         {
          "class": 3,
          "dim1": -11.619227409362793,
          "dim2": 0.3633158504962921
         },
         {
          "class": 3,
          "dim1": -10.522194862365723,
          "dim2": -2.8830506801605225
         },
         {
          "class": 0,
          "dim1": 2.6531994342803955,
          "dim2": 4.768128871917725
         },
         {
          "class": 0,
          "dim1": 4.6635589599609375,
          "dim2": 0.9220703840255737
         },
         {
          "class": 1,
          "dim1": 3.500093936920166,
          "dim2": -12.547806739807129
         },
         {
          "class": 0,
          "dim1": 2.954277276992798,
          "dim2": 2.9199743270874023
         },
         {
          "class": 0,
          "dim1": -0.991035521030426,
          "dim2": 0.2243562787771225
         },
         {
          "class": 0,
          "dim1": 3.9210941791534424,
          "dim2": 1.8130102157592773
         },
         {
          "class": 1,
          "dim1": 1.808523416519165,
          "dim2": -12.54593563079834
         },
         {
          "class": 3,
          "dim1": -11.381415367126465,
          "dim2": -2.4373254776000977
         },
         {
          "class": 2,
          "dim1": -2.9199347496032715,
          "dim2": 7.161331653594971
         },
         {
          "class": 0,
          "dim1": -2.1553688049316406,
          "dim2": -0.5039956569671631
         },
         {
          "class": 0,
          "dim1": 1.0393139123916626,
          "dim2": 2.06075382232666
         },
         {
          "class": 1,
          "dim1": 3.3650424480438232,
          "dim2": -13.125389099121094
         },
         {
          "class": 1,
          "dim1": -4.067231178283691,
          "dim2": 11.775049209594727
         },
         {
          "class": 3,
          "dim1": -12.503961563110352,
          "dim2": -0.3570317029953003
         },
         {
          "class": 0,
          "dim1": 3.496304988861084,
          "dim2": 2.6080334186553955
         },
         {
          "class": 3,
          "dim1": -10.583771705627441,
          "dim2": -2.717719316482544
         },
         {
          "class": 0,
          "dim1": 6.681042194366455,
          "dim2": 1.828073501586914
         },
         {
          "class": 2,
          "dim1": -3.4689886569976807,
          "dim2": -7.417680263519287
         },
         {
          "class": 2,
          "dim1": 7.018791675567627,
          "dim2": -6.825350284576416
         },
         {
          "class": 0,
          "dim1": 4.557215690612793,
          "dim2": 1.1878513097763062
         },
         {
          "class": 0,
          "dim1": 3.8315155506134033,
          "dim2": 4.515074729919434
         },
         {
          "class": 1,
          "dim1": 0.9874019622802734,
          "dim2": -12.16724967956543
         },
         {
          "class": 1,
          "dim1": -3.2472031116485596,
          "dim2": 11.74605655670166
         },
         {
          "class": 0,
          "dim1": 3.2120189666748047,
          "dim2": 0.7571424245834351
         },
         {
          "class": 3,
          "dim1": -12.200634956359863,
          "dim2": -0.7990235090255737
         },
         {
          "class": 0,
          "dim1": -0.6202543377876282,
          "dim2": 1.4476649761199951
         },
         {
          "class": 0,
          "dim1": 5.522340774536133,
          "dim2": 2.503918170928955
         },
         {
          "class": 0,
          "dim1": 6.032124042510986,
          "dim2": 4.056668758392334
         },
         {
          "class": 0,
          "dim1": 3.0187628269195557,
          "dim2": 4.5436553955078125
         },
         {
          "class": 0,
          "dim1": -2.0298824310302734,
          "dim2": -0.35412129759788513
         },
         {
          "class": 3,
          "dim1": -11.093215942382812,
          "dim2": -2.934809446334839
         },
         {
          "class": 0,
          "dim1": 1.2530028820037842,
          "dim2": 0.7495221495628357
         },
         {
          "class": 0,
          "dim1": 6.238184928894043,
          "dim2": 5.141419410705566
         },
         {
          "class": 3,
          "dim1": -12.712697982788086,
          "dim2": -2.1223185062408447
         },
         {
          "class": 0,
          "dim1": 7.325516700744629,
          "dim2": 2.565312623977661
         },
         {
          "class": 0,
          "dim1": 3.8499135971069336,
          "dim2": 0.2213461548089981
         },
         {
          "class": 1,
          "dim1": 3.7752838134765625,
          "dim2": -12.875914573669434
         },
         {
          "class": 0,
          "dim1": 1.5837291479110718,
          "dim2": 4.052586555480957
         },
         {
          "class": 0,
          "dim1": 3.272294282913208,
          "dim2": 1.6763205528259277
         },
         {
          "class": 0,
          "dim1": 5.698406219482422,
          "dim2": 4.436077117919922
         },
         {
          "class": 1,
          "dim1": 1.7570991516113281,
          "dim2": -12.12706184387207
         },
         {
          "class": 0,
          "dim1": -1.2917474508285522,
          "dim2": 1.0372021198272705
         },
         {
          "class": 2,
          "dim1": -3.0515315532684326,
          "dim2": 8.464014053344727
         },
         {
          "class": 0,
          "dim1": 7.688926696777344,
          "dim2": 3.1635890007019043
         },
         {
          "class": 2,
          "dim1": 6.508351802825928,
          "dim2": -6.773907661437988
         },
         {
          "class": 1,
          "dim1": 1.4303451776504517,
          "dim2": -12.588482856750488
         },
         {
          "class": 0,
          "dim1": -4.302517890930176,
          "dim2": -0.44897496700286865
         },
         {
          "class": 0,
          "dim1": 4.328062534332275,
          "dim2": 1.0701935291290283
         },
         {
          "class": 2,
          "dim1": -1.6946706771850586,
          "dim2": -0.8509001135826111
         },
         {
          "class": 3,
          "dim1": -10.66440200805664,
          "dim2": 0.45204418897628784
         },
         {
          "class": 1,
          "dim1": 1.0354299545288086,
          "dim2": -12.35278034210205
         },
         {
          "class": 2,
          "dim1": 6.555269241333008,
          "dim2": -7.192710876464844
         },
         {
          "class": 3,
          "dim1": -11.589485168457031,
          "dim2": 1.0642672777175903
         },
         {
          "class": 0,
          "dim1": -1.3304808139801025,
          "dim2": -1.9860731363296509
         },
         {
          "class": 2,
          "dim1": 2.108881711959839,
          "dim2": -0.3214378356933594
         },
         {
          "class": 0,
          "dim1": 7.1092634201049805,
          "dim2": 5.348994255065918
         },
         {
          "class": 3,
          "dim1": -12.5440034866333,
          "dim2": -0.8259543776512146
         },
         {
          "class": 0,
          "dim1": 3.810425281524658,
          "dim2": 4.647314548492432
         },
         {
          "class": 0,
          "dim1": 4.738194942474365,
          "dim2": 3.439107894897461
         },
         {
          "class": 0,
          "dim1": -0.19265466928482056,
          "dim2": -1.2721138000488281
         },
         {
          "class": 2,
          "dim1": -2.996014356613159,
          "dim2": -7.350597381591797
         },
         {
          "class": 0,
          "dim1": 3.96864652633667,
          "dim2": 1.6022721529006958
         },
         {
          "class": 0,
          "dim1": 5.83172607421875,
          "dim2": 3.4380838871002197
         },
         {
          "class": 0,
          "dim1": 3.781578302383423,
          "dim2": -0.9746412038803101
         },
         {
          "class": 0,
          "dim1": -0.07858633995056152,
          "dim2": -0.7115423083305359
         },
         {
          "class": 0,
          "dim1": -1.246137022972107,
          "dim2": -0.58162522315979
         },
         {
          "class": 0,
          "dim1": -0.4403611421585083,
          "dim2": 2.7857272624969482
         },
         {
          "class": 0,
          "dim1": 3.6973233222961426,
          "dim2": 2.6526401042938232
         },
         {
          "class": 0,
          "dim1": 1.1996707916259766,
          "dim2": -0.19768640398979187
         },
         {
          "class": 0,
          "dim1": 3.709637403488159,
          "dim2": -0.5014940500259399
         },
         {
          "class": 0,
          "dim1": -1.2558810710906982,
          "dim2": -0.07716105133295059
         },
         {
          "class": 0,
          "dim1": 1.4895416498184204,
          "dim2": 3.799015998840332
         },
         {
          "class": 3,
          "dim1": -11.533072471618652,
          "dim2": -2.972134828567505
         },
         {
          "class": 2,
          "dim1": -3.543461799621582,
          "dim2": -6.85996150970459
         },
         {
          "class": 0,
          "dim1": 2.575241804122925,
          "dim2": 1.711179256439209
         },
         {
          "class": 3,
          "dim1": -11.9766263961792,
          "dim2": -0.4938156306743622
         },
         {
          "class": 3,
          "dim1": -11.358831405639648,
          "dim2": -2.5555450916290283
         },
         {
          "class": 0,
          "dim1": 6.829250812530518,
          "dim2": 4.295929908752441
         },
         {
          "class": 0,
          "dim1": 6.8321099281311035,
          "dim2": 1.9206624031066895
         },
         {
          "class": 1,
          "dim1": -2.927292823791504,
          "dim2": 12.189072608947754
         },
         {
          "class": 0,
          "dim1": 1.6851463317871094,
          "dim2": 1.0951871871948242
         },
         {
          "class": 0,
          "dim1": -0.9061803221702576,
          "dim2": 0.23120056092739105
         },
         {
          "class": 2,
          "dim1": 6.697206497192383,
          "dim2": -6.718652248382568
         },
         {
          "class": 0,
          "dim1": -1.9740952253341675,
          "dim2": -0.5733811259269714
         },
         {
          "class": 3,
          "dim1": -10.60444164276123,
          "dim2": -2.530770778656006
         },
         {
          "class": 3,
          "dim1": -10.988238334655762,
          "dim2": -0.4023124873638153
         },
         {
          "class": 2,
          "dim1": -2.521984100341797,
          "dim2": -0.9283382296562195
         },
         {
          "class": 0,
          "dim1": 8.203826904296875,
          "dim2": 6.068171501159668
         },
         {
          "class": 0,
          "dim1": 7.241807460784912,
          "dim2": 3.9980568885803223
         },
         {
          "class": 3,
          "dim1": -12.450682640075684,
          "dim2": -2.4450137615203857
         },
         {
          "class": 0,
          "dim1": 6.153983116149902,
          "dim2": 4.360745429992676
         },
         {
          "class": 3,
          "dim1": -12.595430374145508,
          "dim2": -2.66892671585083
         },
         {
          "class": 0,
          "dim1": -0.01671004295349121,
          "dim2": 3.180366277694702
         },
         {
          "class": 2,
          "dim1": 6.380488872528076,
          "dim2": -6.373440265655518
         },
         {
          "class": 0,
          "dim1": -2.064263343811035,
          "dim2": -1.1302778720855713
         },
         {
          "class": 2,
          "dim1": -7.010010242462158,
          "dim2": 7.243973255157471
         },
         {
          "class": 0,
          "dim1": 5.621738910675049,
          "dim2": 4.377655506134033
         },
         {
          "class": 0,
          "dim1": 4.337451934814453,
          "dim2": 4.297019958496094
         },
         {
          "class": 0,
          "dim1": 2.951427936553955,
          "dim2": 0.2047683447599411
         },
         {
          "class": 3,
          "dim1": -11.826798439025879,
          "dim2": -1.6289470195770264
         },
         {
          "class": 1,
          "dim1": 3.8219985961914062,
          "dim2": -13.202006340026855
         },
         {
          "class": 0,
          "dim1": 5.961235046386719,
          "dim2": 4.677416801452637
         },
         {
          "class": 2,
          "dim1": -1.0109548568725586,
          "dim2": 2.291029930114746
         },
         {
          "class": 2,
          "dim1": 7.629314422607422,
          "dim2": -6.449563503265381
         },
         {
          "class": 0,
          "dim1": -1.0552783012390137,
          "dim2": 1.1635855436325073
         },
         {
          "class": 2,
          "dim1": -3.106580972671509,
          "dim2": 7.369355201721191
         },
         {
          "class": 1,
          "dim1": 1.866495966911316,
          "dim2": -12.528092384338379
         },
         {
          "class": 0,
          "dim1": 2.054964542388916,
          "dim2": 2.8814213275909424
         },
         {
          "class": 0,
          "dim1": 8.280533790588379,
          "dim2": 4.941112995147705
         },
         {
          "class": 0,
          "dim1": -3.1621487140655518,
          "dim2": -6.283952713012695
         },
         {
          "class": 0,
          "dim1": 7.567447185516357,
          "dim2": 2.4269750118255615
         },
         {
          "class": 0,
          "dim1": 3.9179911613464355,
          "dim2": -0.14266228675842285
         },
         {
          "class": 3,
          "dim1": -12.771836280822754,
          "dim2": -2.852922201156616
         },
         {
          "class": 0,
          "dim1": 1.0555167198181152,
          "dim2": -0.46965479850769043
         },
         {
          "class": 2,
          "dim1": -3.4358129501342773,
          "dim2": -7.1256327629089355
         },
         {
          "class": 0,
          "dim1": 0.5908117294311523,
          "dim2": 4.419588088989258
         },
         {
          "class": 0,
          "dim1": 5.761648178100586,
          "dim2": 2.9826931953430176
         },
         {
          "class": 0,
          "dim1": 1.8061542510986328,
          "dim2": 0.5169671773910522
         },
         {
          "class": 0,
          "dim1": 3.5428314208984375,
          "dim2": 0.4801430404186249
         },
         {
          "class": 0,
          "dim1": 0.8247016668319702,
          "dim2": -0.027723021805286407
         },
         {
          "class": 1,
          "dim1": 1.4464598894119263,
          "dim2": -12.966371536254883
         },
         {
          "class": 0,
          "dim1": 1.6272081136703491,
          "dim2": 2.2578752040863037
         },
         {
          "class": 0,
          "dim1": -0.6726081371307373,
          "dim2": -0.18111787736415863
         },
         {
          "class": 0,
          "dim1": -1.071271538734436,
          "dim2": 2.5006237030029297
         },
         {
          "class": 1,
          "dim1": -3.3763883113861084,
          "dim2": 11.458294868469238
         },
         {
          "class": 3,
          "dim1": -12.297347068786621,
          "dim2": -2.449591636657715
         },
         {
          "class": 1,
          "dim1": 1.2066341638565063,
          "dim2": -12.840606689453125
         },
         {
          "class": 3,
          "dim1": -3.7048566341400146,
          "dim2": -1.5471893548965454
         },
         {
          "class": 0,
          "dim1": 0.025593865662813187,
          "dim2": 1.7963900566101074
         },
         {
          "class": 0,
          "dim1": 8.305303573608398,
          "dim2": 4.689922332763672
         },
         {
          "class": 1,
          "dim1": 1.7051814794540405,
          "dim2": -13.227954864501953
         },
         {
          "class": 1,
          "dim1": -1.5511854887008667,
          "dim2": 0.32204723358154297
         },
         {
          "class": 1,
          "dim1": -4.37388277053833,
          "dim2": 11.28162670135498
         },
         {
          "class": 3,
          "dim1": -12.547106742858887,
          "dim2": -1.708206295967102
         },
         {
          "class": 3,
          "dim1": -12.016414642333984,
          "dim2": -1.2965595722198486
         },
         {
          "class": 0,
          "dim1": 2.1275415420532227,
          "dim2": -1.0540519952774048
         },
         {
          "class": 2,
          "dim1": -7.168499946594238,
          "dim2": 7.309694290161133
         },
         {
          "class": 2,
          "dim1": 6.6586456298828125,
          "dim2": -6.173616886138916
         },
         {
          "class": 0,
          "dim1": -1.9687012434005737,
          "dim2": 0.3164052963256836
         },
         {
          "class": 3,
          "dim1": -12.915120124816895,
          "dim2": -0.2565644383430481
         },
         {
          "class": 3,
          "dim1": -11.701521873474121,
          "dim2": -3.156916856765747
         },
         {
          "class": 3,
          "dim1": -11.906769752502441,
          "dim2": -3.3156778812408447
         },
         {
          "class": 0,
          "dim1": 7.640866279602051,
          "dim2": 4.517310619354248
         },
         {
          "class": 1,
          "dim1": -2.9396564960479736,
          "dim2": 11.325350761413574
         },
         {
          "class": 3,
          "dim1": -10.989240646362305,
          "dim2": 0.06244027987122536
         },
         {
          "class": 3,
          "dim1": -11.503751754760742,
          "dim2": -0.954109251499176
         },
         {
          "class": 1,
          "dim1": 1.6532855033874512,
          "dim2": -11.724045753479004
         },
         {
          "class": 3,
          "dim1": -4.5650224685668945,
          "dim2": -0.8332710266113281
         },
         {
          "class": 0,
          "dim1": 2.2324469089508057,
          "dim2": 2.6816489696502686
         },
         {
          "class": 0,
          "dim1": 2.803455114364624,
          "dim2": 4.607692241668701
         },
         {
          "class": 0,
          "dim1": 2.7418739795684814,
          "dim2": 4.132917881011963
         },
         {
          "class": 0,
          "dim1": 7.611143589019775,
          "dim2": 5.659542083740234
         },
         {
          "class": 0,
          "dim1": 4.8357768058776855,
          "dim2": 2.8279924392700195
         },
         {
          "class": 1,
          "dim1": 3.938861846923828,
          "dim2": -12.793561935424805
         },
         {
          "class": 0,
          "dim1": -1.3414713144302368,
          "dim2": 2.0468671321868896
         },
         {
          "class": 0,
          "dim1": -3.280270576477051,
          "dim2": -0.6422762274742126
         },
         {
          "class": 2,
          "dim1": -6.882648468017578,
          "dim2": 6.5256876945495605
         },
         {
          "class": 0,
          "dim1": 5.751853942871094,
          "dim2": 4.164952754974365
         },
         {
          "class": 1,
          "dim1": 3.8798935413360596,
          "dim2": -12.68941593170166
         },
         {
          "class": 0,
          "dim1": 3.7742834091186523,
          "dim2": 2.021845579147339
         },
         {
          "class": 3,
          "dim1": -11.823965072631836,
          "dim2": -2.176640272140503
         },
         {
          "class": 0,
          "dim1": 0.5865485668182373,
          "dim2": 1.762012004852295
         },
         {
          "class": 0,
          "dim1": 2.5370562076568604,
          "dim2": 4.6061882972717285
         },
         {
          "class": 1,
          "dim1": 1.809781789779663,
          "dim2": -13.279230117797852
         },
         {
          "class": 0,
          "dim1": 4.336792945861816,
          "dim2": 1.2578532695770264
         },
         {
          "class": 0,
          "dim1": 4.318509578704834,
          "dim2": 2.085352897644043
         },
         {
          "class": 0,
          "dim1": -3.53528094291687,
          "dim2": -0.4682641923427582
         },
         {
          "class": 0,
          "dim1": -0.9936683177947998,
          "dim2": -2.0626418590545654
         },
         {
          "class": 0,
          "dim1": 8.25217342376709,
          "dim2": 4.047328948974609
         },
         {
          "class": 0,
          "dim1": -0.2220233678817749,
          "dim2": 0.9522678852081299
         },
         {
          "class": 0,
          "dim1": 1.5390689373016357,
          "dim2": 2.944702386856079
         },
         {
          "class": 0,
          "dim1": 1.7430232763290405,
          "dim2": 0.9086436629295349
         },
         {
          "class": 0,
          "dim1": 0.649037778377533,
          "dim2": 4.436499118804932
         },
         {
          "class": 0,
          "dim1": 6.121758460998535,
          "dim2": 0.9238457679748535
         },
         {
          "class": 0,
          "dim1": 6.321269512176514,
          "dim2": 5.453301429748535
         },
         {
          "class": 0,
          "dim1": 4.479804515838623,
          "dim2": 2.2681710720062256
         },
         {
          "class": 1,
          "dim1": -2.5582315921783447,
          "dim2": 12.052692413330078
         },
         {
          "class": 1,
          "dim1": -2.2809667587280273,
          "dim2": 11.541278839111328
         },
         {
          "class": 0,
          "dim1": -1.4669865369796753,
          "dim2": -2.1027653217315674
         },
         {
          "class": 1,
          "dim1": 1.587169885635376,
          "dim2": -12.758222579956055
         },
         {
          "class": 2,
          "dim1": -3.1574580669403076,
          "dim2": -7.551768779754639
         },
         {
          "class": 0,
          "dim1": 3.470200538635254,
          "dim2": 4.939455986022949
         },
         {
          "class": 1,
          "dim1": 2.644798517227173,
          "dim2": -12.675087928771973
         },
         {
          "class": 0,
          "dim1": 1.4955912828445435,
          "dim2": -0.3058454692363739
         },
         {
          "class": 0,
          "dim1": -0.10530504584312439,
          "dim2": 1.2686103582382202
         },
         {
          "class": 1,
          "dim1": 0.6181847453117371,
          "dim2": -11.0459623336792
         },
         {
          "class": 0,
          "dim1": 2.2003140449523926,
          "dim2": 0.0035848161205649376
         },
         {
          "class": 0,
          "dim1": 0.6109460592269897,
          "dim2": 0.9052019715309143
         },
         {
          "class": 0,
          "dim1": 2.0418272018432617,
          "dim2": 1.104794979095459
         },
         {
          "class": 3,
          "dim1": -4.650467395782471,
          "dim2": -0.28519126772880554
         },
         {
          "class": 1,
          "dim1": 1.222291111946106,
          "dim2": -11.632190704345703
         },
         {
          "class": 0,
          "dim1": -0.20689187943935394,
          "dim2": 1.591268539428711
         },
         {
          "class": 1,
          "dim1": -2.3143060207366943,
          "dim2": 10.374760627746582
         },
         {
          "class": 2,
          "dim1": -2.5007669925689697,
          "dim2": -7.1352739334106445
         },
         {
          "class": 0,
          "dim1": 4.4466753005981445,
          "dim2": 1.2493767738342285
         },
         {
          "class": 3,
          "dim1": -12.919774055480957,
          "dim2": -2.0518364906311035
         },
         {
          "class": 3,
          "dim1": -12.351165771484375,
          "dim2": 0.22732973098754883
         },
         {
          "class": 0,
          "dim1": 7.385746479034424,
          "dim2": 4.321682929992676
         },
         {
          "class": 0,
          "dim1": 2.4802794456481934,
          "dim2": 3.9771740436553955
         },
         {
          "class": 0,
          "dim1": 6.975086212158203,
          "dim2": 4.153708457946777
         },
         {
          "class": 1,
          "dim1": 2.3143460750579834,
          "dim2": -1.4779611825942993
         },
         {
          "class": 1,
          "dim1": 5.004184246063232,
          "dim2": -0.6579743027687073
         },
         {
          "class": 0,
          "dim1": 3.3444485664367676,
          "dim2": 4.214319229125977
         },
         {
          "class": 2,
          "dim1": -1.116087555885315,
          "dim2": -7.941422939300537
         },
         {
          "class": 0,
          "dim1": -2.1636133193969727,
          "dim2": 2.123112440109253
         },
         {
          "class": 3,
          "dim1": -11.43702220916748,
          "dim2": 0.24455676972866058
         },
         {
          "class": 0,
          "dim1": 1.387208342552185,
          "dim2": 2.127366542816162
         },
         {
          "class": 2,
          "dim1": -3.306428909301758,
          "dim2": -7.6761088371276855
         },
         {
          "class": 0,
          "dim1": 3.100217819213867,
          "dim2": 4.43289041519165
         },
         {
          "class": 0,
          "dim1": -3.141737461090088,
          "dim2": 0.2521618902683258
         },
         {
          "class": 0,
          "dim1": -2.1443963050842285,
          "dim2": 1.4480293989181519
         },
         {
          "class": 3,
          "dim1": -12.334023475646973,
          "dim2": -2.421908378601074
         },
         {
          "class": 3,
          "dim1": -12.033568382263184,
          "dim2": -0.5038163661956787
         },
         {
          "class": 0,
          "dim1": -2.862415313720703,
          "dim2": 0.31942683458328247
         },
         {
          "class": 0,
          "dim1": -3.286410331726074,
          "dim2": 0.1963728815317154
         },
         {
          "class": 0,
          "dim1": -0.9634918570518494,
          "dim2": -1.929033637046814
         },
         {
          "class": 0,
          "dim1": 2.653782367706299,
          "dim2": 4.745090007781982
         },
         {
          "class": 0,
          "dim1": -0.24179217219352722,
          "dim2": 2.207867383956909
         },
         {
          "class": 2,
          "dim1": -2.204413890838623,
          "dim2": 0.20491747558116913
         },
         {
          "class": 1,
          "dim1": 0.5155439376831055,
          "dim2": 0.3070087730884552
         },
         {
          "class": 0,
          "dim1": 3.5514044761657715,
          "dim2": 3.0723423957824707
         },
         {
          "class": 0,
          "dim1": 5.0460309982299805,
          "dim2": 3.3329615592956543
         },
         {
          "class": 0,
          "dim1": 0.6473579406738281,
          "dim2": 2.210629463195801
         },
         {
          "class": 1,
          "dim1": 1.7151670455932617,
          "dim2": -0.5651642084121704
         },
         {
          "class": 0,
          "dim1": 2.412707805633545,
          "dim2": 2.0442705154418945
         },
         {
          "class": 0,
          "dim1": 4.536556720733643,
          "dim2": 4.309398174285889
         },
         {
          "class": 0,
          "dim1": -2.888803482055664,
          "dim2": 0.9221019148826599
         },
         {
          "class": 2,
          "dim1": -3.2031028270721436,
          "dim2": 8.188159942626953
         },
         {
          "class": 1,
          "dim1": 7.090882301330566,
          "dim2": 1.8649215698242188
         },
         {
          "class": 0,
          "dim1": -0.7483048439025879,
          "dim2": 1.989647626876831
         },
         {
          "class": 0,
          "dim1": 7.234854221343994,
          "dim2": 3.791949510574341
         },
         {
          "class": 2,
          "dim1": 6.163657188415527,
          "dim2": -6.420039176940918
         },
         {
          "class": 0,
          "dim1": 6.742070198059082,
          "dim2": 2.877027750015259
         },
         {
          "class": 0,
          "dim1": 1.2498548030853271,
          "dim2": 1.5561494827270508
         },
         {
          "class": 2,
          "dim1": -6.909952163696289,
          "dim2": 6.882992744445801
         },
         {
          "class": 1,
          "dim1": 1.384486198425293,
          "dim2": -12.376886367797852
         },
         {
          "class": 0,
          "dim1": 0.6092910766601562,
          "dim2": 1.884344458580017
         },
         {
          "class": 0,
          "dim1": 2.7066195011138916,
          "dim2": 4.07274055480957
         },
         {
          "class": 0,
          "dim1": 4.520013332366943,
          "dim2": 5.0421223640441895
         },
         {
          "class": 0,
          "dim1": 6.025417327880859,
          "dim2": 4.486771583557129
         },
         {
          "class": 3,
          "dim1": -11.15302848815918,
          "dim2": -2.5803468227386475
         },
         {
          "class": 0,
          "dim1": 5.498237133026123,
          "dim2": 2.6736865043640137
         },
         {
          "class": 1,
          "dim1": 2.406980037689209,
          "dim2": 2.1007919311523438
         },
         {
          "class": 0,
          "dim1": -2.6309871673583984,
          "dim2": -0.36199334263801575
         },
         {
          "class": 0,
          "dim1": 2.7832608222961426,
          "dim2": 3.607867479324341
         },
         {
          "class": 0,
          "dim1": -3.7267208099365234,
          "dim2": -0.40025922656059265
         },
         {
          "class": 0,
          "dim1": -3.0608763694763184,
          "dim2": 0.2983119785785675
         },
         {
          "class": 2,
          "dim1": -6.363406658172607,
          "dim2": 8.136245727539062
         },
         {
          "class": 2,
          "dim1": 7.549015045166016,
          "dim2": -4.897943019866943
         },
         {
          "class": 0,
          "dim1": -0.4173594117164612,
          "dim2": 2.411165237426758
         },
         {
          "class": 3,
          "dim1": -11.115769386291504,
          "dim2": -2.843730926513672
         },
         {
          "class": 2,
          "dim1": 7.409801959991455,
          "dim2": -6.695357322692871
         },
         {
          "class": 0,
          "dim1": 2.3507988452911377,
          "dim2": 0.208525612950325
         },
         {
          "class": 0,
          "dim1": 4.182474136352539,
          "dim2": 3.1006951332092285
         },
         {
          "class": 1,
          "dim1": 0.6562349200248718,
          "dim2": -11.755409240722656
         },
         {
          "class": 1,
          "dim1": 3.8548057079315186,
          "dim2": -12.922505378723145
         },
         {
          "class": 1,
          "dim1": 0.7646155953407288,
          "dim2": -11.494012832641602
         },
         {
          "class": 0,
          "dim1": 1.9808025360107422,
          "dim2": -0.09718438237905502
         },
         {
          "class": 2,
          "dim1": -7.251843452453613,
          "dim2": 7.386919975280762
         },
         {
          "class": 2,
          "dim1": -7.1523003578186035,
          "dim2": 6.876237869262695
         },
         {
          "class": 2,
          "dim1": -6.328698635101318,
          "dim2": 8.250473976135254
         },
         {
          "class": 0,
          "dim1": 4.5782036781311035,
          "dim2": 1.0256178379058838
         },
         {
          "class": 1,
          "dim1": 3.237983465194702,
          "dim2": -13.202709197998047
         },
         {
          "class": 0,
          "dim1": -3.246047019958496,
          "dim2": 0.15431532263755798
         },
         {
          "class": 1,
          "dim1": 1.6933281421661377,
          "dim2": -12.061250686645508
         },
         {
          "class": 1,
          "dim1": 2.230893611907959,
          "dim2": -12.741440773010254
         },
         {
          "class": 0,
          "dim1": 7.726254463195801,
          "dim2": 6.081589698791504
         },
         {
          "class": 3,
          "dim1": -10.497865676879883,
          "dim2": 0.2535459101200104
         },
         {
          "class": 3,
          "dim1": -12.540083885192871,
          "dim2": 0.20951078832149506
         },
         {
          "class": 0,
          "dim1": -0.5990363955497742,
          "dim2": 2.414064407348633
         },
         {
          "class": 1,
          "dim1": 3.663867473602295,
          "dim2": -12.587319374084473
         },
         {
          "class": 3,
          "dim1": -10.060903549194336,
          "dim2": 0.8392311930656433
         },
         {
          "class": 2,
          "dim1": -2.7876973152160645,
          "dim2": -6.9509663581848145
         },
         {
          "class": 3,
          "dim1": -11.878840446472168,
          "dim2": -2.251391887664795
         },
         {
          "class": 0,
          "dim1": -3.0791523456573486,
          "dim2": 10.787917137145996
         },
         {
          "class": 2,
          "dim1": 6.925152778625488,
          "dim2": -6.825458526611328
         },
         {
          "class": 0,
          "dim1": 8.0670166015625,
          "dim2": 4.066737174987793
         },
         {
          "class": 2,
          "dim1": -7.008265495300293,
          "dim2": 6.802131175994873
         },
         {
          "class": 1,
          "dim1": 1.2697407007217407,
          "dim2": -11.574506759643555
         },
         {
          "class": 1,
          "dim1": -3.0056681632995605,
          "dim2": 11.992904663085938
         },
         {
          "class": 2,
          "dim1": -3.2508740425109863,
          "dim2": 7.707052707672119
         },
         {
          "class": 0,
          "dim1": 7.186917781829834,
          "dim2": 3.749418020248413
         },
         {
          "class": 3,
          "dim1": -11.184897422790527,
          "dim2": -0.017125194892287254
         },
         {
          "class": 0,
          "dim1": 7.43506383895874,
          "dim2": 2.2566938400268555
         },
         {
          "class": 0,
          "dim1": 2.1869726181030273,
          "dim2": 2.7076783180236816
         },
         {
          "class": 3,
          "dim1": -12.78016471862793,
          "dim2": -2.1641182899475098
         },
         {
          "class": 2,
          "dim1": -3.558899164199829,
          "dim2": -7.178773403167725
         },
         {
          "class": 2,
          "dim1": -7.165149688720703,
          "dim2": 7.080568790435791
         },
         {
          "class": 1,
          "dim1": -2.373626470565796,
          "dim2": 10.280921936035156
         },
         {
          "class": 2,
          "dim1": 6.498622894287109,
          "dim2": -6.368462085723877
         },
         {
          "class": 0,
          "dim1": 7.385303020477295,
          "dim2": 3.3361575603485107
         },
         {
          "class": 0,
          "dim1": -1.3091480731964111,
          "dim2": -0.48594921827316284
         },
         {
          "class": 3,
          "dim1": -11.664374351501465,
          "dim2": -0.43138355016708374
         },
         {
          "class": 3,
          "dim1": -11.958765029907227,
          "dim2": -0.5582008361816406
         },
         {
          "class": 1,
          "dim1": 2.596602201461792,
          "dim2": -12.531620979309082
         },
         {
          "class": 0,
          "dim1": 5.722133159637451,
          "dim2": 4.556741237640381
         },
         {
          "class": 2,
          "dim1": -7.045569896697998,
          "dim2": 7.665799140930176
         },
         {
          "class": 3,
          "dim1": -1.5773744583129883,
          "dim2": 2.0501861572265625
         },
         {
          "class": 2,
          "dim1": -1.9302171468734741,
          "dim2": -8.023906707763672
         },
         {
          "class": 1,
          "dim1": 6.917781352996826,
          "dim2": 1.6698647737503052
         },
         {
          "class": 3,
          "dim1": -12.900500297546387,
          "dim2": -1.2473454475402832
         },
         {
          "class": 1,
          "dim1": -2.928417444229126,
          "dim2": 11.865306854248047
         },
         {
          "class": 0,
          "dim1": -2.3290770053863525,
          "dim2": 0.20923304557800293
         },
         {
          "class": 3,
          "dim1": -12.209979057312012,
          "dim2": -3.3307113647460938
         },
         {
          "class": 0,
          "dim1": -1.3357704877853394,
          "dim2": -0.5745888352394104
         },
         {
          "class": 3,
          "dim1": -11.904512405395508,
          "dim2": -3.8906266689300537
         },
         {
          "class": 0,
          "dim1": 4.0959296226501465,
          "dim2": 4.585639476776123
         },
         {
          "class": 3,
          "dim1": -10.435160636901855,
          "dim2": -3.529052734375
         },
         {
          "class": 0,
          "dim1": 0.7322260737419128,
          "dim2": 2.5852155685424805
         },
         {
          "class": 2,
          "dim1": -6.278380393981934,
          "dim2": 8.245561599731445
         },
         {
          "class": 1,
          "dim1": 0.6663424372673035,
          "dim2": -11.857575416564941
         },
         {
          "class": 1,
          "dim1": -3.272202730178833,
          "dim2": 11.235074996948242
         },
         {
          "class": 1,
          "dim1": 2.7587528228759766,
          "dim2": -13.075961112976074
         },
         {
          "class": 3,
          "dim1": -13.137394905090332,
          "dim2": -1.323892593383789
         },
         {
          "class": 0,
          "dim1": 0.5954872369766235,
          "dim2": 0.2815108299255371
         },
         {
          "class": 0,
          "dim1": 4.932393550872803,
          "dim2": 5.2406744956970215
         },
         {
          "class": 0,
          "dim1": -3.969088554382324,
          "dim2": -1.8811547756195068
         },
         {
          "class": 0,
          "dim1": 3.605557441711426,
          "dim2": 2.206667423248291
         },
         {
          "class": 1,
          "dim1": 1.9154248237609863,
          "dim2": -13.61346435546875
         },
         {
          "class": 3,
          "dim1": -12.307540893554688,
          "dim2": -2.4937195777893066
         },
         {
          "class": 0,
          "dim1": 4.198968887329102,
          "dim2": 1.5268815755844116
         },
         {
          "class": 0,
          "dim1": 2.820836305618286,
          "dim2": 2.2184853553771973
         },
         {
          "class": 0,
          "dim1": -3.5321297645568848,
          "dim2": -1.6883938312530518
         },
         {
          "class": 0,
          "dim1": 7.5671706199646,
          "dim2": 3.7014994621276855
         },
         {
          "class": 2,
          "dim1": -7.0783185958862305,
          "dim2": 7.007143497467041
         },
         {
          "class": 2,
          "dim1": -3.0656583309173584,
          "dim2": 7.7209553718566895
         },
         {
          "class": 3,
          "dim1": -12.548957824707031,
          "dim2": -0.21003219485282898
         },
         {
          "class": 0,
          "dim1": 8.60019302368164,
          "dim2": 3.7840476036071777
         },
         {
          "class": 3,
          "dim1": -12.922374725341797,
          "dim2": -0.9701578617095947
         },
         {
          "class": 0,
          "dim1": -0.12239616364240646,
          "dim2": 1.5194263458251953
         },
         {
          "class": 3,
          "dim1": -11.09335708618164,
          "dim2": 0.5542648434638977
         },
         {
          "class": 0,
          "dim1": 4.970378398895264,
          "dim2": 5.152652263641357
         },
         {
          "class": 0,
          "dim1": 1.912183403968811,
          "dim2": 2.2841129302978516
         },
         {
          "class": 3,
          "dim1": -13.31701374053955,
          "dim2": -2.4518988132476807
         },
         {
          "class": 2,
          "dim1": -7.112750053405762,
          "dim2": 6.881943702697754
         },
         {
          "class": 2,
          "dim1": -1.9296624660491943,
          "dim2": -8.08482837677002
         },
         {
          "class": 3,
          "dim1": -10.985442161560059,
          "dim2": -2.8835954666137695
         },
         {
          "class": 0,
          "dim1": -0.18007011711597443,
          "dim2": 1.541701316833496
         },
         {
          "class": 0,
          "dim1": 2.0426642894744873,
          "dim2": 1.2746745347976685
         },
         {
          "class": 2,
          "dim1": -3.151648759841919,
          "dim2": -7.570892810821533
         },
         {
          "class": 2,
          "dim1": -2.2820067405700684,
          "dim2": -7.5116376876831055
         },
         {
          "class": 1,
          "dim1": 1.243914246559143,
          "dim2": -12.642483711242676
         },
         {
          "class": 0,
          "dim1": -2.4611589908599854,
          "dim2": 2.01888108253479
         },
         {
          "class": 0,
          "dim1": 1.076669454574585,
          "dim2": 0.6441712379455566
         },
         {
          "class": 0,
          "dim1": 1.8474092483520508,
          "dim2": 1.8473068475723267
         },
         {
          "class": 0,
          "dim1": 6.7253828048706055,
          "dim2": 3.7328083515167236
         },
         {
          "class": 1,
          "dim1": -2.866307020187378,
          "dim2": 11.555119514465332
         },
         {
          "class": 0,
          "dim1": 1.1757935285568237,
          "dim2": 1.731911063194275
         },
         {
          "class": 1,
          "dim1": 1.3475595712661743,
          "dim2": -12.730875015258789
         },
         {
          "class": 0,
          "dim1": 3.8637983798980713,
          "dim2": 3.0832841396331787
         },
         {
          "class": 2,
          "dim1": 5.826382637023926,
          "dim2": -6.639947414398193
         },
         {
          "class": 0,
          "dim1": 8.204440116882324,
          "dim2": 2.6799509525299072
         },
         {
          "class": 0,
          "dim1": 5.210408687591553,
          "dim2": 2.1608240604400635
         },
         {
          "class": 0,
          "dim1": 4.707327365875244,
          "dim2": 3.315427780151367
         },
         {
          "class": 3,
          "dim1": -12.689810752868652,
          "dim2": -1.964596152305603
         },
         {
          "class": 0,
          "dim1": 0.10388785600662231,
          "dim2": 1.0063217878341675
         },
         {
          "class": 0,
          "dim1": 2.645392656326294,
          "dim2": 4.554496765136719
         },
         {
          "class": 0,
          "dim1": 7.423550128936768,
          "dim2": 2.5500261783599854
         },
         {
          "class": 3,
          "dim1": -12.044748306274414,
          "dim2": 0.032488591969013214
         },
         {
          "class": 1,
          "dim1": -4.014298439025879,
          "dim2": 11.753363609313965
         },
         {
          "class": 3,
          "dim1": -12.04784107208252,
          "dim2": 0.5169499516487122
         },
         {
          "class": 2,
          "dim1": -2.1177408695220947,
          "dim2": -7.4796342849731445
         },
         {
          "class": 0,
          "dim1": 8.462512016296387,
          "dim2": 3.1589643955230713
         },
         {
          "class": 2,
          "dim1": 6.027270793914795,
          "dim2": -6.990286350250244
         },
         {
          "class": 0,
          "dim1": 5.112085819244385,
          "dim2": 3.3170738220214844
         },
         {
          "class": 1,
          "dim1": 3.9327330589294434,
          "dim2": -12.526396751403809
         },
         {
          "class": 0,
          "dim1": 0.5199185013771057,
          "dim2": 3.541686534881592
         },
         {
          "class": 3,
          "dim1": -11.886219024658203,
          "dim2": -0.66405189037323
         },
         {
          "class": 3,
          "dim1": -10.877189636230469,
          "dim2": -3.7663748264312744
         },
         {
          "class": 0,
          "dim1": -0.41985031962394714,
          "dim2": -0.5852676630020142
         },
         {
          "class": 0,
          "dim1": 3.0831780433654785,
          "dim2": 2.5999486446380615
         },
         {
          "class": 0,
          "dim1": 7.341329097747803,
          "dim2": 2.1073546409606934
         },
         {
          "class": 0,
          "dim1": -1.9151275157928467,
          "dim2": -1.6128463745117188
         },
         {
          "class": 1,
          "dim1": 1.5749958753585815,
          "dim2": -13.159561157226562
         },
         {
          "class": 3,
          "dim1": -10.721208572387695,
          "dim2": 0.5001958012580872
         },
         {
          "class": 0,
          "dim1": 5.026031494140625,
          "dim2": 3.5841360092163086
         },
         {
          "class": 2,
          "dim1": 5.5044379234313965,
          "dim2": 0.7558587193489075
         },
         {
          "class": 0,
          "dim1": 1.521727442741394,
          "dim2": 1.1839945316314697
         },
         {
          "class": 0,
          "dim1": -3.0519864559173584,
          "dim2": -0.9754130244255066
         },
         {
          "class": 1,
          "dim1": -2.3507046699523926,
          "dim2": 12.03653335571289
         },
         {
          "class": 0,
          "dim1": -2.0350892543792725,
          "dim2": -0.2725279927253723
         },
         {
          "class": 2,
          "dim1": -3.148284435272217,
          "dim2": -6.329944133758545
         },
         {
          "class": 0,
          "dim1": -1.6969397068023682,
          "dim2": -1.3425254821777344
         },
         {
          "class": 0,
          "dim1": 0.4750952124595642,
          "dim2": 3.924825668334961
         },
         {
          "class": 0,
          "dim1": -1.2060315608978271,
          "dim2": 1.0033814907073975
         },
         {
          "class": 0,
          "dim1": 0.08492806553840637,
          "dim2": 2.7478458881378174
         },
         {
          "class": 2,
          "dim1": -7.096628189086914,
          "dim2": 6.767333507537842
         },
         {
          "class": 1,
          "dim1": 2.1534571647644043,
          "dim2": -12.291394233703613
         },
         {
          "class": 0,
          "dim1": 8.785351753234863,
          "dim2": 3.612431049346924
         },
         {
          "class": 0,
          "dim1": -0.8160718083381653,
          "dim2": -0.08813374489545822
         },
         {
          "class": 0,
          "dim1": 5.393240928649902,
          "dim2": 2.704498767852783
         },
         {
          "class": 0,
          "dim1": 4.637545585632324,
          "dim2": 0.94798743724823
         },
         {
          "class": 3,
          "dim1": -12.090598106384277,
          "dim2": -1.4134273529052734
         },
         {
          "class": 0,
          "dim1": 6.420838356018066,
          "dim2": 3.466909885406494
         },
         {
          "class": 0,
          "dim1": 7.2084527015686035,
          "dim2": 2.663363218307495
         },
         {
          "class": 2,
          "dim1": -6.91741418838501,
          "dim2": 6.525481224060059
         },
         {
          "class": 0,
          "dim1": -0.25977975130081177,
          "dim2": 3.09370756149292
         },
         {
          "class": 1,
          "dim1": 2.0145931243896484,
          "dim2": -12.830510139465332
         },
         {
          "class": 3,
          "dim1": -10.280577659606934,
          "dim2": 0.8170596361160278
         },
         {
          "class": 1,
          "dim1": 1.3019673824310303,
          "dim2": -11.632685661315918
         },
         {
          "class": 0,
          "dim1": -2.2944273948669434,
          "dim2": -1.837332844734192
         },
         {
          "class": 0,
          "dim1": 8.194696426391602,
          "dim2": 3.826251745223999
         },
         {
          "class": 2,
          "dim1": -6.922845363616943,
          "dim2": 7.633760929107666
         },
         {
          "class": 0,
          "dim1": -3.629572629928589,
          "dim2": -0.36354777216911316
         },
         {
          "class": 0,
          "dim1": 3.0240721702575684,
          "dim2": 4.819489002227783
         },
         {
          "class": 1,
          "dim1": 0.6613603234291077,
          "dim2": -11.280865669250488
         },
         {
          "class": 0,
          "dim1": 6.204990863800049,
          "dim2": 5.162971019744873
         },
         {
          "class": 0,
          "dim1": 4.518081188201904,
          "dim2": 0.2650400996208191
         },
         {
          "class": 0,
          "dim1": 1.153272271156311,
          "dim2": -0.3196503818035126
         },
         {
          "class": 0,
          "dim1": 3.4615423679351807,
          "dim2": 4.266199111938477
         },
         {
          "class": 3,
          "dim1": -10.334497451782227,
          "dim2": 0.8347504734992981
         },
         {
          "class": 0,
          "dim1": 0.5389050245285034,
          "dim2": 2.6077263355255127
         },
         {
          "class": 0,
          "dim1": -0.20251695811748505,
          "dim2": 1.5644760131835938
         },
         {
          "class": 0,
          "dim1": 6.742414474487305,
          "dim2": 1.7006006240844727
         },
         {
          "class": 3,
          "dim1": -12.913690567016602,
          "dim2": -2.9470572471618652
         },
         {
          "class": 3,
          "dim1": -12.692720413208008,
          "dim2": -1.433154821395874
         },
         {
          "class": 0,
          "dim1": 6.700688362121582,
          "dim2": 3.7247374057769775
         },
         {
          "class": 0,
          "dim1": -2.424912214279175,
          "dim2": 9.134920120239258
         },
         {
          "class": 3,
          "dim1": -11.76430606842041,
          "dim2": 0.605561375617981
         },
         {
          "class": 0,
          "dim1": -1.6929728984832764,
          "dim2": 1.3630263805389404
         },
         {
          "class": 3,
          "dim1": -11.358512878417969,
          "dim2": -2.064732074737549
         },
         {
          "class": 0,
          "dim1": -0.45020151138305664,
          "dim2": -0.46338555216789246
         },
         {
          "class": 0,
          "dim1": 6.8532490730285645,
          "dim2": 5.2654523849487305
         },
         {
          "class": 0,
          "dim1": 3.5586283206939697,
          "dim2": 0.7917571067810059
         },
         {
          "class": 0,
          "dim1": -1.155608892440796,
          "dim2": -0.3122730255126953
         },
         {
          "class": 0,
          "dim1": -2.3471522331237793,
          "dim2": -1.6590054035186768
         },
         {
          "class": 0,
          "dim1": 5.15892219543457,
          "dim2": 2.1332874298095703
         },
         {
          "class": 0,
          "dim1": 7.546545028686523,
          "dim2": 6.606718063354492
         },
         {
          "class": 0,
          "dim1": 3.2818381786346436,
          "dim2": 0.2055477797985077
         },
         {
          "class": 0,
          "dim1": 2.3028316497802734,
          "dim2": 1.1101665496826172
         },
         {
          "class": 0,
          "dim1": 1.2407203912734985,
          "dim2": 1.7769827842712402
         },
         {
          "class": 1,
          "dim1": 3.926546096801758,
          "dim2": -12.646675109863281
         },
         {
          "class": 0,
          "dim1": -1.383963704109192,
          "dim2": -1.627034068107605
         },
         {
          "class": 0,
          "dim1": 0.645954966545105,
          "dim2": 1.0835418701171875
         },
         {
          "class": 0,
          "dim1": 0.3843224048614502,
          "dim2": 0.07326673716306686
         },
         {
          "class": 3,
          "dim1": -11.180683135986328,
          "dim2": -3.4733664989471436
         },
         {
          "class": 2,
          "dim1": 5.8488898277282715,
          "dim2": -6.660239219665527
         },
         {
          "class": 0,
          "dim1": -0.8172227740287781,
          "dim2": 2.505077838897705
         },
         {
          "class": 2,
          "dim1": -1.7656432390213013,
          "dim2": -7.8784685134887695
         },
         {
          "class": 1,
          "dim1": 4.201911926269531,
          "dim2": -12.783624649047852
         },
         {
          "class": 0,
          "dim1": 0.4031888544559479,
          "dim2": 1.4966039657592773
         },
         {
          "class": 1,
          "dim1": 2.5931801795959473,
          "dim2": -13.424951553344727
         },
         {
          "class": 3,
          "dim1": -11.998311996459961,
          "dim2": -1.5618876218795776
         },
         {
          "class": 3,
          "dim1": -10.436148643493652,
          "dim2": -3.546538829803467
         },
         {
          "class": 2,
          "dim1": -2.2834064960479736,
          "dim2": -7.453907012939453
         },
         {
          "class": 3,
          "dim1": -12.085817337036133,
          "dim2": 0.05248159542679787
         },
         {
          "class": 0,
          "dim1": 5.163393497467041,
          "dim2": 3.361433506011963
         },
         {
          "class": 3,
          "dim1": -10.935659408569336,
          "dim2": -1.5600727796554565
         },
         {
          "class": 0,
          "dim1": -1.9949183464050293,
          "dim2": 0.20393596589565277
         },
         {
          "class": 3,
          "dim1": -10.475703239440918,
          "dim2": 0.6433762907981873
         },
         {
          "class": 0,
          "dim1": 3.922273874282837,
          "dim2": 0.06779716908931732
         },
         {
          "class": 1,
          "dim1": 1.6917431354522705,
          "dim2": -12.080438613891602
         },
         {
          "class": 3,
          "dim1": -13.129833221435547,
          "dim2": -2.620432138442993
         },
         {
          "class": 3,
          "dim1": -10.828697204589844,
          "dim2": 0.3937109410762787
         },
         {
          "class": 2,
          "dim1": 7.431908130645752,
          "dim2": -5.701661109924316
         },
         {
          "class": 0,
          "dim1": 3.349439859390259,
          "dim2": 3.843440294265747
         },
         {
          "class": 0,
          "dim1": 2.57112193107605,
          "dim2": 2.5888919830322266
         },
         {
          "class": 2,
          "dim1": -3.3554024696350098,
          "dim2": 8.292418479919434
         },
         {
          "class": 3,
          "dim1": -11.015236854553223,
          "dim2": -0.04020063579082489
         },
         {
          "class": 1,
          "dim1": 4.139827251434326,
          "dim2": -0.5465030670166016
         },
         {
          "class": 1,
          "dim1": 1.7528660297393799,
          "dim2": -11.978903770446777
         },
         {
          "class": 0,
          "dim1": 3.7008728981018066,
          "dim2": 5.2362189292907715
         },
         {
          "class": 3,
          "dim1": -12.08270263671875,
          "dim2": 0.5441043972969055
         },
         {
          "class": 0,
          "dim1": -3.7944509983062744,
          "dim2": -2.0766589641571045
         },
         {
          "class": 0,
          "dim1": -1.25163996219635,
          "dim2": 1.0228606462478638
         },
         {
          "class": 0,
          "dim1": 0.7597795128822327,
          "dim2": 1.5874484777450562
         },
         {
          "class": 1,
          "dim1": -3.27217173576355,
          "dim2": 12.286009788513184
         },
         {
          "class": 0,
          "dim1": 5.671899795532227,
          "dim2": 3.100442886352539
         },
         {
          "class": 0,
          "dim1": 4.55815315246582,
          "dim2": 4.319575309753418
         },
         {
          "class": 1,
          "dim1": 4.888541221618652,
          "dim2": -12.174091339111328
         },
         {
          "class": 0,
          "dim1": 8.000085830688477,
          "dim2": 4.327460765838623
         },
         {
          "class": 0,
          "dim1": -3.0966694355010986,
          "dim2": -2.138782024383545
         },
         {
          "class": 1,
          "dim1": 1.066311001777649,
          "dim2": -11.8539400100708
         },
         {
          "class": 2,
          "dim1": 6.861644268035889,
          "dim2": -5.758674621582031
         },
         {
          "class": 0,
          "dim1": 6.726934909820557,
          "dim2": 1.7692911624908447
         },
         {
          "class": 1,
          "dim1": 2.6671814918518066,
          "dim2": -12.207266807556152
         },
         {
          "class": 0,
          "dim1": 8.241827964782715,
          "dim2": 3.2064316272735596
         },
         {
          "class": 3,
          "dim1": -11.685769081115723,
          "dim2": -1.517615795135498
         },
         {
          "class": 2,
          "dim1": 6.047085762023926,
          "dim2": -7.07484769821167
         },
         {
          "class": 0,
          "dim1": -3.1522834300994873,
          "dim2": -2.3556604385375977
         },
         {
          "class": 0,
          "dim1": -0.17412641644477844,
          "dim2": -1.4756048917770386
         },
         {
          "class": 2,
          "dim1": -2.8517730236053467,
          "dim2": -0.18929748237133026
         },
         {
          "class": 3,
          "dim1": -12.204618453979492,
          "dim2": 0.31708812713623047
         },
         {
          "class": 0,
          "dim1": -2.625964879989624,
          "dim2": -0.9072389006614685
         },
         {
          "class": 3,
          "dim1": -11.207819938659668,
          "dim2": 0.9890866875648499
         },
         {
          "class": 0,
          "dim1": 3.8338725566864014,
          "dim2": 4.646330833435059
         },
         {
          "class": 2,
          "dim1": -1.6221667528152466,
          "dim2": -8.082793235778809
         },
         {
          "class": 1,
          "dim1": 1.420643925666809,
          "dim2": -12.028544425964355
         },
         {
          "class": 0,
          "dim1": 4.098029136657715,
          "dim2": 1.370754599571228
         },
         {
          "class": 0,
          "dim1": -2.2045788764953613,
          "dim2": 0.09378595650196075
         },
         {
          "class": 1,
          "dim1": 1.144191026687622,
          "dim2": -11.78442096710205
         },
         {
          "class": 0,
          "dim1": 3.99668288230896,
          "dim2": 0.9786946773529053
         },
         {
          "class": 1,
          "dim1": 0.6833653450012207,
          "dim2": -10.89096736907959
         },
         {
          "class": 3,
          "dim1": -12.334964752197266,
          "dim2": 0.09026221185922623
         },
         {
          "class": 1,
          "dim1": 2.4503395557403564,
          "dim2": -12.084461212158203
         },
         {
          "class": 3,
          "dim1": -12.741150856018066,
          "dim2": -2.44303035736084
         },
         {
          "class": 2,
          "dim1": -6.933661937713623,
          "dim2": 6.573516845703125
         },
         {
          "class": 0,
          "dim1": 1.0441603660583496,
          "dim2": 2.3579156398773193
         },
         {
          "class": 2,
          "dim1": -2.364410877227783,
          "dim2": -7.319289207458496
         },
         {
          "class": 2,
          "dim1": -2.461395025253296,
          "dim2": -7.448760509490967
         },
         {
          "class": 2,
          "dim1": 7.130088806152344,
          "dim2": -6.780566215515137
         },
         {
          "class": 0,
          "dim1": 4.669818878173828,
          "dim2": 0.6206984519958496
         },
         {
          "class": 0,
          "dim1": 8.08495807647705,
          "dim2": 4.559096813201904
         },
         {
          "class": 0,
          "dim1": 8.108628273010254,
          "dim2": 3.4385828971862793
         },
         {
          "class": 2,
          "dim1": -2.968261480331421,
          "dim2": 7.832353115081787
         },
         {
          "class": 1,
          "dim1": 2.1339504718780518,
          "dim2": -1.46234929561615
         },
         {
          "class": 1,
          "dim1": -4.74753475189209,
          "dim2": 11.179475784301758
         },
         {
          "class": 0,
          "dim1": -0.8966010212898254,
          "dim2": 2.089055299758911
         },
         {
          "class": 0,
          "dim1": -1.3945729732513428,
          "dim2": -0.08748187869787216
         },
         {
          "class": 3,
          "dim1": -11.433384895324707,
          "dim2": -3.162426471710205
         },
         {
          "class": 0,
          "dim1": 4.8803791999816895,
          "dim2": 1.4098516702651978
         },
         {
          "class": 0,
          "dim1": 1.8260716199874878,
          "dim2": -0.27934011816978455
         },
         {
          "class": 0,
          "dim1": 0.3236371874809265,
          "dim2": 3.8375191688537598
         },
         {
          "class": 0,
          "dim1": 6.0101542472839355,
          "dim2": 3.591768503189087
         },
         {
          "class": 3,
          "dim1": -12.04655647277832,
          "dim2": -0.9896396398544312
         },
         {
          "class": 3,
          "dim1": -11.623973846435547,
          "dim2": -1.043784737586975
         },
         {
          "class": 1,
          "dim1": 4.58116340637207,
          "dim2": -12.151237487792969
         },
         {
          "class": 2,
          "dim1": -3.1776537895202637,
          "dim2": -6.411274433135986
         },
         {
          "class": 0,
          "dim1": -0.06627865135669708,
          "dim2": 1.5719794034957886
         },
         {
          "class": 2,
          "dim1": -3.1842734813690186,
          "dim2": 7.437016010284424
         },
         {
          "class": 0,
          "dim1": 3.3153603076934814,
          "dim2": 0.5622415542602539
         },
         {
          "class": 2,
          "dim1": 6.054096698760986,
          "dim2": -6.46735954284668
         },
         {
          "class": 0,
          "dim1": 2.968703508377075,
          "dim2": 3.3037269115448
         },
         {
          "class": 0,
          "dim1": 1.2311573028564453,
          "dim2": 3.9429666996002197
         },
         {
          "class": 0,
          "dim1": 0.7957260608673096,
          "dim2": 0.18682095408439636
         },
         {
          "class": 3,
          "dim1": -3.930769443511963,
          "dim2": -1.9433213472366333
         },
         {
          "class": 1,
          "dim1": 2.9624838829040527,
          "dim2": -13.03253173828125
         },
         {
          "class": 0,
          "dim1": -1.6352378129959106,
          "dim2": -2.2665727138519287
         },
         {
          "class": 3,
          "dim1": -11.144268035888672,
          "dim2": -0.5697536468505859
         },
         {
          "class": 0,
          "dim1": 2.118229389190674,
          "dim2": 1.4952201843261719
         },
         {
          "class": 0,
          "dim1": 2.0941553115844727,
          "dim2": 3.3833839893341064
         },
         {
          "class": 2,
          "dim1": 6.405592441558838,
          "dim2": -6.391485691070557
         },
         {
          "class": 3,
          "dim1": -12.414517402648926,
          "dim2": -1.3892556428909302
         },
         {
          "class": 2,
          "dim1": 7.632379531860352,
          "dim2": -5.056623935699463
         },
         {
          "class": 0,
          "dim1": 6.967416763305664,
          "dim2": 3.9292449951171875
         },
         {
          "class": 0,
          "dim1": 4.769868850708008,
          "dim2": 4.7361226081848145
         },
         {
          "class": 1,
          "dim1": -3.286679983139038,
          "dim2": 11.865192413330078
         },
         {
          "class": 0,
          "dim1": 3.883277416229248,
          "dim2": 2.5448319911956787
         },
         {
          "class": 0,
          "dim1": -2.5821373462677,
          "dim2": -0.7072396278381348
         },
         {
          "class": 0,
          "dim1": -2.1640944480895996,
          "dim2": 0.18384067714214325
         },
         {
          "class": 0,
          "dim1": -1.6775298118591309,
          "dim2": -0.8753129839897156
         },
         {
          "class": 0,
          "dim1": 3.635451555252075,
          "dim2": 1.692751169204712
         },
         {
          "class": 1,
          "dim1": 2.984954357147217,
          "dim2": -13.082202911376953
         },
         {
          "class": 0,
          "dim1": -2.9942104816436768,
          "dim2": -0.7481487989425659
         },
         {
          "class": 2,
          "dim1": -3.106724262237549,
          "dim2": -6.573481559753418
         },
         {
          "class": 2,
          "dim1": -3.357142210006714,
          "dim2": -6.524222373962402
         },
         {
          "class": 3,
          "dim1": -11.46481990814209,
          "dim2": -1.1147809028625488
         },
         {
          "class": 0,
          "dim1": 4.760578632354736,
          "dim2": 1.0475506782531738
         },
         {
          "class": 0,
          "dim1": 3.7888996601104736,
          "dim2": 4.057690620422363
         },
         {
          "class": 1,
          "dim1": 4.075911998748779,
          "dim2": -12.814225196838379
         },
         {
          "class": 0,
          "dim1": 4.591897964477539,
          "dim2": 1.5103514194488525
         },
         {
          "class": 0,
          "dim1": -1.1669632196426392,
          "dim2": -0.6114441752433777
         },
         {
          "class": 0,
          "dim1": 5.541251182556152,
          "dim2": 2.726816177368164
         },
         {
          "class": 0,
          "dim1": 5.845789909362793,
          "dim2": 2.1201376914978027
         },
         {
          "class": 2,
          "dim1": -3.3603744506835938,
          "dim2": -7.129245758056641
         },
         {
          "class": 3,
          "dim1": -12.04721736907959,
          "dim2": -1.7884143590927124
         },
         {
          "class": 2,
          "dim1": 7.742893218994141,
          "dim2": -5.5912675857543945
         },
         {
          "class": 1,
          "dim1": -2.683861494064331,
          "dim2": 12.060046195983887
         },
         {
          "class": 3,
          "dim1": -11.753726959228516,
          "dim2": -1.5829601287841797
         },
         {
          "class": 0,
          "dim1": 7.043065071105957,
          "dim2": 4.182955741882324
         },
         {
          "class": 3,
          "dim1": -11.810175895690918,
          "dim2": 0.28925013542175293
         },
         {
          "class": 0,
          "dim1": 5.350540637969971,
          "dim2": 2.139960289001465
         },
         {
          "class": 1,
          "dim1": -3.3444578647613525,
          "dim2": 11.865486145019531
         },
         {
          "class": 0,
          "dim1": 3.4465389251708984,
          "dim2": 4.20342493057251
         },
         {
          "class": 0,
          "dim1": 0.5425376892089844,
          "dim2": 1.4909489154815674
         },
         {
          "class": 0,
          "dim1": -2.9975459575653076,
          "dim2": -2.282396078109741
         },
         {
          "class": 1,
          "dim1": 2.7764997482299805,
          "dim2": -12.807952880859375
         },
         {
          "class": 3,
          "dim1": -4.403306484222412,
          "dim2": -1.627631425857544
         },
         {
          "class": 0,
          "dim1": 3.3320350646972656,
          "dim2": 3.546010732650757
         },
         {
          "class": 2,
          "dim1": -3.16508150100708,
          "dim2": 7.145651817321777
         },
         {
          "class": 0,
          "dim1": 4.34412956237793,
          "dim2": 4.473553657531738
         },
         {
          "class": 1,
          "dim1": 0.6611821055412292,
          "dim2": -11.558629035949707
         },
         {
          "class": 2,
          "dim1": 7.656275272369385,
          "dim2": -6.421996116638184
         },
         {
          "class": 0,
          "dim1": 0.45144182443618774,
          "dim2": 4.235805511474609
         },
         {
          "class": 0,
          "dim1": 4.248836040496826,
          "dim2": 4.533718109130859
         },
         {
          "class": 0,
          "dim1": -2.6006197929382324,
          "dim2": -0.01793566346168518
         },
         {
          "class": 3,
          "dim1": -12.15161418914795,
          "dim2": -0.21854941546916962
         },
         {
          "class": 0,
          "dim1": 2.9477570056915283,
          "dim2": 3.0304062366485596
         },
         {
          "class": 0,
          "dim1": -2.3917510509490967,
          "dim2": -1.96690034866333
         },
         {
          "class": 2,
          "dim1": -3.6352806091308594,
          "dim2": -6.893477916717529
         },
         {
          "class": 1,
          "dim1": -3.048130512237549,
          "dim2": 12.073243141174316
         },
         {
          "class": 3,
          "dim1": -13.26315975189209,
          "dim2": -1.2011122703552246
         },
         {
          "class": 0,
          "dim1": -1.4330536127090454,
          "dim2": 0.40549182891845703
         },
         {
          "class": 3,
          "dim1": -10.839573860168457,
          "dim2": 0.07656128704547882
         },
         {
          "class": 2,
          "dim1": -3.3278725147247314,
          "dim2": 8.19515323638916
         },
         {
          "class": 2,
          "dim1": 1.4845198392868042,
          "dim2": 3.784311056137085
         },
         {
          "class": 2,
          "dim1": -2.5165932178497314,
          "dim2": -7.904611110687256
         },
         {
          "class": 2,
          "dim1": -0.9300833940505981,
          "dim2": -8.009803771972656
         },
         {
          "class": 0,
          "dim1": 7.201658725738525,
          "dim2": 5.509640216827393
         },
         {
          "class": 2,
          "dim1": -6.445064544677734,
          "dim2": 8.03786849975586
         },
         {
          "class": 0,
          "dim1": -2.637493133544922,
          "dim2": 0.9166908860206604
         },
         {
          "class": 2,
          "dim1": -1.3966270685195923,
          "dim2": -8.179692268371582
         },
         {
          "class": 0,
          "dim1": 4.369187355041504,
          "dim2": 3.0863428115844727
         },
         {
          "class": 0,
          "dim1": 7.066165447235107,
          "dim2": 5.061183929443359
         },
         {
          "class": 0,
          "dim1": -2.468823194503784,
          "dim2": 0.8725153803825378
         },
         {
          "class": 0,
          "dim1": -3.230790853500366,
          "dim2": -0.9419159293174744
         },
         {
          "class": 3,
          "dim1": -11.671936988830566,
          "dim2": -1.7869077920913696
         },
         {
          "class": 2,
          "dim1": 6.901040077209473,
          "dim2": 2.115084648132324
         },
         {
          "class": 2,
          "dim1": -2.6373331546783447,
          "dim2": -8.117326736450195
         },
         {
          "class": 0,
          "dim1": 6.546065807342529,
          "dim2": 2.7988901138305664
         },
         {
          "class": 0,
          "dim1": 3.534522771835327,
          "dim2": 2.006596326828003
         },
         {
          "class": 1,
          "dim1": 0.605623185634613,
          "dim2": -11.097582817077637
         },
         {
          "class": 2,
          "dim1": -1.572440266609192,
          "dim2": -8.190791130065918
         },
         {
          "class": 3,
          "dim1": -10.361568450927734,
          "dim2": -3.0723679065704346
         },
         {
          "class": 0,
          "dim1": 3.8513073921203613,
          "dim2": 2.2112042903900146
         },
         {
          "class": 2,
          "dim1": -6.98172664642334,
          "dim2": 6.70121955871582
         },
         {
          "class": 1,
          "dim1": 0.9536576867103577,
          "dim2": -12.383572578430176
         },
         {
          "class": 0,
          "dim1": 3.1310250759124756,
          "dim2": 4.078434944152832
         },
         {
          "class": 0,
          "dim1": 7.010967254638672,
          "dim2": 5.939754486083984
         },
         {
          "class": 1,
          "dim1": 1.0021336078643799,
          "dim2": -11.719647407531738
         },
         {
          "class": 0,
          "dim1": -0.09586798399686813,
          "dim2": 2.1798040866851807
         },
         {
          "class": 2,
          "dim1": -2.4694008827209473,
          "dim2": 6.765638828277588
         },
         {
          "class": 3,
          "dim1": -2.5043108463287354,
          "dim2": 1.9558566808700562
         },
         {
          "class": 0,
          "dim1": -2.6999573707580566,
          "dim2": -1.9197077751159668
         },
         {
          "class": 3,
          "dim1": -11.2076416015625,
          "dim2": 0.34464722871780396
         },
         {
          "class": 0,
          "dim1": 7.188440322875977,
          "dim2": 5.2256574630737305
         },
         {
          "class": 0,
          "dim1": -1.3392010927200317,
          "dim2": 1.0957258939743042
         },
         {
          "class": 3,
          "dim1": -13.214005470275879,
          "dim2": -2.7426326274871826
         },
         {
          "class": 1,
          "dim1": 1.4758198261260986,
          "dim2": -12.24059009552002
         },
         {
          "class": 0,
          "dim1": 4.791098594665527,
          "dim2": 2.105679988861084
         },
         {
          "class": 0,
          "dim1": -0.016452234238386154,
          "dim2": 3.2342305183410645
         },
         {
          "class": 0,
          "dim1": 2.4152088165283203,
          "dim2": 1.205444097518921
         },
         {
          "class": 0,
          "dim1": 4.270328998565674,
          "dim2": 4.086341381072998
         },
         {
          "class": 0,
          "dim1": 1.430832862854004,
          "dim2": 0.9384985566139221
         },
         {
          "class": 2,
          "dim1": 6.54705286026001,
          "dim2": -7.020434856414795
         },
         {
          "class": 3,
          "dim1": -12.323089599609375,
          "dim2": -1.8513818979263306
         },
         {
          "class": 3,
          "dim1": -10.909162521362305,
          "dim2": 0.36834388971328735
         },
         {
          "class": 0,
          "dim1": 3.6042637825012207,
          "dim2": 0.08779904991388321
         },
         {
          "class": 0,
          "dim1": -0.4459235370159149,
          "dim2": 1.6322063207626343
         },
         {
          "class": 0,
          "dim1": 8.071209907531738,
          "dim2": 4.688920974731445
         },
         {
          "class": 0,
          "dim1": 0.8420286774635315,
          "dim2": 2.5553951263427734
         },
         {
          "class": 0,
          "dim1": 2.7271788120269775,
          "dim2": 0.3481544852256775
         },
         {
          "class": 3,
          "dim1": -11.081278800964355,
          "dim2": 0.6477173566818237
         },
         {
          "class": 0,
          "dim1": 3.0162904262542725,
          "dim2": 1.1153619289398193
         },
         {
          "class": 0,
          "dim1": 2.3331105709075928,
          "dim2": 2.4911301136016846
         },
         {
          "class": 0,
          "dim1": -0.20657554268836975,
          "dim2": 0.29323911666870117
         },
         {
          "class": 2,
          "dim1": -2.0068061351776123,
          "dim2": -8.18705940246582
         },
         {
          "class": 2,
          "dim1": -3.602843761444092,
          "dim2": -7.016365051269531
         },
         {
          "class": 1,
          "dim1": -4.1139984130859375,
          "dim2": 11.656169891357422
         },
         {
          "class": 1,
          "dim1": 4.979574203491211,
          "dim2": -11.70521068572998
         },
         {
          "class": 0,
          "dim1": 6.830427169799805,
          "dim2": 4.030304431915283
         },
         {
          "class": 1,
          "dim1": 2.027479410171509,
          "dim2": -12.324161529541016
         },
         {
          "class": 0,
          "dim1": -1.331739902496338,
          "dim2": 1.6182690858840942
         },
         {
          "class": 0,
          "dim1": 0.45396649837493896,
          "dim2": 2.1013619899749756
         },
         {
          "class": 0,
          "dim1": 5.338361740112305,
          "dim2": 3.0834052562713623
         },
         {
          "class": 0,
          "dim1": -3.1897928714752197,
          "dim2": -0.29597118496894836
         },
         {
          "class": 2,
          "dim1": -2.377920389175415,
          "dim2": -8.04908275604248
         },
         {
          "class": 1,
          "dim1": -2.8672873973846436,
          "dim2": 11.360605239868164
         },
         {
          "class": 3,
          "dim1": -11.996392250061035,
          "dim2": -0.1907787322998047
         },
         {
          "class": 0,
          "dim1": 1.5054783821105957,
          "dim2": 0.06506230682134628
         },
         {
          "class": 0,
          "dim1": -4.483580112457275,
          "dim2": -0.9426490068435669
         },
         {
          "class": 0,
          "dim1": -2.2060110569000244,
          "dim2": 1.5432462692260742
         },
         {
          "class": 0,
          "dim1": 6.221388339996338,
          "dim2": 5.204878807067871
         },
         {
          "class": 3,
          "dim1": -11.26036548614502,
          "dim2": -3.3797504901885986
         },
         {
          "class": 2,
          "dim1": -6.949281692504883,
          "dim2": 6.588717460632324
         },
         {
          "class": 0,
          "dim1": -1.6478908061981201,
          "dim2": -1.6923871040344238
         },
         {
          "class": 2,
          "dim1": 7.567521572113037,
          "dim2": -5.424315929412842
         },
         {
          "class": 2,
          "dim1": 7.071412086486816,
          "dim2": -6.71293306350708
         },
         {
          "class": 3,
          "dim1": -11.071174621582031,
          "dim2": 0.5958435535430908
         },
         {
          "class": 0,
          "dim1": 4.974295616149902,
          "dim2": 0.7864444851875305
         },
         {
          "class": 1,
          "dim1": 2.6395153999328613,
          "dim2": -12.206021308898926
         },
         {
          "class": 0,
          "dim1": -0.5123137831687927,
          "dim2": -0.6111527681350708
         },
         {
          "class": 0,
          "dim1": 3.804318428039551,
          "dim2": 4.796398639678955
         },
         {
          "class": 2,
          "dim1": 6.97730827331543,
          "dim2": -6.084584712982178
         },
         {
          "class": 0,
          "dim1": 5.306440353393555,
          "dim2": 0.21523474156856537
         },
         {
          "class": 0,
          "dim1": 7.5028815269470215,
          "dim2": 2.6663920879364014
         },
         {
          "class": 1,
          "dim1": -2.4416916370391846,
          "dim2": 9.764419555664062
         },
         {
          "class": 0,
          "dim1": -1.6922338008880615,
          "dim2": -0.437753826379776
         },
         {
          "class": 2,
          "dim1": -2.496525287628174,
          "dim2": -7.122988700866699
         },
         {
          "class": 3,
          "dim1": -10.825460433959961,
          "dim2": 0.5005699992179871
         },
         {
          "class": 0,
          "dim1": 0.4438420534133911,
          "dim2": 1.529664158821106
         },
         {
          "class": 2,
          "dim1": -2.1584556102752686,
          "dim2": 6.631433963775635
         },
         {
          "class": 0,
          "dim1": 3.0167555809020996,
          "dim2": 4.398482322692871
         },
         {
          "class": 3,
          "dim1": -10.559297561645508,
          "dim2": -2.8834190368652344
         },
         {
          "class": 0,
          "dim1": -2.31339168548584,
          "dim2": -0.7449805736541748
         },
         {
          "class": 2,
          "dim1": -2.965839147567749,
          "dim2": 7.114790439605713
         },
         {
          "class": 3,
          "dim1": -12.03571605682373,
          "dim2": -0.5241971015930176
         },
         {
          "class": 3,
          "dim1": -12.22360610961914,
          "dim2": -3.0838887691497803
         },
         {
          "class": 2,
          "dim1": 7.470339775085449,
          "dim2": -6.264542579650879
         },
         {
          "class": 0,
          "dim1": 6.220278739929199,
          "dim2": 4.661028861999512
         },
         {
          "class": 0,
          "dim1": 1.7309538125991821,
          "dim2": 3.192753553390503
         },
         {
          "class": 2,
          "dim1": -2.472071647644043,
          "dim2": -7.36377477645874
         },
         {
          "class": 2,
          "dim1": -2.6125004291534424,
          "dim2": -7.255279541015625
         },
         {
          "class": 2,
          "dim1": -1.5460423231124878,
          "dim2": -8.163572311401367
         },
         {
          "class": 0,
          "dim1": -0.9138927459716797,
          "dim2": 2.4949655532836914
         },
         {
          "class": 3,
          "dim1": -12.729880332946777,
          "dim2": 0.07286529242992401
         },
         {
          "class": 2,
          "dim1": 6.014188766479492,
          "dim2": -6.607692241668701
         },
         {
          "class": 0,
          "dim1": 8.528521537780762,
          "dim2": 3.6224288940429688
         },
         {
          "class": 3,
          "dim1": -11.453707695007324,
          "dim2": -3.04369854927063
         },
         {
          "class": 3,
          "dim1": -11.6083345413208,
          "dim2": -1.2929306030273438
         },
         {
          "class": 0,
          "dim1": 7.54838228225708,
          "dim2": 3.013841152191162
         },
         {
          "class": 3,
          "dim1": -11.208571434020996,
          "dim2": 0.27906376123428345
         },
         {
          "class": 0,
          "dim1": -10.78056812286377,
          "dim2": -1.2359776496887207
         },
         {
          "class": 1,
          "dim1": -2.29270076751709,
          "dim2": 11.637327194213867
         },
         {
          "class": 0,
          "dim1": 1.3161762952804565,
          "dim2": 1.0859605073928833
         },
         {
          "class": 3,
          "dim1": -10.41126537322998,
          "dim2": 0.7240684032440186
         },
         {
          "class": 0,
          "dim1": 1.6001957654953003,
          "dim2": 1.6227951049804688
         },
         {
          "class": 0,
          "dim1": 2.342445135116577,
          "dim2": 0.5514618754386902
         },
         {
          "class": 2,
          "dim1": -3.3286869525909424,
          "dim2": 8.217047691345215
         },
         {
          "class": 0,
          "dim1": 7.481443405151367,
          "dim2": 2.3922958374023438
         },
         {
          "class": 0,
          "dim1": 3.179748773574829,
          "dim2": 2.583378553390503
         },
         {
          "class": 3,
          "dim1": -10.394279479980469,
          "dim2": 0.5065800547599792
         },
         {
          "class": 2,
          "dim1": 7.2685627937316895,
          "dim2": -6.4600019454956055
         },
         {
          "class": 0,
          "dim1": 6.935951232910156,
          "dim2": 2.680389404296875
         },
         {
          "class": 0,
          "dim1": 0.7994111180305481,
          "dim2": 1.871445894241333
         },
         {
          "class": 0,
          "dim1": 1.9908932447433472,
          "dim2": 4.155137538909912
         },
         {
          "class": 0,
          "dim1": 2.909062623977661,
          "dim2": 3.5730321407318115
         },
         {
          "class": 0,
          "dim1": 0.5188184976577759,
          "dim2": 2.001964807510376
         },
         {
          "class": 2,
          "dim1": -3.598172426223755,
          "dim2": -6.607385158538818
         },
         {
          "class": 1,
          "dim1": 1.0276553630828857,
          "dim2": -11.763150215148926
         },
         {
          "class": 0,
          "dim1": 5.550261497497559,
          "dim2": 4.664455413818359
         },
         {
          "class": 1,
          "dim1": -2.3494906425476074,
          "dim2": 10.618250846862793
         },
         {
          "class": 1,
          "dim1": 1.8739361763000488,
          "dim2": -11.962606430053711
         },
         {
          "class": 1,
          "dim1": 2.7491729259490967,
          "dim2": -12.5673189163208
         },
         {
          "class": 0,
          "dim1": 6.416443347930908,
          "dim2": 3.09110164642334
         },
         {
          "class": 0,
          "dim1": 6.789273262023926,
          "dim2": 2.532947540283203
         },
         {
          "class": 1,
          "dim1": 3.6722757816314697,
          "dim2": -12.259734153747559
         },
         {
          "class": 3,
          "dim1": -11.591400146484375,
          "dim2": -0.9571653604507446
         },
         {
          "class": 3,
          "dim1": -11.289921760559082,
          "dim2": -2.8018932342529297
         },
         {
          "class": 0,
          "dim1": 5.100958824157715,
          "dim2": 0.10969650745391846
         },
         {
          "class": 0,
          "dim1": 3.888718605041504,
          "dim2": 1.350532054901123
         },
         {
          "class": 0,
          "dim1": -0.3422589600086212,
          "dim2": 2.385380744934082
         },
         {
          "class": 2,
          "dim1": -2.7221715450286865,
          "dim2": 6.8068084716796875
         },
         {
          "class": 3,
          "dim1": -10.746606826782227,
          "dim2": -3.53169584274292
         },
         {
          "class": 0,
          "dim1": 8.041481018066406,
          "dim2": 3.0120041370391846
         },
         {
          "class": 1,
          "dim1": 2.1899197101593018,
          "dim2": -13.079612731933594
         },
         {
          "class": 1,
          "dim1": 2.099400043487549,
          "dim2": -13.319785118103027
         },
         {
          "class": 0,
          "dim1": 2.4632647037506104,
          "dim2": 0.3819047212600708
         },
         {
          "class": 0,
          "dim1": 6.550271034240723,
          "dim2": 1.4752081632614136
         },
         {
          "class": 0,
          "dim1": -0.5909394025802612,
          "dim2": -2.950779676437378
         },
         {
          "class": 0,
          "dim1": -0.124568872153759,
          "dim2": -1.5726208686828613
         },
         {
          "class": 0,
          "dim1": 1.2780143022537231,
          "dim2": 1.3459548950195312
         },
         {
          "class": 0,
          "dim1": 1.8113813400268555,
          "dim2": 0.17436522245407104
         },
         {
          "class": 2,
          "dim1": 6.877540111541748,
          "dim2": -6.846166133880615
         },
         {
          "class": 0,
          "dim1": 2.690795660018921,
          "dim2": 1.4248993396759033
         },
         {
          "class": 0,
          "dim1": 8.904308319091797,
          "dim2": 3.6654233932495117
         },
         {
          "class": 0,
          "dim1": 3.801821231842041,
          "dim2": 4.504246711730957
         },
         {
          "class": 0,
          "dim1": 7.544211387634277,
          "dim2": 3.873887300491333
         },
         {
          "class": 0,
          "dim1": 3.924173593521118,
          "dim2": 0.4657156467437744
         },
         {
          "class": 0,
          "dim1": 4.91068172454834,
          "dim2": 0.34078678488731384
         },
         {
          "class": 0,
          "dim1": 7.398722171783447,
          "dim2": 4.460578918457031
         },
         {
          "class": 0,
          "dim1": 3.7433371543884277,
          "dim2": 1.3006796836853027
         },
         {
          "class": 0,
          "dim1": 2.1569108963012695,
          "dim2": 1.4883345365524292
         },
         {
          "class": 3,
          "dim1": -12.180351257324219,
          "dim2": 0.15759219229221344
         },
         {
          "class": 0,
          "dim1": -1.035286545753479,
          "dim2": -1.2858418226242065
         },
         {
          "class": 3,
          "dim1": -12.046491622924805,
          "dim2": -0.00546822277829051
         },
         {
          "class": 2,
          "dim1": -6.918452739715576,
          "dim2": 7.743895053863525
         },
         {
          "class": 3,
          "dim1": -10.820844650268555,
          "dim2": -3.763160467147827
         },
         {
          "class": 0,
          "dim1": 6.076841831207275,
          "dim2": 0.7233136892318726
         },
         {
          "class": 0,
          "dim1": 4.974765300750732,
          "dim2": 0.8272956609725952
         },
         {
          "class": 0,
          "dim1": -0.6365251541137695,
          "dim2": -1.9455382823944092
         },
         {
          "class": 3,
          "dim1": -12.038168907165527,
          "dim2": 0.5376958250999451
         },
         {
          "class": 2,
          "dim1": -3.2815909385681152,
          "dim2": 7.88291597366333
         },
         {
          "class": 1,
          "dim1": -2.2073373794555664,
          "dim2": 10.65968132019043
         },
         {
          "class": 0,
          "dim1": 7.7507429122924805,
          "dim2": 4.4979729652404785
         },
         {
          "class": 1,
          "dim1": 2.887687921524048,
          "dim2": -13.027815818786621
         },
         {
          "class": 0,
          "dim1": 8.522383689880371,
          "dim2": 3.1984076499938965
         },
         {
          "class": 3,
          "dim1": -12.43380069732666,
          "dim2": -3.2828943729400635
         },
         {
          "class": 1,
          "dim1": -3.378849744796753,
          "dim2": 11.555020332336426
         },
         {
          "class": 0,
          "dim1": 1.1794850826263428,
          "dim2": 2.7977492809295654
         },
         {
          "class": 0,
          "dim1": 6.308525562286377,
          "dim2": 5.258513927459717
         },
         {
          "class": 2,
          "dim1": -6.5590925216674805,
          "dim2": 7.856932163238525
         },
         {
          "class": 0,
          "dim1": 1.0959454774856567,
          "dim2": 1.1896613836288452
         },
         {
          "class": 0,
          "dim1": 3.218684434890747,
          "dim2": 3.4085965156555176
         },
         {
          "class": 2,
          "dim1": -2.55318546295166,
          "dim2": 6.757421493530273
         },
         {
          "class": 0,
          "dim1": 5.991935729980469,
          "dim2": 4.464656829833984
         },
         {
          "class": 0,
          "dim1": -1.9628955125808716,
          "dim2": -2.0084846019744873
         },
         {
          "class": 1,
          "dim1": 1.0923806428909302,
          "dim2": -12.118627548217773
         },
         {
          "class": 0,
          "dim1": -0.08172158896923065,
          "dim2": 3.1534838676452637
         },
         {
          "class": 2,
          "dim1": -3.233609437942505,
          "dim2": 7.627409934997559
         },
         {
          "class": 2,
          "dim1": -0.851123034954071,
          "dim2": -0.079274982213974
         },
         {
          "class": 0,
          "dim1": 1.6089792251586914,
          "dim2": 4.4378132820129395
         },
         {
          "class": 3,
          "dim1": -11.896507263183594,
          "dim2": -2.4021496772766113
         },
         {
          "class": 0,
          "dim1": 1.2305824756622314,
          "dim2": 0.5668224692344666
         },
         {
          "class": 1,
          "dim1": -2.3472847938537598,
          "dim2": 10.398969650268555
         },
         {
          "class": 0,
          "dim1": -1.3581198453903198,
          "dim2": 2.0582659244537354
         },
         {
          "class": 3,
          "dim1": -13.216570854187012,
          "dim2": -0.9150806665420532
         },
         {
          "class": 0,
          "dim1": -1.0623443126678467,
          "dim2": 0.6335293650627136
         },
         {
          "class": 0,
          "dim1": 0.9092937111854553,
          "dim2": -0.30990928411483765
         },
         {
          "class": 3,
          "dim1": -13.264411926269531,
          "dim2": -2.5738067626953125
         },
         {
          "class": 2,
          "dim1": -2.889357328414917,
          "dim2": -7.619980335235596
         },
         {
          "class": 0,
          "dim1": 0.6671552062034607,
          "dim2": 2.6649234294891357
         },
         {
          "class": 0,
          "dim1": 1.8136597871780396,
          "dim2": 2.9474728107452393
         },
         {
          "class": 2,
          "dim1": -2.7008538246154785,
          "dim2": 6.807582378387451
         },
         {
          "class": 0,
          "dim1": 3.242170572280884,
          "dim2": 1.3901488780975342
         },
         {
          "class": 3,
          "dim1": -11.072446823120117,
          "dim2": -2.6671741008758545
         },
         {
          "class": 1,
          "dim1": 4.730161190032959,
          "dim2": -12.259373664855957
         },
         {
          "class": 0,
          "dim1": 3.1535961627960205,
          "dim2": 1.7912503480911255
         },
         {
          "class": 1,
          "dim1": -2.730515241622925,
          "dim2": 11.651281356811523
         },
         {
          "class": 3,
          "dim1": -11.948637008666992,
          "dim2": -3.8505163192749023
         },
         {
          "class": 3,
          "dim1": -10.736809730529785,
          "dim2": 0.45587658882141113
         },
         {
          "class": 0,
          "dim1": 1.9766957759857178,
          "dim2": 2.0623676776885986
         },
         {
          "class": 0,
          "dim1": -1.347854733467102,
          "dim2": -0.18349885940551758
         },
         {
          "class": 3,
          "dim1": -2.284567356109619,
          "dim2": 2.1582109928131104
         },
         {
          "class": 1,
          "dim1": -2.5544087886810303,
          "dim2": 10.219656944274902
         },
         {
          "class": 3,
          "dim1": -11.800057411193848,
          "dim2": -3.1816112995147705
         },
         {
          "class": 0,
          "dim1": -3.6131534576416016,
          "dim2": -1.253413438796997
         },
         {
          "class": 0,
          "dim1": 7.229504108428955,
          "dim2": 3.6962342262268066
         },
         {
          "class": 0,
          "dim1": 2.1794040203094482,
          "dim2": 0.7867873907089233
         },
         {
          "class": 1,
          "dim1": -3.297718048095703,
          "dim2": 12.022168159484863
         },
         {
          "class": 0,
          "dim1": -1.0091437101364136,
          "dim2": 0.4913298785686493
         },
         {
          "class": 0,
          "dim1": 2.0530574321746826,
          "dim2": -0.11535588651895523
         },
         {
          "class": 3,
          "dim1": -12.23340892791748,
          "dim2": -0.8723993301391602
         },
         {
          "class": 3,
          "dim1": -11.676043510437012,
          "dim2": 0.2886877655982971
         },
         {
          "class": 3,
          "dim1": -10.71461009979248,
          "dim2": 0.8083959817886353
         },
         {
          "class": 0,
          "dim1": 7.442524433135986,
          "dim2": 4.510091781616211
         },
         {
          "class": 1,
          "dim1": 2.8655495643615723,
          "dim2": -13.028236389160156
         },
         {
          "class": 2,
          "dim1": -3.4465227127075195,
          "dim2": 8.551928520202637
         },
         {
          "class": 0,
          "dim1": 3.3520162105560303,
          "dim2": 0.7425463199615479
         },
         {
          "class": 0,
          "dim1": -2.2814693450927734,
          "dim2": -1.817772388458252
         },
         {
          "class": 0,
          "dim1": 1.8367162942886353,
          "dim2": -1.5182873010635376
         },
         {
          "class": 3,
          "dim1": -10.607792854309082,
          "dim2": -3.6862637996673584
         },
         {
          "class": 3,
          "dim1": -12.270537376403809,
          "dim2": -2.0698835849761963
         },
         {
          "class": 0,
          "dim1": 3.7459144592285156,
          "dim2": 2.4790585041046143
         },
         {
          "class": 2,
          "dim1": 6.324795722961426,
          "dim2": -6.389593601226807
         },
         {
          "class": 3,
          "dim1": -11.076580047607422,
          "dim2": 0.4972049295902252
         },
         {
          "class": 0,
          "dim1": -2.99418306350708,
          "dim2": -1.7582299709320068
         },
         {
          "class": 0,
          "dim1": 5.5804853439331055,
          "dim2": 2.515371799468994
         },
         {
          "class": 2,
          "dim1": -6.870884418487549,
          "dim2": 6.911479473114014
         },
         {
          "class": 0,
          "dim1": -0.4607718586921692,
          "dim2": 0.2800924479961395
         },
         {
          "class": 0,
          "dim1": -1.5363942384719849,
          "dim2": 0.27866512537002563
         },
         {
          "class": 3,
          "dim1": -11.436442375183105,
          "dim2": -3.4415292739868164
         },
         {
          "class": 2,
          "dim1": 7.732792854309082,
          "dim2": -5.504110336303711
         },
         {
          "class": 0,
          "dim1": 1.4146548509597778,
          "dim2": 2.6153528690338135
         },
         {
          "class": 3,
          "dim1": -12.40721607208252,
          "dim2": -1.6902581453323364
         },
         {
          "class": 0,
          "dim1": -0.5796834826469421,
          "dim2": 1.6900441646575928
         },
         {
          "class": 3,
          "dim1": -11.669910430908203,
          "dim2": -0.8288832306861877
         },
         {
          "class": 2,
          "dim1": -6.9214935302734375,
          "dim2": 6.486917018890381
         },
         {
          "class": 0,
          "dim1": 8.521771430969238,
          "dim2": 4.287868976593018
         },
         {
          "class": 0,
          "dim1": 3.102074384689331,
          "dim2": 3.178858995437622
         },
         {
          "class": 2,
          "dim1": 6.849293231964111,
          "dim2": -6.634349822998047
         },
         {
          "class": 0,
          "dim1": 2.7874083518981934,
          "dim2": 2.2569000720977783
         },
         {
          "class": 2,
          "dim1": -3.0442068576812744,
          "dim2": 7.279516220092773
         },
         {
          "class": 0,
          "dim1": -3.117157459259033,
          "dim2": 0.3555602431297302
         },
         {
          "class": 1,
          "dim1": 3.5360631942749023,
          "dim2": -12.76466178894043
         },
         {
          "class": 0,
          "dim1": 7.008747100830078,
          "dim2": 4.310763359069824
         },
         {
          "class": 3,
          "dim1": -10.694931030273438,
          "dim2": -0.22266054153442383
         },
         {
          "class": 0,
          "dim1": 1.0833461284637451,
          "dim2": 4.150814056396484
         },
         {
          "class": 0,
          "dim1": 4.7822489738464355,
          "dim2": 5.270415782928467
         },
         {
          "class": 1,
          "dim1": -2.4829680919647217,
          "dim2": 9.886635780334473
         },
         {
          "class": 0,
          "dim1": -3.4379689693450928,
          "dim2": -0.752321183681488
         },
         {
          "class": 0,
          "dim1": 2.311708927154541,
          "dim2": 1.6199733018875122
         },
         {
          "class": 0,
          "dim1": 5.01224422454834,
          "dim2": 5.2904181480407715
         },
         {
          "class": 3,
          "dim1": -12.232131004333496,
          "dim2": -2.4702608585357666
         },
         {
          "class": 3,
          "dim1": -12.860285758972168,
          "dim2": -1.9046183824539185
         },
         {
          "class": 0,
          "dim1": -0.14025713503360748,
          "dim2": 3.1388800144195557
         },
         {
          "class": 0,
          "dim1": 6.674452781677246,
          "dim2": 5.32145357131958
         },
         {
          "class": 0,
          "dim1": 3.810152769088745,
          "dim2": 1.9433435201644897
         },
         {
          "class": 0,
          "dim1": 8.50312614440918,
          "dim2": 5.50073766708374
         },
         {
          "class": 1,
          "dim1": 1.7317404747009277,
          "dim2": -12.893521308898926
         },
         {
          "class": 0,
          "dim1": 8.18114185333252,
          "dim2": 5.000369071960449
         },
         {
          "class": 0,
          "dim1": 5.095097064971924,
          "dim2": 4.833123683929443
         },
         {
          "class": 3,
          "dim1": -12.269875526428223,
          "dim2": -0.7726112008094788
         },
         {
          "class": 1,
          "dim1": -3.123950481414795,
          "dim2": 11.953522682189941
         },
         {
          "class": 0,
          "dim1": 4.185452938079834,
          "dim2": 1.2812217473983765
         },
         {
          "class": 0,
          "dim1": 7.117112636566162,
          "dim2": 2.6794826984405518
         },
         {
          "class": 3,
          "dim1": -11.288690567016602,
          "dim2": -0.3501850366592407
         },
         {
          "class": 0,
          "dim1": -0.4764349162578583,
          "dim2": 2.550234079360962
         },
         {
          "class": 0,
          "dim1": 4.93159818649292,
          "dim2": 1.0485780239105225
         },
         {
          "class": 0,
          "dim1": 7.905083656311035,
          "dim2": 3.6644043922424316
         },
         {
          "class": 1,
          "dim1": 3.1126105785369873,
          "dim2": -12.51609992980957
         },
         {
          "class": 0,
          "dim1": 1.3713572025299072,
          "dim2": 2.0498273372650146
         },
         {
          "class": 1,
          "dim1": -0.6597540378570557,
          "dim2": -2.9647715091705322
         },
         {
          "class": 3,
          "dim1": -11.691825866699219,
          "dim2": -3.820685863494873
         },
         {
          "class": 2,
          "dim1": -0.8398604989051819,
          "dim2": -0.10851399600505829
         },
         {
          "class": 3,
          "dim1": -12.338458061218262,
          "dim2": -3.5192487239837646
         },
         {
          "class": 0,
          "dim1": -2.435680866241455,
          "dim2": -1.988642692565918
         },
         {
          "class": 0,
          "dim1": 2.0375659465789795,
          "dim2": 2.5485150814056396
         },
         {
          "class": 1,
          "dim1": -2.469587802886963,
          "dim2": 11.476183891296387
         },
         {
          "class": 0,
          "dim1": 3.071265697479248,
          "dim2": 2.844717264175415
         },
         {
          "class": 0,
          "dim1": 1.3115346431732178,
          "dim2": 1.7381983995437622
         },
         {
          "class": 0,
          "dim1": 8.052250862121582,
          "dim2": 5.990673065185547
         },
         {
          "class": 0,
          "dim1": 3.1663241386413574,
          "dim2": 3.760200262069702
         },
         {
          "class": 1,
          "dim1": 2.4651730060577393,
          "dim2": -1.1122645139694214
         },
         {
          "class": 0,
          "dim1": -3.8470535278320312,
          "dim2": -1.8797060251235962
         },
         {
          "class": 0,
          "dim1": 3.4766640663146973,
          "dim2": -0.6681424975395203
         },
         {
          "class": 3,
          "dim1": -10.307671546936035,
          "dim2": 0.5888434052467346
         },
         {
          "class": 0,
          "dim1": 3.3492989540100098,
          "dim2": 0.21344271302223206
         },
         {
          "class": 0,
          "dim1": 2.570899486541748,
          "dim2": 0.8747299313545227
         },
         {
          "class": 3,
          "dim1": -11.837489128112793,
          "dim2": -2.665933609008789
         },
         {
          "class": 3,
          "dim1": -12.174060821533203,
          "dim2": -1.3527438640594482
         },
         {
          "class": 0,
          "dim1": 0.7708325982093811,
          "dim2": 3.8819098472595215
         },
         {
          "class": 1,
          "dim1": -3.6032028198242188,
          "dim2": 11.42737865447998
         },
         {
          "class": 1,
          "dim1": 4.706456661224365,
          "dim2": -12.328522682189941
         },
         {
          "class": 1,
          "dim1": -3.2236275672912598,
          "dim2": 12.201921463012695
         },
         {
          "class": 2,
          "dim1": -3.1763546466827393,
          "dim2": 7.128716945648193
         },
         {
          "class": 3,
          "dim1": -11.95548152923584,
          "dim2": -1.9016029834747314
         },
         {
          "class": 0,
          "dim1": 3.0004537105560303,
          "dim2": 4.319065093994141
         },
         {
          "class": 3,
          "dim1": -11.924298286437988,
          "dim2": -0.11325255781412125
         },
         {
          "class": 0,
          "dim1": 5.195714473724365,
          "dim2": 2.664254903793335
         },
         {
          "class": 0,
          "dim1": -1.3183929920196533,
          "dim2": -0.14451658725738525
         },
         {
          "class": 0,
          "dim1": 4.8817596435546875,
          "dim2": 2.796412467956543
         },
         {
          "class": 0,
          "dim1": -0.44805532693862915,
          "dim2": 1.801340103149414
         },
         {
          "class": 0,
          "dim1": 0.5826611518859863,
          "dim2": 3.2822959423065186
         },
         {
          "class": 0,
          "dim1": -0.2817921042442322,
          "dim2": 1.509765625
         },
         {
          "class": 0,
          "dim1": 3.4286060333251953,
          "dim2": 4.2178635597229
         },
         {
          "class": 0,
          "dim1": 6.789154529571533,
          "dim2": 1.7469148635864258
         },
         {
          "class": 0,
          "dim1": 1.1390132904052734,
          "dim2": 0.04027051478624344
         },
         {
          "class": 2,
          "dim1": 6.526854038238525,
          "dim2": -6.692917346954346
         },
         {
          "class": 0,
          "dim1": -3.913408041000366,
          "dim2": -2.4320390224456787
         },
         {
          "class": 0,
          "dim1": 5.571855068206787,
          "dim2": 4.316195487976074
         },
         {
          "class": 1,
          "dim1": -3.442539691925049,
          "dim2": 11.665799140930176
         },
         {
          "class": 0,
          "dim1": 3.3660244941711426,
          "dim2": 1.5168647766113281
         },
         {
          "class": 0,
          "dim1": -3.0407676696777344,
          "dim2": -2.218353271484375
         },
         {
          "class": 0,
          "dim1": 6.474740982055664,
          "dim2": 5.646383285522461
         },
         {
          "class": 3,
          "dim1": -4.491526126861572,
          "dim2": -1.7681419849395752
         },
         {
          "class": 3,
          "dim1": -12.651495933532715,
          "dim2": -2.4457600116729736
         },
         {
          "class": 0,
          "dim1": 3.3364615440368652,
          "dim2": 5.005445957183838
         },
         {
          "class": 0,
          "dim1": 1.2763044834136963,
          "dim2": 1.8791612386703491
         },
         {
          "class": 0,
          "dim1": 1.5455915927886963,
          "dim2": 3.109328508377075
         },
         {
          "class": 3,
          "dim1": -12.203720092773438,
          "dim2": -0.8561093807220459
         },
         {
          "class": 1,
          "dim1": -3.8238003253936768,
          "dim2": 11.453010559082031
         },
         {
          "class": 0,
          "dim1": 5.298022270202637,
          "dim2": 2.8198964595794678
         },
         {
          "class": 1,
          "dim1": -2.681656837463379,
          "dim2": 11.66854476928711
         },
         {
          "class": 0,
          "dim1": 2.834510564804077,
          "dim2": 2.0916101932525635
         },
         {
          "class": 0,
          "dim1": 8.247358322143555,
          "dim2": 2.712751865386963
         },
         {
          "class": 3,
          "dim1": -10.309527397155762,
          "dim2": 0.7571001648902893
         },
         {
          "class": 1,
          "dim1": 3.6406664848327637,
          "dim2": -12.722309112548828
         },
         {
          "class": 0,
          "dim1": 4.076841831207275,
          "dim2": 4.030953407287598
         },
         {
          "class": 2,
          "dim1": 5.79162073135376,
          "dim2": -7.022188663482666
         },
         {
          "class": 0,
          "dim1": 4.066061019897461,
          "dim2": 1.982554316520691
         },
         {
          "class": 0,
          "dim1": 2.0703535079956055,
          "dim2": 0.6219601035118103
         },
         {
          "class": 2,
          "dim1": -2.0283102989196777,
          "dim2": -7.905888080596924
         },
         {
          "class": 0,
          "dim1": -1.2407344579696655,
          "dim2": -0.2928045988082886
         },
         {
          "class": 3,
          "dim1": -4.671582221984863,
          "dim2": -2.2242369651794434
         },
         {
          "class": 0,
          "dim1": -2.227036952972412,
          "dim2": 1.465989589691162
         },
         {
          "class": 2,
          "dim1": 7.850591659545898,
          "dim2": -5.864406108856201
         },
         {
          "class": 0,
          "dim1": 2.9158661365509033,
          "dim2": 2.7172062397003174
         },
         {
          "class": 0,
          "dim1": 4.381956100463867,
          "dim2": 3.7233986854553223
         },
         {
          "class": 1,
          "dim1": 1.8894736766815186,
          "dim2": -13.117856979370117
         },
         {
          "class": 3,
          "dim1": -4.605692386627197,
          "dim2": -0.4815784692764282
         },
         {
          "class": 0,
          "dim1": 3.6985299587249756,
          "dim2": 5.073452949523926
         },
         {
          "class": 3,
          "dim1": -11.838960647583008,
          "dim2": -0.8083338141441345
         },
         {
          "class": 0,
          "dim1": -0.6171746850013733,
          "dim2": -0.8980509042739868
         },
         {
          "class": 3,
          "dim1": -12.782581329345703,
          "dim2": -2.7939085960388184
         },
         {
          "class": 2,
          "dim1": -3.3036930561065674,
          "dim2": 7.557161331176758
         },
         {
          "class": 0,
          "dim1": 2.4870200157165527,
          "dim2": 1.6047788858413696
         },
         {
          "class": 0,
          "dim1": 7.36607027053833,
          "dim2": 3.0429344177246094
         },
         {
          "class": 1,
          "dim1": 3.0420825481414795,
          "dim2": -12.650235176086426
         },
         {
          "class": 2,
          "dim1": -3.3157269954681396,
          "dim2": 7.709842681884766
         },
         {
          "class": 3,
          "dim1": -12.839203834533691,
          "dim2": -1.4596836566925049
         },
         {
          "class": 0,
          "dim1": 1.3216818571090698,
          "dim2": 1.8906745910644531
         },
         {
          "class": 0,
          "dim1": -0.498954713344574,
          "dim2": -1.7533820867538452
         },
         {
          "class": 2,
          "dim1": 6.215265274047852,
          "dim2": -6.464481830596924
         },
         {
          "class": 0,
          "dim1": -1.7696688175201416,
          "dim2": 1.5798693895339966
         },
         {
          "class": 2,
          "dim1": -2.7056281566619873,
          "dim2": 6.8158063888549805
         },
         {
          "class": 1,
          "dim1": 4.550961494445801,
          "dim2": -12.553574562072754
         },
         {
          "class": 0,
          "dim1": -0.33624178171157837,
          "dim2": -1.4502828121185303
         },
         {
          "class": 0,
          "dim1": 6.641973972320557,
          "dim2": 4.524185657501221
         },
         {
          "class": 1,
          "dim1": 0.6074728965759277,
          "dim2": -10.787477493286133
         },
         {
          "class": 0,
          "dim1": -4.477970600128174,
          "dim2": -0.9816635251045227
         },
         {
          "class": 2,
          "dim1": -3.2489683628082275,
          "dim2": 7.641409397125244
         },
         {
          "class": 2,
          "dim1": -2.307845115661621,
          "dim2": -7.539912223815918
         },
         {
          "class": 1,
          "dim1": 0.6593369841575623,
          "dim2": -11.175680160522461
         },
         {
          "class": 2,
          "dim1": 7.823508262634277,
          "dim2": -5.201483249664307
         },
         {
          "class": 3,
          "dim1": -11.622114181518555,
          "dim2": -1.7195645570755005
         },
         {
          "class": 0,
          "dim1": -1.282868504524231,
          "dim2": -2.0398635864257812
         },
         {
          "class": 0,
          "dim1": 0.2844644784927368,
          "dim2": -0.47983497381210327
         },
         {
          "class": 2,
          "dim1": -3.4463553428649902,
          "dim2": -7.379865646362305
         },
         {
          "class": 0,
          "dim1": 6.711035251617432,
          "dim2": 4.867276668548584
         },
         {
          "class": 3,
          "dim1": -11.889727592468262,
          "dim2": -2.3708603382110596
         },
         {
          "class": 3,
          "dim1": -11.164569854736328,
          "dim2": -3.668914794921875
         },
         {
          "class": 2,
          "dim1": -1.3510035276412964,
          "dim2": -8.307419776916504
         },
         {
          "class": 0,
          "dim1": 3.80461049079895,
          "dim2": 5.3303327560424805
         },
         {
          "class": 0,
          "dim1": -3.2406058311462402,
          "dim2": -0.41106978058815
         },
         {
          "class": 1,
          "dim1": 3.019392728805542,
          "dim2": -12.902240753173828
         },
         {
          "class": 0,
          "dim1": 3.2128798961639404,
          "dim2": 0.5250818729400635
         },
         {
          "class": 0,
          "dim1": -2.549438714981079,
          "dim2": -1.8010445833206177
         },
         {
          "class": 2,
          "dim1": 6.968735694885254,
          "dim2": -6.330328464508057
         },
         {
          "class": 1,
          "dim1": 3.109367609024048,
          "dim2": -12.17209529876709
         },
         {
          "class": 0,
          "dim1": 7.531517505645752,
          "dim2": 4.945305347442627
         },
         {
          "class": 1,
          "dim1": 3.78336501121521,
          "dim2": -0.9833082556724548
         },
         {
          "class": 1,
          "dim1": 2.995209217071533,
          "dim2": -13.26567268371582
         },
         {
          "class": 0,
          "dim1": 4.717296123504639,
          "dim2": 0.7877538204193115
         },
         {
          "class": 0,
          "dim1": 4.131712436676025,
          "dim2": 3.885629653930664
         },
         {
          "class": 1,
          "dim1": -3.675290584564209,
          "dim2": 11.902645111083984
         },
         {
          "class": 0,
          "dim1": 7.785422325134277,
          "dim2": 4.209625720977783
         },
         {
          "class": 0,
          "dim1": -0.850975513458252,
          "dim2": -0.7015321254730225
         },
         {
          "class": 0,
          "dim1": 0.5811325907707214,
          "dim2": 1.3682947158813477
         },
         {
          "class": 1,
          "dim1": -2.542989730834961,
          "dim2": 11.67416763305664
         },
         {
          "class": 1,
          "dim1": 3.327826738357544,
          "dim2": -12.727677345275879
         },
         {
          "class": 0,
          "dim1": 4.046851634979248,
          "dim2": 0.5610589981079102
         },
         {
          "class": 3,
          "dim1": -11.670805931091309,
          "dim2": -0.7172051668167114
         },
         {
          "class": 0,
          "dim1": 6.73460054397583,
          "dim2": 2.933290481567383
         },
         {
          "class": 0,
          "dim1": 2.93231463432312,
          "dim2": 3.1702404022216797
         },
         {
          "class": 1,
          "dim1": -2.9303791522979736,
          "dim2": 11.346739768981934
         },
         {
          "class": 0,
          "dim1": 5.862415313720703,
          "dim2": 2.507094383239746
         },
         {
          "class": 0,
          "dim1": 7.056710243225098,
          "dim2": 4.975962162017822
         },
         {
          "class": 1,
          "dim1": 2.936333417892456,
          "dim2": -13.384512901306152
         },
         {
          "class": 0,
          "dim1": 4.527462482452393,
          "dim2": 3.5137031078338623
         },
         {
          "class": 1,
          "dim1": -2.1685895919799805,
          "dim2": 11.32005500793457
         },
         {
          "class": 0,
          "dim1": -1.2617665529251099,
          "dim2": -0.08119833469390869
         },
         {
          "class": 0,
          "dim1": 6.641388893127441,
          "dim2": 2.738054037094116
         },
         {
          "class": 1,
          "dim1": 1.4040426015853882,
          "dim2": -12.867485046386719
         },
         {
          "class": 2,
          "dim1": 5.540812015533447,
          "dim2": -6.82197904586792
         },
         {
          "class": 0,
          "dim1": 2.689335823059082,
          "dim2": 2.8599495887756348
         },
         {
          "class": 3,
          "dim1": -11.314998626708984,
          "dim2": -3.1820268630981445
         },
         {
          "class": 2,
          "dim1": -2.5026793479919434,
          "dim2": 6.809981346130371
         },
         {
          "class": 1,
          "dim1": 3.3579788208007812,
          "dim2": -13.09237003326416
         },
         {
          "class": 0,
          "dim1": 3.7131035327911377,
          "dim2": 1.407553791999817
         },
         {
          "class": 2,
          "dim1": -2.5444679260253906,
          "dim2": 6.837011814117432
         },
         {
          "class": 2,
          "dim1": 6.319792747497559,
          "dim2": -6.754214763641357
         },
         {
          "class": 0,
          "dim1": -0.47184306383132935,
          "dim2": 1.5579562187194824
         },
         {
          "class": 0,
          "dim1": 2.3328857421875,
          "dim2": 1.3764125108718872
         },
         {
          "class": 2,
          "dim1": 6.8775129318237305,
          "dim2": -6.074270725250244
         },
         {
          "class": 2,
          "dim1": 7.096985816955566,
          "dim2": -6.527953147888184
         },
         {
          "class": 0,
          "dim1": -2.2315521240234375,
          "dim2": -2.1410679817199707
         },
         {
          "class": 3,
          "dim1": -13.402618408203125,
          "dim2": -1.7347238063812256
         },
         {
          "class": 0,
          "dim1": 7.978466987609863,
          "dim2": 5.05703592300415
         },
         {
          "class": 3,
          "dim1": -12.428244590759277,
          "dim2": -1.9785053730010986
         },
         {
          "class": 3,
          "dim1": -12.566648483276367,
          "dim2": -1.5975645780563354
         },
         {
          "class": 2,
          "dim1": 7.335456848144531,
          "dim2": -6.516611576080322
         },
         {
          "class": 0,
          "dim1": -2.653905153274536,
          "dim2": -2.1194510459899902
         },
         {
          "class": 0,
          "dim1": -3.1497490406036377,
          "dim2": 0.31977519392967224
         },
         {
          "class": 0,
          "dim1": 4.512882232666016,
          "dim2": 2.787551164627075
         },
         {
          "class": 0,
          "dim1": 8.280447006225586,
          "dim2": 3.9386215209960938
         },
         {
          "class": 0,
          "dim1": 4.773071765899658,
          "dim2": 1.0462936162948608
         },
         {
          "class": 2,
          "dim1": 6.368639945983887,
          "dim2": -6.367244243621826
         },
         {
          "class": 3,
          "dim1": -12.272209167480469,
          "dim2": 0.27929428219795227
         },
         {
          "class": 0,
          "dim1": 4.243911266326904,
          "dim2": 5.476224899291992
         },
         {
          "class": 2,
          "dim1": -2.992115020751953,
          "dim2": -7.489692211151123
         },
         {
          "class": 1,
          "dim1": -3.5639216899871826,
          "dim2": 11.40172290802002
         },
         {
          "class": 0,
          "dim1": 6.441319465637207,
          "dim2": 4.368897438049316
         },
         {
          "class": 1,
          "dim1": 2.854783058166504,
          "dim2": -12.649869918823242
         },
         {
          "class": 0,
          "dim1": 7.217299461364746,
          "dim2": 5.800803184509277
         },
         {
          "class": 1,
          "dim1": 7.567577838897705,
          "dim2": -4.786633014678955
         },
         {
          "class": 2,
          "dim1": 6.462634563446045,
          "dim2": 1.3274632692337036
         },
         {
          "class": 0,
          "dim1": 7.1629638671875,
          "dim2": 4.2753586769104
         },
         {
          "class": 2,
          "dim1": 7.879101276397705,
          "dim2": -5.062198162078857
         },
         {
          "class": 2,
          "dim1": 6.130913734436035,
          "dim2": -7.0643110275268555
         },
         {
          "class": 0,
          "dim1": 3.8576407432556152,
          "dim2": 1.6510835886001587
         },
         {
          "class": 0,
          "dim1": 1.1070221662521362,
          "dim2": -0.8996577262878418
         },
         {
          "class": 0,
          "dim1": 4.597412109375,
          "dim2": 4.465267658233643
         },
         {
          "class": 1,
          "dim1": 2.4732918739318848,
          "dim2": -12.173845291137695
         },
         {
          "class": 1,
          "dim1": -2.5182440280914307,
          "dim2": 10.349162101745605
         },
         {
          "class": 0,
          "dim1": 3.1409993171691895,
          "dim2": 0.2294202446937561
         },
         {
          "class": 0,
          "dim1": 1.3014233112335205,
          "dim2": 1.1246706247329712
         },
         {
          "class": 2,
          "dim1": -6.260571479797363,
          "dim2": 8.232072830200195
         },
         {
          "class": 2,
          "dim1": -7.076168537139893,
          "dim2": 7.381588935852051
         },
         {
          "class": 2,
          "dim1": -7.184152603149414,
          "dim2": 7.073692798614502
         },
         {
          "class": 0,
          "dim1": 6.772961616516113,
          "dim2": 1.5347853899002075
         },
         {
          "class": 0,
          "dim1": 1.323966383934021,
          "dim2": 0.8567638993263245
         },
         {
          "class": 3,
          "dim1": -13.202800750732422,
          "dim2": -2.762136459350586
         },
         {
          "class": 0,
          "dim1": 8.241255760192871,
          "dim2": 5.126827716827393
         },
         {
          "class": 0,
          "dim1": -1.9822436571121216,
          "dim2": 0.7576912641525269
         },
         {
          "class": 1,
          "dim1": 2.566863775253296,
          "dim2": -1.0122820138931274
         },
         {
          "class": 0,
          "dim1": 0.11087117344141006,
          "dim2": 3.569779396057129
         },
         {
          "class": 0,
          "dim1": -0.2867571711540222,
          "dim2": 1.35413658618927
         },
         {
          "class": 0,
          "dim1": 2.0831105709075928,
          "dim2": 0.8995586037635803
         },
         {
          "class": 1,
          "dim1": 1.5657951831817627,
          "dim2": -12.406246185302734
         },
         {
          "class": 3,
          "dim1": -11.126132011413574,
          "dim2": 0.29177194833755493
         },
         {
          "class": 0,
          "dim1": 4.375365734100342,
          "dim2": 0.7835296392440796
         },
         {
          "class": 2,
          "dim1": 7.16508674621582,
          "dim2": -6.728875637054443
         },
         {
          "class": 3,
          "dim1": -12.616839408874512,
          "dim2": -2.698822259902954
         },
         {
          "class": 0,
          "dim1": 7.25780725479126,
          "dim2": 6.59823751449585
         },
         {
          "class": 0,
          "dim1": 0.10541696846485138,
          "dim2": -0.12191588431596756
         },
         {
          "class": 2,
          "dim1": -3.12685489654541,
          "dim2": 7.455816745758057
         },
         {
          "class": 2,
          "dim1": -3.2720861434936523,
          "dim2": 7.779263496398926
         },
         {
          "class": 0,
          "dim1": 3.8987042903900146,
          "dim2": 1.5042287111282349
         },
         {
          "class": 2,
          "dim1": -2.667391777038574,
          "dim2": 6.858725547790527
         },
         {
          "class": 3,
          "dim1": -12.902022361755371,
          "dim2": -2.984896421432495
         },
         {
          "class": 3,
          "dim1": -12.60519027709961,
          "dim2": -0.4458029568195343
         },
         {
          "class": 0,
          "dim1": 6.822109222412109,
          "dim2": 4.978749752044678
         },
         {
          "class": 2,
          "dim1": -6.395567417144775,
          "dim2": 8.116572380065918
         },
         {
          "class": 1,
          "dim1": -2.381075859069824,
          "dim2": 11.710853576660156
         },
         {
          "class": 2,
          "dim1": 5.727348804473877,
          "dim2": -6.715217113494873
         },
         {
          "class": 3,
          "dim1": -12.715517044067383,
          "dim2": -1.9989943504333496
         },
         {
          "class": 0,
          "dim1": 2.1383185386657715,
          "dim2": 1.4732614755630493
         },
         {
          "class": 3,
          "dim1": -12.373906135559082,
          "dim2": -1.2716823816299438
         },
         {
          "class": 0,
          "dim1": 7.710241794586182,
          "dim2": 3.172792434692383
         },
         {
          "class": 0,
          "dim1": 7.575394153594971,
          "dim2": 5.454244136810303
         },
         {
          "class": 0,
          "dim1": 1.2524371147155762,
          "dim2": 0.9608073234558105
         },
         {
          "class": 0,
          "dim1": -2.2786262035369873,
          "dim2": -0.8039087057113647
         },
         {
          "class": 2,
          "dim1": -6.343911170959473,
          "dim2": 8.252433776855469
         },
         {
          "class": 0,
          "dim1": 7.714448928833008,
          "dim2": 4.67091703414917
         },
         {
          "class": 0,
          "dim1": 5.0954413414001465,
          "dim2": 1.164749264717102
         },
         {
          "class": 3,
          "dim1": -10.587178230285645,
          "dim2": -2.83105731010437
         },
         {
          "class": 0,
          "dim1": 3.8431284427642822,
          "dim2": 3.4668872356414795
         },
         {
          "class": 3,
          "dim1": -12.646650314331055,
          "dim2": -2.976458787918091
         },
         {
          "class": 0,
          "dim1": 7.378897190093994,
          "dim2": 3.151334762573242
         },
         {
          "class": 0,
          "dim1": 4.057796955108643,
          "dim2": 3.9613664150238037
         },
         {
          "class": 1,
          "dim1": 1.3806589841842651,
          "dim2": -12.655278205871582
         },
         {
          "class": 2,
          "dim1": -3.296912431716919,
          "dim2": 7.98375940322876
         },
         {
          "class": 0,
          "dim1": 2.8955776691436768,
          "dim2": 3.4495887756347656
         },
         {
          "class": 0,
          "dim1": -2.469498872756958,
          "dim2": 1.8418443202972412
         },
         {
          "class": 0,
          "dim1": 0.8303472995758057,
          "dim2": 3.683136224746704
         },
         {
          "class": 2,
          "dim1": 6.900533676147461,
          "dim2": -6.11958646774292
         },
         {
          "class": 0,
          "dim1": 8.676064491271973,
          "dim2": 3.6174821853637695
         },
         {
          "class": 1,
          "dim1": 2.3714804649353027,
          "dim2": -12.997904777526855
         },
         {
          "class": 0,
          "dim1": 2.0991907119750977,
          "dim2": 1.9050328731536865
         },
         {
          "class": 0,
          "dim1": 1.0474941730499268,
          "dim2": 2.561986207962036
         },
         {
          "class": 3,
          "dim1": -10.489581108093262,
          "dim2": -3.563371419906616
         },
         {
          "class": 3,
          "dim1": -11.974390983581543,
          "dim2": 0.41384416818618774
         },
         {
          "class": 1,
          "dim1": 2.8824472427368164,
          "dim2": -13.00440788269043
         },
         {
          "class": 0,
          "dim1": 4.8768415451049805,
          "dim2": 2.554776906967163
         },
         {
          "class": 0,
          "dim1": -3.0775034427642822,
          "dim2": -2.2480382919311523
         },
         {
          "class": 0,
          "dim1": 7.047196388244629,
          "dim2": 2.936328887939453
         },
         {
          "class": 0,
          "dim1": 3.0367438793182373,
          "dim2": 3.039397954940796
         },
         {
          "class": 0,
          "dim1": -0.3456136882305145,
          "dim2": 1.1818134784698486
         },
         {
          "class": 1,
          "dim1": 6.161624431610107,
          "dim2": 0.8885173201560974
         },
         {
          "class": 0,
          "dim1": 1.0491914749145508,
          "dim2": 2.4730491638183594
         },
         {
          "class": 2,
          "dim1": -2.832184314727783,
          "dim2": 6.8686323165893555
         },
         {
          "class": 0,
          "dim1": 7.28376579284668,
          "dim2": 3.9903078079223633
         },
         {
          "class": 1,
          "dim1": 1.3924044370651245,
          "dim2": -13.100126266479492
         },
         {
          "class": 0,
          "dim1": 0.9922133088111877,
          "dim2": 3.212899923324585
         },
         {
          "class": 0,
          "dim1": 0.8772140145301819,
          "dim2": 0.021745847538113594
         },
         {
          "class": 3,
          "dim1": -11.74267578125,
          "dim2": -1.832448124885559
         },
         {
          "class": 0,
          "dim1": 8.493741989135742,
          "dim2": 3.158062696456909
         },
         {
          "class": 0,
          "dim1": 2.4988043308258057,
          "dim2": 3.5522429943084717
         },
         {
          "class": 2,
          "dim1": -2.695619821548462,
          "dim2": -7.740177631378174
         },
         {
          "class": 0,
          "dim1": 4.101274490356445,
          "dim2": 3.3611979484558105
         },
         {
          "class": 0,
          "dim1": 4.478862285614014,
          "dim2": 0.8460347056388855
         },
         {
          "class": 0,
          "dim1": 6.22465181350708,
          "dim2": 3.2719204425811768
         },
         {
          "class": 2,
          "dim1": 7.1162638664245605,
          "dim2": -6.657458305358887
         },
         {
          "class": 1,
          "dim1": 4.74844217300415,
          "dim2": -11.987401962280273
         },
         {
          "class": 0,
          "dim1": 3.0078125,
          "dim2": 0.18115463852882385
         },
         {
          "class": 0,
          "dim1": 4.818389415740967,
          "dim2": 1.8930927515029907
         },
         {
          "class": 0,
          "dim1": 5.297896862030029,
          "dim2": 0.6773542761802673
         },
         {
          "class": 1,
          "dim1": 1.9056771993637085,
          "dim2": -11.699492454528809
         },
         {
          "class": 2,
          "dim1": 5.744862079620361,
          "dim2": -6.846836566925049
         },
         {
          "class": 1,
          "dim1": -2.921504259109497,
          "dim2": 11.241547584533691
         },
         {
          "class": 2,
          "dim1": 7.493653774261475,
          "dim2": -5.451271057128906
         },
         {
          "class": 1,
          "dim1": 4.8670268058776855,
          "dim2": -11.974461555480957
         },
         {
          "class": 3,
          "dim1": -10.572964668273926,
          "dim2": 0.47515439987182617
         },
         {
          "class": 1,
          "dim1": 4.82284688949585,
          "dim2": -11.947419166564941
         },
         {
          "class": 1,
          "dim1": 3.4652156829833984,
          "dim2": -13.120804786682129
         },
         {
          "class": 2,
          "dim1": -6.448663234710693,
          "dim2": 8.064825057983398
         },
         {
          "class": 0,
          "dim1": 3.49951434135437,
          "dim2": 3.9620394706726074
         },
         {
          "class": 0,
          "dim1": -2.164980888366699,
          "dim2": -0.9962784647941589
         },
         {
          "class": 0,
          "dim1": 1.1322691440582275,
          "dim2": 0.7992359399795532
         },
         {
          "class": 0,
          "dim1": 5.019074440002441,
          "dim2": 1.239108681678772
         },
         {
          "class": 2,
          "dim1": 7.119440078735352,
          "dim2": -6.104377269744873
         },
         {
          "class": 0,
          "dim1": 3.2971575260162354,
          "dim2": 4.493192672729492
         },
         {
          "class": 3,
          "dim1": -12.536101341247559,
          "dim2": 0.2425212413072586
         },
         {
          "class": 2,
          "dim1": -1.8974758386611938,
          "dim2": -8.033717155456543
         },
         {
          "class": 0,
          "dim1": 7.751845836639404,
          "dim2": 3.2089333534240723
         },
         {
          "class": 0,
          "dim1": 2.1007797718048096,
          "dim2": 2.572252035140991
         },
         {
          "class": 3,
          "dim1": -12.89729118347168,
          "dim2": -1.3296377658843994
         },
         {
          "class": 1,
          "dim1": 0.9950153231620789,
          "dim2": -11.777481079101562
         },
         {
          "class": 0,
          "dim1": -0.783646285533905,
          "dim2": 1.1698827743530273
         },
         {
          "class": 0,
          "dim1": 4.529229164123535,
          "dim2": 1.1905549764633179
         },
         {
          "class": 3,
          "dim1": -4.390035152435303,
          "dim2": -1.184277057647705
         },
         {
          "class": 0,
          "dim1": -1.1104273796081543,
          "dim2": 2.2437210083007812
         },
         {
          "class": 3,
          "dim1": -10.622713088989258,
          "dim2": 0.6134715676307678
         },
         {
          "class": 0,
          "dim1": 5.4503350257873535,
          "dim2": 1.5516093969345093
         },
         {
          "class": 2,
          "dim1": -1.6452802419662476,
          "dim2": -8.182361602783203
         },
         {
          "class": 0,
          "dim1": 0.6717736124992371,
          "dim2": 4.307457447052002
         },
         {
          "class": 0,
          "dim1": 4.705596446990967,
          "dim2": 3.595682144165039
         },
         {
          "class": 0,
          "dim1": 7.561522483825684,
          "dim2": 3.108062982559204
         },
         {
          "class": 3,
          "dim1": -12.049591064453125,
          "dim2": -0.0411577969789505
         },
         {
          "class": 3,
          "dim1": -12.650405883789062,
          "dim2": -2.5190229415893555
         },
         {
          "class": 1,
          "dim1": -2.426130771636963,
          "dim2": 9.716876983642578
         },
         {
          "class": 1,
          "dim1": 1.7886159420013428,
          "dim2": -13.27350902557373
         },
         {
          "class": 0,
          "dim1": -0.2895803451538086,
          "dim2": 1.3775438070297241
         },
         {
          "class": 0,
          "dim1": -1.506705403327942,
          "dim2": -2.311746120452881
         },
         {
          "class": 0,
          "dim1": 6.4221320152282715,
          "dim2": 1.269402265548706
         },
         {
          "class": 0,
          "dim1": -0.6505535840988159,
          "dim2": 2.0999772548675537
         },
         {
          "class": 0,
          "dim1": 3.182559013366699,
          "dim2": -0.09964294731616974
         },
         {
          "class": 3,
          "dim1": -11.678084373474121,
          "dim2": -0.47521480917930603
         },
         {
          "class": 0,
          "dim1": -3.254014015197754,
          "dim2": -0.8836020231246948
         },
         {
          "class": 1,
          "dim1": 0.8970109820365906,
          "dim2": -11.416143417358398
         },
         {
          "class": 0,
          "dim1": 8.602457046508789,
          "dim2": 3.2463011741638184
         },
         {
          "class": 3,
          "dim1": -11.46469783782959,
          "dim2": -1.1392192840576172
         },
         {
          "class": 0,
          "dim1": 8.208038330078125,
          "dim2": 2.777580738067627
         },
         {
          "class": 3,
          "dim1": -11.737417221069336,
          "dim2": -3.922722101211548
         },
         {
          "class": 0,
          "dim1": 4.858667373657227,
          "dim2": 4.725076675415039
         },
         {
          "class": 0,
          "dim1": 6.858027458190918,
          "dim2": 3.6462559700012207
         },
         {
          "class": 0,
          "dim1": 7.6902174949646,
          "dim2": 3.445323944091797
         },
         {
          "class": 0,
          "dim1": 7.718998432159424,
          "dim2": 2.8820979595184326
         },
         {
          "class": 1,
          "dim1": 1.2219418287277222,
          "dim2": -12.260510444641113
         },
         {
          "class": 2,
          "dim1": -7.060933589935303,
          "dim2": 6.839299201965332
         },
         {
          "class": 1,
          "dim1": -3.5493264198303223,
          "dim2": 11.730510711669922
         },
         {
          "class": 3,
          "dim1": -11.836952209472656,
          "dim2": -3.908554792404175
         },
         {
          "class": 2,
          "dim1": -3.5033175945281982,
          "dim2": -7.3726725578308105
         },
         {
          "class": 2,
          "dim1": -3.066513776779175,
          "dim2": 7.28297233581543
         },
         {
          "class": 2,
          "dim1": -6.732806205749512,
          "dim2": 6.639794826507568
         },
         {
          "class": 2,
          "dim1": -1.417817234992981,
          "dim2": -7.781155109405518
         },
         {
          "class": 0,
          "dim1": -3.78517746925354,
          "dim2": -2.2996981143951416
         },
         {
          "class": 0,
          "dim1": -1.6245099306106567,
          "dim2": 1.9444918632507324
         },
         {
          "class": 1,
          "dim1": -2.3946101665496826,
          "dim2": 10.30127239227295
         },
         {
          "class": 0,
          "dim1": -1.161159634590149,
          "dim2": 0.4592021107673645
         },
         {
          "class": 2,
          "dim1": 7.663439750671387,
          "dim2": -4.99724817276001
         },
         {
          "class": 2,
          "dim1": 7.5362725257873535,
          "dim2": -5.241367340087891
         },
         {
          "class": 0,
          "dim1": 1.0521796941757202,
          "dim2": -0.005822664592415094
         },
         {
          "class": 0,
          "dim1": 0.7520627379417419,
          "dim2": 0.06866635382175446
         },
         {
          "class": 0,
          "dim1": 4.173656463623047,
          "dim2": 3.040144920349121
         },
         {
          "class": 0,
          "dim1": 8.25951099395752,
          "dim2": 2.7440783977508545
         },
         {
          "class": 2,
          "dim1": 7.649223327636719,
          "dim2": -6.2354326248168945
         },
         {
          "class": 0,
          "dim1": 2.8576488494873047,
          "dim2": 3.5328526496887207
         },
         {
          "class": 0,
          "dim1": 2.4564287662506104,
          "dim2": 3.103619337081909
         },
         {
          "class": 0,
          "dim1": 6.033483982086182,
          "dim2": 4.541875839233398
         },
         {
          "class": 2,
          "dim1": -7.292926788330078,
          "dim2": 7.4068379402160645
         },
         {
          "class": 0,
          "dim1": 7.077922344207764,
          "dim2": 2.7123830318450928
         },
         {
          "class": 0,
          "dim1": 4.388174533843994,
          "dim2": 3.55995774269104
         },
         {
          "class": 0,
          "dim1": 1.1031453609466553,
          "dim2": 0.9248990416526794
         },
         {
          "class": 1,
          "dim1": 3.855088710784912,
          "dim2": -12.27927017211914
         },
         {
          "class": 0,
          "dim1": -3.459981679916382,
          "dim2": -1.0567325353622437
         },
         {
          "class": 0,
          "dim1": 7.312962532043457,
          "dim2": 5.923066139221191
         },
         {
          "class": 3,
          "dim1": -12.067788124084473,
          "dim2": -3.7794861793518066
         },
         {
          "class": 0,
          "dim1": 2.342698097229004,
          "dim2": -0.06725548952817917
         },
         {
          "class": 0,
          "dim1": -4.210837364196777,
          "dim2": -0.6117866039276123
         },
         {
          "class": 3,
          "dim1": -11.254349708557129,
          "dim2": 0.5810241103172302
         },
         {
          "class": 0,
          "dim1": 7.236396312713623,
          "dim2": 3.865757465362549
         },
         {
          "class": 0,
          "dim1": 3.630850315093994,
          "dim2": 3.027998685836792
         },
         {
          "class": 3,
          "dim1": -13.075214385986328,
          "dim2": -1.0492652654647827
         },
         {
          "class": 0,
          "dim1": 3.496847629547119,
          "dim2": -0.611217200756073
         },
         {
          "class": 0,
          "dim1": 8.601252555847168,
          "dim2": 6.01061487197876
         },
         {
          "class": 0,
          "dim1": 0.5863746404647827,
          "dim2": -1.6032805442810059
         },
         {
          "class": 1,
          "dim1": 3.306286573410034,
          "dim2": -13.077799797058105
         },
         {
          "class": 3,
          "dim1": -12.3254976272583,
          "dim2": -1.812638759613037
         },
         {
          "class": 1,
          "dim1": -2.7178027629852295,
          "dim2": 11.657236099243164
         },
         {
          "class": 0,
          "dim1": 1.1762975454330444,
          "dim2": -0.1478014886379242
         },
         {
          "class": 0,
          "dim1": 0.9351068735122681,
          "dim2": 1.3818062543869019
         },
         {
          "class": 2,
          "dim1": -1.2346162796020508,
          "dim2": -7.89293909072876
         },
         {
          "class": 2,
          "dim1": -7.046139240264893,
          "dim2": 6.859580039978027
         },
         {
          "class": 1,
          "dim1": -4.817192077636719,
          "dim2": 11.1171236038208
         },
         {
          "class": 0,
          "dim1": -2.1931846141815186,
          "dim2": -1.8726426362991333
         },
         {
          "class": 0,
          "dim1": -0.5308257341384888,
          "dim2": -0.7206109762191772
         },
         {
          "class": 0,
          "dim1": 3.396075963973999,
          "dim2": 1.4277966022491455
         },
         {
          "class": 0,
          "dim1": -2.5580172538757324,
          "dim2": -0.8012059330940247
         },
         {
          "class": 0,
          "dim1": -0.42351311445236206,
          "dim2": 1.927527904510498
         },
         {
          "class": 3,
          "dim1": -11.180688858032227,
          "dim2": 0.22723551094532013
         },
         {
          "class": 3,
          "dim1": -12.78965950012207,
          "dim2": -1.8134196996688843
         },
         {
          "class": 2,
          "dim1": -3.3662269115448,
          "dim2": 8.325762748718262
         },
         {
          "class": 2,
          "dim1": -2.7357277870178223,
          "dim2": 7.085019111633301
         },
         {
          "class": 1,
          "dim1": 4.206961631774902,
          "dim2": -12.67881965637207
         },
         {
          "class": 3,
          "dim1": -12.646013259887695,
          "dim2": -2.878432035446167
         },
         {
          "class": 1,
          "dim1": 1.0942401885986328,
          "dim2": -11.912110328674316
         },
         {
          "class": 0,
          "dim1": -3.257045030593872,
          "dim2": -2.080378532409668
         },
         {
          "class": 3,
          "dim1": -12.7027587890625,
          "dim2": 0.1594322770833969
         },
         {
          "class": 3,
          "dim1": -12.043161392211914,
          "dim2": 0.009486899711191654
         },
         {
          "class": 0,
          "dim1": 0.6538724303245544,
          "dim2": 4.419435024261475
         },
         {
          "class": 3,
          "dim1": -13.161087989807129,
          "dim2": -1.259140968322754
         },
         {
          "class": 2,
          "dim1": 7.022899627685547,
          "dim2": -6.868807315826416
         },
         {
          "class": 0,
          "dim1": -0.8968709707260132,
          "dim2": 1.8094439506530762
         },
         {
          "class": 0,
          "dim1": 3.3842954635620117,
          "dim2": 4.906686782836914
         },
         {
          "class": 0,
          "dim1": -1.7059941291809082,
          "dim2": 1.8752650022506714
         },
         {
          "class": 3,
          "dim1": -11.703907012939453,
          "dim2": -0.5761952996253967
         },
         {
          "class": 0,
          "dim1": 2.6617352962493896,
          "dim2": 4.330056667327881
         },
         {
          "class": 0,
          "dim1": 5.873226165771484,
          "dim2": 1.9980450868606567
         },
         {
          "class": 0,
          "dim1": 7.9722089767456055,
          "dim2": 4.8677077293396
         },
         {
          "class": 0,
          "dim1": 0.48236319422721863,
          "dim2": 1.6718759536743164
         },
         {
          "class": 3,
          "dim1": -11.136323928833008,
          "dim2": -2.69762921333313
         },
         {
          "class": 0,
          "dim1": 0.25241345167160034,
          "dim2": 1.0583415031433105
         },
         {
          "class": 0,
          "dim1": -0.13866354525089264,
          "dim2": -1.0247286558151245
         },
         {
          "class": 1,
          "dim1": 1.7459440231323242,
          "dim2": -13.151881217956543
         },
         {
          "class": 1,
          "dim1": 1.3016026020050049,
          "dim2": -12.48876667022705
         },
         {
          "class": 0,
          "dim1": 2.2995188236236572,
          "dim2": 1.1838147640228271
         },
         {
          "class": 0,
          "dim1": -1.0621025562286377,
          "dim2": 0.3181031048297882
         },
         {
          "class": 3,
          "dim1": -12.020538330078125,
          "dim2": -1.7289016246795654
         },
         {
          "class": 0,
          "dim1": -1.696734070777893,
          "dim2": -1.8673726320266724
         },
         {
          "class": 0,
          "dim1": 6.387077808380127,
          "dim2": 3.2249395847320557
         },
         {
          "class": 2,
          "dim1": -3.2740230560302734,
          "dim2": -7.723008632659912
         },
         {
          "class": 0,
          "dim1": 1.3256044387817383,
          "dim2": 1.3572413921356201
         },
         {
          "class": 0,
          "dim1": -0.29289710521698,
          "dim2": -0.3957552909851074
         },
         {
          "class": 0,
          "dim1": 4.913454532623291,
          "dim2": 4.74507999420166
         },
         {
          "class": 0,
          "dim1": 7.177887439727783,
          "dim2": 5.1159749031066895
         },
         {
          "class": 1,
          "dim1": 3.745561361312866,
          "dim2": -12.818131446838379
         },
         {
          "class": 3,
          "dim1": -13.13037395477295,
          "dim2": -1.9896295070648193
         },
         {
          "class": 3,
          "dim1": -12.962784767150879,
          "dim2": -1.5991559028625488
         },
         {
          "class": 2,
          "dim1": 7.193155288696289,
          "dim2": -6.748162746429443
         },
         {
          "class": 0,
          "dim1": 6.648710250854492,
          "dim2": 3.968626022338867
         },
         {
          "class": 0,
          "dim1": 1.0754235982894897,
          "dim2": 1.0245873928070068
         },
         {
          "class": 0,
          "dim1": -1.7691659927368164,
          "dim2": -0.3416396975517273
         },
         {
          "class": 0,
          "dim1": 6.604368209838867,
          "dim2": 3.8252172470092773
         },
         {
          "class": 0,
          "dim1": -1.1723538637161255,
          "dim2": 0.7130172848701477
         },
         {
          "class": 0,
          "dim1": 4.125351905822754,
          "dim2": 4.567831039428711
         },
         {
          "class": 0,
          "dim1": 6.612281322479248,
          "dim2": 3.639981269836426
         },
         {
          "class": 3,
          "dim1": -11.166204452514648,
          "dim2": 0.9355502128601074
         },
         {
          "class": 3,
          "dim1": -11.139817237854004,
          "dim2": 0.13397185504436493
         },
         {
          "class": 0,
          "dim1": 7.012970924377441,
          "dim2": 3.9483470916748047
         },
         {
          "class": 0,
          "dim1": 3.841028928756714,
          "dim2": 0.07377379387617111
         },
         {
          "class": 0,
          "dim1": -1.7422947883605957,
          "dim2": -0.4402078688144684
         },
         {
          "class": 2,
          "dim1": -7.179522514343262,
          "dim2": 7.020190715789795
         },
         {
          "class": 0,
          "dim1": 1.0150641202926636,
          "dim2": 2.5873029232025146
         },
         {
          "class": 0,
          "dim1": 2.395787000656128,
          "dim2": 1.7531020641326904
         },
         {
          "class": 0,
          "dim1": -2.7781426906585693,
          "dim2": 0.2451484352350235
         },
         {
          "class": 2,
          "dim1": -6.979931354522705,
          "dim2": 6.613217830657959
         },
         {
          "class": 1,
          "dim1": 2.8120689392089844,
          "dim2": -12.714863777160645
         },
         {
          "class": 1,
          "dim1": 0.7767016291618347,
          "dim2": -11.018120765686035
         },
         {
          "class": 1,
          "dim1": 3.0467987060546875,
          "dim2": -12.89305305480957
         },
         {
          "class": 2,
          "dim1": -7.097899913787842,
          "dim2": 7.093216896057129
         },
         {
          "class": 1,
          "dim1": -2.1967952251434326,
          "dim2": 11.009971618652344
         },
         {
          "class": 0,
          "dim1": 0.13405071198940277,
          "dim2": 2.066525459289551
         },
         {
          "class": 0,
          "dim1": 1.8039686679840088,
          "dim2": 4.328275680541992
         },
         {
          "class": 2,
          "dim1": 6.618019104003906,
          "dim2": -6.659202575683594
         },
         {
          "class": 2,
          "dim1": -3.280592679977417,
          "dim2": 7.532318115234375
         },
         {
          "class": 0,
          "dim1": 4.2112531661987305,
          "dim2": 2.3121559619903564
         },
         {
          "class": 0,
          "dim1": 2.48944091796875,
          "dim2": 0.40204834938049316
         },
         {
          "class": 0,
          "dim1": 8.835637092590332,
          "dim2": 3.455552101135254
         },
         {
          "class": 0,
          "dim1": 5.103969097137451,
          "dim2": 5.258312225341797
         },
         {
          "class": 0,
          "dim1": 0.24544614553451538,
          "dim2": 1.0858612060546875
         },
         {
          "class": 3,
          "dim1": -11.83688735961914,
          "dim2": -3.0621774196624756
         },
         {
          "class": 0,
          "dim1": 1.4953051805496216,
          "dim2": 1.203287959098816
         },
         {
          "class": 1,
          "dim1": 0.6160452961921692,
          "dim2": -11.104878425598145
         },
         {
          "class": 1,
          "dim1": -2.6115386486053467,
          "dim2": 10.523314476013184
         },
         {
          "class": 2,
          "dim1": -7.0640339851379395,
          "dim2": 6.719681262969971
         },
         {
          "class": 3,
          "dim1": -12.863842964172363,
          "dim2": -1.396543025970459
         },
         {
          "class": 0,
          "dim1": 8.564936637878418,
          "dim2": 3.7549688816070557
         },
         {
          "class": 0,
          "dim1": 3.984447717666626,
          "dim2": 4.517851829528809
         },
         {
          "class": 0,
          "dim1": 2.8072867393493652,
          "dim2": 0.33924633264541626
         },
         {
          "class": 2,
          "dim1": -2.137237787246704,
          "dim2": 6.620567321777344
         },
         {
          "class": 0,
          "dim1": 3.7410728931427,
          "dim2": 3.592343330383301
         },
         {
          "class": 1,
          "dim1": 2.752659559249878,
          "dim2": -12.914026260375977
         },
         {
          "class": 0,
          "dim1": 5.3666558265686035,
          "dim2": 2.6007070541381836
         },
         {
          "class": 0,
          "dim1": -1.1709303855895996,
          "dim2": 2.433419942855835
         },
         {
          "class": 3,
          "dim1": -11.356276512145996,
          "dim2": 0.10719024389982224
         },
         {
          "class": 3,
          "dim1": -12.436403274536133,
          "dim2": -0.2731037437915802
         },
         {
          "class": 0,
          "dim1": 1.0399448871612549,
          "dim2": 0.2810450494289398
         },
         {
          "class": 0,
          "dim1": 3.487133264541626,
          "dim2": 0.670493483543396
         },
         {
          "class": 0,
          "dim1": 3.3816940784454346,
          "dim2": 0.2306307703256607
         },
         {
          "class": 0,
          "dim1": -2.0203206539154053,
          "dim2": 0.21090474724769592
         },
         {
          "class": 1,
          "dim1": -2.131526231765747,
          "dim2": -1.9099992513656616
         },
         {
          "class": 2,
          "dim1": 6.093443393707275,
          "dim2": -7.050013065338135
         },
         {
          "class": 2,
          "dim1": 7.420677661895752,
          "dim2": -5.7623610496521
         },
         {
          "class": 1,
          "dim1": 2.3639109134674072,
          "dim2": -12.475632667541504
         },
         {
          "class": 0,
          "dim1": -2.271782636642456,
          "dim2": -0.3788943290710449
         },
         {
          "class": 0,
          "dim1": 2.8147857189178467,
          "dim2": 2.4487316608428955
         },
         {
          "class": 0,
          "dim1": 6.751740455627441,
          "dim2": 6.158375263214111
         },
         {
          "class": 2,
          "dim1": -2.0789129734039307,
          "dim2": -8.197404861450195
         },
         {
          "class": 3,
          "dim1": -10.937273979187012,
          "dim2": -0.5526534914970398
         },
         {
          "class": 1,
          "dim1": 2.5942726135253906,
          "dim2": -12.910003662109375
         },
         {
          "class": 2,
          "dim1": 6.823729038238525,
          "dim2": -6.52529764175415
         },
         {
          "class": 3,
          "dim1": -10.407974243164062,
          "dim2": 0.6032230854034424
         },
         {
          "class": 2,
          "dim1": -3.229520082473755,
          "dim2": 7.570959568023682
         },
         {
          "class": 0,
          "dim1": 2.0092523097991943,
          "dim2": 1.1515843868255615
         },
         {
          "class": 3,
          "dim1": -11.595314979553223,
          "dim2": 0.5659369826316833
         },
         {
          "class": 0,
          "dim1": 2.2962582111358643,
          "dim2": 2.8837783336639404
         },
         {
          "class": 0,
          "dim1": -2.0298571586608887,
          "dim2": 0.09367027878761292
         },
         {
          "class": 2,
          "dim1": 7.283164024353027,
          "dim2": -6.220982551574707
         },
         {
          "class": 0,
          "dim1": 6.333211898803711,
          "dim2": 4.563077449798584
         },
         {
          "class": 1,
          "dim1": 1.7029643058776855,
          "dim2": -13.028044700622559
         },
         {
          "class": 0,
          "dim1": -1.52845299243927,
          "dim2": 0.9865485429763794
         },
         {
          "class": 0,
          "dim1": 0.790960967540741,
          "dim2": -0.9147553443908691
         },
         {
          "class": 0,
          "dim1": 6.432770729064941,
          "dim2": 2.567476749420166
         },
         {
          "class": 0,
          "dim1": 6.858127593994141,
          "dim2": 1.7952854633331299
         },
         {
          "class": 2,
          "dim1": -3.5575428009033203,
          "dim2": -7.367374897003174
         },
         {
          "class": 1,
          "dim1": 3.8094542026519775,
          "dim2": -12.155594825744629
         },
         {
          "class": 1,
          "dim1": 2.041649341583252,
          "dim2": -12.430240631103516
         },
         {
          "class": 0,
          "dim1": 4.589229583740234,
          "dim2": 1.4482638835906982
         },
         {
          "class": 0,
          "dim1": 0.3109835684299469,
          "dim2": 2.4195754528045654
         },
         {
          "class": 2,
          "dim1": -3.069197654724121,
          "dim2": 8.403962135314941
         },
         {
          "class": 0,
          "dim1": 5.878268241882324,
          "dim2": 4.7706804275512695
         },
         {
          "class": 2,
          "dim1": -6.240241527557373,
          "dim2": 8.28077220916748
         },
         {
          "class": 1,
          "dim1": -2.196075916290283,
          "dim2": 11.415172576904297
         },
         {
          "class": 2,
          "dim1": -2.6513450145721436,
          "dim2": 6.80439567565918
         },
         {
          "class": 3,
          "dim1": -12.029231071472168,
          "dim2": -3.7905843257904053
         },
         {
          "class": 0,
          "dim1": 6.528360366821289,
          "dim2": 5.8306403160095215
         },
         {
          "class": 3,
          "dim1": -12.501495361328125,
          "dim2": -0.8699003458023071
         },
         {
          "class": 0,
          "dim1": 6.434199810028076,
          "dim2": 3.4991772174835205
         },
         {
          "class": 0,
          "dim1": 2.083315134048462,
          "dim2": 4.337874889373779
         },
         {
          "class": 0,
          "dim1": 4.351617813110352,
          "dim2": 3.5422987937927246
         },
         {
          "class": 0,
          "dim1": 0.21405953168869019,
          "dim2": -0.0015262516681104898
         },
         {
          "class": 1,
          "dim1": 2.7035889625549316,
          "dim2": -12.191218376159668
         },
         {
          "class": 1,
          "dim1": 4.180474758148193,
          "dim2": -11.945612907409668
         },
         {
          "class": 1,
          "dim1": -4.467817783355713,
          "dim2": 11.245320320129395
         },
         {
          "class": 0,
          "dim1": 6.443208694458008,
          "dim2": 4.0404791831970215
         },
         {
          "class": 0,
          "dim1": 7.269803524017334,
          "dim2": 5.504007339477539
         },
         {
          "class": 2,
          "dim1": -1.7803572416305542,
          "dim2": -8.202168464660645
         },
         {
          "class": 0,
          "dim1": 0.9764770269393921,
          "dim2": 4.206773281097412
         },
         {
          "class": 2,
          "dim1": 6.8553009033203125,
          "dim2": -6.964686393737793
         },
         {
          "class": 3,
          "dim1": -11.160348892211914,
          "dim2": -1.053849220275879
         },
         {
          "class": 0,
          "dim1": 7.303832054138184,
          "dim2": 5.985235691070557
         },
         {
          "class": 1,
          "dim1": 4.074666976928711,
          "dim2": -12.864887237548828
         },
         {
          "class": 0,
          "dim1": 2.6196861267089844,
          "dim2": 3.9374637603759766
         },
         {
          "class": 0,
          "dim1": 1.9806718826293945,
          "dim2": 3.8304293155670166
         },
         {
          "class": 3,
          "dim1": -12.39415168762207,
          "dim2": -3.290825843811035
         },
         {
          "class": 0,
          "dim1": -3.943122386932373,
          "dim2": -0.822359025478363
         },
         {
          "class": 0,
          "dim1": 6.273028373718262,
          "dim2": 5.008386611938477
         },
         {
          "class": 2,
          "dim1": 6.8512282371521,
          "dim2": -7.019748210906982
         },
         {
          "class": 0,
          "dim1": -2.5497989654541016,
          "dim2": -0.08384259790182114
         },
         {
          "class": 2,
          "dim1": -6.32326078414917,
          "dim2": 8.222582817077637
         },
         {
          "class": 0,
          "dim1": 4.497080326080322,
          "dim2": 2.2147295475006104
         },
         {
          "class": 1,
          "dim1": -2.3261468410491943,
          "dim2": 11.18075180053711
         },
         {
          "class": 2,
          "dim1": -2.9865036010742188,
          "dim2": 7.002989292144775
         },
         {
          "class": 0,
          "dim1": 4.047911643981934,
          "dim2": -0.12686873972415924
         },
         {
          "class": 3,
          "dim1": -12.860550880432129,
          "dim2": -1.5828427076339722
         },
         {
          "class": 0,
          "dim1": 6.552655220031738,
          "dim2": 2.5833890438079834
         },
         {
          "class": 0,
          "dim1": -0.7799375057220459,
          "dim2": 2.5234808921813965
         },
         {
          "class": 1,
          "dim1": -2.4506921768188477,
          "dim2": 10.477702140808105
         },
         {
          "class": 0,
          "dim1": 4.193877696990967,
          "dim2": 4.141176223754883
         },
         {
          "class": 2,
          "dim1": 7.7245402336120605,
          "dim2": -6.2498931884765625
         },
         {
          "class": 3,
          "dim1": -13.004180908203125,
          "dim2": -1.6099978685379028
         },
         {
          "class": 0,
          "dim1": 6.399956226348877,
          "dim2": 4.957427978515625
         },
         {
          "class": 1,
          "dim1": -2.7246882915496826,
          "dim2": 11.48555850982666
         },
         {
          "class": 0,
          "dim1": -3.1496458053588867,
          "dim2": 0.3777948319911957
         },
         {
          "class": 0,
          "dim1": -2.1435649394989014,
          "dim2": -0.42948561906814575
         },
         {
          "class": 3,
          "dim1": -12.800353050231934,
          "dim2": -2.4424753189086914
         },
         {
          "class": 2,
          "dim1": -3.0716209411621094,
          "dim2": 8.322283744812012
         },
         {
          "class": 0,
          "dim1": 1.992783784866333,
          "dim2": 1.236581802368164
         },
         {
          "class": 0,
          "dim1": -2.086266279220581,
          "dim2": 2.169686794281006
         },
         {
          "class": 1,
          "dim1": 3.255601167678833,
          "dim2": -12.901304244995117
         },
         {
          "class": 3,
          "dim1": -12.353629112243652,
          "dim2": -0.15765263140201569
         },
         {
          "class": 0,
          "dim1": 2.914506196975708,
          "dim2": 2.7806124687194824
         },
         {
          "class": 3,
          "dim1": -11.382993698120117,
          "dim2": -0.3398796319961548
         },
         {
          "class": 1,
          "dim1": -2.3279576301574707,
          "dim2": 10.569808006286621
         },
         {
          "class": 1,
          "dim1": 2.394251823425293,
          "dim2": -13.512656211853027
         },
         {
          "class": 3,
          "dim1": -2.0333850383758545,
          "dim2": -0.30145177245140076
         },
         {
          "class": 0,
          "dim1": -2.003985643386841,
          "dim2": 0.2886359393596649
         },
         {
          "class": 0,
          "dim1": 3.163543701171875,
          "dim2": 3.0133562088012695
         },
         {
          "class": 1,
          "dim1": 3.17252254486084,
          "dim2": -13.597431182861328
         },
         {
          "class": 0,
          "dim1": 2.933505058288574,
          "dim2": 4.730269908905029
         },
         {
          "class": 2,
          "dim1": -6.779911518096924,
          "dim2": 7.760023593902588
         },
         {
          "class": 0,
          "dim1": -1.154897928237915,
          "dim2": 2.3396475315093994
         },
         {
          "class": 0,
          "dim1": -0.7333545684814453,
          "dim2": 2.5467755794525146
         },
         {
          "class": 0,
          "dim1": 7.963107585906982,
          "dim2": 4.1919755935668945
         },
         {
          "class": 0,
          "dim1": -4.30074405670166,
          "dim2": -0.4000189006328583
         },
         {
          "class": 0,
          "dim1": 4.222753524780273,
          "dim2": 5.0247955322265625
         },
         {
          "class": 2,
          "dim1": 7.269385814666748,
          "dim2": -5.467411518096924
         },
         {
          "class": 0,
          "dim1": 1.4109560251235962,
          "dim2": 1.065804123878479
         },
         {
          "class": 0,
          "dim1": 8.393121719360352,
          "dim2": 3.4473717212677
         },
         {
          "class": 0,
          "dim1": 8.147087097167969,
          "dim2": 2.6300015449523926
         },
         {
          "class": 0,
          "dim1": 3.7100586891174316,
          "dim2": 5.215458869934082
         },
         {
          "class": 3,
          "dim1": -13.165661811828613,
          "dim2": -1.134896159172058
         },
         {
          "class": 0,
          "dim1": -3.9093024730682373,
          "dim2": -0.37836503982543945
         },
         {
          "class": 0,
          "dim1": 5.314791202545166,
          "dim2": 0.16127906739711761
         },
         {
          "class": 3,
          "dim1": -12.059865951538086,
          "dim2": -0.9358356595039368
         },
         {
          "class": 1,
          "dim1": 2.3193578720092773,
          "dim2": -13.164207458496094
         },
         {
          "class": 0,
          "dim1": 1.457485556602478,
          "dim2": 1.4457203149795532
         },
         {
          "class": 3,
          "dim1": -11.191069602966309,
          "dim2": 0.7453605532646179
         },
         {
          "class": 0,
          "dim1": -1.979526400566101,
          "dim2": 1.9856276512145996
         },
         {
          "class": 0,
          "dim1": 5.342312335968018,
          "dim2": 3.422039031982422
         },
         {
          "class": 2,
          "dim1": -3.0997633934020996,
          "dim2": 7.3874335289001465
         },
         {
          "class": 0,
          "dim1": -2.0941247940063477,
          "dim2": -0.1245112493634224
         },
         {
          "class": 2,
          "dim1": 7.695328235626221,
          "dim2": -6.262606620788574
         },
         {
          "class": 0,
          "dim1": 8.046469688415527,
          "dim2": 5.000413417816162
         },
         {
          "class": 3,
          "dim1": -12.277849197387695,
          "dim2": 0.2599879503250122
         },
         {
          "class": 1,
          "dim1": 0.8088638186454773,
          "dim2": -11.769100189208984
         },
         {
          "class": 0,
          "dim1": 5.8274922370910645,
          "dim2": 4.20856237411499
         },
         {
          "class": 0,
          "dim1": -0.0870780497789383,
          "dim2": -0.5682725310325623
         },
         {
          "class": 0,
          "dim1": 6.337993621826172,
          "dim2": 5.565266132354736
         },
         {
          "class": 0,
          "dim1": 2.792401075363159,
          "dim2": 3.1124465465545654
         },
         {
          "class": 1,
          "dim1": -2.453005313873291,
          "dim2": 10.58966064453125
         },
         {
          "class": 2,
          "dim1": 7.529977321624756,
          "dim2": -6.0834269523620605
         },
         {
          "class": 0,
          "dim1": 6.73044490814209,
          "dim2": 1.891052484512329
         },
         {
          "class": 0,
          "dim1": 0.30153748393058777,
          "dim2": 1.77739679813385
         },
         {
          "class": 2,
          "dim1": 7.775141716003418,
          "dim2": -5.187049865722656
         },
         {
          "class": 0,
          "dim1": 3.6525676250457764,
          "dim2": 2.2971673011779785
         },
         {
          "class": 0,
          "dim1": -0.5276883840560913,
          "dim2": -1.8769798278808594
         },
         {
          "class": 2,
          "dim1": 7.234169006347656,
          "dim2": -5.986077785491943
         },
         {
          "class": 0,
          "dim1": -3.3484385013580322,
          "dim2": -1.8623706102371216
         },
         {
          "class": 2,
          "dim1": -3.2813262939453125,
          "dim2": 7.918655872344971
         },
         {
          "class": 2,
          "dim1": 6.485686779022217,
          "dim2": -7.135222434997559
         },
         {
          "class": 0,
          "dim1": -0.12607687711715698,
          "dim2": 0.2878910303115845
         },
         {
          "class": 0,
          "dim1": 2.780012845993042,
          "dim2": 2.2684316635131836
         },
         {
          "class": 0,
          "dim1": 5.4796247482299805,
          "dim2": 3.226165771484375
         },
         {
          "class": 0,
          "dim1": -0.2742086946964264,
          "dim2": -1.4708017110824585
         },
         {
          "class": 0,
          "dim1": 6.0280985832214355,
          "dim2": 2.371800422668457
         },
         {
          "class": 3,
          "dim1": -11.174389839172363,
          "dim2": -2.185426712036133
         },
         {
          "class": 1,
          "dim1": 1.3013393878936768,
          "dim2": -12.156232833862305
         },
         {
          "class": 0,
          "dim1": 8.212235450744629,
          "dim2": 5.142187595367432
         },
         {
          "class": 3,
          "dim1": -11.704303741455078,
          "dim2": -1.0488489866256714
         },
         {
          "class": 2,
          "dim1": -3.6083104610443115,
          "dim2": -6.615551948547363
         },
         {
          "class": 2,
          "dim1": 7.77077054977417,
          "dim2": -5.4649224281311035
         },
         {
          "class": 0,
          "dim1": 7.621413230895996,
          "dim2": 4.354764461517334
         },
         {
          "class": 2,
          "dim1": -2.9729459285736084,
          "dim2": -6.845554351806641
         },
         {
          "class": 1,
          "dim1": 4.126043319702148,
          "dim2": -0.5219020843505859
         },
         {
          "class": 0,
          "dim1": 3.8550171852111816,
          "dim2": -0.005074246320873499
         },
         {
          "class": 1,
          "dim1": 3.5209896564483643,
          "dim2": -13.266260147094727
         },
         {
          "class": 1,
          "dim1": 2.681640625,
          "dim2": -12.504680633544922
         },
         {
          "class": 0,
          "dim1": -0.0986626073718071,
          "dim2": 0.04491560906171799
         },
         {
          "class": 1,
          "dim1": 2.0162808895111084,
          "dim2": -12.664353370666504
         },
         {
          "class": 1,
          "dim1": 3.122361660003662,
          "dim2": -13.07235050201416
         },
         {
          "class": 0,
          "dim1": 4.006898880004883,
          "dim2": 0.7617915868759155
         },
         {
          "class": 3,
          "dim1": -10.7374849319458,
          "dim2": 0.5442854762077332
         },
         {
          "class": 0,
          "dim1": 1.5534814596176147,
          "dim2": 1.1684519052505493
         },
         {
          "class": 0,
          "dim1": 0.7483184337615967,
          "dim2": 0.3349526822566986
         },
         {
          "class": 0,
          "dim1": -1.2600585222244263,
          "dim2": 0.9203808903694153
         },
         {
          "class": 1,
          "dim1": 2.1561341285705566,
          "dim2": -13.19696044921875
         },
         {
          "class": 1,
          "dim1": 2.120978832244873,
          "dim2": -12.885581970214844
         },
         {
          "class": 3,
          "dim1": -13.13166332244873,
          "dim2": -1.57167387008667
         },
         {
          "class": 0,
          "dim1": 2.820603370666504,
          "dim2": 0.16052716970443726
         },
         {
          "class": 1,
          "dim1": -2.3305320739746094,
          "dim2": 10.194787979125977
         },
         {
          "class": 0,
          "dim1": -0.7327290773391724,
          "dim2": 1.837518334388733
         },
         {
          "class": 2,
          "dim1": -1.1488128900527954,
          "dim2": -0.04002063348889351
         },
         {
          "class": 0,
          "dim1": 7.128788948059082,
          "dim2": 5.1972126960754395
         },
         {
          "class": 0,
          "dim1": -4.290553569793701,
          "dim2": -0.8372746706008911
         },
         {
          "class": 2,
          "dim1": -7.162075519561768,
          "dim2": 6.8546857833862305
         },
         {
          "class": 1,
          "dim1": 1.0958256721496582,
          "dim2": -11.497025489807129
         },
         {
          "class": 1,
          "dim1": 3.9485435485839844,
          "dim2": -13.025615692138672
         },
         {
          "class": 0,
          "dim1": -0.855078935623169,
          "dim2": 0.16403710842132568
         },
         {
          "class": 1,
          "dim1": 3.542353391647339,
          "dim2": -12.774649620056152
         },
         {
          "class": 0,
          "dim1": 0.7381812930107117,
          "dim2": 1.9560213088989258
         },
         {
          "class": 0,
          "dim1": -1.729481816291809,
          "dim2": 0.7219712138175964
         },
         {
          "class": 2,
          "dim1": 6.718698501586914,
          "dim2": -6.129589557647705
         },
         {
          "class": 0,
          "dim1": -1.3140748739242554,
          "dim2": -0.2961934208869934
         },
         {
          "class": 0,
          "dim1": -1.0015710592269897,
          "dim2": 1.0101879835128784
         },
         {
          "class": 0,
          "dim1": 6.396142482757568,
          "dim2": 5.659514427185059
         },
         {
          "class": 0,
          "dim1": 6.703254222869873,
          "dim2": 4.395031452178955
         },
         {
          "class": 0,
          "dim1": -0.9409494996070862,
          "dim2": -0.36493203043937683
         },
         {
          "class": 0,
          "dim1": 6.232459545135498,
          "dim2": 5.02533483505249
         },
         {
          "class": 0,
          "dim1": 3.165921449661255,
          "dim2": 2.2377543449401855
         },
         {
          "class": 0,
          "dim1": 5.653468132019043,
          "dim2": 1.1717029809951782
         },
         {
          "class": 3,
          "dim1": -12.312617301940918,
          "dim2": -1.9986270666122437
         },
         {
          "class": 0,
          "dim1": 0.48834848403930664,
          "dim2": 4.216271877288818
         },
         {
          "class": 0,
          "dim1": 2.6529645919799805,
          "dim2": 1.772090196609497
         },
         {
          "class": 3,
          "dim1": -11.068063735961914,
          "dim2": -3.622795343399048
         },
         {
          "class": 1,
          "dim1": 2.8793227672576904,
          "dim2": -13.490618705749512
         },
         {
          "class": 2,
          "dim1": -2.1819329261779785,
          "dim2": -7.846138000488281
         },
         {
          "class": 0,
          "dim1": 3.835357904434204,
          "dim2": 4.279338836669922
         },
         {
          "class": 1,
          "dim1": -4.52154541015625,
          "dim2": 11.40344524383545
         },
         {
          "class": 0,
          "dim1": 2.6579349040985107,
          "dim2": 3.9736504554748535
         },
         {
          "class": 2,
          "dim1": 6.939273834228516,
          "dim2": -6.769275188446045
         },
         {
          "class": 0,
          "dim1": -0.7791703939437866,
          "dim2": 2.3369100093841553
         },
         {
          "class": 0,
          "dim1": 6.664916515350342,
          "dim2": 1.6959666013717651
         },
         {
          "class": 3,
          "dim1": -11.288573265075684,
          "dim2": -2.359147787094116
         },
         {
          "class": 2,
          "dim1": -6.382676124572754,
          "dim2": 8.209477424621582
         },
         {
          "class": 3,
          "dim1": -13.237990379333496,
          "dim2": -1.2808572053909302
         },
         {
          "class": 0,
          "dim1": 7.112406253814697,
          "dim2": 5.375894546508789
         },
         {
          "class": 3,
          "dim1": -11.300687789916992,
          "dim2": -3.1016950607299805
         },
         {
          "class": 0,
          "dim1": 5.651388168334961,
          "dim2": 2.782902240753174
         },
         {
          "class": 2,
          "dim1": -1.5286117792129517,
          "dim2": -7.6218438148498535
         },
         {
          "class": 1,
          "dim1": 2.7117507457733154,
          "dim2": -12.901514053344727
         },
         {
          "class": 3,
          "dim1": -12.495681762695312,
          "dim2": -2.131788730621338
         },
         {
          "class": 2,
          "dim1": -6.7653727531433105,
          "dim2": 7.724531650543213
         },
         {
          "class": 0,
          "dim1": 6.4902777671813965,
          "dim2": 4.363146781921387
         },
         {
          "class": 0,
          "dim1": 5.079906463623047,
          "dim2": 0.23622450232505798
         },
         {
          "class": 1,
          "dim1": 3.0438780784606934,
          "dim2": -12.345351219177246
         },
         {
          "class": 0,
          "dim1": 5.969832897186279,
          "dim2": 4.909960746765137
         },
         {
          "class": 0,
          "dim1": -0.6492829918861389,
          "dim2": -3.136582612991333
         },
         {
          "class": 2,
          "dim1": -3.654932975769043,
          "dim2": -6.800621509552002
         },
         {
          "class": 0,
          "dim1": 2.6883556842803955,
          "dim2": 1.8108651638031006
         },
         {
          "class": 0,
          "dim1": 4.614055156707764,
          "dim2": 1.8617944717407227
         },
         {
          "class": 2,
          "dim1": -3.553290367126465,
          "dim2": -6.892566204071045
         },
         {
          "class": 0,
          "dim1": 5.211393356323242,
          "dim2": 4.471947193145752
         },
         {
          "class": 0,
          "dim1": -2.7128725051879883,
          "dim2": -0.0002509609912522137
         },
         {
          "class": 1,
          "dim1": 1.8824893236160278,
          "dim2": -12.253740310668945
         },
         {
          "class": 3,
          "dim1": -11.94485855102539,
          "dim2": 0.10879665613174438
         },
         {
          "class": 0,
          "dim1": 2.3067054748535156,
          "dim2": -0.09346436709165573
         },
         {
          "class": 0,
          "dim1": -0.3629176616668701,
          "dim2": -0.36531132459640503
         },
         {
          "class": 3,
          "dim1": -12.335107803344727,
          "dim2": -3.4584200382232666
         },
         {
          "class": 3,
          "dim1": -12.306224822998047,
          "dim2": -2.5863358974456787
         },
         {
          "class": 0,
          "dim1": -1.186331868171692,
          "dim2": -1.8482589721679688
         },
         {
          "class": 0,
          "dim1": 4.20317268371582,
          "dim2": 1.9266396760940552
         },
         {
          "class": 0,
          "dim1": -1.6133356094360352,
          "dim2": 0.6086023449897766
         },
         {
          "class": 3,
          "dim1": -11.545291900634766,
          "dim2": -2.500948667526245
         },
         {
          "class": 0,
          "dim1": -2.070162057876587,
          "dim2": 0.2299557328224182
         },
         {
          "class": 0,
          "dim1": 3.73272442817688,
          "dim2": 1.8860588073730469
         },
         {
          "class": 3,
          "dim1": -10.407022476196289,
          "dim2": -3.39786434173584
         },
         {
          "class": 1,
          "dim1": 2.727874279022217,
          "dim2": -12.722023010253906
         },
         {
          "class": 0,
          "dim1": 7.159241199493408,
          "dim2": 1.876684308052063
         },
         {
          "class": 2,
          "dim1": -2.8358049392700195,
          "dim2": 6.894537448883057
         },
         {
          "class": 0,
          "dim1": 7.697324752807617,
          "dim2": 4.43562126159668
         },
         {
          "class": 0,
          "dim1": 7.533931255340576,
          "dim2": 5.277305603027344
         },
         {
          "class": 1,
          "dim1": 4.782679080963135,
          "dim2": -12.028685569763184
         },
         {
          "class": 0,
          "dim1": 2.093433380126953,
          "dim2": 1.7696517705917358
         },
         {
          "class": 1,
          "dim1": -2.7389612197875977,
          "dim2": 11.659720420837402
         },
         {
          "class": 0,
          "dim1": -0.649473249912262,
          "dim2": 2.117351770401001
         },
         {
          "class": 3,
          "dim1": -11.642204284667969,
          "dim2": -2.518501043319702
         },
         {
          "class": 0,
          "dim1": 7.517693519592285,
          "dim2": 6.141192436218262
         },
         {
          "class": 3,
          "dim1": -12.271897315979004,
          "dim2": -1.601554274559021
         },
         {
          "class": 0,
          "dim1": -1.0486688613891602,
          "dim2": -0.20864950120449066
         },
         {
          "class": 2,
          "dim1": 7.215696811676025,
          "dim2": -6.278782844543457
         },
         {
          "class": 2,
          "dim1": 1.6898871660232544,
          "dim2": -0.09415221214294434
         },
         {
          "class": 0,
          "dim1": 2.420482873916626,
          "dim2": 3.5930211544036865
         },
         {
          "class": 0,
          "dim1": -1.2753076553344727,
          "dim2": 0.7635976672172546
         },
         {
          "class": 0,
          "dim1": 6.664463520050049,
          "dim2": 4.554719924926758
         },
         {
          "class": 0,
          "dim1": 0.2246008813381195,
          "dim2": 1.693206787109375
         },
         {
          "class": 0,
          "dim1": -0.30011996626853943,
          "dim2": -0.2677566707134247
         },
         {
          "class": 0,
          "dim1": 1.3043104410171509,
          "dim2": 4.207531452178955
         },
         {
          "class": 0,
          "dim1": 8.553516387939453,
          "dim2": 2.9395604133605957
         },
         {
          "class": 0,
          "dim1": 7.70672607421875,
          "dim2": 4.3063249588012695
         },
         {
          "class": 2,
          "dim1": -2.979940414428711,
          "dim2": 7.231205940246582
         },
         {
          "class": 0,
          "dim1": -0.4002148509025574,
          "dim2": 1.7314037084579468
         },
         {
          "class": 2,
          "dim1": -2.0322487354278564,
          "dim2": 6.4871087074279785
         },
         {
          "class": 0,
          "dim1": -3.096345901489258,
          "dim2": -0.45019227266311646
         },
         {
          "class": 3,
          "dim1": -12.676445007324219,
          "dim2": -2.614180564880371
         },
         {
          "class": 1,
          "dim1": 1.3098887205123901,
          "dim2": -11.737895011901855
         },
         {
          "class": 1,
          "dim1": 1.904660701751709,
          "dim2": -13.486032485961914
         },
         {
          "class": 2,
          "dim1": 5.698822021484375,
          "dim2": -6.766352653503418
         },
         {
          "class": 1,
          "dim1": 1.7121964693069458,
          "dim2": -0.5747150182723999
         },
         {
          "class": 0,
          "dim1": 6.044121265411377,
          "dim2": 4.82246732711792
         },
         {
          "class": 3,
          "dim1": -10.659988403320312,
          "dim2": -2.879601001739502
         },
         {
          "class": 0,
          "dim1": -2.857868194580078,
          "dim2": -0.19310158491134644
         },
         {
          "class": 1,
          "dim1": 1.8593316078186035,
          "dim2": -13.030746459960938
         },
         {
          "class": 2,
          "dim1": -3.3366873264312744,
          "dim2": 8.371414184570312
         },
         {
          "class": 2,
          "dim1": -6.859537601470947,
          "dim2": 7.828495979309082
         },
         {
          "class": 0,
          "dim1": 7.190304279327393,
          "dim2": 2.9860918521881104
         },
         {
          "class": 3,
          "dim1": -11.13427734375,
          "dim2": -0.9870815873146057
         },
         {
          "class": 0,
          "dim1": 8.163023948669434,
          "dim2": 5.387185573577881
         },
         {
          "class": 0,
          "dim1": 1.2857266664505005,
          "dim2": -1.470207929611206
         },
         {
          "class": 1,
          "dim1": -3.5261826515197754,
          "dim2": 11.9819917678833
         },
         {
          "class": 3,
          "dim1": -12.963199615478516,
          "dim2": -2.253446578979492
         },
         {
          "class": 1,
          "dim1": -3.7883455753326416,
          "dim2": 11.51012897491455
         },
         {
          "class": 0,
          "dim1": 0.17655284702777863,
          "dim2": 3.609095335006714
         },
         {
          "class": 0,
          "dim1": 3.188582181930542,
          "dim2": 3.2690577507019043
         },
         {
          "class": 3,
          "dim1": -11.78858757019043,
          "dim2": -0.705531120300293
         },
         {
          "class": 3,
          "dim1": -10.62021255493164,
          "dim2": 0.4987003803253174
         },
         {
          "class": 0,
          "dim1": 5.026440620422363,
          "dim2": 4.471059799194336
         },
         {
          "class": 2,
          "dim1": -3.360840320587158,
          "dim2": 8.309066772460938
         },
         {
          "class": 1,
          "dim1": -3.0745582580566406,
          "dim2": 11.496109008789062
         },
         {
          "class": 0,
          "dim1": -0.33822062611579895,
          "dim2": 1.9771366119384766
         },
         {
          "class": 0,
          "dim1": 3.3931500911712646,
          "dim2": 0.682368814945221
         },
         {
          "class": 0,
          "dim1": 4.290900707244873,
          "dim2": 2.871319055557251
         },
         {
          "class": 1,
          "dim1": 2.1425693035125732,
          "dim2": -13.021763801574707
         },
         {
          "class": 0,
          "dim1": 3.144914150238037,
          "dim2": 2.7091641426086426
         },
         {
          "class": 0,
          "dim1": 6.076462268829346,
          "dim2": 3.4167020320892334
         },
         {
          "class": 3,
          "dim1": -11.043437957763672,
          "dim2": 0.6180218458175659
         },
         {
          "class": 0,
          "dim1": -4.494767189025879,
          "dim2": -0.43629148602485657
         },
         {
          "class": 2,
          "dim1": 6.43505334854126,
          "dim2": -6.261818885803223
         },
         {
          "class": 2,
          "dim1": -3.5751953125,
          "dim2": -6.815955638885498
         },
         {
          "class": 1,
          "dim1": 2.3018698692321777,
          "dim2": -12.708828926086426
         },
         {
          "class": 0,
          "dim1": -2.3549835681915283,
          "dim2": -0.8814732432365417
         },
         {
          "class": 3,
          "dim1": -11.440265655517578,
          "dim2": -3.2229197025299072
         },
         {
          "class": 1,
          "dim1": 2.259631633758545,
          "dim2": -13.47311019897461
         },
         {
          "class": 2,
          "dim1": -7.074121952056885,
          "dim2": 7.372884273529053
         },
         {
          "class": 0,
          "dim1": -2.3137617111206055,
          "dim2": -0.27802953124046326
         },
         {
          "class": 1,
          "dim1": 3.06489634513855,
          "dim2": -11.949640274047852
         },
         {
          "class": 2,
          "dim1": -7.140493869781494,
          "dim2": 7.021345615386963
         },
         {
          "class": 0,
          "dim1": 2.9308738708496094,
          "dim2": 2.4394307136535645
         },
         {
          "class": 0,
          "dim1": -2.1397228240966797,
          "dim2": -2.1237287521362305
         },
         {
          "class": 0,
          "dim1": 6.806580066680908,
          "dim2": 5.249125957489014
         },
         {
          "class": 3,
          "dim1": -11.537293434143066,
          "dim2": -0.22688260674476624
         },
         {
          "class": 0,
          "dim1": 4.5853590965271,
          "dim2": 1.5477772951126099
         },
         {
          "class": 0,
          "dim1": 5.3890180587768555,
          "dim2": 1.4875584840774536
         },
         {
          "class": 2,
          "dim1": -6.631689071655273,
          "dim2": 7.984947681427002
         },
         {
          "class": 3,
          "dim1": -12.231392860412598,
          "dim2": -1.4849504232406616
         },
         {
          "class": 0,
          "dim1": 7.592282295227051,
          "dim2": 5.276515960693359
         },
         {
          "class": 0,
          "dim1": 0.42605534195899963,
          "dim2": 1.170072317123413
         },
         {
          "class": 1,
          "dim1": 3.6999030113220215,
          "dim2": -12.915970802307129
         },
         {
          "class": 0,
          "dim1": 5.010645866394043,
          "dim2": 1.8313074111938477
         },
         {
          "class": 0,
          "dim1": 3.108255386352539,
          "dim2": 4.142332553863525
         },
         {
          "class": 0,
          "dim1": -3.2254786491394043,
          "dim2": -0.9529287219047546
         },
         {
          "class": 0,
          "dim1": 6.043331623077393,
          "dim2": 2.7773547172546387
         },
         {
          "class": 0,
          "dim1": 8.356694221496582,
          "dim2": 4.241519451141357
         },
         {
          "class": 0,
          "dim1": 7.220940113067627,
          "dim2": 2.077824115753174
         },
         {
          "class": 1,
          "dim1": -2.4304258823394775,
          "dim2": 11.499041557312012
         },
         {
          "class": 0,
          "dim1": 8.57754898071289,
          "dim2": 3.2119758129119873
         },
         {
          "class": 0,
          "dim1": 2.5422120094299316,
          "dim2": 0.47231927514076233
         },
         {
          "class": 0,
          "dim1": 4.219940185546875,
          "dim2": 3.3464717864990234
         },
         {
          "class": 0,
          "dim1": 0.938880205154419,
          "dim2": 3.7634174823760986
         },
         {
          "class": 1,
          "dim1": 2.4633448123931885,
          "dim2": -13.644181251525879
         },
         {
          "class": 1,
          "dim1": 0.9615845084190369,
          "dim2": -12.461669921875
         },
         {
          "class": 0,
          "dim1": 0.18178629875183105,
          "dim2": 3.5637683868408203
         },
         {
          "class": 2,
          "dim1": -1.368652582168579,
          "dim2": -8.321883201599121
         },
         {
          "class": 1,
          "dim1": -2.3024933338165283,
          "dim2": 10.778216361999512
         },
         {
          "class": 0,
          "dim1": 0.2666114866733551,
          "dim2": 1.8032630681991577
         },
         {
          "class": 0,
          "dim1": 6.933943271636963,
          "dim2": 2.93312668800354
         },
         {
          "class": 1,
          "dim1": 1.433398962020874,
          "dim2": -12.884483337402344
         },
         {
          "class": 0,
          "dim1": 4.764766216278076,
          "dim2": -0.4168631136417389
         },
         {
          "class": 2,
          "dim1": -3.2726738452911377,
          "dim2": -6.492796421051025
         },
         {
          "class": 1,
          "dim1": 6.070043087005615,
          "dim2": 1.0048441886901855
         },
         {
          "class": 2,
          "dim1": -2.848111629486084,
          "dim2": -7.6218366622924805
         },
         {
          "class": 1,
          "dim1": 2.6548938751220703,
          "dim2": -12.254888534545898
         },
         {
          "class": 0,
          "dim1": 4.73905611038208,
          "dim2": 3.0554277896881104
         },
         {
          "class": 3,
          "dim1": -11.773198127746582,
          "dim2": -1.1851028203964233
         },
         {
          "class": 0,
          "dim1": 3.6759424209594727,
          "dim2": 1.8947266340255737
         },
         {
          "class": 0,
          "dim1": 6.99050235748291,
          "dim2": 3.9731271266937256
         },
         {
          "class": 0,
          "dim1": 4.486293315887451,
          "dim2": 5.222643852233887
         },
         {
          "class": 1,
          "dim1": 1.3363958597183228,
          "dim2": -12.639139175415039
         },
         {
          "class": 3,
          "dim1": -11.242400169372559,
          "dim2": -3.2649333477020264
         },
         {
          "class": 2,
          "dim1": -1.866246223449707,
          "dim2": -8.141002655029297
         },
         {
          "class": 2,
          "dim1": -3.067852258682251,
          "dim2": 7.047313213348389
         },
         {
          "class": 3,
          "dim1": -12.226059913635254,
          "dim2": -2.9844183921813965
         },
         {
          "class": 0,
          "dim1": 7.990854263305664,
          "dim2": 3.830927848815918
         },
         {
          "class": 0,
          "dim1": 6.678944110870361,
          "dim2": 4.983531951904297
         },
         {
          "class": 3,
          "dim1": -10.796771049499512,
          "dim2": -2.7910618782043457
         },
         {
          "class": 1,
          "dim1": 4.06134033203125,
          "dim2": -12.166938781738281
         },
         {
          "class": 0,
          "dim1": 8.319178581237793,
          "dim2": 3.401698350906372
         },
         {
          "class": 2,
          "dim1": -2.740032434463501,
          "dim2": 6.869999885559082
         },
         {
          "class": 1,
          "dim1": 1.3462921380996704,
          "dim2": -13.005915641784668
         },
         {
          "class": 0,
          "dim1": 0.4510200321674347,
          "dim2": 1.9993541240692139
         },
         {
          "class": 1,
          "dim1": 3.7014896869659424,
          "dim2": -12.706243515014648
         },
         {
          "class": 0,
          "dim1": -1.6708043813705444,
          "dim2": -0.0596880242228508
         },
         {
          "class": 2,
          "dim1": -6.4927239418029785,
          "dim2": 7.994752883911133
         },
         {
          "class": 1,
          "dim1": -2.410902976989746,
          "dim2": 9.601461410522461
         },
         {
          "class": 3,
          "dim1": -13.051031112670898,
          "dim2": -1.534900426864624
         },
         {
          "class": 0,
          "dim1": 3.993196964263916,
          "dim2": 1.6904641389846802
         },
         {
          "class": 2,
          "dim1": -1.6804336309432983,
          "dim2": -8.0580472946167
         },
         {
          "class": 0,
          "dim1": 4.475430011749268,
          "dim2": 2.1155717372894287
         },
         {
          "class": 0,
          "dim1": -0.21070009469985962,
          "dim2": 1.3561265468597412
         },
         {
          "class": 0,
          "dim1": -0.033247336745262146,
          "dim2": -0.32864347100257874
         },
         {
          "class": 0,
          "dim1": 8.357654571533203,
          "dim2": 5.018528461456299
         },
         {
          "class": 0,
          "dim1": 0.7938582897186279,
          "dim2": 1.6734893321990967
         },
         {
          "class": 0,
          "dim1": 3.939627170562744,
          "dim2": 4.800294876098633
         },
         {
          "class": 0,
          "dim1": 3.894534111022949,
          "dim2": 1.6620510816574097
         },
         {
          "class": 0,
          "dim1": 4.976986408233643,
          "dim2": 4.312298774719238
         },
         {
          "class": 0,
          "dim1": 5.1953325271606445,
          "dim2": 5.223925590515137
         },
         {
          "class": 0,
          "dim1": 4.007658958435059,
          "dim2": 2.130730628967285
         },
         {
          "class": 0,
          "dim1": 5.263289928436279,
          "dim2": 2.4496099948883057
         },
         {
          "class": 0,
          "dim1": 5.561473369598389,
          "dim2": 2.9162614345550537
         },
         {
          "class": 0,
          "dim1": 7.671577453613281,
          "dim2": 4.1012043952941895
         },
         {
          "class": 3,
          "dim1": -10.805437088012695,
          "dim2": -3.508260488510132
         },
         {
          "class": 0,
          "dim1": 3.1617374420166016,
          "dim2": 1.2553845643997192
         },
         {
          "class": 2,
          "dim1": -7.042250156402588,
          "dim2": 7.7466607093811035
         },
         {
          "class": 0,
          "dim1": -0.8102226853370667,
          "dim2": 2.570026159286499
         },
         {
          "class": 0,
          "dim1": 0.2902505099773407,
          "dim2": 3.0232770442962646
         },
         {
          "class": 0,
          "dim1": 4.293522834777832,
          "dim2": 3.6709744930267334
         },
         {
          "class": 1,
          "dim1": 4.766566276550293,
          "dim2": -12.195716857910156
         },
         {
          "class": 0,
          "dim1": 6.8414154052734375,
          "dim2": 5.116091251373291
         },
         {
          "class": 0,
          "dim1": -1.9680153131484985,
          "dim2": -0.32652902603149414
         },
         {
          "class": 0,
          "dim1": -10.048856735229492,
          "dim2": 0.2333468347787857
         },
         {
          "class": 2,
          "dim1": -1.9573627710342407,
          "dim2": -8.03575325012207
         },
         {
          "class": 0,
          "dim1": 7.0456953048706055,
          "dim2": 3.7840988636016846
         },
         {
          "class": 3,
          "dim1": -10.649491310119629,
          "dim2": 0.7925165891647339
         },
         {
          "class": 0,
          "dim1": 3.149845838546753,
          "dim2": 4.361536502838135
         },
         {
          "class": 2,
          "dim1": 7.688424587249756,
          "dim2": -6.179171562194824
         },
         {
          "class": 1,
          "dim1": -3.275852680206299,
          "dim2": 12.204578399658203
         },
         {
          "class": 0,
          "dim1": 2.916693687438965,
          "dim2": 1.0356396436691284
         },
         {
          "class": 0,
          "dim1": 7.990097522735596,
          "dim2": 4.311447620391846
         },
         {
          "class": 3,
          "dim1": -1.705114483833313,
          "dim2": -0.8903887867927551
         },
         {
          "class": 0,
          "dim1": -1.1910955905914307,
          "dim2": 1.1926169395446777
         },
         {
          "class": 0,
          "dim1": 2.6865482330322266,
          "dim2": -0.04469228535890579
         },
         {
          "class": 2,
          "dim1": -3.080526828765869,
          "dim2": -2.0852787494659424
         },
         {
          "class": 0,
          "dim1": 3.718649387359619,
          "dim2": 1.4070634841918945
         },
         {
          "class": 0,
          "dim1": 4.898331642150879,
          "dim2": 3.0368595123291016
         },
         {
          "class": 0,
          "dim1": 0.3445776104927063,
          "dim2": 3.7477171421051025
         },
         {
          "class": 2,
          "dim1": 5.628590106964111,
          "dim2": -6.819950580596924
         },
         {
          "class": 2,
          "dim1": 7.509405136108398,
          "dim2": -4.845241069793701
         },
         {
          "class": 0,
          "dim1": 2.8317718505859375,
          "dim2": 3.103684663772583
         },
         {
          "class": 2,
          "dim1": 6.768675327301025,
          "dim2": -5.929332256317139
         },
         {
          "class": 1,
          "dim1": -2.5848476886749268,
          "dim2": 11.607477188110352
         },
         {
          "class": 3,
          "dim1": -12.08619213104248,
          "dim2": -0.7583263516426086
         },
         {
          "class": 0,
          "dim1": 5.745851039886475,
          "dim2": 2.7307980060577393
         },
         {
          "class": 1,
          "dim1": 4.98167610168457,
          "dim2": -0.6917092204093933
         },
         {
          "class": 0,
          "dim1": 7.412300109863281,
          "dim2": 3.8107335567474365
         },
         {
          "class": 2,
          "dim1": -3.345428705215454,
          "dim2": 8.215155601501465
         },
         {
          "class": 0,
          "dim1": 4.045813083648682,
          "dim2": 5.259716987609863
         },
         {
          "class": 1,
          "dim1": 3.6818127632141113,
          "dim2": -13.016092300415039
         },
         {
          "class": 3,
          "dim1": -11.422318458557129,
          "dim2": -3.792404890060425
         },
         {
          "class": 0,
          "dim1": -1.4412033557891846,
          "dim2": -2.1337223052978516
         },
         {
          "class": 0,
          "dim1": 6.1193718910217285,
          "dim2": 0.8943166136741638
         },
         {
          "class": 0,
          "dim1": 3.2711758613586426,
          "dim2": 2.0165300369262695
         },
         {
          "class": 3,
          "dim1": -12.6576566696167,
          "dim2": -0.031137168407440186
         },
         {
          "class": 2,
          "dim1": -6.950892925262451,
          "dim2": 6.697636127471924
         },
         {
          "class": 0,
          "dim1": 0.8944066762924194,
          "dim2": 0.46724486351013184
         },
         {
          "class": 0,
          "dim1": 7.175073146820068,
          "dim2": 1.9040985107421875
         },
         {
          "class": 0,
          "dim1": 2.02364444732666,
          "dim2": -1.3510408401489258
         },
         {
          "class": 0,
          "dim1": 4.710578441619873,
          "dim2": 0.1422147899866104
         },
         {
          "class": 1,
          "dim1": 4.80277681350708,
          "dim2": -12.006589889526367
         },
         {
          "class": 3,
          "dim1": -12.964162826538086,
          "dim2": -1.6615068912506104
         },
         {
          "class": 3,
          "dim1": -12.88565444946289,
          "dim2": -2.990920066833496
         },
         {
          "class": 1,
          "dim1": 1.9395387172698975,
          "dim2": -13.216217994689941
         },
         {
          "class": 0,
          "dim1": 3.0899503231048584,
          "dim2": 3.802562952041626
         },
         {
          "class": 0,
          "dim1": 6.44457483291626,
          "dim2": 3.606102228164673
         },
         {
          "class": 0,
          "dim1": 2.784987688064575,
          "dim2": 0.29456326365470886
         },
         {
          "class": 0,
          "dim1": 1.2548149824142456,
          "dim2": 2.7289488315582275
         },
         {
          "class": 0,
          "dim1": 7.676770210266113,
          "dim2": 6.504683494567871
         },
         {
          "class": 3,
          "dim1": -11.797379493713379,
          "dim2": -3.695176839828491
         },
         {
          "class": 0,
          "dim1": 2.199202060699463,
          "dim2": 2.6944165229797363
         },
         {
          "class": 0,
          "dim1": -0.5088085532188416,
          "dim2": -1.926596999168396
         },
         {
          "class": 2,
          "dim1": -1.8592557907104492,
          "dim2": -8.250141143798828
         },
         {
          "class": 0,
          "dim1": 8.889535903930664,
          "dim2": 3.6885669231414795
         },
         {
          "class": 0,
          "dim1": 8.199069023132324,
          "dim2": 5.111550331115723
         },
         {
          "class": 1,
          "dim1": -3.5428366661071777,
          "dim2": 12.036711692810059
         },
         {
          "class": 0,
          "dim1": 7.987396717071533,
          "dim2": 3.1073670387268066
         },
         {
          "class": 3,
          "dim1": -12.453474044799805,
          "dim2": -1.2678391933441162
         },
         {
          "class": 3,
          "dim1": -10.725720405578613,
          "dim2": -3.704610824584961
         },
         {
          "class": 0,
          "dim1": 3.9274280071258545,
          "dim2": 2.1769213676452637
         },
         {
          "class": 0,
          "dim1": 1.6697800159454346,
          "dim2": 2.0786774158477783
         },
         {
          "class": 1,
          "dim1": 3.922379732131958,
          "dim2": -13.065850257873535
         },
         {
          "class": 0,
          "dim1": 3.401649236679077,
          "dim2": 4.1190104484558105
         },
         {
          "class": 1,
          "dim1": 4.118527889251709,
          "dim2": -12.914108276367188
         },
         {
          "class": 0,
          "dim1": 6.431350231170654,
          "dim2": 3.0179896354675293
         },
         {
          "class": 0,
          "dim1": 2.175203561782837,
          "dim2": 4.399033546447754
         },
         {
          "class": 0,
          "dim1": 0.6887770295143127,
          "dim2": 1.478289246559143
         },
         {
          "class": 0,
          "dim1": 7.746058464050293,
          "dim2": 5.544955730438232
         },
         {
          "class": 0,
          "dim1": 6.224144458770752,
          "dim2": 3.2653040885925293
         },
         {
          "class": 0,
          "dim1": 4.406314849853516,
          "dim2": 2.575291633605957
         },
         {
          "class": 1,
          "dim1": -3.9348957538604736,
          "dim2": 11.539507865905762
         },
         {
          "class": 0,
          "dim1": 2.32275652885437,
          "dim2": -1.1528432369232178
         },
         {
          "class": 3,
          "dim1": -11.396328926086426,
          "dim2": 0.18643876910209656
         },
         {
          "class": 0,
          "dim1": 8.538614273071289,
          "dim2": 5.398861408233643
         },
         {
          "class": 1,
          "dim1": 4.991279125213623,
          "dim2": -11.538851737976074
         },
         {
          "class": 2,
          "dim1": -2.2148373126983643,
          "dim2": -7.300654888153076
         },
         {
          "class": 0,
          "dim1": 3.2074952125549316,
          "dim2": 0.34816646575927734
         },
         {
          "class": 0,
          "dim1": -1.8696818351745605,
          "dim2": 2.272351026535034
         },
         {
          "class": 2,
          "dim1": -3.1051039695739746,
          "dim2": -7.409270286560059
         },
         {
          "class": 0,
          "dim1": 6.323947429656982,
          "dim2": 4.572630405426025
         },
         {
          "class": 0,
          "dim1": -3.3387725353240967,
          "dim2": -1.9002143144607544
         },
         {
          "class": 0,
          "dim1": 0.4797807037830353,
          "dim2": 0.8028618097305298
         },
         {
          "class": 0,
          "dim1": 6.509148120880127,
          "dim2": 4.963576793670654
         },
         {
          "class": 0,
          "dim1": 2.8440160751342773,
          "dim2": 2.897244930267334
         },
         {
          "class": 2,
          "dim1": -2.1038661003112793,
          "dim2": -7.663140296936035
         },
         {
          "class": 2,
          "dim1": -3.0106558799743652,
          "dim2": 7.300673484802246
         },
         {
          "class": 0,
          "dim1": 3.9166760444641113,
          "dim2": 5.389075756072998
         },
         {
          "class": 0,
          "dim1": 2.5165133476257324,
          "dim2": 3.9158194065093994
         },
         {
          "class": 0,
          "dim1": 2.0692222118377686,
          "dim2": 0.2992097735404968
         },
         {
          "class": 0,
          "dim1": -2.2141497135162354,
          "dim2": 0.10450280457735062
         },
         {
          "class": 0,
          "dim1": 1.921776294708252,
          "dim2": 3.9319076538085938
         },
         {
          "class": 2,
          "dim1": -6.449852466583252,
          "dim2": 8.105487823486328
         },
         {
          "class": 0,
          "dim1": 4.260447978973389,
          "dim2": 1.1344339847564697
         },
         {
          "class": 1,
          "dim1": -2.366556167602539,
          "dim2": 12.074064254760742
         },
         {
          "class": 0,
          "dim1": 7.2144856452941895,
          "dim2": 6.56099271774292
         },
         {
          "class": 2,
          "dim1": 6.427576541900635,
          "dim2": -6.630084991455078
         },
         {
          "class": 3,
          "dim1": -10.642544746398926,
          "dim2": 0.6727114319801331
         },
         {
          "class": 0,
          "dim1": 1.2100378274917603,
          "dim2": 3.1880805492401123
         },
         {
          "class": 0,
          "dim1": 6.940911769866943,
          "dim2": 3.9459376335144043
         },
         {
          "class": 0,
          "dim1": 2.253816843032837,
          "dim2": 0.057729579508304596
         },
         {
          "class": 0,
          "dim1": 2.0501811504364014,
          "dim2": 1.026079535484314
         },
         {
          "class": 0,
          "dim1": 2.176321506500244,
          "dim2": 2.765683174133301
         },
         {
          "class": 0,
          "dim1": -1.2851186990737915,
          "dim2": 1.5218778848648071
         },
         {
          "class": 0,
          "dim1": 8.50617790222168,
          "dim2": 4.4593892097473145
         },
         {
          "class": 0,
          "dim1": -0.3151402175426483,
          "dim2": -0.5996841788291931
         },
         {
          "class": 1,
          "dim1": 2.440528154373169,
          "dim2": -12.010053634643555
         },
         {
          "class": 2,
          "dim1": -3.0849926471710205,
          "dim2": 7.337799072265625
         },
         {
          "class": 0,
          "dim1": 1.9373900890350342,
          "dim2": 2.415458917617798
         },
         {
          "class": 2,
          "dim1": -7.114641189575195,
          "dim2": 6.957761764526367
         },
         {
          "class": 1,
          "dim1": -4.097883224487305,
          "dim2": 11.606071472167969
         },
         {
          "class": 0,
          "dim1": -1.066178321838379,
          "dim2": 0.7902646064758301
         },
         {
          "class": 0,
          "dim1": 0.6770364046096802,
          "dim2": 1.9125820398330688
         },
         {
          "class": 2,
          "dim1": -3.0416829586029053,
          "dim2": -6.579219341278076
         },
         {
          "class": 0,
          "dim1": 6.600687026977539,
          "dim2": 4.288333892822266
         },
         {
          "class": 2,
          "dim1": 4.5589189529418945,
          "dim2": 3.950124740600586
         },
         {
          "class": 0,
          "dim1": 0.19067925214767456,
          "dim2": 1.7397476434707642
         },
         {
          "class": 0,
          "dim1": -1.9118651151657104,
          "dim2": 0.9893306493759155
         },
         {
          "class": 0,
          "dim1": 7.320606231689453,
          "dim2": 4.430987358093262
         },
         {
          "class": 1,
          "dim1": 1.3055768013000488,
          "dim2": -0.1834394335746765
         },
         {
          "class": 3,
          "dim1": -11.279529571533203,
          "dim2": -3.8389930725097656
         },
         {
          "class": 1,
          "dim1": 0.9883384108543396,
          "dim2": 0.4775359630584717
         },
         {
          "class": 1,
          "dim1": -3.843519926071167,
          "dim2": 11.560583114624023
         },
         {
          "class": 2,
          "dim1": -3.2896556854248047,
          "dim2": 8.037769317626953
         },
         {
          "class": 3,
          "dim1": -11.332276344299316,
          "dim2": -2.3864996433258057
         },
         {
          "class": 0,
          "dim1": -0.09695824235677719,
          "dim2": 2.175668239593506
         },
         {
          "class": 3,
          "dim1": -11.808923721313477,
          "dim2": -2.5275588035583496
         },
         {
          "class": 2,
          "dim1": 6.446526050567627,
          "dim2": -6.833499908447266
         },
         {
          "class": 2,
          "dim1": 6.816586971282959,
          "dim2": -6.511143684387207
         },
         {
          "class": 0,
          "dim1": 1.0626583099365234,
          "dim2": -0.04872657731175423
         },
         {
          "class": 2,
          "dim1": -2.1709818840026855,
          "dim2": -7.669058322906494
         },
         {
          "class": 2,
          "dim1": 5.8158721923828125,
          "dim2": -6.664456367492676
         },
         {
          "class": 0,
          "dim1": 4.539055824279785,
          "dim2": 3.761335611343384
         },
         {
          "class": 0,
          "dim1": 4.8523664474487305,
          "dim2": 4.514576435089111
         },
         {
          "class": 0,
          "dim1": 6.539489269256592,
          "dim2": 3.8506081104278564
         },
         {
          "class": 0,
          "dim1": 1.304938793182373,
          "dim2": 1.3176430463790894
         },
         {
          "class": 0,
          "dim1": 0.026158533990383148,
          "dim2": -1.280523419380188
         },
         {
          "class": 0,
          "dim1": 2.2157976627349854,
          "dim2": 2.5410211086273193
         },
         {
          "class": 1,
          "dim1": 0.6231326460838318,
          "dim2": -10.832232475280762
         },
         {
          "class": 1,
          "dim1": 2.5318634510040283,
          "dim2": -12.221758842468262
         },
         {
          "class": 0,
          "dim1": -1.3432098627090454,
          "dim2": 1.0368396043777466
         },
         {
          "class": 0,
          "dim1": 1.9634950160980225,
          "dim2": 1.5990060567855835
         },
         {
          "class": 1,
          "dim1": 2.4633395671844482,
          "dim2": -12.6281099319458
         },
         {
          "class": 0,
          "dim1": 0.7351642847061157,
          "dim2": -0.218746155500412
         },
         {
          "class": 0,
          "dim1": -1.7190278768539429,
          "dim2": 1.2838271856307983
         },
         {
          "class": 3,
          "dim1": -12.422006607055664,
          "dim2": -3.5816943645477295
         },
         {
          "class": 0,
          "dim1": 8.315286636352539,
          "dim2": 4.038261413574219
         },
         {
          "class": 2,
          "dim1": 7.489652633666992,
          "dim2": -6.096699237823486
         },
         {
          "class": 0,
          "dim1": 2.4339122772216797,
          "dim2": 2.3736302852630615
         },
         {
          "class": 0,
          "dim1": 1.056989073753357,
          "dim2": 0.6727007627487183
         },
         {
          "class": 2,
          "dim1": -6.690296173095703,
          "dim2": 8.137381553649902
         },
         {
          "class": 0,
          "dim1": -2.417372941970825,
          "dim2": 9.109067916870117
         },
         {
          "class": 0,
          "dim1": 3.5267205238342285,
          "dim2": 3.1424880027770996
         },
         {
          "class": 3,
          "dim1": -12.022793769836426,
          "dim2": 0.45816361904144287
         },
         {
          "class": 0,
          "dim1": 6.555454730987549,
          "dim2": 1.4165962934494019
         },
         {
          "class": 0,
          "dim1": 7.616388320922852,
          "dim2": 4.508077144622803
         },
         {
          "class": 0,
          "dim1": 1.4646093845367432,
          "dim2": 4.346412658691406
         },
         {
          "class": 0,
          "dim1": 3.5835089683532715,
          "dim2": 3.1087279319763184
         },
         {
          "class": 1,
          "dim1": 3.976663112640381,
          "dim2": -12.658388137817383
         },
         {
          "class": 0,
          "dim1": -3.9736688137054443,
          "dim2": -2.4654059410095215
         },
         {
          "class": 3,
          "dim1": -13.262228012084961,
          "dim2": -2.4401774406433105
         },
         {
          "class": 0,
          "dim1": 6.449853420257568,
          "dim2": 1.3632559776306152
         },
         {
          "class": 0,
          "dim1": 5.75827693939209,
          "dim2": 3.0282435417175293
         },
         {
          "class": 3,
          "dim1": -10.738180160522461,
          "dim2": -3.5115199089050293
         },
         {
          "class": 1,
          "dim1": 2.678912401199341,
          "dim2": -13.407875061035156
         },
         {
          "class": 0,
          "dim1": 3.6964588165283203,
          "dim2": 1.4039262533187866
         },
         {
          "class": 1,
          "dim1": 2.576199769973755,
          "dim2": -13.43416976928711
         },
         {
          "class": 0,
          "dim1": 1.6906288862228394,
          "dim2": -0.18636125326156616
         },
         {
          "class": 1,
          "dim1": -2.984131336212158,
          "dim2": 12.140313148498535
         },
         {
          "class": 0,
          "dim1": 8.857351303100586,
          "dim2": 3.6472582817077637
         },
         {
          "class": 0,
          "dim1": -0.44578906893730164,
          "dim2": -1.792421579360962
         },
         {
          "class": 1,
          "dim1": 2.9876210689544678,
          "dim2": -12.698440551757812
         },
         {
          "class": 0,
          "dim1": -0.44387438893318176,
          "dim2": -0.5966050624847412
         },
         {
          "class": 0,
          "dim1": 3.140927791595459,
          "dim2": 0.5448538661003113
         },
         {
          "class": 0,
          "dim1": 7.1248931884765625,
          "dim2": 3.064680337905884
         },
         {
          "class": 1,
          "dim1": 1.5006004571914673,
          "dim2": -12.271512985229492
         },
         {
          "class": 0,
          "dim1": -4.00675630569458,
          "dim2": -2.390634298324585
         },
         {
          "class": 3,
          "dim1": -10.867294311523438,
          "dim2": -2.8754634857177734
         },
         {
          "class": 0,
          "dim1": 6.776026248931885,
          "dim2": 1.5655001401901245
         },
         {
          "class": 0,
          "dim1": 7.417327880859375,
          "dim2": 3.093305826187134
         },
         {
          "class": 2,
          "dim1": -2.132004499435425,
          "dim2": -8.044357299804688
         },
         {
          "class": 2,
          "dim1": -2.867018699645996,
          "dim2": 6.9129719734191895
         },
         {
          "class": 1,
          "dim1": 1.2247098684310913,
          "dim2": -12.395634651184082
         },
         {
          "class": 1,
          "dim1": 4.0127482414245605,
          "dim2": -12.69708251953125
         },
         {
          "class": 2,
          "dim1": 6.338841438293457,
          "dim2": -6.582644462585449
         },
         {
          "class": 0,
          "dim1": 4.309379577636719,
          "dim2": 3.9648523330688477
         },
         {
          "class": 0,
          "dim1": 2.6844992637634277,
          "dim2": 0.6934673190116882
         },
         {
          "class": 0,
          "dim1": 1.9202038049697876,
          "dim2": 2.6786046028137207
         },
         {
          "class": 1,
          "dim1": 2.987205982208252,
          "dim2": -13.393838882446289
         },
         {
          "class": 0,
          "dim1": 0.8040969371795654,
          "dim2": 2.1208624839782715
         },
         {
          "class": 0,
          "dim1": 3.084437608718872,
          "dim2": 3.275069236755371
         },
         {
          "class": 0,
          "dim1": -1.5245904922485352,
          "dim2": 2.228541374206543
         },
         {
          "class": 0,
          "dim1": 0.908809244632721,
          "dim2": -0.878913938999176
         },
         {
          "class": 0,
          "dim1": 1.9452247619628906,
          "dim2": 1.036441445350647
         },
         {
          "class": 0,
          "dim1": 4.573338031768799,
          "dim2": 4.987147808074951
         },
         {
          "class": 1,
          "dim1": 3.968599319458008,
          "dim2": -12.654656410217285
         },
         {
          "class": 0,
          "dim1": 3.749384641647339,
          "dim2": 5.316512584686279
         },
         {
          "class": 0,
          "dim1": 7.7183380126953125,
          "dim2": 5.131241798400879
         },
         {
          "class": 3,
          "dim1": -10.434356689453125,
          "dim2": 0.45889630913734436
         },
         {
          "class": 0,
          "dim1": -4.5086894035339355,
          "dim2": -1.7693394422531128
         },
         {
          "class": 0,
          "dim1": 4.6352314949035645,
          "dim2": 1.3602112531661987
         },
         {
          "class": 0,
          "dim1": 2.9638078212738037,
          "dim2": 4.83793830871582
         },
         {
          "class": 2,
          "dim1": -3.242797613143921,
          "dim2": -6.441298484802246
         },
         {
          "class": 3,
          "dim1": -12.863256454467773,
          "dim2": -1.6291779279708862
         },
         {
          "class": 3,
          "dim1": -12.769875526428223,
          "dim2": -0.5144740343093872
         },
         {
          "class": 0,
          "dim1": -2.0012781620025635,
          "dim2": -0.8969143033027649
         },
         {
          "class": 0,
          "dim1": -3.4516968727111816,
          "dim2": -1.7354224920272827
         },
         {
          "class": 0,
          "dim1": 4.424417495727539,
          "dim2": 0.44256240129470825
         },
         {
          "class": 3,
          "dim1": -11.521448135375977,
          "dim2": -0.054082240909338
         },
         {
          "class": 3,
          "dim1": -10.812516212463379,
          "dim2": -2.799713611602783
         },
         {
          "class": 2,
          "dim1": -2.4240469932556152,
          "dim2": -7.47008752822876
         },
         {
          "class": 2,
          "dim1": -3.1195502281188965,
          "dim2": 7.036553859710693
         },
         {
          "class": 0,
          "dim1": -2.2897443771362305,
          "dim2": -0.8210538029670715
         },
         {
          "class": 0,
          "dim1": 0.788093090057373,
          "dim2": 4.265120506286621
         },
         {
          "class": 1,
          "dim1": 3.3432860374450684,
          "dim2": -12.902358055114746
         },
         {
          "class": 2,
          "dim1": -1.7595937252044678,
          "dim2": -8.270820617675781
         },
         {
          "class": 0,
          "dim1": 4.230621814727783,
          "dim2": 3.6917734146118164
         },
         {
          "class": 2,
          "dim1": 7.689670085906982,
          "dim2": -5.092190742492676
         },
         {
          "class": 3,
          "dim1": -12.648675918579102,
          "dim2": -2.7821526527404785
         },
         {
          "class": 0,
          "dim1": 8.540802955627441,
          "dim2": 5.69521427154541
         },
         {
          "class": 1,
          "dim1": -3.9796648025512695,
          "dim2": 11.73721981048584
         },
         {
          "class": 0,
          "dim1": 2.7721469402313232,
          "dim2": 0.3138057291507721
         },
         {
          "class": 1,
          "dim1": -3.607529401779175,
          "dim2": 11.549539566040039
         },
         {
          "class": 2,
          "dim1": 6.752445220947266,
          "dim2": -5.825660228729248
         },
         {
          "class": 0,
          "dim1": -2.738243579864502,
          "dim2": -0.2211853265762329
         },
         {
          "class": 1,
          "dim1": 1.7125569581985474,
          "dim2": -12.388861656188965
         },
         {
          "class": 2,
          "dim1": -3.550119400024414,
          "dim2": -7.3449811935424805
         },
         {
          "class": 0,
          "dim1": 0.18310028314590454,
          "dim2": -0.8975191116333008
         },
         {
          "class": 0,
          "dim1": 7.736258029937744,
          "dim2": 5.757039546966553
         },
         {
          "class": 0,
          "dim1": -1.9499380588531494,
          "dim2": -0.8447490334510803
         },
         {
          "class": 0,
          "dim1": 8.024520874023438,
          "dim2": 6.282320499420166
         },
         {
          "class": 3,
          "dim1": -11.8531494140625,
          "dim2": -2.7779552936553955
         },
         {
          "class": 3,
          "dim1": -11.985757827758789,
          "dim2": -0.5420466065406799
         },
         {
          "class": 0,
          "dim1": 2.1753199100494385,
          "dim2": 3.5159027576446533
         },
         {
          "class": 0,
          "dim1": 6.711521625518799,
          "dim2": 4.33639669418335
         },
         {
          "class": 3,
          "dim1": -11.6875581741333,
          "dim2": -0.6494969129562378
         },
         {
          "class": 2,
          "dim1": -2.8304693698883057,
          "dim2": -7.707505702972412
         },
         {
          "class": 0,
          "dim1": 6.342426300048828,
          "dim2": 4.898984909057617
         },
         {
          "class": 3,
          "dim1": -10.611907005310059,
          "dim2": -0.20829227566719055
         },
         {
          "class": 0,
          "dim1": 2.4866278171539307,
          "dim2": 3.8812026977539062
         },
         {
          "class": 0,
          "dim1": -1.528165578842163,
          "dim2": 2.1815102100372314
         },
         {
          "class": 0,
          "dim1": 6.299065113067627,
          "dim2": 5.083109378814697
         },
         {
          "class": 0,
          "dim1": 3.4501585960388184,
          "dim2": 2.8087680339813232
         },
         {
          "class": 3,
          "dim1": -12.349520683288574,
          "dim2": -3.2410035133361816
         },
         {
          "class": 0,
          "dim1": 7.476651668548584,
          "dim2": 2.638671636581421
         },
         {
          "class": 1,
          "dim1": 4.021455764770508,
          "dim2": -13.059940338134766
         },
         {
          "class": 2,
          "dim1": -1.3654532432556152,
          "dim2": -8.272418975830078
         },
         {
          "class": 2,
          "dim1": -1.6099952459335327,
          "dim2": -8.245113372802734
         },
         {
          "class": 0,
          "dim1": 8.016860008239746,
          "dim2": 5.468138217926025
         },
         {
          "class": 0,
          "dim1": 0.5179856419563293,
          "dim2": 1.5625044107437134
         },
         {
          "class": 0,
          "dim1": 7.603323459625244,
          "dim2": 3.021723508834839
         },
         {
          "class": 0,
          "dim1": 5.4367995262146,
          "dim2": 0.7462266087532043
         },
         {
          "class": 0,
          "dim1": -1.3865512609481812,
          "dim2": 2.006127119064331
         },
         {
          "class": 0,
          "dim1": 5.962353706359863,
          "dim2": 4.848485946655273
         },
         {
          "class": 0,
          "dim1": 4.564459800720215,
          "dim2": 0.9056902527809143
         },
         {
          "class": 0,
          "dim1": 1.7593134641647339,
          "dim2": 2.6749536991119385
         },
         {
          "class": 3,
          "dim1": -13.355374336242676,
          "dim2": -2.3632757663726807
         },
         {
          "class": 1,
          "dim1": 2.559619426727295,
          "dim2": -1.0545153617858887
         },
         {
          "class": 3,
          "dim1": -11.29973030090332,
          "dim2": -3.271243095397949
         },
         {
          "class": 3,
          "dim1": -11.4595365524292,
          "dim2": 0.6614400744438171
         },
         {
          "class": 3,
          "dim1": -13.084464073181152,
          "dim2": -1.1018483638763428
         },
         {
          "class": 3,
          "dim1": -12.070077896118164,
          "dim2": -1.2540135383605957
         },
         {
          "class": 0,
          "dim1": 3.435878038406372,
          "dim2": 3.444157838821411
         },
         {
          "class": 0,
          "dim1": 7.856363773345947,
          "dim2": 3.7266342639923096
         },
         {
          "class": 3,
          "dim1": -12.02273178100586,
          "dim2": 0.3125206530094147
         },
         {
          "class": 0,
          "dim1": 5.578155994415283,
          "dim2": 1.4898076057434082
         },
         {
          "class": 0,
          "dim1": 3.2052459716796875,
          "dim2": -0.17064735293388367
         },
         {
          "class": 0,
          "dim1": 2.2790777683258057,
          "dim2": 3.5626978874206543
         },
         {
          "class": 2,
          "dim1": -7.146866798400879,
          "dim2": 7.200240135192871
         },
         {
          "class": 2,
          "dim1": 7.724991321563721,
          "dim2": -5.380853176116943
         },
         {
          "class": 3,
          "dim1": -12.295007705688477,
          "dim2": -1.794968843460083
         },
         {
          "class": 3,
          "dim1": -11.138345718383789,
          "dim2": 0.2424193173646927
         },
         {
          "class": 0,
          "dim1": 2.62214732170105,
          "dim2": 1.0869401693344116
         },
         {
          "class": 0,
          "dim1": 8.484756469726562,
          "dim2": 5.415369510650635
         },
         {
          "class": 0,
          "dim1": -0.3199402689933777,
          "dim2": -0.47628265619277954
         },
         {
          "class": 3,
          "dim1": -12.03150749206543,
          "dim2": -3.7820377349853516
         },
         {
          "class": 0,
          "dim1": -4.046444892883301,
          "dim2": -2.433026075363159
         },
         {
          "class": 0,
          "dim1": 1.684846043586731,
          "dim2": 1.066697597503662
         },
         {
          "class": 3,
          "dim1": -10.738923072814941,
          "dim2": -3.460477828979492
         },
         {
          "class": 0,
          "dim1": 3.430530309677124,
          "dim2": 1.9345811605453491
         },
         {
          "class": 0,
          "dim1": 6.422532081604004,
          "dim2": 2.778871536254883
         },
         {
          "class": 0,
          "dim1": -1.6129201650619507,
          "dim2": 2.275399684906006
         },
         {
          "class": 1,
          "dim1": -2.8199808597564697,
          "dim2": 11.318090438842773
         },
         {
          "class": 0,
          "dim1": 3.965034008026123,
          "dim2": -0.23500321805477142
         },
         {
          "class": 2,
          "dim1": 7.718747615814209,
          "dim2": -5.197700023651123
         },
         {
          "class": 0,
          "dim1": 4.857494831085205,
          "dim2": 0.9301548600196838
         },
         {
          "class": 0,
          "dim1": 0.3885636329650879,
          "dim2": 2.305757522583008
         },
         {
          "class": 0,
          "dim1": -4.093055725097656,
          "dim2": -1.9757895469665527
         },
         {
          "class": 0,
          "dim1": -1.6481989622116089,
          "dim2": -1.3697646856307983
         },
         {
          "class": 0,
          "dim1": -1.8303402662277222,
          "dim2": 1.497110366821289
         },
         {
          "class": 0,
          "dim1": 0.5023562908172607,
          "dim2": 2.298182249069214
         },
         {
          "class": 3,
          "dim1": -10.069046974182129,
          "dim2": 0.7044517993927002
         },
         {
          "class": 0,
          "dim1": 5.8807692527771,
          "dim2": 2.4806525707244873
         },
         {
          "class": 0,
          "dim1": 1.952345609664917,
          "dim2": 0.6034848690032959
         },
         {
          "class": 2,
          "dim1": -2.6497857570648193,
          "dim2": -7.537024974822998
         },
         {
          "class": 0,
          "dim1": 7.344069480895996,
          "dim2": 2.5306203365325928
         },
         {
          "class": 2,
          "dim1": 6.156712532043457,
          "dim2": -7.033057689666748
         },
         {
          "class": 0,
          "dim1": -1.2594059705734253,
          "dim2": 2.1458752155303955
         },
         {
          "class": 3,
          "dim1": -11.61938762664795,
          "dim2": 0.03908195719122887
         },
         {
          "class": 1,
          "dim1": 1.9341042041778564,
          "dim2": -12.855441093444824
         },
         {
          "class": 0,
          "dim1": 6.407473564147949,
          "dim2": 5.366687774658203
         },
         {
          "class": 0,
          "dim1": 0.17813526093959808,
          "dim2": 2.650043487548828
         },
         {
          "class": 0,
          "dim1": 7.31374454498291,
          "dim2": 4.465213775634766
         },
         {
          "class": 0,
          "dim1": 4.718560218811035,
          "dim2": 3.261543035507202
         },
         {
          "class": 2,
          "dim1": -7.2491583824157715,
          "dim2": 7.224665641784668
         },
         {
          "class": 0,
          "dim1": 8.505306243896484,
          "dim2": 5.553464889526367
         },
         {
          "class": 2,
          "dim1": -0.9903618693351746,
          "dim2": 1.4169191122055054
         },
         {
          "class": 1,
          "dim1": -3.631753444671631,
          "dim2": 11.617274284362793
         },
         {
          "class": 0,
          "dim1": 1.1672852039337158,
          "dim2": 1.6255184412002563
         },
         {
          "class": 1,
          "dim1": -2.484687328338623,
          "dim2": 9.838369369506836
         },
         {
          "class": 0,
          "dim1": 3.9076781272888184,
          "dim2": 1.561881422996521
         },
         {
          "class": 0,
          "dim1": -1.4080407619476318,
          "dim2": 1.5126889944076538
         },
         {
          "class": 3,
          "dim1": -12.766438484191895,
          "dim2": -2.00287127494812
         },
         {
          "class": 1,
          "dim1": -2.2015938758850098,
          "dim2": 11.03321361541748
         },
         {
          "class": 1,
          "dim1": -2.6511144638061523,
          "dim2": 11.143725395202637
         },
         {
          "class": 0,
          "dim1": 1.2595309019088745,
          "dim2": 1.5129495859146118
         },
         {
          "class": 1,
          "dim1": 0.8161986470222473,
          "dim2": -11.793819427490234
         },
         {
          "class": 2,
          "dim1": -6.903633117675781,
          "dim2": 6.5320820808410645
         },
         {
          "class": 0,
          "dim1": 7.2993388175964355,
          "dim2": 5.228643417358398
         },
         {
          "class": 1,
          "dim1": 2.3203163146972656,
          "dim2": -12.698418617248535
         },
         {
          "class": 3,
          "dim1": -12.874855995178223,
          "dim2": -1.4203500747680664
         },
         {
          "class": 0,
          "dim1": 5.273098468780518,
          "dim2": 3.8538949489593506
         },
         {
          "class": 3,
          "dim1": -11.687657356262207,
          "dim2": 0.45496153831481934
         },
         {
          "class": 0,
          "dim1": -2.1806485652923584,
          "dim2": 2.0301637649536133
         },
         {
          "class": 1,
          "dim1": -0.6313453912734985,
          "dim2": -3.360086679458618
         },
         {
          "class": 3,
          "dim1": -12.598797798156738,
          "dim2": 0.11594989150762558
         },
         {
          "class": 2,
          "dim1": 5.785078048706055,
          "dim2": -7.04183292388916
         },
         {
          "class": 2,
          "dim1": -2.5862839221954346,
          "dim2": 6.77204704284668
         },
         {
          "class": 1,
          "dim1": 2.6997463703155518,
          "dim2": -12.421981811523438
         },
         {
          "class": 3,
          "dim1": -11.241931915283203,
          "dim2": 0.39016738533973694
         },
         {
          "class": 0,
          "dim1": 1.9109306335449219,
          "dim2": 1.3765166997909546
         },
         {
          "class": 1,
          "dim1": 1.3129260540008545,
          "dim2": -11.536712646484375
         },
         {
          "class": 3,
          "dim1": -12.344066619873047,
          "dim2": -0.7700286507606506
         },
         {
          "class": 3,
          "dim1": -4.665988445281982,
          "dim2": -0.2526863217353821
         },
         {
          "class": 0,
          "dim1": -2.640302896499634,
          "dim2": 1.6098893880844116
         },
         {
          "class": 3,
          "dim1": -11.542006492614746,
          "dim2": -0.7999637126922607
         },
         {
          "class": 0,
          "dim1": 4.024712085723877,
          "dim2": 3.454602003097534
         },
         {
          "class": 0,
          "dim1": 6.999940872192383,
          "dim2": 4.061718940734863
         },
         {
          "class": 0,
          "dim1": -2.017084836959839,
          "dim2": 2.114170789718628
         },
         {
          "class": 0,
          "dim1": 1.2279953956604004,
          "dim2": 2.0658719539642334
         },
         {
          "class": 0,
          "dim1": -1.9187934398651123,
          "dim2": -1.0029710531234741
         },
         {
          "class": 2,
          "dim1": -6.986105918884277,
          "dim2": 7.756503582000732
         },
         {
          "class": 2,
          "dim1": -2.397982597351074,
          "dim2": -7.730782508850098
         },
         {
          "class": 0,
          "dim1": -0.03575300797820091,
          "dim2": 0.11117386817932129
         },
         {
          "class": 3,
          "dim1": -10.6817045211792,
          "dim2": -3.498293876647949
         },
         {
          "class": 3,
          "dim1": -12.227290153503418,
          "dim2": -3.5021185874938965
         },
         {
          "class": 2,
          "dim1": -3.0252597332000732,
          "dim2": 7.283438205718994
         },
         {
          "class": 3,
          "dim1": -12.861647605895996,
          "dim2": -1.350051999092102
         },
         {
          "class": 3,
          "dim1": -12.633138656616211,
          "dim2": -2.770334482192993
         },
         {
          "class": 0,
          "dim1": 8.551254272460938,
          "dim2": 4.355918884277344
         },
         {
          "class": 1,
          "dim1": -2.460096836090088,
          "dim2": 11.06045913696289
         },
         {
          "class": 0,
          "dim1": 5.8287577629089355,
          "dim2": 1.7979846000671387
         },
         {
          "class": 1,
          "dim1": 3.0480964183807373,
          "dim2": -13.113431930541992
         },
         {
          "class": 0,
          "dim1": 2.213897943496704,
          "dim2": 2.582841157913208
         },
         {
          "class": 2,
          "dim1": -2.2350363731384277,
          "dim2": 6.665196418762207
         },
         {
          "class": 0,
          "dim1": 1.2056082487106323,
          "dim2": -0.1681278645992279
         },
         {
          "class": 2,
          "dim1": -7.020730972290039,
          "dim2": 7.550490856170654
         },
         {
          "class": 0,
          "dim1": -0.8017930388450623,
          "dim2": -1.45694899559021
         },
         {
          "class": 2,
          "dim1": -6.270124912261963,
          "dim2": 8.263605117797852
         },
         {
          "class": 0,
          "dim1": -1.1944719552993774,
          "dim2": -0.15954436361789703
         },
         {
          "class": 0,
          "dim1": 5.369601249694824,
          "dim2": 2.401221990585327
         },
         {
          "class": 0,
          "dim1": -1.6065621376037598,
          "dim2": -1.6983855962753296
         },
         {
          "class": 0,
          "dim1": 5.679726600646973,
          "dim2": 2.888017416000366
         },
         {
          "class": 0,
          "dim1": 2.295926094055176,
          "dim2": -1.6084779500961304
         },
         {
          "class": 0,
          "dim1": 4.611021995544434,
          "dim2": 2.1645679473876953
         },
         {
          "class": 0,
          "dim1": 3.962437152862549,
          "dim2": 3.8982715606689453
         },
         {
          "class": 0,
          "dim1": 2.8809385299682617,
          "dim2": 0.07653934508562088
         },
         {
          "class": 3,
          "dim1": -11.593061447143555,
          "dim2": 0.620872974395752
         },
         {
          "class": 0,
          "dim1": 1.1264586448669434,
          "dim2": 2.815058708190918
         },
         {
          "class": 3,
          "dim1": -12.817622184753418,
          "dim2": -0.29776251316070557
         },
         {
          "class": 1,
          "dim1": 2.812044382095337,
          "dim2": -12.37271785736084
         },
         {
          "class": 1,
          "dim1": 4.585782051086426,
          "dim2": -11.846348762512207
         },
         {
          "class": 1,
          "dim1": -2.9474892616271973,
          "dim2": 11.559164047241211
         },
         {
          "class": 0,
          "dim1": 6.19911003112793,
          "dim2": 4.6507568359375
         },
         {
          "class": 0,
          "dim1": 8.066193580627441,
          "dim2": 5.605201721191406
         },
         {
          "class": 0,
          "dim1": 3.056121826171875,
          "dim2": 4.377920627593994
         },
         {
          "class": 2,
          "dim1": 7.136061191558838,
          "dim2": -5.105737209320068
         },
         {
          "class": 0,
          "dim1": 4.754299640655518,
          "dim2": 0.18601985275745392
         },
         {
          "class": 0,
          "dim1": 2.178199529647827,
          "dim2": 2.8559348583221436
         },
         {
          "class": 1,
          "dim1": -2.615865468978882,
          "dim2": 11.654072761535645
         },
         {
          "class": 0,
          "dim1": 8.544327735900879,
          "dim2": 3.0024399757385254
         },
         {
          "class": 2,
          "dim1": -2.537226438522339,
          "dim2": 6.91804313659668
         },
         {
          "class": 0,
          "dim1": 5.221930503845215,
          "dim2": 1.2015570402145386
         },
         {
          "class": 0,
          "dim1": -0.16416266560554504,
          "dim2": 1.3864308595657349
         },
         {
          "class": 1,
          "dim1": 1.6782711744308472,
          "dim2": -13.019335746765137
         },
         {
          "class": 1,
          "dim1": -1.7976411581039429,
          "dim2": -1.92145574092865
         },
         {
          "class": 0,
          "dim1": 5.792708873748779,
          "dim2": 1.0685834884643555
         },
         {
          "class": 2,
          "dim1": -2.7751142978668213,
          "dim2": -7.769741058349609
         },
         {
          "class": 0,
          "dim1": 0.608495831489563,
          "dim2": 0.18906280398368835
         },
         {
          "class": 1,
          "dim1": -3.910625696182251,
          "dim2": 11.82079792022705
         },
         {
          "class": 0,
          "dim1": 0.19222688674926758,
          "dim2": 1.039574146270752
         },
         {
          "class": 0,
          "dim1": 2.6985645294189453,
          "dim2": 2.6712124347686768
         },
         {
          "class": 2,
          "dim1": 7.913577556610107,
          "dim2": -5.76054048538208
         },
         {
          "class": 0,
          "dim1": 1.9358313083648682,
          "dim2": -0.4893864691257477
         },
         {
          "class": 2,
          "dim1": 7.420426845550537,
          "dim2": -5.809552192687988
         },
         {
          "class": 2,
          "dim1": -3.2200281620025635,
          "dim2": 7.570279598236084
         },
         {
          "class": 2,
          "dim1": -6.900308609008789,
          "dim2": 7.82174825668335
         },
         {
          "class": 0,
          "dim1": 6.213945388793945,
          "dim2": 1.3246561288833618
         },
         {
          "class": 3,
          "dim1": -12.978475570678711,
          "dim2": -1.4735256433486938
         },
         {
          "class": 0,
          "dim1": -0.1670052409172058,
          "dim2": 3.382171630859375
         },
         {
          "class": 1,
          "dim1": 1.8135417699813843,
          "dim2": -13.3002290725708
         },
         {
          "class": 0,
          "dim1": 6.380931377410889,
          "dim2": 1.1641101837158203
         },
         {
          "class": 0,
          "dim1": 3.4027867317199707,
          "dim2": 1.327884554862976
         },
         {
          "class": 0,
          "dim1": -2.3004539012908936,
          "dim2": -1.2246145009994507
         },
         {
          "class": 2,
          "dim1": 7.809564590454102,
          "dim2": -5.914862632751465
         },
         {
          "class": 0,
          "dim1": 2.983612060546875,
          "dim2": 3.1818618774414062
         },
         {
          "class": 0,
          "dim1": -2.093005657196045,
          "dim2": 1.4443490505218506
         },
         {
          "class": 0,
          "dim1": 1.2039704322814941,
          "dim2": 0.2403988391160965
         },
         {
          "class": 0,
          "dim1": 3.3292531967163086,
          "dim2": 1.3989620208740234
         },
         {
          "class": 0,
          "dim1": 1.6332484483718872,
          "dim2": 2.2172577381134033
         },
         {
          "class": 3,
          "dim1": -10.39358139038086,
          "dim2": 0.6483120918273926
         },
         {
          "class": 0,
          "dim1": 7.3883376121521,
          "dim2": 3.9743573665618896
         },
         {
          "class": 2,
          "dim1": -0.8832221031188965,
          "dim2": -0.03547045961022377
         },
         {
          "class": 0,
          "dim1": 5.153481960296631,
          "dim2": 2.766650676727295
         },
         {
          "class": 1,
          "dim1": 2.863797187805176,
          "dim2": -13.456117630004883
         },
         {
          "class": 0,
          "dim1": 2.2284295558929443,
          "dim2": 1.9590914249420166
         },
         {
          "class": 2,
          "dim1": 6.366691589355469,
          "dim2": -6.674556255340576
         },
         {
          "class": 0,
          "dim1": 3.251110553741455,
          "dim2": 3.5409138202667236
         },
         {
          "class": 3,
          "dim1": -11.797162055969238,
          "dim2": -2.351254463195801
         },
         {
          "class": 2,
          "dim1": 7.670478343963623,
          "dim2": -5.927637577056885
         },
         {
          "class": 3,
          "dim1": -10.320415496826172,
          "dim2": -3.3188676834106445
         },
         {
          "class": 3,
          "dim1": -11.761917114257812,
          "dim2": -2.2247085571289062
         },
         {
          "class": 0,
          "dim1": 3.1519155502319336,
          "dim2": -0.11864325404167175
         },
         {
          "class": 0,
          "dim1": 2.914766311645508,
          "dim2": 2.945192337036133
         },
         {
          "class": 0,
          "dim1": -2.33713436126709,
          "dim2": 0.40328675508499146
         },
         {
          "class": 0,
          "dim1": 7.26815938949585,
          "dim2": 3.74786376953125
         },
         {
          "class": 0,
          "dim1": 6.803185939788818,
          "dim2": 4.668196678161621
         },
         {
          "class": 3,
          "dim1": -12.535743713378906,
          "dim2": -2.9220402240753174
         },
         {
          "class": 1,
          "dim1": 3.2874276638031006,
          "dim2": -12.841938018798828
         },
         {
          "class": 0,
          "dim1": -3.977644443511963,
          "dim2": -2.13517427444458
         },
         {
          "class": 0,
          "dim1": 7.2950215339660645,
          "dim2": 5.691110134124756
         },
         {
          "class": 0,
          "dim1": -2.324748992919922,
          "dim2": -0.39532342553138733
         },
         {
          "class": 3,
          "dim1": -10.219965934753418,
          "dim2": 0.7880927920341492
         },
         {
          "class": 1,
          "dim1": 3.6080708503723145,
          "dim2": -13.125510215759277
         },
         {
          "class": 1,
          "dim1": 0.9338473081588745,
          "dim2": -12.37556266784668
         },
         {
          "class": 0,
          "dim1": -2.735504150390625,
          "dim2": 0.6338011026382446
         },
         {
          "class": 0,
          "dim1": -1.5577569007873535,
          "dim2": -0.832135796546936
         },
         {
          "class": 2,
          "dim1": -1.957940936088562,
          "dim2": -8.055412292480469
         },
         {
          "class": 2,
          "dim1": 6.4254469871521,
          "dim2": -6.9259467124938965
         },
         {
          "class": 1,
          "dim1": 2.7409961223602295,
          "dim2": -12.191078186035156
         },
         {
          "class": 1,
          "dim1": -3.3841397762298584,
          "dim2": 11.838541984558105
         },
         {
          "class": 0,
          "dim1": 5.614778518676758,
          "dim2": 1.5404571294784546
         },
         {
          "class": 0,
          "dim1": 7.3664703369140625,
          "dim2": -4.79774808883667
         },
         {
          "class": 2,
          "dim1": -2.9038846492767334,
          "dim2": -7.88470983505249
         },
         {
          "class": 0,
          "dim1": 4.0679216384887695,
          "dim2": 0.25770077109336853
         },
         {
          "class": 3,
          "dim1": -12.679168701171875,
          "dim2": -0.9971532821655273
         },
         {
          "class": 0,
          "dim1": 7.274070739746094,
          "dim2": 2.559830665588379
         },
         {
          "class": 0,
          "dim1": 0.09870896488428116,
          "dim2": 1.9247742891311646
         },
         {
          "class": 0,
          "dim1": 1.9289777278900146,
          "dim2": -0.31075653433799744
         },
         {
          "class": 2,
          "dim1": -2.914095878601074,
          "dim2": 7.127211570739746
         },
         {
          "class": 2,
          "dim1": -6.9235615730285645,
          "dim2": 7.597303867340088
         },
         {
          "class": 0,
          "dim1": 4.599117755889893,
          "dim2": 4.458869934082031
         },
         {
          "class": 0,
          "dim1": 3.471121311187744,
          "dim2": 0.6279374957084656
         },
         {
          "class": 3,
          "dim1": -12.893829345703125,
          "dim2": -1.6296697854995728
         },
         {
          "class": 0,
          "dim1": 6.79804801940918,
          "dim2": 6.155959606170654
         },
         {
          "class": 1,
          "dim1": 1.8711494207382202,
          "dim2": -12.893172264099121
         },
         {
          "class": 0,
          "dim1": -2.576556921005249,
          "dim2": -0.8356286287307739
         },
         {
          "class": 0,
          "dim1": 1.16573965549469,
          "dim2": 1.3101532459259033
         },
         {
          "class": 3,
          "dim1": -11.347757339477539,
          "dim2": -2.900308132171631
         },
         {
          "class": 0,
          "dim1": 8.418485641479492,
          "dim2": 5.178635597229004
         },
         {
          "class": 1,
          "dim1": -2.2788877487182617,
          "dim2": 11.146793365478516
         },
         {
          "class": 0,
          "dim1": 1.9371072053909302,
          "dim2": 1.491637945175171
         },
         {
          "class": 2,
          "dim1": 8.001976013183594,
          "dim2": -5.49166202545166
         },
         {
          "class": 2,
          "dim1": 6.098034858703613,
          "dim2": -6.515480041503906
         },
         {
          "class": 0,
          "dim1": -0.5313090682029724,
          "dim2": 1.8851836919784546
         },
         {
          "class": 0,
          "dim1": 4.223043441772461,
          "dim2": 2.8371036052703857
         },
         {
          "class": 0,
          "dim1": 6.563197135925293,
          "dim2": 4.301857948303223
         },
         {
          "class": 0,
          "dim1": -1.3334828615188599,
          "dim2": -0.7362130880355835
         },
         {
          "class": 0,
          "dim1": -2.7080986499786377,
          "dim2": 1.1287541389465332
         },
         {
          "class": 0,
          "dim1": 6.128402233123779,
          "dim2": 0.8980793952941895
         },
         {
          "class": 0,
          "dim1": -1.5114738941192627,
          "dim2": 0.6298108100891113
         },
         {
          "class": 0,
          "dim1": 2.178276300430298,
          "dim2": 1.884164810180664
         },
         {
          "class": 0,
          "dim1": 3.734395980834961,
          "dim2": 0.7643852829933167
         },
         {
          "class": 1,
          "dim1": -3.8117315769195557,
          "dim2": 11.630091667175293
         },
         {
          "class": 1,
          "dim1": 1.8797016143798828,
          "dim2": -12.82105541229248
         },
         {
          "class": 2,
          "dim1": 5.700090408325195,
          "dim2": -6.761989593505859
         },
         {
          "class": 2,
          "dim1": 6.846358776092529,
          "dim2": -6.918914794921875
         },
         {
          "class": 2,
          "dim1": -2.1761388778686523,
          "dim2": -8.15550708770752
         },
         {
          "class": 2,
          "dim1": -6.998280048370361,
          "dim2": 7.743013858795166
         },
         {
          "class": 0,
          "dim1": 0.2775670886039734,
          "dim2": 2.7880947589874268
         },
         {
          "class": 0,
          "dim1": -0.4000021815299988,
          "dim2": 0.11981938034296036
         },
         {
          "class": 1,
          "dim1": 0.8963953852653503,
          "dim2": -12.207101821899414
         },
         {
          "class": 1,
          "dim1": -2.836162805557251,
          "dim2": 11.485608100891113
         },
         {
          "class": 0,
          "dim1": -1.6745848655700684,
          "dim2": -0.8492702841758728
         },
         {
          "class": 0,
          "dim1": 5.649585723876953,
          "dim2": 3.1827564239501953
         },
         {
          "class": 0,
          "dim1": 4.230842590332031,
          "dim2": 5.246376991271973
         },
         {
          "class": 2,
          "dim1": -2.4162566661834717,
          "dim2": -7.447331428527832
         },
         {
          "class": 1,
          "dim1": -2.5884814262390137,
          "dim2": 11.29846477508545
         },
         {
          "class": 0,
          "dim1": 0.32708868384361267,
          "dim2": -0.605850100517273
         },
         {
          "class": 0,
          "dim1": 7.029965400695801,
          "dim2": 4.132718086242676
         },
         {
          "class": 1,
          "dim1": 1.2357193231582642,
          "dim2": -11.509071350097656
         },
         {
          "class": 0,
          "dim1": 3.3239004611968994,
          "dim2": 4.330538272857666
         },
         {
          "class": 0,
          "dim1": 1.2033238410949707,
          "dim2": 0.4515284299850464
         },
         {
          "class": 3,
          "dim1": -11.475750923156738,
          "dim2": -0.669416069984436
         },
         {
          "class": 2,
          "dim1": 6.529530048370361,
          "dim2": -7.131901264190674
         },
         {
          "class": 3,
          "dim1": -11.453385353088379,
          "dim2": -3.84887433052063
         },
         {
          "class": 0,
          "dim1": 5.252227306365967,
          "dim2": 3.506915807723999
         },
         {
          "class": 2,
          "dim1": -2.685746192932129,
          "dim2": 6.894319534301758
         },
         {
          "class": 0,
          "dim1": 5.84785270690918,
          "dim2": 4.718766689300537
         },
         {
          "class": 0,
          "dim1": 5.66959810256958,
          "dim2": 4.399683952331543
         },
         {
          "class": 0,
          "dim1": 4.174810886383057,
          "dim2": 3.3099961280822754
         },
         {
          "class": 0,
          "dim1": 3.5994627475738525,
          "dim2": 0.42192062735557556
         },
         {
          "class": 3,
          "dim1": -11.612508773803711,
          "dim2": -0.3753602206707001
         },
         {
          "class": 0,
          "dim1": -3.245640277862549,
          "dim2": -0.44774433970451355
         },
         {
          "class": 0,
          "dim1": 0.905953049659729,
          "dim2": 2.388181447982788
         },
         {
          "class": 1,
          "dim1": 4.190358638763428,
          "dim2": -0.472155898809433
         },
         {
          "class": 3,
          "dim1": -12.517422676086426,
          "dim2": -2.2290589809417725
         },
         {
          "class": 0,
          "dim1": 6.64813756942749,
          "dim2": 2.811124324798584
         },
         {
          "class": 0,
          "dim1": 7.344878673553467,
          "dim2": 3.4440956115722656
         },
         {
          "class": 1,
          "dim1": -2.5586159229278564,
          "dim2": 11.57565689086914
         },
         {
          "class": 0,
          "dim1": 3.877201557159424,
          "dim2": 2.8816351890563965
         },
         {
          "class": 0,
          "dim1": 3.720729112625122,
          "dim2": 0.6421223878860474
         },
         {
          "class": 0,
          "dim1": 1.572981834411621,
          "dim2": 3.1144397258758545
         },
         {
          "class": 1,
          "dim1": 3.2308461666107178,
          "dim2": -12.418500900268555
         },
         {
          "class": 2,
          "dim1": -2.3698792457580566,
          "dim2": -7.481867790222168
         },
         {
          "class": 2,
          "dim1": -1.2670789957046509,
          "dim2": -7.905604362487793
         },
         {
          "class": 3,
          "dim1": -12.477879524230957,
          "dim2": -1.8163304328918457
         },
         {
          "class": 0,
          "dim1": 7.547279357910156,
          "dim2": 4.20924186706543
         },
         {
          "class": 0,
          "dim1": 3.2743027210235596,
          "dim2": 3.449688673019409
         },
         {
          "class": 0,
          "dim1": 4.059807777404785,
          "dim2": 5.375225067138672
         },
         {
          "class": 1,
          "dim1": 3.9436662197113037,
          "dim2": -13.054347038269043
         },
         {
          "class": 1,
          "dim1": -2.2269203662872314,
          "dim2": 11.173422813415527
         },
         {
          "class": 2,
          "dim1": 7.767082214355469,
          "dim2": -6.134144306182861
         },
         {
          "class": 0,
          "dim1": -3.67633318901062,
          "dim2": -1.5987383127212524
         },
         {
          "class": 3,
          "dim1": -12.905789375305176,
          "dim2": -3.0855369567871094
         },
         {
          "class": 2,
          "dim1": -2.508979082107544,
          "dim2": -7.772993564605713
         },
         {
          "class": 0,
          "dim1": 8.517115592956543,
          "dim2": 5.245364189147949
         },
         {
          "class": 3,
          "dim1": -12.84260368347168,
          "dim2": -2.0845162868499756
         },
         {
          "class": 0,
          "dim1": 6.814083576202393,
          "dim2": 5.136335372924805
         },
         {
          "class": 3,
          "dim1": -12.635730743408203,
          "dim2": -1.8751757144927979
         },
         {
          "class": 0,
          "dim1": -1.9157040119171143,
          "dim2": -0.868242621421814
         },
         {
          "class": 0,
          "dim1": 5.431766033172607,
          "dim2": 4.40757942199707
         },
         {
          "class": 0,
          "dim1": 3.0489916801452637,
          "dim2": 0.9579159021377563
         },
         {
          "class": 3,
          "dim1": -12.118853569030762,
          "dim2": -1.3400232791900635
         },
         {
          "class": 0,
          "dim1": -2.9538233280181885,
          "dim2": -0.6546176075935364
         },
         {
          "class": 0,
          "dim1": 6.016724586486816,
          "dim2": 4.442677021026611
         },
         {
          "class": 0,
          "dim1": 1.6468614339828491,
          "dim2": -0.535273015499115
         },
         {
          "class": 0,
          "dim1": -0.7384092211723328,
          "dim2": 2.4006576538085938
         },
         {
          "class": 3,
          "dim1": -11.247685432434082,
          "dim2": 0.2698925733566284
         },
         {
          "class": 0,
          "dim1": -3.991600513458252,
          "dim2": -1.1810922622680664
         },
         {
          "class": 2,
          "dim1": -3.9735565185546875,
          "dim2": -2.144047975540161
         },
         {
          "class": 0,
          "dim1": -4.518710136413574,
          "dim2": -1.3747458457946777
         },
         {
          "class": 0,
          "dim1": 6.84569787979126,
          "dim2": 5.510408401489258
         },
         {
          "class": 1,
          "dim1": -4.618530750274658,
          "dim2": 11.300326347351074
         },
         {
          "class": 0,
          "dim1": 1.504003882408142,
          "dim2": 2.2607712745666504
         },
         {
          "class": 1,
          "dim1": -3.18068790435791,
          "dim2": 11.872827529907227
         },
         {
          "class": 0,
          "dim1": 2.5952064990997314,
          "dim2": 4.422518730163574
         },
         {
          "class": 1,
          "dim1": 4.750288486480713,
          "dim2": -12.283623695373535
         },
         {
          "class": 0,
          "dim1": 5.704689025878906,
          "dim2": 1.641605257987976
         },
         {
          "class": 0,
          "dim1": 4.015566825866699,
          "dim2": -0.08475185930728912
         },
         {
          "class": 0,
          "dim1": 4.413514137268066,
          "dim2": 2.8566837310791016
         },
         {
          "class": 1,
          "dim1": 3.820629119873047,
          "dim2": -12.632233619689941
         },
         {
          "class": 0,
          "dim1": 0.20401203632354736,
          "dim2": -0.08232663571834564
         },
         {
          "class": 1,
          "dim1": -2.9415361881256104,
          "dim2": 11.325247764587402
         },
         {
          "class": 2,
          "dim1": -3.577420473098755,
          "dim2": -7.437792778015137
         },
         {
          "class": 1,
          "dim1": 1.2649493217468262,
          "dim2": -11.765419960021973
         },
         {
          "class": 0,
          "dim1": 6.786001205444336,
          "dim2": 5.542018890380859
         },
         {
          "class": 0,
          "dim1": -3.794679641723633,
          "dim2": -0.3720014691352844
         },
         {
          "class": 3,
          "dim1": -13.094572067260742,
          "dim2": -2.2822608947753906
         },
         {
          "class": 1,
          "dim1": 4.9233903884887695,
          "dim2": -12.113161087036133
         },
         {
          "class": 0,
          "dim1": 3.359304428100586,
          "dim2": 3.924543857574463
         },
         {
          "class": 0,
          "dim1": -3.3351237773895264,
          "dim2": -0.41664770245552063
         },
         {
          "class": 0,
          "dim1": -0.7788102030754089,
          "dim2": -1.7063169479370117
         },
         {
          "class": 3,
          "dim1": -12.30207347869873,
          "dim2": -1.799678087234497
         },
         {
          "class": 2,
          "dim1": 6.713432312011719,
          "dim2": -6.051568031311035
         },
         {
          "class": 3,
          "dim1": -11.763442993164062,
          "dim2": -2.3276381492614746
         },
         {
          "class": 3,
          "dim1": -13.034863471984863,
          "dim2": -1.0702120065689087
         },
         {
          "class": 0,
          "dim1": 4.182583332061768,
          "dim2": -0.2447696030139923
         },
         {
          "class": 0,
          "dim1": 6.93625020980835,
          "dim2": 4.7927703857421875
         },
         {
          "class": 0,
          "dim1": 0.7795722484588623,
          "dim2": 0.9810661673545837
         },
         {
          "class": 0,
          "dim1": -1.5129508972167969,
          "dim2": 0.6261777877807617
         },
         {
          "class": 1,
          "dim1": 2.8968331813812256,
          "dim2": -13.488799095153809
         },
         {
          "class": 0,
          "dim1": 4.334886074066162,
          "dim2": 3.0784664154052734
         },
         {
          "class": 0,
          "dim1": -2.8928136825561523,
          "dim2": -1.050864815711975
         },
         {
          "class": 3,
          "dim1": -12.388344764709473,
          "dim2": -0.7112632393836975
         },
         {
          "class": 0,
          "dim1": -1.0411274433135986,
          "dim2": -0.6411631107330322
         },
         {
          "class": 0,
          "dim1": -1.9895460605621338,
          "dim2": -0.5393954515457153
         },
         {
          "class": 0,
          "dim1": 7.097448825836182,
          "dim2": 5.189433574676514
         },
         {
          "class": 0,
          "dim1": 0.5468215346336365,
          "dim2": -0.07782083749771118
         },
         {
          "class": 0,
          "dim1": 3.783064126968384,
          "dim2": 1.0724198818206787
         },
         {
          "class": 0,
          "dim1": 7.913155555725098,
          "dim2": 2.583087682723999
         },
         {
          "class": 1,
          "dim1": -4.08079195022583,
          "dim2": 11.661222457885742
         },
         {
          "class": 2,
          "dim1": 6.28248929977417,
          "dim2": -6.534990310668945
         },
         {
          "class": 1,
          "dim1": 0.6641879677772522,
          "dim2": -10.862975120544434
         },
         {
          "class": 3,
          "dim1": -11.862610816955566,
          "dim2": -3.842719554901123
         },
         {
          "class": 0,
          "dim1": 0.7127238512039185,
          "dim2": -0.8159712553024292
         },
         {
          "class": 2,
          "dim1": -1.8943699598312378,
          "dim2": -7.354428291320801
         },
         {
          "class": 2,
          "dim1": -3.4761409759521484,
          "dim2": -7.393764019012451
         },
         {
          "class": 0,
          "dim1": -0.3145018219947815,
          "dim2": 1.42485773563385
         },
         {
          "class": 1,
          "dim1": 2.6267342567443848,
          "dim2": -12.730210304260254
         },
         {
          "class": 0,
          "dim1": 6.547225475311279,
          "dim2": 5.288726806640625
         },
         {
          "class": 3,
          "dim1": -12.453322410583496,
          "dim2": -1.8644487857818604
         },
         {
          "class": 1,
          "dim1": 0.7162275314331055,
          "dim2": -11.101292610168457
         },
         {
          "class": 2,
          "dim1": -3.0607945919036865,
          "dim2": 7.750237941741943
         },
         {
          "class": 0,
          "dim1": -3.9139773845672607,
          "dim2": -0.4150197505950928
         },
         {
          "class": 3,
          "dim1": -11.057930946350098,
          "dim2": -0.9853297472000122
         },
         {
          "class": 2,
          "dim1": -1.927232265472412,
          "dim2": -7.3300275802612305
         },
         {
          "class": 0,
          "dim1": 8.633929252624512,
          "dim2": 3.2177340984344482
         },
         {
          "class": 0,
          "dim1": -3.218360424041748,
          "dim2": -0.9666932225227356
         },
         {
          "class": 0,
          "dim1": 2.17083477973938,
          "dim2": 2.9158730506896973
         },
         {
          "class": 1,
          "dim1": -2.3255250453948975,
          "dim2": 10.563776969909668
         },
         {
          "class": 3,
          "dim1": -11.585063934326172,
          "dim2": -1.7105199098587036
         },
         {
          "class": 2,
          "dim1": 7.520096302032471,
          "dim2": -5.799896240234375
         },
         {
          "class": 3,
          "dim1": -12.069306373596191,
          "dim2": 0.08885572850704193
         },
         {
          "class": 0,
          "dim1": -2.1393744945526123,
          "dim2": -1.8873097896575928
         },
         {
          "class": 3,
          "dim1": -11.133048057556152,
          "dim2": -0.23834143579006195
         },
         {
          "class": 1,
          "dim1": 0.7408294081687927,
          "dim2": -12.160850524902344
         },
         {
          "class": 0,
          "dim1": 3.4969024658203125,
          "dim2": 1.9437381029129028
         },
         {
          "class": 1,
          "dim1": -3.210632801055908,
          "dim2": 12.267982482910156
         },
         {
          "class": 3,
          "dim1": -12.151689529418945,
          "dim2": -3.3866071701049805
         },
         {
          "class": 1,
          "dim1": -3.080954074859619,
          "dim2": 11.793293952941895
         },
         {
          "class": 0,
          "dim1": -0.4155469238758087,
          "dim2": -0.27050280570983887
         },
         {
          "class": 0,
          "dim1": -0.5724879503250122,
          "dim2": 1.8014379739761353
         },
         {
          "class": 2,
          "dim1": -3.529585599899292,
          "dim2": -7.329132080078125
         },
         {
          "class": 0,
          "dim1": -0.38343381881713867,
          "dim2": 2.3680286407470703
         },
         {
          "class": 2,
          "dim1": -2.988326072692871,
          "dim2": -6.52271032333374
         },
         {
          "class": 1,
          "dim1": 2.186840534210205,
          "dim2": -12.349486351013184
         },
         {
          "class": 3,
          "dim1": -12.735851287841797,
          "dim2": -1.7894617319107056
         },
         {
          "class": 1,
          "dim1": 4.117223739624023,
          "dim2": -12.008549690246582
         },
         {
          "class": 0,
          "dim1": 2.3904101848602295,
          "dim2": -1.8554658889770508
         },
         {
          "class": 0,
          "dim1": 7.467248439788818,
          "dim2": 3.9103012084960938
         },
         {
          "class": 3,
          "dim1": -13.23962116241455,
          "dim2": -2.179028272628784
         },
         {
          "class": 0,
          "dim1": 1.4848523139953613,
          "dim2": 3.1855721473693848
         },
         {
          "class": 3,
          "dim1": -10.530330657958984,
          "dim2": -3.575225830078125
         },
         {
          "class": 0,
          "dim1": -3.860222101211548,
          "dim2": -0.7979815006256104
         },
         {
          "class": 3,
          "dim1": -11.820599555969238,
          "dim2": -0.7355168461799622
         },
         {
          "class": 0,
          "dim1": 2.5990352630615234,
          "dim2": 3.7819342613220215
         },
         {
          "class": 0,
          "dim1": -1.4746485948562622,
          "dim2": 2.248788833618164
         },
         {
          "class": 0,
          "dim1": 5.929205894470215,
          "dim2": 3.5121467113494873
         },
         {
          "class": 0,
          "dim1": 5.272095203399658,
          "dim2": 5.217587947845459
         },
         {
          "class": 0,
          "dim1": 3.1122262477874756,
          "dim2": 0.189872607588768
         },
         {
          "class": 0,
          "dim1": 5.96575403213501,
          "dim2": 2.7854838371276855
         },
         {
          "class": 0,
          "dim1": -2.485337495803833,
          "dim2": -0.6458378434181213
         },
         {
          "class": 0,
          "dim1": 3.3425509929656982,
          "dim2": 3.9552226066589355
         },
         {
          "class": 0,
          "dim1": 6.425510406494141,
          "dim2": 3.3676490783691406
         },
         {
          "class": 0,
          "dim1": 4.5790510177612305,
          "dim2": 1.0077890157699585
         },
         {
          "class": 1,
          "dim1": 1.0680714845657349,
          "dim2": -12.15304946899414
         },
         {
          "class": 3,
          "dim1": -11.302252769470215,
          "dim2": -0.1828051507472992
         },
         {
          "class": 3,
          "dim1": -11.254776000976562,
          "dim2": -2.8373970985412598
         },
         {
          "class": 0,
          "dim1": 0.3521020710468292,
          "dim2": 0.08381558954715729
         },
         {
          "class": 0,
          "dim1": 0.7505030035972595,
          "dim2": 0.18933072686195374
         },
         {
          "class": 0,
          "dim1": 6.143483638763428,
          "dim2": 2.303459882736206
         },
         {
          "class": 0,
          "dim1": 3.784743547439575,
          "dim2": 1.5014463663101196
         },
         {
          "class": 0,
          "dim1": 0.3289850354194641,
          "dim2": 0.9550094604492188
         },
         {
          "class": 3,
          "dim1": -10.49906063079834,
          "dim2": 0.7127397656440735
         },
         {
          "class": 0,
          "dim1": -3.0877723693847656,
          "dim2": -1.7195141315460205
         },
         {
          "class": 0,
          "dim1": -0.3503722846508026,
          "dim2": -0.6041701436042786
         },
         {
          "class": 0,
          "dim1": -3.0693392753601074,
          "dim2": -2.231525421142578
         },
         {
          "class": 2,
          "dim1": 3.7337636947631836,
          "dim2": -1.0048819780349731
         },
         {
          "class": 2,
          "dim1": 7.344630241394043,
          "dim2": -6.058698654174805
         },
         {
          "class": 0,
          "dim1": 3.4861254692077637,
          "dim2": 1.17633056640625
         },
         {
          "class": 1,
          "dim1": -2.299252510070801,
          "dim2": 10.817591667175293
         },
         {
          "class": 0,
          "dim1": 1.6182011365890503,
          "dim2": 0.2669731080532074
         },
         {
          "class": 0,
          "dim1": -2.747464418411255,
          "dim2": -1.5922589302062988
         },
         {
          "class": 0,
          "dim1": -0.8389939665794373,
          "dim2": 1.154049038887024
         },
         {
          "class": 2,
          "dim1": -6.92545223236084,
          "dim2": 6.565637111663818
         },
         {
          "class": 2,
          "dim1": 2.494013786315918,
          "dim2": 0.727547287940979
         },
         {
          "class": 2,
          "dim1": -2.442762613296509,
          "dim2": -8.099543571472168
         },
         {
          "class": 3,
          "dim1": -13.046420097351074,
          "dim2": -1.5758134126663208
         },
         {
          "class": 0,
          "dim1": 0.6544773578643799,
          "dim2": 1.9696694612503052
         },
         {
          "class": 0,
          "dim1": 8.154959678649902,
          "dim2": 4.204618453979492
         },
         {
          "class": 0,
          "dim1": 3.7287049293518066,
          "dim2": -0.540825605392456
         },
         {
          "class": 0,
          "dim1": 4.025806427001953,
          "dim2": 3.6583452224731445
         },
         {
          "class": 2,
          "dim1": 6.61598014831543,
          "dim2": -6.692066669464111
         },
         {
          "class": 0,
          "dim1": 2.37105655670166,
          "dim2": 1.8871102333068848
         },
         {
          "class": 0,
          "dim1": 2.693997383117676,
          "dim2": 1.7797796726226807
         },
         {
          "class": 0,
          "dim1": 0.07384182512760162,
          "dim2": -1.022794485092163
         },
         {
          "class": 0,
          "dim1": 4.791340351104736,
          "dim2": 0.9203957915306091
         },
         {
          "class": 3,
          "dim1": -12.519146919250488,
          "dim2": -2.5886425971984863
         },
         {
          "class": 0,
          "dim1": -1.954924464225769,
          "dim2": 0.32341334223747253
         },
         {
          "class": 0,
          "dim1": 1.9343414306640625,
          "dim2": -0.7612109780311584
         },
         {
          "class": 0,
          "dim1": 4.179041385650635,
          "dim2": -0.09967852383852005
         },
         {
          "class": 0,
          "dim1": -3.7834529876708984,
          "dim2": -2.355194568634033
         },
         {
          "class": 2,
          "dim1": -3.1279494762420654,
          "dim2": -6.382949352264404
         },
         {
          "class": 0,
          "dim1": 7.029393672943115,
          "dim2": 6.160702705383301
         },
         {
          "class": 0,
          "dim1": -3.8005530834198,
          "dim2": -1.9470022916793823
         },
         {
          "class": 0,
          "dim1": 6.118679046630859,
          "dim2": 4.092854022979736
         },
         {
          "class": 0,
          "dim1": 3.4894216060638428,
          "dim2": 1.7429816722869873
         },
         {
          "class": 0,
          "dim1": 4.456892490386963,
          "dim2": 1.4143418073654175
         },
         {
          "class": 0,
          "dim1": 4.56982946395874,
          "dim2": 3.2938191890716553
         },
         {
          "class": 0,
          "dim1": 2.7733194828033447,
          "dim2": 0.18213212490081787
         },
         {
          "class": 0,
          "dim1": 1.2751518487930298,
          "dim2": 0.8971056342124939
         },
         {
          "class": 0,
          "dim1": 1.8727320432662964,
          "dim2": -1.3245118856430054
         },
         {
          "class": 0,
          "dim1": 0.12119124084711075,
          "dim2": 2.990684747695923
         },
         {
          "class": 3,
          "dim1": -10.756752967834473,
          "dim2": -3.566133737564087
         },
         {
          "class": 1,
          "dim1": 1.1859784126281738,
          "dim2": -12.182328224182129
         },
         {
          "class": 0,
          "dim1": 0.33229708671569824,
          "dim2": 2.579655408859253
         },
         {
          "class": 2,
          "dim1": -3.5213301181793213,
          "dim2": -7.447587966918945
         },
         {
          "class": 0,
          "dim1": -2.693629026412964,
          "dim2": 0.026994356885552406
         },
         {
          "class": 0,
          "dim1": -0.776616096496582,
          "dim2": 1.2019081115722656
         },
         {
          "class": 3,
          "dim1": -12.412152290344238,
          "dim2": -0.8547548651695251
         },
         {
          "class": 2,
          "dim1": 7.098170757293701,
          "dim2": -5.444465160369873
         },
         {
          "class": 3,
          "dim1": -12.704240798950195,
          "dim2": -1.6274348497390747
         },
         {
          "class": 2,
          "dim1": -2.764639139175415,
          "dim2": -7.351833820343018
         },
         {
          "class": 2,
          "dim1": -2.528959035873413,
          "dim2": -7.37224817276001
         },
         {
          "class": 0,
          "dim1": -2.25930118560791,
          "dim2": 0.12617994844913483
         },
         {
          "class": 3,
          "dim1": -12.677830696105957,
          "dim2": -0.9054713249206543
         },
         {
          "class": 3,
          "dim1": -12.771036148071289,
          "dim2": -1.227051019668579
         },
         {
          "class": 2,
          "dim1": -3.068643808364868,
          "dim2": -7.535478591918945
         },
         {
          "class": 2,
          "dim1": -1.7706869840621948,
          "dim2": -7.387816905975342
         },
         {
          "class": 2,
          "dim1": -2.8638131618499756,
          "dim2": -7.565313339233398
         },
         {
          "class": 0,
          "dim1": 7.163170337677002,
          "dim2": 1.874520182609558
         },
         {
          "class": 0,
          "dim1": 6.2897725105285645,
          "dim2": 3.359133243560791
         },
         {
          "class": 0,
          "dim1": -1.4934108257293701,
          "dim2": 0.6649535894393921
         },
         {
          "class": 0,
          "dim1": 1.5690832138061523,
          "dim2": 3.7478079795837402
         },
         {
          "class": 1,
          "dim1": -4.0027265548706055,
          "dim2": 11.692477226257324
         },
         {
          "class": 0,
          "dim1": 2.5716285705566406,
          "dim2": 4.650132179260254
         },
         {
          "class": 3,
          "dim1": -10.657559394836426,
          "dim2": -3.7275264263153076
         },
         {
          "class": 0,
          "dim1": 5.247628211975098,
          "dim2": 3.111464023590088
         },
         {
          "class": 3,
          "dim1": -12.85637092590332,
          "dim2": -1.697145938873291
         },
         {
          "class": 1,
          "dim1": 1.2633274793624878,
          "dim2": -12.115004539489746
         },
         {
          "class": 1,
          "dim1": 2.7245635986328125,
          "dim2": -13.657831192016602
         },
         {
          "class": 0,
          "dim1": 5.675232410430908,
          "dim2": 4.1500935554504395
         },
         {
          "class": 0,
          "dim1": -2.4162614345550537,
          "dim2": 9.125523567199707
         },
         {
          "class": 3,
          "dim1": -12.31067943572998,
          "dim2": 0.16349977254867554
         },
         {
          "class": 2,
          "dim1": -6.967214107513428,
          "dim2": 7.6432952880859375
         },
         {
          "class": 1,
          "dim1": -2.785637140274048,
          "dim2": 11.600485801696777
         },
         {
          "class": 3,
          "dim1": -11.285337448120117,
          "dim2": -2.5173089504241943
         },
         {
          "class": 0,
          "dim1": 7.03469181060791,
          "dim2": 4.20974588394165
         },
         {
          "class": 2,
          "dim1": -1.1291637420654297,
          "dim2": -8.118063926696777
         },
         {
          "class": 2,
          "dim1": 6.98715877532959,
          "dim2": -6.730711460113525
         },
         {
          "class": 0,
          "dim1": 1.3104254007339478,
          "dim2": 3.590353488922119
         },
         {
          "class": 0,
          "dim1": 3.2248380184173584,
          "dim2": 4.593398094177246
         },
         {
          "class": 0,
          "dim1": 5.285171985626221,
          "dim2": 3.1065006256103516
         },
         {
          "class": 2,
          "dim1": -1.8547636270523071,
          "dim2": -7.9053425788879395
         },
         {
          "class": 2,
          "dim1": -3.119093656539917,
          "dim2": 7.325267314910889
         },
         {
          "class": 2,
          "dim1": 1.9895309209823608,
          "dim2": 0.8904790282249451
         },
         {
          "class": 2,
          "dim1": -3.234062433242798,
          "dim2": -7.6349382400512695
         },
         {
          "class": 3,
          "dim1": -11.255067825317383,
          "dim2": -3.328704833984375
         },
         {
          "class": 0,
          "dim1": 1.933173656463623,
          "dim2": 1.3818359375
         },
         {
          "class": 3,
          "dim1": -11.430643081665039,
          "dim2": -0.5634699463844299
         },
         {
          "class": 0,
          "dim1": -4.56239652633667,
          "dim2": -0.7484094500541687
         },
         {
          "class": 0,
          "dim1": 6.21134614944458,
          "dim2": 1.8620051145553589
         },
         {
          "class": 0,
          "dim1": 0.4730939269065857,
          "dim2": 0.33663061261177063
         },
         {
          "class": 0,
          "dim1": 5.427695274353027,
          "dim2": 2.7035765647888184
         },
         {
          "class": 0,
          "dim1": -3.5089900493621826,
          "dim2": -2.1851868629455566
         },
         {
          "class": 0,
          "dim1": 1.593318223953247,
          "dim2": 4.33917236328125
         },
         {
          "class": 0,
          "dim1": -0.19390861690044403,
          "dim2": 1.3073171377182007
         },
         {
          "class": 3,
          "dim1": -10.999471664428711,
          "dim2": 0.576442301273346
         },
         {
          "class": 2,
          "dim1": 7.626736164093018,
          "dim2": -5.566863536834717
         },
         {
          "class": 0,
          "dim1": 5.514123439788818,
          "dim2": 2.8531548976898193
         },
         {
          "class": 1,
          "dim1": 2.290999412536621,
          "dim2": -1.8406081199645996
         },
         {
          "class": 0,
          "dim1": -4.879329681396484,
          "dim2": 11.005924224853516
         },
         {
          "class": 2,
          "dim1": -3.327481985092163,
          "dim2": 8.235215187072754
         },
         {
          "class": 0,
          "dim1": 5.798133850097656,
          "dim2": 2.691774845123291
         },
         {
          "class": 0,
          "dim1": 2.307913303375244,
          "dim2": 2.8795371055603027
         },
         {
          "class": 0,
          "dim1": -3.503621816635132,
          "dim2": -1.1330742835998535
         },
         {
          "class": 0,
          "dim1": -0.1448165327310562,
          "dim2": 2.9613819122314453
         },
         {
          "class": 0,
          "dim1": 4.801200866699219,
          "dim2": 0.7702289819717407
         },
         {
          "class": 2,
          "dim1": -7.261447906494141,
          "dim2": 7.302271366119385
         },
         {
          "class": 1,
          "dim1": -2.228130578994751,
          "dim2": 10.744094848632812
         },
         {
          "class": 0,
          "dim1": 1.0102262496948242,
          "dim2": -0.19180269539356232
         },
         {
          "class": 3,
          "dim1": -12.430410385131836,
          "dim2": -0.8264862298965454
         },
         {
          "class": 1,
          "dim1": 4.710043430328369,
          "dim2": -12.156740188598633
         },
         {
          "class": 0,
          "dim1": 3.884927988052368,
          "dim2": 2.7183592319488525
         },
         {
          "class": 0,
          "dim1": 3.7937302589416504,
          "dim2": 3.020968437194824
         },
         {
          "class": 0,
          "dim1": 7.293472766876221,
          "dim2": 2.208843469619751
         },
         {
          "class": 3,
          "dim1": -11.391193389892578,
          "dim2": -1.1964508295059204
         },
         {
          "class": 3,
          "dim1": -11.433658599853516,
          "dim2": -0.28121018409729004
         },
         {
          "class": 3,
          "dim1": -12.797822952270508,
          "dim2": -2.525716781616211
         },
         {
          "class": 1,
          "dim1": 2.7562484741210938,
          "dim2": -12.451090812683105
         },
         {
          "class": 0,
          "dim1": 6.959750175476074,
          "dim2": 4.001134395599365
         },
         {
          "class": 0,
          "dim1": 4.889211177825928,
          "dim2": 2.41414475440979
         },
         {
          "class": 0,
          "dim1": -0.3448564410209656,
          "dim2": -0.472870796918869
         },
         {
          "class": 1,
          "dim1": -2.8924801349639893,
          "dim2": 11.576375007629395
         },
         {
          "class": 3,
          "dim1": -12.2958402633667,
          "dim2": -2.737445831298828
         },
         {
          "class": 3,
          "dim1": -12.239891052246094,
          "dim2": -2.519845962524414
         },
         {
          "class": 0,
          "dim1": 7.821352958679199,
          "dim2": 4.01527738571167
         },
         {
          "class": 0,
          "dim1": 5.796726226806641,
          "dim2": 4.829629898071289
         },
         {
          "class": 0,
          "dim1": -0.21702605485916138,
          "dim2": 1.0861088037490845
         },
         {
          "class": 3,
          "dim1": -11.131587028503418,
          "dim2": 0.3216119110584259
         },
         {
          "class": 1,
          "dim1": 1.3534958362579346,
          "dim2": -12.39430046081543
         },
         {
          "class": 1,
          "dim1": 1.123073935508728,
          "dim2": -12.199784278869629
         },
         {
          "class": 0,
          "dim1": 3.2654309272766113,
          "dim2": 4.32588005065918
         },
         {
          "class": 1,
          "dim1": 3.6420276165008545,
          "dim2": -13.105934143066406
         },
         {
          "class": 2,
          "dim1": -0.26537173986434937,
          "dim2": -0.16894935071468353
         },
         {
          "class": 0,
          "dim1": 2.8008761405944824,
          "dim2": 0.34189024567604065
         },
         {
          "class": 1,
          "dim1": 2.089691400527954,
          "dim2": -12.290111541748047
         },
         {
          "class": 2,
          "dim1": -2.551490545272827,
          "dim2": 6.734424114227295
         },
         {
          "class": 2,
          "dim1": -3.4504523277282715,
          "dim2": 8.536215782165527
         },
         {
          "class": 1,
          "dim1": -3.8085906505584717,
          "dim2": 11.809420585632324
         },
         {
          "class": 1,
          "dim1": -2.9839792251586914,
          "dim2": 12.186494827270508
         },
         {
          "class": 3,
          "dim1": -12.642195701599121,
          "dim2": -2.628094434738159
         },
         {
          "class": 0,
          "dim1": 1.3617103099822998,
          "dim2": -0.2306925356388092
         },
         {
          "class": 2,
          "dim1": -7.05976676940918,
          "dim2": 7.171761989593506
         },
         {
          "class": 0,
          "dim1": 2.4669277667999268,
          "dim2": 3.4885685443878174
         },
         {
          "class": 0,
          "dim1": -1.3223862648010254,
          "dim2": -0.853067934513092
         },
         {
          "class": 1,
          "dim1": -2.420661211013794,
          "dim2": 9.611761093139648
         },
         {
          "class": 3,
          "dim1": -10.335712432861328,
          "dim2": 0.603122353553772
         },
         {
          "class": 0,
          "dim1": 7.469122409820557,
          "dim2": 2.2311642169952393
         },
         {
          "class": 3,
          "dim1": -12.221622467041016,
          "dim2": 0.4582175016403198
         },
         {
          "class": 3,
          "dim1": -12.122536659240723,
          "dim2": -3.63325834274292
         },
         {
          "class": 0,
          "dim1": 8.120457649230957,
          "dim2": 3.64323091506958
         },
         {
          "class": 0,
          "dim1": -0.3979223668575287,
          "dim2": 0.9880021810531616
         },
         {
          "class": 1,
          "dim1": 4.170178413391113,
          "dim2": -12.769216537475586
         },
         {
          "class": 0,
          "dim1": 1.1541317701339722,
          "dim2": 2.7964296340942383
         },
         {
          "class": 0,
          "dim1": 7.174663066864014,
          "dim2": 5.375798225402832
         },
         {
          "class": 0,
          "dim1": -0.4324217140674591,
          "dim2": -1.4443812370300293
         },
         {
          "class": 1,
          "dim1": 4.200386047363281,
          "dim2": -12.069644927978516
         },
         {
          "class": 0,
          "dim1": -0.0053274547681212425,
          "dim2": 2.436687707901001
         },
         {
          "class": 0,
          "dim1": -1.0244266986846924,
          "dim2": 2.3525888919830322
         },
         {
          "class": 1,
          "dim1": -4.691681385040283,
          "dim2": 11.242579460144043
         },
         {
          "class": 0,
          "dim1": -2.551027536392212,
          "dim2": -2.155723810195923
         },
         {
          "class": 2,
          "dim1": 7.707886695861816,
          "dim2": -6.383505344390869
         },
         {
          "class": 0,
          "dim1": 3.9515864849090576,
          "dim2": 1.704349398612976
         },
         {
          "class": 3,
          "dim1": -3.4690754413604736,
          "dim2": -1.8230057954788208
         },
         {
          "class": 0,
          "dim1": 0.00266746967099607,
          "dim2": -0.03519197553396225
         },
         {
          "class": 1,
          "dim1": 1.5486160516738892,
          "dim2": -13.13301944732666
         },
         {
          "class": 1,
          "dim1": -3.0235233306884766,
          "dim2": 12.153585433959961
         },
         {
          "class": 2,
          "dim1": -6.778504371643066,
          "dim2": 6.8384552001953125
         },
         {
          "class": 3,
          "dim1": -11.823899269104004,
          "dim2": -3.844172954559326
         },
         {
          "class": 3,
          "dim1": -11.232176780700684,
          "dim2": -2.977067470550537
         },
         {
          "class": 0,
          "dim1": -3.463087797164917,
          "dim2": -0.508282482624054
         },
         {
          "class": 0,
          "dim1": 2.2514209747314453,
          "dim2": 3.483848810195923
         },
         {
          "class": 0,
          "dim1": 0.024844471365213394,
          "dim2": 3.4016120433807373
         },
         {
          "class": 1,
          "dim1": 2.1731040477752686,
          "dim2": -13.32991886138916
         },
         {
          "class": 0,
          "dim1": -1.8700230121612549,
          "dim2": -0.687880277633667
         },
         {
          "class": 3,
          "dim1": -12.933480262756348,
          "dim2": -0.4309145510196686
         },
         {
          "class": 0,
          "dim1": 4.129212379455566,
          "dim2": 4.359585285186768
         },
         {
          "class": 2,
          "dim1": -1.5353491306304932,
          "dim2": -8.162617683410645
         },
         {
          "class": 3,
          "dim1": -12.632424354553223,
          "dim2": -1.5886014699935913
         },
         {
          "class": 2,
          "dim1": -3.563054084777832,
          "dim2": -7.368484020233154
         },
         {
          "class": 0,
          "dim1": 3.6393885612487793,
          "dim2": 3.7141366004943848
         },
         {
          "class": 0,
          "dim1": 1.703142762184143,
          "dim2": 1.1175000667572021
         },
         {
          "class": 2,
          "dim1": 5.780033588409424,
          "dim2": -6.695748329162598
         },
         {
          "class": 3,
          "dim1": -10.977119445800781,
          "dim2": -2.377122640609741
         },
         {
          "class": 1,
          "dim1": 2.5124311447143555,
          "dim2": -12.254866600036621
         },
         {
          "class": 2,
          "dim1": 6.896533966064453,
          "dim2": -5.788343906402588
         },
         {
          "class": 0,
          "dim1": -1.7210843563079834,
          "dim2": -0.31765982508659363
         },
         {
          "class": 0,
          "dim1": 0.999164879322052,
          "dim2": 3.6749660968780518
         },
         {
          "class": 0,
          "dim1": 5.123312950134277,
          "dim2": 2.336336851119995
         },
         {
          "class": 2,
          "dim1": -7.160240173339844,
          "dim2": 6.9260430335998535
         },
         {
          "class": 3,
          "dim1": -10.870491027832031,
          "dim2": -3.566988468170166
         },
         {
          "class": 0,
          "dim1": 6.888713359832764,
          "dim2": 2.9931046962738037
         },
         {
          "class": 1,
          "dim1": -3.580409049987793,
          "dim2": 11.80614948272705
         },
         {
          "class": 1,
          "dim1": 1.7529451847076416,
          "dim2": -12.581377029418945
         },
         {
          "class": 2,
          "dim1": -1.8280613422393799,
          "dim2": -7.922135829925537
         },
         {
          "class": 0,
          "dim1": -1.8960024118423462,
          "dim2": 0.8920146822929382
         },
         {
          "class": 0,
          "dim1": 4.802278518676758,
          "dim2": 4.488225936889648
         },
         {
          "class": 2,
          "dim1": -2.6170170307159424,
          "dim2": 6.768021583557129
         },
         {
          "class": 2,
          "dim1": -3.1783456802368164,
          "dim2": -7.421177387237549
         },
         {
          "class": 0,
          "dim1": 2.3709022998809814,
          "dim2": 2.006436824798584
         },
         {
          "class": 0,
          "dim1": -1.9340976476669312,
          "dim2": -0.8437603116035461
         },
         {
          "class": 1,
          "dim1": 2.1146187782287598,
          "dim2": -12.323461532592773
         },
         {
          "class": 2,
          "dim1": -2.427903890609741,
          "dim2": -8.05864429473877
         },
         {
          "class": 0,
          "dim1": -1.7160122394561768,
          "dim2": 1.5627497434616089
         },
         {
          "class": 2,
          "dim1": 6.296261787414551,
          "dim2": -6.713911056518555
         },
         {
          "class": 0,
          "dim1": -0.7869080305099487,
          "dim2": 1.4834868907928467
         },
         {
          "class": 3,
          "dim1": -12.071584701538086,
          "dim2": -1.17839777469635
         },
         {
          "class": 0,
          "dim1": 8.19722843170166,
          "dim2": 3.3181896209716797
         },
         {
          "class": 2,
          "dim1": 6.825371742248535,
          "dim2": -6.584859848022461
         },
         {
          "class": 0,
          "dim1": 2.5323681831359863,
          "dim2": 0.1690163016319275
         },
         {
          "class": 0,
          "dim1": 7.349513530731201,
          "dim2": 4.086115837097168
         },
         {
          "class": 3,
          "dim1": -13.3635835647583,
          "dim2": -2.458098888397217
         },
         {
          "class": 0,
          "dim1": 2.3291637897491455,
          "dim2": -0.11753522604703903
         },
         {
          "class": 0,
          "dim1": -3.080294132232666,
          "dim2": -0.7107936143875122
         },
         {
          "class": 0,
          "dim1": 8.61567211151123,
          "dim2": 5.638509750366211
         },
         {
          "class": 0,
          "dim1": 6.180840969085693,
          "dim2": 5.17357063293457
         },
         {
          "class": 0,
          "dim1": 4.9538774490356445,
          "dim2": 2.263920783996582
         },
         {
          "class": 3,
          "dim1": -12.968393325805664,
          "dim2": -2.9518187046051025
         },
         {
          "class": 0,
          "dim1": 3.3547942638397217,
          "dim2": 0.48140355944633484
         },
         {
          "class": 0,
          "dim1": 6.333829402923584,
          "dim2": 1.3627395629882812
         },
         {
          "class": 1,
          "dim1": 4.094311714172363,
          "dim2": -11.929327964782715
         },
         {
          "class": 0,
          "dim1": -1.0137643814086914,
          "dim2": -1.8678562641143799
         },
         {
          "class": 3,
          "dim1": -12.39786148071289,
          "dim2": -3.4951794147491455
         },
         {
          "class": 2,
          "dim1": 7.498455047607422,
          "dim2": -5.5352911949157715
         },
         {
          "class": 1,
          "dim1": -4.638103485107422,
          "dim2": 11.290254592895508
         },
         {
          "class": 0,
          "dim1": 2.0843722820281982,
          "dim2": 2.6106176376342773
         },
         {
          "class": 0,
          "dim1": 6.1971025466918945,
          "dim2": 4.608911037445068
         },
         {
          "class": 1,
          "dim1": 2.5062026977539062,
          "dim2": -12.189848899841309
         },
         {
          "class": 1,
          "dim1": 4.954538345336914,
          "dim2": -11.988910675048828
         },
         {
          "class": 0,
          "dim1": 2.755263566970825,
          "dim2": 0.8936406970024109
         },
         {
          "class": 3,
          "dim1": -12.32982349395752,
          "dim2": -3.5176889896392822
         },
         {
          "class": 0,
          "dim1": 0.4196294844150543,
          "dim2": 1.5026719570159912
         },
         {
          "class": 0,
          "dim1": 4.857555389404297,
          "dim2": 5.178319454193115
         },
         {
          "class": 0,
          "dim1": 6.226207733154297,
          "dim2": 2.2272324562072754
         },
         {
          "class": 0,
          "dim1": -1.133528232574463,
          "dim2": -1.3041431903839111
         },
         {
          "class": 0,
          "dim1": 2.278287887573242,
          "dim2": 1.0704090595245361
         },
         {
          "class": 1,
          "dim1": -3.608949899673462,
          "dim2": 11.706083297729492
         },
         {
          "class": 0,
          "dim1": 4.293637275695801,
          "dim2": 1.397140383720398
         },
         {
          "class": 3,
          "dim1": -10.445755958557129,
          "dim2": 0.537585973739624
         },
         {
          "class": 2,
          "dim1": 6.786065578460693,
          "dim2": -6.389031410217285
         },
         {
          "class": 0,
          "dim1": -2.113893508911133,
          "dim2": -0.34235721826553345
         },
         {
          "class": 0,
          "dim1": -1.0210342407226562,
          "dim2": -2.4483108520507812
         },
         {
          "class": 0,
          "dim1": -2.4599766731262207,
          "dim2": 0.4430585205554962
         },
         {
          "class": 1,
          "dim1": 0.5415620803833008,
          "dim2": -11.309284210205078
         },
         {
          "class": 1,
          "dim1": 1.1173712015151978,
          "dim2": -11.926836967468262
         },
         {
          "class": 2,
          "dim1": -7.016766548156738,
          "dim2": 7.028617858886719
         },
         {
          "class": 1,
          "dim1": 4.80662202835083,
          "dim2": -12.167630195617676
         },
         {
          "class": 0,
          "dim1": 1.3869194984436035,
          "dim2": 4.226405143737793
         },
         {
          "class": 0,
          "dim1": 7.5451250076293945,
          "dim2": 5.2135210037231445
         },
         {
          "class": 0,
          "dim1": 8.316290855407715,
          "dim2": 3.8671977519989014
         },
         {
          "class": 1,
          "dim1": 2.457096815109253,
          "dim2": -13.681296348571777
         },
         {
          "class": 2,
          "dim1": 7.343018531799316,
          "dim2": -6.619671821594238
         },
         {
          "class": 2,
          "dim1": -2.9863600730895996,
          "dim2": -7.51021671295166
         },
         {
          "class": 0,
          "dim1": 5.996220111846924,
          "dim2": 3.372591257095337
         },
         {
          "class": 0,
          "dim1": 7.780659198760986,
          "dim2": 5.555182933807373
         },
         {
          "class": 0,
          "dim1": 1.4778916835784912,
          "dim2": 2.9802210330963135
         },
         {
          "class": 2,
          "dim1": -2.7503738403320312,
          "dim2": -6.993329048156738
         },
         {
          "class": 3,
          "dim1": -11.943103790283203,
          "dim2": 0.6612728834152222
         },
         {
          "class": 0,
          "dim1": 5.630642890930176,
          "dim2": 3.2840466499328613
         },
         {
          "class": 0,
          "dim1": 2.5419657230377197,
          "dim2": 4.221319675445557
         },
         {
          "class": 0,
          "dim1": 0.6887125968933105,
          "dim2": 4.3219218254089355
         },
         {
          "class": 0,
          "dim1": 2.1553776264190674,
          "dim2": 3.2822136878967285
         },
         {
          "class": 1,
          "dim1": 1.9245376586914062,
          "dim2": -12.466015815734863
         },
         {
          "class": 3,
          "dim1": -10.859108924865723,
          "dim2": -0.3842392563819885
         },
         {
          "class": 0,
          "dim1": 1.141710638999939,
          "dim2": 3.8008975982666016
         },
         {
          "class": 1,
          "dim1": -2.3353164196014404,
          "dim2": 11.129398345947266
         },
         {
          "class": 0,
          "dim1": 0.8343023657798767,
          "dim2": 1.0958952903747559
         },
         {
          "class": 0,
          "dim1": -0.24429760873317719,
          "dim2": 0.8172693252563477
         },
         {
          "class": 1,
          "dim1": -2.6291468143463135,
          "dim2": 10.254903793334961
         },
         {
          "class": 3,
          "dim1": -11.7056303024292,
          "dim2": -1.7220782041549683
         },
         {
          "class": 0,
          "dim1": -2.1568684577941895,
          "dim2": 6.59521484375
         },
         {
          "class": 0,
          "dim1": 1.3299190998077393,
          "dim2": 2.8271639347076416
         },
         {
          "class": 0,
          "dim1": -1.7649728059768677,
          "dim2": 0.7708204388618469
         },
         {
          "class": 0,
          "dim1": -1.0665056705474854,
          "dim2": 1.2877815961837769
         },
         {
          "class": 0,
          "dim1": 3.353034496307373,
          "dim2": 0.5591416358947754
         },
         {
          "class": 1,
          "dim1": 4.14280891418457,
          "dim2": -12.290446281433105
         },
         {
          "class": 2,
          "dim1": 7.803028106689453,
          "dim2": -6.066741466522217
         },
         {
          "class": 0,
          "dim1": 6.431362152099609,
          "dim2": 2.34287691116333
         },
         {
          "class": 2,
          "dim1": 6.499349594116211,
          "dim2": -7.200863361358643
         },
         {
          "class": 0,
          "dim1": 8.2913179397583,
          "dim2": 3.2534027099609375
         },
         {
          "class": 3,
          "dim1": -10.639680862426758,
          "dim2": -3.334568977355957
         },
         {
          "class": 0,
          "dim1": 3.366239547729492,
          "dim2": 3.9734926223754883
         },
         {
          "class": 1,
          "dim1": -2.802161693572998,
          "dim2": 10.89590072631836
         },
         {
          "class": 3,
          "dim1": -10.380534172058105,
          "dim2": 0.507715106010437
         },
         {
          "class": 2,
          "dim1": -3.4436752796173096,
          "dim2": -7.235681533813477
         },
         {
          "class": 1,
          "dim1": -2.8883650302886963,
          "dim2": 11.301715850830078
         },
         {
          "class": 1,
          "dim1": 3.9975802898406982,
          "dim2": -12.706353187561035
         },
         {
          "class": 3,
          "dim1": -11.61361026763916,
          "dim2": -3.679382562637329
         },
         {
          "class": 2,
          "dim1": 7.999240398406982,
          "dim2": -5.462189674377441
         },
         {
          "class": 3,
          "dim1": -11.742738723754883,
          "dim2": -2.90999174118042
         },
         {
          "class": 1,
          "dim1": 3.737868070602417,
          "dim2": -1.026933193206787
         },
         {
          "class": 0,
          "dim1": 3.246269464492798,
          "dim2": 2.9627387523651123
         },
         {
          "class": 3,
          "dim1": -11.897635459899902,
          "dim2": -0.6413917541503906
         },
         {
          "class": 3,
          "dim1": -10.992852210998535,
          "dim2": -2.7534384727478027
         },
         {
          "class": 0,
          "dim1": -1.659145474433899,
          "dim2": -0.1955743432044983
         },
         {
          "class": 0,
          "dim1": 1.1935017108917236,
          "dim2": 2.7578070163726807
         },
         {
          "class": 0,
          "dim1": 4.414799690246582,
          "dim2": 3.2718563079833984
         },
         {
          "class": 0,
          "dim1": -2.573946475982666,
          "dim2": 0.3296269178390503
         },
         {
          "class": 0,
          "dim1": -3.1444923877716064,
          "dim2": -1.8273026943206787
         },
         {
          "class": 3,
          "dim1": -12.886762619018555,
          "dim2": -2.162973642349243
         },
         {
          "class": 2,
          "dim1": -3.281680107116699,
          "dim2": -7.178428649902344
         },
         {
          "class": 0,
          "dim1": 6.258499622344971,
          "dim2": 5.213825225830078
         },
         {
          "class": 1,
          "dim1": -2.2160003185272217,
          "dim2": 11.478006362915039
         },
         {
          "class": 0,
          "dim1": 8.526819229125977,
          "dim2": 3.1357223987579346
         },
         {
          "class": 0,
          "dim1": -3.1788361072540283,
          "dim2": -1.7661994695663452
         },
         {
          "class": 0,
          "dim1": 7.813253879547119,
          "dim2": 4.190649509429932
         },
         {
          "class": 2,
          "dim1": -2.9722399711608887,
          "dim2": -7.5440673828125
         },
         {
          "class": 0,
          "dim1": -4.098391532897949,
          "dim2": -1.9732502698898315
         },
         {
          "class": 1,
          "dim1": -2.7503414154052734,
          "dim2": -2.0915095806121826
         },
         {
          "class": 2,
          "dim1": 6.931990623474121,
          "dim2": -6.537477970123291
         },
         {
          "class": 0,
          "dim1": 6.11053991317749,
          "dim2": 0.9957637190818787
         },
         {
          "class": 0,
          "dim1": -1.954963207244873,
          "dim2": 0.771485447883606
         },
         {
          "class": 0,
          "dim1": 0.9159544110298157,
          "dim2": -0.11003617942333221
         },
         {
          "class": 0,
          "dim1": 0.26964858174324036,
          "dim2": 0.652662456035614
         },
         {
          "class": 0,
          "dim1": 6.474013805389404,
          "dim2": 4.214674472808838
         },
         {
          "class": 0,
          "dim1": 1.4295921325683594,
          "dim2": 1.3133759498596191
         },
         {
          "class": 0,
          "dim1": 3.316756248474121,
          "dim2": 4.120503902435303
         },
         {
          "class": 2,
          "dim1": -2.2563748359680176,
          "dim2": -8.1870698928833
         },
         {
          "class": 0,
          "dim1": 7.128319263458252,
          "dim2": 5.436534404754639
         },
         {
          "class": 0,
          "dim1": -1.2735577821731567,
          "dim2": -2.074950933456421
         },
         {
          "class": 1,
          "dim1": 1.2694849967956543,
          "dim2": -11.506728172302246
         },
         {
          "class": 0,
          "dim1": 2.055192470550537,
          "dim2": 2.3652291297912598
         },
         {
          "class": 0,
          "dim1": 1.3126293420791626,
          "dim2": 1.2847681045532227
         },
         {
          "class": 0,
          "dim1": 2.999619245529175,
          "dim2": 3.922163724899292
         },
         {
          "class": 0,
          "dim1": 1.1672247648239136,
          "dim2": 3.2321205139160156
         },
         {
          "class": 2,
          "dim1": -2.8853087425231934,
          "dim2": -7.864954471588135
         },
         {
          "class": 1,
          "dim1": 2.8135228157043457,
          "dim2": -12.488326072692871
         },
         {
          "class": 0,
          "dim1": 0.25759387016296387,
          "dim2": -1.0738365650177002
         },
         {
          "class": 0,
          "dim1": 1.688042163848877,
          "dim2": 4.243229866027832
         },
         {
          "class": 2,
          "dim1": 6.152682781219482,
          "dim2": -6.590708255767822
         },
         {
          "class": 0,
          "dim1": -0.1263183206319809,
          "dim2": 1.9314830303192139
         },
         {
          "class": 1,
          "dim1": -2.366300582885742,
          "dim2": 10.359159469604492
         },
         {
          "class": 0,
          "dim1": 3.2981789112091064,
          "dim2": 0.10308758169412613
         },
         {
          "class": 0,
          "dim1": 6.2893805503845215,
          "dim2": 4.683020114898682
         },
         {
          "class": 0,
          "dim1": 7.453073501586914,
          "dim2": 5.464465141296387
         },
         {
          "class": 2,
          "dim1": -3.1440603733062744,
          "dim2": 8.217146873474121
         },
         {
          "class": 0,
          "dim1": -1.2497100830078125,
          "dim2": 0.28316670656204224
         },
         {
          "class": 3,
          "dim1": -11.966861724853516,
          "dim2": -1.8070385456085205
         },
         {
          "class": 1,
          "dim1": 2.428511619567871,
          "dim2": -12.929956436157227
         },
         {
          "class": 1,
          "dim1": 2.8267602920532227,
          "dim2": -12.417984008789062
         },
         {
          "class": 1,
          "dim1": -4.158447265625,
          "dim2": 11.694271087646484
         },
         {
          "class": 0,
          "dim1": 6.59744119644165,
          "dim2": 5.139022350311279
         },
         {
          "class": 3,
          "dim1": -9.910650253295898,
          "dim2": 0.8614473938941956
         },
         {
          "class": 3,
          "dim1": -10.800494194030762,
          "dim2": 0.29772308468818665
         },
         {
          "class": 0,
          "dim1": 3.2779314517974854,
          "dim2": 2.9606852531433105
         },
         {
          "class": 1,
          "dim1": -4.087541580200195,
          "dim2": 11.513176918029785
         },
         {
          "class": 2,
          "dim1": 6.58621883392334,
          "dim2": -6.332090854644775
         },
         {
          "class": 2,
          "dim1": 6.860655307769775,
          "dim2": -5.898115634918213
         },
         {
          "class": 3,
          "dim1": -11.593029975891113,
          "dim2": 0.25664904713630676
         },
         {
          "class": 1,
          "dim1": 3.86250901222229,
          "dim2": -12.449668884277344
         },
         {
          "class": 0,
          "dim1": 6.13372802734375,
          "dim2": 0.9320443868637085
         },
         {
          "class": 0,
          "dim1": -0.7590795159339905,
          "dim2": 1.8185101747512817
         },
         {
          "class": 0,
          "dim1": 4.087899208068848,
          "dim2": 1.8246296644210815
         },
         {
          "class": 3,
          "dim1": -11.657279014587402,
          "dim2": -3.2124807834625244
         },
         {
          "class": 2,
          "dim1": -2.817868947982788,
          "dim2": 6.95290994644165
         },
         {
          "class": 0,
          "dim1": -0.24466417729854584,
          "dim2": 0.18465547263622284
         },
         {
          "class": 1,
          "dim1": 3.340492010116577,
          "dim2": -12.647327423095703
         },
         {
          "class": 0,
          "dim1": 6.871479511260986,
          "dim2": 4.715211391448975
         },
         {
          "class": 0,
          "dim1": -2.7104861736297607,
          "dim2": -2.3425207138061523
         },
         {
          "class": 0,
          "dim1": 7.316965579986572,
          "dim2": 5.111482620239258
         },
         {
          "class": 3,
          "dim1": -10.379667282104492,
          "dim2": 0.43919995427131653
         },
         {
          "class": 0,
          "dim1": -1.2719626426696777,
          "dim2": -1.8889933824539185
         },
         {
          "class": 3,
          "dim1": -11.013253211975098,
          "dim2": 0.3503407835960388
         },
         {
          "class": 3,
          "dim1": -12.409125328063965,
          "dim2": -3.519116163253784
         },
         {
          "class": 3,
          "dim1": -12.124250411987305,
          "dim2": -0.5525711178779602
         },
         {
          "class": 2,
          "dim1": 6.678267955780029,
          "dim2": -6.285360336303711
         },
         {
          "class": 2,
          "dim1": -3.6100852489471436,
          "dim2": -6.658095359802246
         },
         {
          "class": 3,
          "dim1": -10.017232894897461,
          "dim2": 0.8365439772605896
         },
         {
          "class": 1,
          "dim1": 1.125948429107666,
          "dim2": -11.886309623718262
         },
         {
          "class": 0,
          "dim1": 5.6289496421813965,
          "dim2": 4.389155387878418
         },
         {
          "class": 1,
          "dim1": 0.7418176531791687,
          "dim2": -11.844589233398438
         },
         {
          "class": 3,
          "dim1": -12.402398109436035,
          "dim2": -0.9214746952056885
         },
         {
          "class": 1,
          "dim1": -4.7447614669799805,
          "dim2": 11.238296508789062
         },
         {
          "class": 1,
          "dim1": -2.3832321166992188,
          "dim2": -2.0430915355682373
         },
         {
          "class": 0,
          "dim1": -1.0989656448364258,
          "dim2": -1.9767677783966064
         },
         {
          "class": 0,
          "dim1": 0.6798882484436035,
          "dim2": 3.031531810760498
         },
         {
          "class": 3,
          "dim1": -12.088571548461914,
          "dim2": -2.657831907272339
         },
         {
          "class": 3,
          "dim1": -11.153027534484863,
          "dim2": -2.05409574508667
         },
         {
          "class": 0,
          "dim1": -1.3534448146820068,
          "dim2": -0.18830914795398712
         },
         {
          "class": 3,
          "dim1": -12.789396286010742,
          "dim2": -2.7196044921875
         },
         {
          "class": 1,
          "dim1": 2.560389518737793,
          "dim2": -13.244009971618652
         },
         {
          "class": 1,
          "dim1": 2.87870454788208,
          "dim2": -13.396885871887207
         },
         {
          "class": 1,
          "dim1": 4.946652889251709,
          "dim2": -12.04518985748291
         },
         {
          "class": 0,
          "dim1": 0.39604276418685913,
          "dim2": 1.4376291036605835
         },
         {
          "class": 0,
          "dim1": 0.22918127477169037,
          "dim2": 1.5410089492797852
         },
         {
          "class": 0,
          "dim1": 0.7333565950393677,
          "dim2": 4.433459281921387
         },
         {
          "class": 0,
          "dim1": 5.654764652252197,
          "dim2": 2.8797595500946045
         },
         {
          "class": 1,
          "dim1": 0.7541733980178833,
          "dim2": -11.336446762084961
         },
         {
          "class": 0,
          "dim1": 2.4126760959625244,
          "dim2": 2.2831623554229736
         },
         {
          "class": 3,
          "dim1": -11.013166427612305,
          "dim2": -1.2403637170791626
         },
         {
          "class": 3,
          "dim1": -10.332114219665527,
          "dim2": 0.742486834526062
         },
         {
          "class": 0,
          "dim1": -1.4395579099655151,
          "dim2": -0.985937774181366
         },
         {
          "class": 1,
          "dim1": 2.3880136013031006,
          "dim2": -12.672277450561523
         },
         {
          "class": 3,
          "dim1": -11.11237907409668,
          "dim2": -2.4295780658721924
         },
         {
          "class": 1,
          "dim1": 2.2914979457855225,
          "dim2": -12.960859298706055
         },
         {
          "class": 0,
          "dim1": 4.194971084594727,
          "dim2": 2.8544557094573975
         },
         {
          "class": 0,
          "dim1": 0.9239017963409424,
          "dim2": 2.1206679344177246
         },
         {
          "class": 1,
          "dim1": -1.291873574256897,
          "dim2": -2.246424436569214
         },
         {
          "class": 0,
          "dim1": 3.0042009353637695,
          "dim2": 2.826253652572632
         },
         {
          "class": 0,
          "dim1": 4.643887996673584,
          "dim2": 1.5977097749710083
         },
         {
          "class": 1,
          "dim1": 3.8958377838134766,
          "dim2": -0.2726188898086548
         },
         {
          "class": 0,
          "dim1": 0.2628822922706604,
          "dim2": -0.10423115640878677
         },
         {
          "class": 0,
          "dim1": 4.509790897369385,
          "dim2": 3.986684799194336
         },
         {
          "class": 0,
          "dim1": 3.7427713871002197,
          "dim2": 2.122021198272705
         },
         {
          "class": 1,
          "dim1": -3.3196260929107666,
          "dim2": 11.713826179504395
         },
         {
          "class": 0,
          "dim1": -0.8052615523338318,
          "dim2": -7.5112223625183105
         },
         {
          "class": 3,
          "dim1": -12.186515808105469,
          "dim2": -3.725534677505493
         },
         {
          "class": 0,
          "dim1": 4.417486667633057,
          "dim2": 3.7405600547790527
         },
         {
          "class": 0,
          "dim1": 8.382692337036133,
          "dim2": 4.512714385986328
         },
         {
          "class": 3,
          "dim1": -13.274417877197266,
          "dim2": -2.536118984222412
         },
         {
          "class": 1,
          "dim1": 1.3875644207000732,
          "dim2": -11.991124153137207
         },
         {
          "class": 0,
          "dim1": 4.014354705810547,
          "dim2": 2.3759827613830566
         },
         {
          "class": 0,
          "dim1": 7.788163185119629,
          "dim2": 2.7698676586151123
         },
         {
          "class": 0,
          "dim1": 4.026835918426514,
          "dim2": 2.1976699829101562
         },
         {
          "class": 0,
          "dim1": 5.975580215454102,
          "dim2": 1.3014171123504639
         },
         {
          "class": 2,
          "dim1": 7.804449081420898,
          "dim2": -5.073078632354736
         },
         {
          "class": 0,
          "dim1": -3.0469400882720947,
          "dim2": -0.157378152012825
         },
         {
          "class": 1,
          "dim1": -3.0115511417388916,
          "dim2": 11.128887176513672
         },
         {
          "class": 2,
          "dim1": 3.8105697631835938,
          "dim2": -0.9667574763298035
         },
         {
          "class": 0,
          "dim1": -1.8756378889083862,
          "dim2": 2.053922653198242
         },
         {
          "class": 0,
          "dim1": 1.61591637134552,
          "dim2": 4.2936272621154785
         },
         {
          "class": 0,
          "dim1": 4.3102126121521,
          "dim2": 5.13479471206665
         },
         {
          "class": 0,
          "dim1": -0.2669161558151245,
          "dim2": -0.7572402358055115
         },
         {
          "class": 3,
          "dim1": -12.074884414672852,
          "dim2": -1.1906383037567139
         },
         {
          "class": 0,
          "dim1": 7.615232944488525,
          "dim2": 5.619338035583496
         },
         {
          "class": 1,
          "dim1": 1.3553946018218994,
          "dim2": -13.009493827819824
         },
         {
          "class": 0,
          "dim1": 2.5215628147125244,
          "dim2": 2.1685519218444824
         },
         {
          "class": 0,
          "dim1": 7.020651340484619,
          "dim2": 5.087600231170654
         },
         {
          "class": 1,
          "dim1": -2.505443811416626,
          "dim2": 11.665213584899902
         },
         {
          "class": 0,
          "dim1": 3.6383068561553955,
          "dim2": 2.0369606018066406
         },
         {
          "class": 0,
          "dim1": 6.364765644073486,
          "dim2": 3.997835636138916
         },
         {
          "class": 0,
          "dim1": 4.76249361038208,
          "dim2": 3.9512479305267334
         },
         {
          "class": 0,
          "dim1": -3.006676197052002,
          "dim2": -1.4832062721252441
         },
         {
          "class": 1,
          "dim1": 2.2746312618255615,
          "dim2": -1.5768417119979858
         },
         {
          "class": 0,
          "dim1": -1.3653881549835205,
          "dim2": -0.5880884528160095
         },
         {
          "class": 1,
          "dim1": 2.838141918182373,
          "dim2": -13.143294334411621
         },
         {
          "class": 0,
          "dim1": -2.962636947631836,
          "dim2": -0.6875932216644287
         },
         {
          "class": 0,
          "dim1": 3.137018918991089,
          "dim2": 3.474097728729248
         },
         {
          "class": 1,
          "dim1": -2.6549699306488037,
          "dim2": 11.636961936950684
         },
         {
          "class": 0,
          "dim1": 6.120822906494141,
          "dim2": 4.674996852874756
         },
         {
          "class": 3,
          "dim1": -10.589508056640625,
          "dim2": 0.45992010831832886
         },
         {
          "class": 3,
          "dim1": -11.141741752624512,
          "dim2": 0.13316330313682556
         },
         {
          "class": 2,
          "dim1": 6.441456317901611,
          "dim2": -6.295437812805176
         },
         {
          "class": 1,
          "dim1": 0.6758170127868652,
          "dim2": -11.699421882629395
         },
         {
          "class": 3,
          "dim1": -11.150847434997559,
          "dim2": -0.01011751964688301
         },
         {
          "class": 1,
          "dim1": -2.5758414268493652,
          "dim2": 10.307165145874023
         },
         {
          "class": 0,
          "dim1": 1.9062707424163818,
          "dim2": 2.861793279647827
         },
         {
          "class": 0,
          "dim1": 1.2816001176834106,
          "dim2": 0.665783703327179
         },
         {
          "class": 0,
          "dim1": -1.4231432676315308,
          "dim2": 1.0876492261886597
         },
         {
          "class": 0,
          "dim1": 2.9594995975494385,
          "dim2": 0.3038605749607086
         },
         {
          "class": 0,
          "dim1": 2.2998335361480713,
          "dim2": -1.8829493522644043
         },
         {
          "class": 1,
          "dim1": 2.6591408252716064,
          "dim2": -12.64460563659668
         },
         {
          "class": 0,
          "dim1": 4.158700942993164,
          "dim2": 4.171805381774902
         },
         {
          "class": 0,
          "dim1": -2.392679452896118,
          "dim2": -2.4269614219665527
         },
         {
          "class": 0,
          "dim1": 7.629007816314697,
          "dim2": 3.9301393032073975
         },
         {
          "class": 1,
          "dim1": -3.078761100769043,
          "dim2": 12.236713409423828
         },
         {
          "class": 1,
          "dim1": -4.6006059646606445,
          "dim2": 11.40523624420166
         },
         {
          "class": 3,
          "dim1": -12.853837966918945,
          "dim2": -2.821533441543579
         },
         {
          "class": 1,
          "dim1": -3.31807279586792,
          "dim2": 12.077335357666016
         },
         {
          "class": 3,
          "dim1": -13.324265480041504,
          "dim2": -2.396873950958252
         },
         {
          "class": 0,
          "dim1": 0.11959829181432724,
          "dim2": -1.0989271402359009
         },
         {
          "class": 0,
          "dim1": 2.398977756500244,
          "dim2": 2.584920883178711
         },
         {
          "class": 0,
          "dim1": 3.7664682865142822,
          "dim2": 0.43644148111343384
         },
         {
          "class": 2,
          "dim1": -2.887505531311035,
          "dim2": 6.994699001312256
         },
         {
          "class": 0,
          "dim1": -2.3018038272857666,
          "dim2": 1.4266407489776611
         },
         {
          "class": 1,
          "dim1": -3.3795785903930664,
          "dim2": 11.696160316467285
         },
         {
          "class": 1,
          "dim1": 0.7082045674324036,
          "dim2": -11.370820999145508
         },
         {
          "class": 2,
          "dim1": -1.9966028928756714,
          "dim2": -7.572657585144043
         },
         {
          "class": 0,
          "dim1": -0.26805683970451355,
          "dim2": -1.5739002227783203
         },
         {
          "class": 0,
          "dim1": -0.17557495832443237,
          "dim2": 1.7721806764602661
         },
         {
          "class": 0,
          "dim1": 7.916112422943115,
          "dim2": 3.493330717086792
         },
         {
          "class": 0,
          "dim1": 3.7762465476989746,
          "dim2": 1.4861938953399658
         },
         {
          "class": 3,
          "dim1": -11.319755554199219,
          "dim2": -3.7381069660186768
         },
         {
          "class": 0,
          "dim1": -3.103428363800049,
          "dim2": -0.6331998705863953
         },
         {
          "class": 1,
          "dim1": 1.3770638704299927,
          "dim2": -12.967269897460938
         },
         {
          "class": 0,
          "dim1": 6.230367183685303,
          "dim2": 4.543617248535156
         },
         {
          "class": 0,
          "dim1": 7.607455253601074,
          "dim2": 6.062671184539795
         },
         {
          "class": 0,
          "dim1": 1.0610026121139526,
          "dim2": -0.898391842842102
         },
         {
          "class": 0,
          "dim1": 0.7814010381698608,
          "dim2": -0.9043669700622559
         },
         {
          "class": 1,
          "dim1": -3.8374457359313965,
          "dim2": 11.395139694213867
         },
         {
          "class": 2,
          "dim1": -2.3146822452545166,
          "dim2": -7.653017520904541
         },
         {
          "class": 3,
          "dim1": -12.26895523071289,
          "dim2": 0.2691059112548828
         },
         {
          "class": 0,
          "dim1": 4.494871616363525,
          "dim2": 4.965431213378906
         },
         {
          "class": 0,
          "dim1": -0.48400309681892395,
          "dim2": 1.517236590385437
         },
         {
          "class": 0,
          "dim1": 5.426766395568848,
          "dim2": 4.218533039093018
         },
         {
          "class": 2,
          "dim1": -1.4773768186569214,
          "dim2": -7.934655666351318
         },
         {
          "class": 0,
          "dim1": 3.9473040103912354,
          "dim2": 0.5693143606185913
         },
         {
          "class": 0,
          "dim1": -1.4855848550796509,
          "dim2": 1.6092332601547241
         },
         {
          "class": 0,
          "dim1": 1.7800891399383545,
          "dim2": 1.2962857484817505
         },
         {
          "class": 0,
          "dim1": 5.422361850738525,
          "dim2": -7.017062664031982
         },
         {
          "class": 0,
          "dim1": 0.16217850148677826,
          "dim2": 1.178468942642212
         },
         {
          "class": 0,
          "dim1": 6.673821926116943,
          "dim2": 6.108680248260498
         },
         {
          "class": 1,
          "dim1": 4.208034992218018,
          "dim2": -12.785606384277344
         },
         {
          "class": 0,
          "dim1": -1.349756121635437,
          "dim2": 2.318655490875244
         },
         {
          "class": 3,
          "dim1": -10.588447570800781,
          "dim2": -2.940406560897827
         },
         {
          "class": 0,
          "dim1": 7.319705486297607,
          "dim2": 4.565732002258301
         },
         {
          "class": 0,
          "dim1": 2.0855908393859863,
          "dim2": 1.4116827249526978
         },
         {
          "class": 1,
          "dim1": 2.74975323677063,
          "dim2": -13.495195388793945
         },
         {
          "class": 1,
          "dim1": -4.231900691986084,
          "dim2": 11.337294578552246
         },
         {
          "class": 1,
          "dim1": -3.6082923412323,
          "dim2": 11.773399353027344
         },
         {
          "class": 2,
          "dim1": -1.882486343383789,
          "dim2": -8.268993377685547
         },
         {
          "class": 0,
          "dim1": -1.5094094276428223,
          "dim2": -1.4900339841842651
         },
         {
          "class": 3,
          "dim1": -10.380074501037598,
          "dim2": -2.689727306365967
         },
         {
          "class": 0,
          "dim1": 3.455899477005005,
          "dim2": 0.1263694316148758
         },
         {
          "class": 3,
          "dim1": -13.361041069030762,
          "dim2": -1.4140913486480713
         },
         {
          "class": 3,
          "dim1": -4.809578895568848,
          "dim2": -2.460146188735962
         },
         {
          "class": 2,
          "dim1": -6.94083309173584,
          "dim2": 6.570122241973877
         }
        ]
       },
       "encoding": {
        "color": {
         "field": "class",
         "scale": {
          "scheme": "category10"
         },
         "title": "Class",
         "type": "nominal"
        },
        "x": {
         "field": "dim1",
         "title": "Dimension 1",
         "type": "quantitative"
        },
        "y": {
         "field": "dim2",
         "title": "Dimension 2",
         "type": "quantitative"
        }
       },
       "mark": {
        "opacity": 1,
        "type": "circle"
       }
      },
      "image/png": "[encoded data removed]",
      "text/plain": [
       "<VegaLite 3 object>\n",
       "\n",
       "If you see this message, it means the renderer has not been properly enabled\n",
       "for the frontend that you are using. For more information, see\n",
       "https://altair-viz.github.io/user_guide/troubleshooting.html\n"
      ]
     },
     "execution_count": 21,
     "metadata": {},
     "output_type": "execute_result"
    }
   ],
   "source": [
    "figures.plot_dimensionality_reduction(X_reduced, y_validation)"
   ]
  },
  {
   "cell_type": "code",
   "execution_count": null,
   "metadata": {},
   "outputs": [],
   "source": []
  }
 ],
 "metadata": {
  "kernelspec": {
   "display_name": "MLCrystals",
   "language": "python",
   "name": "mlcrystals"
  },
  "language_info": {
   "codemirror_mode": {
    "name": "ipython",
    "version": 3
   },
   "file_extension": ".py",
   "mimetype": "text/x-python",
   "name": "python",
   "nbconvert_exporter": "python",
   "pygments_lexer": "ipython3",
   "version": "3.6.8"
  }
 },
 "nbformat": 4,
 "nbformat_minor": 4
}
